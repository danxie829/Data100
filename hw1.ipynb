{
 "cells": [
  {
   "cell_type": "code",
   "execution_count": 1,
   "metadata": {
    "deletable": false,
    "editable": false
   },
   "outputs": [],
   "source": [
    "# Initialize Otter\n",
    "import otter\n",
    "grader = otter.Notebook(\"hw1.ipynb\")"
   ]
  },
  {
   "cell_type": "markdown",
   "metadata": {},
   "source": [
    "# HW 1: Math Review and Plotting\n",
    "## Due Date: Thursday Jan 28, 11:59 PM\n",
    "## Collaboration Policy\n",
    "\n",
    "Data science is a collaborative activity. While you may talk with others about\n",
    "the homework, we ask that you **write your solutions individually**. If you do\n",
    "discuss the assignments with others please **include their names** at the top\n",
    "of your notebook."
   ]
  },
  {
   "cell_type": "markdown",
   "metadata": {},
   "source": [
    "**Collaborators**: *list collaborators here*"
   ]
  },
  {
   "cell_type": "markdown",
   "metadata": {},
   "source": [
    "## This Assignment\n",
    "\n",
    "The purpose of this assignment is for you to combine Python, math, and the ideas in Data 8 to draw some interesting conclusions. The methods and results will help build the foundation of Data 100.\n",
    "\n",
    "## Score Breakdown\n",
    "Question | Points\n",
    "--- | ---\n",
    "1a | 1\n",
    "1b | 1\n",
    "1c | 2\n",
    "1d | 3\n",
    "2a | 1\n",
    "2b | 2\n",
    "3a | 1\n",
    "3b | 2\n",
    "3c | 1\n",
    "3d | 1\n",
    "3e | 2\n",
    "4a | 1\n",
    "4b | 1\n",
    "4c | 2\n",
    "4d | 2\n",
    "4e | 1\n",
    "5a | 2\n",
    "5b | 2\n",
    "5c | 1\n",
    "5d | 2\n",
    "5e | 2\n",
    "6 | 1\n",
    "Total | 34"
   ]
  },
  {
   "cell_type": "markdown",
   "metadata": {},
   "source": [
    "### Jupyter Shortcuts ###\n",
    "\n",
    "Here are some useful Jupyter notebook keyboard shortcuts.  To learn more keyboard shortcuts, go to **Help -> Keyboard Shortcuts** in the menu above. \n",
    "\n",
    "Here are a few we like:\n",
    "1. `ctrl`+`return` : *Evaluate the current cell*\n",
    "1. `shift`+`return`: *Evaluate the current cell and move to the next*\n",
    "1. `esc` : *command mode* (may need to press before using any of the commands below)\n",
    "1. `a` : *create a cell above*\n",
    "1. `b` : *create a cell below*\n",
    "1. `dd` : *delete a cell*\n",
    "1. `m` : *convert a cell to markdown*\n",
    "1. `y` : *convert a cell to code*"
   ]
  },
  {
   "cell_type": "markdown",
   "metadata": {},
   "source": [
    "### Preliminary: LaTex ###\n",
    "You should use LaTeX to format math in your answers. If you aren't familiar with LaTeX, not to worry. It's not hard to use in a Jupyter notebook. Just place your math in between dollar signs:\n",
    "\n",
    "\\\\$ f(x) = 2x \\\\$ becomes $ f(x) = 2x $.\n",
    "\n",
    "If you have a longer equation, use double dollar signs to place it on a line by itself:\n",
    "\n",
    "\\\\$\\\\$ \\sum_{i=0}^n i^2 \\\\$\\\\$ becomes:\n",
    "\n",
    "$$ \\sum_{i=0}^n i^2 $$.\n",
    "\n",
    "Here is some handy LaTex:\n",
    "\n",
    "| Output | Latex   |\n",
    "|:--|:--|\n",
    "| $$x^{a + b}$$  | `x^{a + b}` |\n",
    "| $$x_{a + b}$$ | `x_{a + b}` |\n",
    "| $$\\frac{a}{b}$$ | `\\frac{a}{b}` |\n",
    "| $$\\sqrt{a + b}$$ | `\\sqrt{a + b}` |\n",
    "| $$\\{ \\alpha, \\beta, \\gamma, \\pi, \\mu, \\sigma^2  \\}$$ | `\\{ \\alpha, \\beta, \\gamma, \\pi, \\mu, \\sigma^2  \\}` |\n",
    "| $$\\sum_{x=1}^{100}$$ | `\\sum_{x=1}^{100}` |\n",
    "| $$\\frac{\\partial}{\\partial x} $$ | `\\frac{\\partial}{\\partial x} ` |\n",
    "| $$\\begin{bmatrix} 2x + 4y \\\\ 4x + 6y^2 \\\\ \\end{bmatrix}$$ | `\\begin{bmatrix} 2x + 4y \\\\ 4x + 6y^2 \\\\ \\end{bmatrix}`|\n",
    "\n",
    "\n",
    "\n",
    "[For more about basic LaTeX formatting, you can read this article.](https://www.sharelatex.com/learn/Mathematical_expressions)\n"
   ]
  },
  {
   "cell_type": "markdown",
   "metadata": {},
   "source": [
    "### Preliminary: Sums ###\n",
    "\n",
    "Here's a recap of some basic algebra written in sigma notation. The facts are all just applications of the ordinary associative and distributive properties of addition and multiplication, written compactly and without the possibly ambiguous \"...\". But if you are ever unsure of whether you're working correctly with a sum, you can always try writing $\\sum_{i=1}^n a_i$ as $a_1 + a_2 + \\cdots + a_n$ and see if that helps.\n",
    "\n",
    "- You can use any reasonable notation for the index over which you are summing, just as in Python you can use any reasonable name in `for name in list`. Thus $\\sum_{i=1}^n a_i = \\sum_{k=1}^n a_k$.\n",
    "- $\\sum_{i=1}^n (a_i + b_i) = \\sum_{i=1}^n a_i + \\sum_{i=1}^n b_i$\n",
    "- $\\sum_{i=1}^n d = nd$\n",
    "- $\\sum_{i=1}^n (ca_i + d) = c\\sum_{i=1}^n a_i + nd$ "
   ]
  },
  {
   "cell_type": "markdown",
   "metadata": {},
   "source": [
    "## A Least Squares Predictor ##"
   ]
  },
  {
   "cell_type": "markdown",
   "metadata": {
    "deletable": false,
    "editable": false
   },
   "source": [
    "<!-- BEGIN QUESTION -->\n",
    "\n",
    "### Question 1 ###\n",
    "Let $x_1, x_2, \\ldots, x_n$ be a list of numbers. You can think of each index $i$ as the label of a household, and the entry $x_i$ as the annual income of Household $i$. Define the *mean* or *average* of the list to be\n",
    "$\\mu ~ = ~ \\frac{1}{n}\\sum_{i=1}^n x_i$.\n",
    "\n",
    "<!--\n",
    "BEGIN QUESTION\n",
    "name: q1a\n",
    "manual: true\n",
    "-->\n",
    "\n",
    "#### Question 1a) ####\n",
    "The $i$th *deviation from average* is the difference $x_i - \\mu$. In Data 8 you saw in numerical examples that the [sum of all these deviations is 0](https://www.inferentialthinking.com/chapters/14/2/Variability.html#The-Rough-Size-of-Deviations-from-Average). Now prove that fact. That is, show that $\\sum_{i=1}^n (x_i - \\mu) = 0$.\n",
    "\n",
    "**Note: In this class, you must always put your answer in the cell that immediately follows the question. DO NOT create any cells between this one and the one that says** _Write your answer here, replacing this text._"
   ]
  },
  {
   "cell_type": "markdown",
   "metadata": {},
   "source": [
    "$\\sum_{i=1}^n(x_i-\\mu)$ \n",
    "\n",
    "= $(x_1-\\mu)+(x_2-\\mu)+...+(x_n-\\mu)$\n",
    "\n",
    "= $(x_1-\\frac{1}{n}\\sum_{i=1}^nx_i)+(x_2-\\frac{1}{n}\\sum_{i=1}^nx_i)+...+(x_n-\\frac{1}{n}\\sum_{i=1}^nx_i)$\n",
    "\n",
    "= $(x_1-\\sum_{i=1}^n\\frac{x_i}{n})+(x_2-\\sum_{i=1}^n\\frac{x_i}{n})+...+(x_n-\\sum_{i=1}^n\\frac{x_i}{n})$\n",
    "\n",
    "= $(x_1+x_2+...+x_n)-n(\\sum_{i=1}^n\\frac{x_i}{n})$\n",
    "\n",
    "= $\\sum_{i=1}^nx_i-\\sum_{i=1}^nx_i$\n",
    "\n",
    "= $0$"
   ]
  },
  {
   "cell_type": "markdown",
   "metadata": {
    "deletable": false,
    "editable": false
   },
   "source": [
    "<!-- END QUESTION -->\n",
    "\n",
    "<!-- BEGIN QUESTION -->\n",
    "\n",
    "#### Question 1b) ####\n",
    "[Recall](https://www.inferentialthinking.com/chapters/14/2/Variability.html#The-Rough-Size-of-Deviations-from-Average) that the *variance* of a list is defined as the *mean squared deviation from average*, and that the [*standard deviation*](https://www.inferentialthinking.com/chapters/14/2/Variability.html#Standard-Deviation) (SD) of the list is the square root of the variance. The SD is in the same units as the data and measures the rough size of the deviations from average.\n",
    "\n",
    "Denote the variance of the list by $\\sigma^2$. Write a math expression for $\\sigma^2$ in terms of the data ($x_{1} \\dots x_{n}$) and $\\mu$. We recommend building your expression by reading the definition of variance from right to left. That is, start by writing the notation for \"average\", then \"deviation from average\", and so on.\n",
    "\n",
    "\n",
    "<!--\n",
    "BEGIN QUESTION\n",
    "name: q1b\n",
    "manual: true\n",
    "-->"
   ]
  },
  {
   "cell_type": "markdown",
   "metadata": {},
   "source": [
    "$\\sigma^2$ = $\\frac{1}{n}\\sum_{i=1}^n (x_i - \\mu)^2$"
   ]
  },
  {
   "cell_type": "markdown",
   "metadata": {
    "deletable": false,
    "editable": false
   },
   "source": [
    "<!-- END QUESTION -->\n",
    "\n",
    "<!-- BEGIN QUESTION -->\n",
    "\n",
    "#### Question 1c) ####\n",
    "Suppose you have to predict the value of $x_i$ for some $i$, but you don't get to see $i$ and you certainly don't get to see $x_i$. You decide that whatever $x_i$ is, you're just going to use your favorite number $\\mu$ as your predictor.\n",
    "\n",
    "The *error* in your prediction is $x_i - \\mu$, which is your old friend the deviation from average. Thus the *mean squared error* (MSE) of your predictor $\\mu$ over the entire list of $n$ data points is the mean squared deviation from average, which is your old friend the variance. So we will write $\\sigma^2 = MSE(\\mu)$.\n",
    "\n",
    "Now suppose I decide that whatever $x_i$ is, I'm just going to use *my* favorite number as my predictor, and my favorite number is $c$. Write a math expression for $MSE(c)$. Again, go from right to left: first $c$, then the error, and so on.\n",
    "\n",
    "<!--\n",
    "BEGIN QUESTION\n",
    "name: q1c\n",
    "manual: true\n",
    "-->"
   ]
  },
  {
   "cell_type": "markdown",
   "metadata": {},
   "source": [
    "$MSE(c)$ = $\\frac{1}{n}\\sum_{i=1}^n (x_i - c)^2$"
   ]
  },
  {
   "cell_type": "markdown",
   "metadata": {
    "deletable": false,
    "editable": false
   },
   "source": [
    "<!-- END QUESTION -->\n",
    "\n",
    "<!-- BEGIN QUESTION -->\n",
    "\n",
    "#### Question 1d) ####\n",
    "Whose predictor is better? It seems reasonable to guess that your predictor $\\mu$ is better than my favorite but possibly weird $c$. Show that $MSE(c) > MSE(\\mu)$ for all $c \\ne \\mu$, by the method indicated below.\n",
    "\n",
    "- Write the error $x_i - c$ as $x_i - c = (x_i - \\mu) + (\\mu - c)$.\n",
    "- Substitute this expression for $x_i - c$ in your formula for $MSE(c)$.\n",
    "- Expand the square and use properties of sums; don't forget what you showed in Part **a**.\n",
    "\n",
    "This shows that $\\mu$ is the *least squares* constant predictor. In Data 8 you found (numerically) the [least squares linear predictor](https://www.inferentialthinking.com/chapters/15/3/Method_of_Least_Squares.html) of a variable $y$ based on a related variable $x$. We will return to that later in this course, using a generalization of the calculation in this exercise.\n",
    "\n",
    "<!--\n",
    "BEGIN QUESTION\n",
    "name: q1d\n",
    "manual: true\n",
    "-->"
   ]
  },
  {
   "cell_type": "markdown",
   "metadata": {},
   "source": [
    "$MSE(c)-MSE(\\mu)$\n",
    "\n",
    "=$\\frac{1}{n}\\sum_{i=1}^n (x_i - c)^2 -\\frac{1}{n}\\sum_{i=1}^n (x_i - \\mu)^2$\n",
    "\n",
    "=$\\frac{1}{n}\\sum_{i=1}^n [(x_i - \\mu)+(\\mu - c)]^2-\\frac{1}{n}\\sum_{i=1}^n (x_i - \\mu)^2$\n",
    "\n",
    "=$\\frac{1}{n}\\sum_{i=1}^n [(x_i - \\mu)^2+(\\mu - c)^2+2(x_i-\\mu)(\\mu-c)]-\\frac{1}{n}\\sum_{i=1}^n (x_i - \\mu)^2$\n",
    "\n",
    "=$\\frac{1}{n}\\sum_{i=1}^n (x_i - \\mu)^2+\\frac{1}{n}\\sum_{i=1}^n (\\mu-c)^2+\\frac{1}{n}\\sum_{i=1}^n 2(x_i-\\mu)(\\mu-c)-\\frac{1}{n}\\sum_{i=1}^n (x_i - \\mu)^2$\n",
    "\n",
    "=$\\frac{1}{n}\\sum_{i=1}^n (\\mu-c)^2+\\frac{1}{n}\\sum_{i=1}^n 2(x_i-\\mu)(\\mu-c)$\n",
    "\n",
    "since we already know that $\\sum_{i=1}^n (x_i - \\mu) = 0$ from **part a**, and $\\frac{1}{n}$,$2$,$\\mu-c$ are constant,then $\\frac{1}{n}\\sum_{i=1}^n 2(x_i-\\mu)(\\mu-c)=0$\n",
    "\n",
    "so the original equation\n",
    "=$\\frac{1}{n}\\sum_{i=1}^n (\\mu-c)^2$\n",
    "\n",
    "since $c\\ne \\mu$,so $\\mu-c \\ne 0$, $(\\mu-c)^2>0$,thus$\\frac{1}{n}\\sum_{i=1}^n (\\mu-c)^2 >0$\n",
    "\n",
    "$MSE(c)-MSE(\\mu)$ >0\n",
    "\n",
    "$MSE(c)>MSE(\\mu)$"
   ]
  },
  {
   "cell_type": "markdown",
   "metadata": {},
   "source": [
    "<!-- END QUESTION -->\n",
    "\n",
    "\n",
    "\n",
    "### Initialize your environment\n",
    "\n",
    "This cell should run without error if you're using the course Jupyter Hub or you have [set up your personal computer correctly](http://www.ds100.org/sp20/setup)."
   ]
  },
  {
   "cell_type": "code",
   "execution_count": 2,
   "metadata": {},
   "outputs": [],
   "source": [
    "import numpy as np\n",
    "import matplotlib\n",
    "import matplotlib.pyplot as plt\n",
    "plt.style.use('fivethirtyeight')"
   ]
  },
  {
   "cell_type": "markdown",
   "metadata": {},
   "source": [
    "### Preliminary: NumPy ###\n",
    "\n",
    "You should be able to understand the code in the following cells. If not, review the following:\n",
    "\n",
    "* [The Data 8 Textbook Chapter on NumPy](https://www.inferentialthinking.com/chapters/05/1/Arrays)\n",
    "* [DS100 NumPy Review](http://ds100.org/fa17/assets/notebooks/numpy/Numpy_Review.html)\n",
    "* [Condensed NumPy Review](http://cs231n.github.io/python-numpy-tutorial/#numpy)\n",
    "* [The Official NumPy Tutorial](https://numpy.org/doc/stable/user/quickstart.html)"
   ]
  },
  {
   "cell_type": "markdown",
   "metadata": {},
   "source": [
    "**Jupyter pro-tip**: Pull up the docs for any function in Jupyter by running a cell with\n",
    "the function name and a `?` at the end:"
   ]
  },
  {
   "cell_type": "code",
   "execution_count": 3,
   "metadata": {},
   "outputs": [],
   "source": [
    "np.arange?"
   ]
  },
  {
   "cell_type": "markdown",
   "metadata": {},
   "source": [
    "You can close the window at the bottom by pressing `esc` several times or clicking on the x at the right hand side. "
   ]
  },
  {
   "cell_type": "markdown",
   "metadata": {},
   "source": [
    "**Another Jupyter pro-tip**: Pull up the docs for any function in Jupyter by typing the function\n",
    "name, then `<Shift><Tab>` on your keyboard. This is super convenient when you forget the order\n",
    "of the arguments to a function. You can press `<Tab>` multiple times to expand the docs and reveal additional information.\n",
    "\n",
    "Try it on the function below:"
   ]
  },
  {
   "cell_type": "code",
   "execution_count": 4,
   "metadata": {},
   "outputs": [
    {
     "data": {
      "text/plain": [
       "<function numpy.linspace(start, stop, num=50, endpoint=True, retstep=False, dtype=None, axis=0)>"
      ]
     },
     "execution_count": 4,
     "metadata": {},
     "output_type": "execute_result"
    }
   ],
   "source": [
    "np.linspace"
   ]
  },
  {
   "cell_type": "markdown",
   "metadata": {},
   "source": [
    "## Calculus ##"
   ]
  },
  {
   "cell_type": "markdown",
   "metadata": {
    "deletable": false,
    "editable": false
   },
   "source": [
    "<!-- BEGIN QUESTION -->\n",
    "\n",
    "### Question 2 ###\n",
    "\n",
    "In this question we will review some fundamental properties of the sigmoid function, which will be discussed when we talk more about logistic regression in the latter half of the class. The sigmoid function is defined to be\n",
    "$$\\sigma(x) = \n",
    "\\frac{1}{1+e^{-x}}$$\n",
    "\n",
    "#### Question 2a) #####\n",
    "Show that $\\sigma(-x) = 1 - \\sigma(x)$\n",
    "\n",
    "<!--\n",
    "BEGIN QUESTION\n",
    "name: q2a\n",
    "manual: true\n",
    "-->"
   ]
  },
  {
   "cell_type": "markdown",
   "metadata": {},
   "source": [
    "$\\sigma(-x)$\n",
    "\n",
    "= $\\frac{1}{1+e^{-(-x)}}$\n",
    "\n",
    "= $\\frac{1}{1+\\frac{1}{e^{-x}}}$\n",
    "\n",
    "= $\\frac{1*e^{-x}}{(1+\\frac{1}{e^{-x}})*e^{-x}}$\n",
    "\n",
    "= $\\frac{e^{-x}}{e^{-x}+1}$\n",
    "\n",
    "And,\n",
    "\n",
    "$1 - \\sigma(x)$\n",
    "\n",
    "= $1-\\frac{1}{1+e^{-x}}$\n",
    "\n",
    "= $\\frac{1+e^{-x}-1}{1+e^{-x}}$\n",
    "\n",
    "= $\\frac{e^{-x}}{e^{-x}+1}$\n",
    "\n",
    "Since $\\sigma(-x)$= $\\frac{e^{-x}}{e^{-x}+1}$, and $1 - \\sigma(x)$=$\\frac{e^{-x}}{e^{-x}+1}$\n",
    "\n",
    "So $\\sigma(-x) = 1 - \\sigma(x)$"
   ]
  },
  {
   "cell_type": "markdown",
   "metadata": {
    "deletable": false,
    "editable": false
   },
   "source": [
    "<!-- END QUESTION -->\n",
    "\n",
    "<!-- BEGIN QUESTION -->\n",
    "\n",
    "#### Question 2b) ####\n",
    "Show that the derivative of the sigmoid function can be written as:\n",
    "\n",
    "$$\\frac{d}{dx}\\sigma(x) = \\sigma(x)(1 - \\sigma(x))$$\n",
    "\n",
    "<!--\n",
    "BEGIN QUESTION\n",
    "name: q2b\n",
    "manual: true\n",
    "-->"
   ]
  },
  {
   "cell_type": "markdown",
   "metadata": {},
   "source": [
    "We have got $\\sigma(x) = \\frac{1}{1+e^{-x}}$ and $1 - \\sigma(x)=\\frac{e^{-x}}{e^{-x}+1}$ in 2a), thus,\n",
    "\n",
    "$\\sigma(x)(1 - \\sigma(x))$\n",
    "\n",
    "=$\\frac{1}{1+e^{-x}}*\\frac{e^{-x}}{e^{-x}+1}$\n",
    "\n",
    "=$\\frac{e^{-x}}{(1+e^{-x})^2}$\n",
    "\n",
    "And,\n",
    "\n",
    "$\\frac{d}{dx}\\sigma(x)$\n",
    "\n",
    "=$\\frac{d}{dx}\\frac{1}{1+e^{-x}}$=$\\frac{d}{dx}(1+e^{-x})^{-1}$\n",
    "\n",
    "According to reciprocal rule, \n",
    "\n",
    "$\\frac{d}{dx}(1+e^{-x})^{-1}$=$-(1+e^{-x})^{-2}*\\frac{d}{dx}(1+e^{-x})$\n",
    "\n",
    "=$-(1+e^{-x})^{-2}*(e^{-x}*-1)$\n",
    "\n",
    "=$(1+e^{-x})^{-2}*e^{-x}$\n",
    "\n",
    "=$\\frac{e^{-x}}{(1+e^{-x})^2}$\n",
    "\n",
    "Thus, $\\frac{d}{dx}\\sigma(x)$=$\\frac{e^{-x}}{(1+e^{-x})^2}$=$\\sigma(x)(1 - \\sigma(x))$"
   ]
  },
  {
   "cell_type": "markdown",
   "metadata": {},
   "source": [
    "<!-- END QUESTION -->\n",
    "\n",
    "\n",
    "\n",
    "## A Sequence of Coin Tosses ##"
   ]
  },
  {
   "cell_type": "markdown",
   "metadata": {
    "deletable": false,
    "editable": false
   },
   "source": [
    "### Question 3 ###\n",
    "Data scientists use coin tossing as a visual image for sampling at random with replacement from a binary population. \n",
    "\n",
    "#### Question 3a) ####\n",
    "A coin that lands heads with chance 0.8 is tossed six times. What is the chance of the sequence HHHTHT? Assign your answer to the variable `p_HHHTHT`.\n",
    "\n",
    "<!--\n",
    "BEGIN QUESTION\n",
    "name: q3a\n",
    "points: 1\n",
    "-->"
   ]
  },
  {
   "cell_type": "code",
   "execution_count": 5,
   "metadata": {},
   "outputs": [
    {
     "data": {
      "text/plain": [
       "0.016384000000000006"
      ]
     },
     "execution_count": 5,
     "metadata": {},
     "output_type": "execute_result"
    }
   ],
   "source": [
    "p_HHHTHT = 0.8**4*0.2**2\n",
    "p_HHHTHT"
   ]
  },
  {
   "cell_type": "code",
   "execution_count": 6,
   "metadata": {
    "deletable": false,
    "editable": false
   },
   "outputs": [
    {
     "data": {
      "text/html": [
       "\n",
       "    <p><strong>q3a</strong> passed!</p>\n",
       "    "
      ],
      "text/plain": [
       "q3a passed!"
      ]
     },
     "execution_count": 6,
     "metadata": {},
     "output_type": "execute_result"
    }
   ],
   "source": [
    "grader.check(\"q3a\")"
   ]
  },
  {
   "cell_type": "markdown",
   "metadata": {
    "deletable": false,
    "editable": false
   },
   "source": [
    "<!-- BEGIN QUESTION -->\n",
    "\n",
    "#### Question 3b) ####\n",
    "I have a coin that lands heads with an unknown probability $p$. I toss it 10 times and get the sequence TTTHTHHTTH.\n",
    "\n",
    "If you toss this coin 10 times, the chance that you get the sequence above is a function of $p$. That function, which we will call $f$, determines how likely the sequence TTTHTHHTTH is depending on $p$\n",
    "\n",
    "Plot the graph of $f$ as a function of $p$ for $p \\in [0, 1]$. \n",
    "\n",
    "<!--\n",
    "BEGIN QUESTION\n",
    "name: q3b\n",
    "manual: true\n",
    "-->"
   ]
  },
  {
   "cell_type": "code",
   "execution_count": 7,
   "metadata": {},
   "outputs": [
    {
     "data": {
      "image/png": "[encoded data removed]",
      "text/plain": [
       "<Figure size 432x288 with 1 Axes>"
      ]
     },
     "metadata": {},
     "output_type": "display_data"
    }
   ],
   "source": [
    "p = np.arange(0,1.0001,0.0001)\n",
    "f = (1-p)**6*p**4\n",
    "plt.plot(p, f, lw=2, color='darkblue') # lw is line width\n",
    "plt.plot([0, 1], [0, 0], lw=1, color='grey')    # horizontal axis\n",
    "plt.xlabel('$p$')\n",
    "plt.ylabel('$f(p)$', rotation=0)\n",
    "plt.title('Probability of Observing TTTHTHHTTH');"
   ]
  },
  {
   "cell_type": "markdown",
   "metadata": {
    "deletable": false,
    "editable": false
   },
   "source": [
    "<!-- END QUESTION -->\n",
    "\n",
    "<!-- BEGIN QUESTION -->\n",
    "\n",
    "#### Question 3c) ####\n",
    "\n",
    "Among all values of $p$, we want to find the one that makes the observed data the most likely, which we will call $\\hat{p}$. Please provide the value of $\\hat{p}$ and also a simple interpretation of that value in terms of the data TTTHTHHTTH.\n",
    "\n",
    "<!--\n",
    "BEGIN QUESTION\n",
    "name: q3c\n",
    "manual: true\n",
    "-->"
   ]
  },
  {
   "cell_type": "markdown",
   "metadata": {},
   "source": [
    "$\\hat{p}$ = 0.4\n",
    "Because there is four times of \"H\" in the sequence TTTHTHHTTH, and the likelihood curve reached the peak in the graph when p=4, so $\\hat{p}$ equals to 0.4"
   ]
  },
  {
   "cell_type": "markdown",
   "metadata": {
    "deletable": false,
    "editable": false
   },
   "source": [
    "<!-- END QUESTION -->\n",
    "\n",
    "<!-- BEGIN QUESTION -->\n",
    "\n",
    "#### Question 3d) ####\n",
    "Explain why the value, $\\hat{p}$, at which the function $f$ attains its maximum is the same as the value at which the function $\\log(f)$ attains its maximum. To clarify, $\\log(f)$ is the composition of $\\log$ and $f$: $\\log(f)$ at $p$ is $\\log(f(p))$. Even though it doesn't make a difference for this problem, $\\log$ is now and forevermore the $\\log$ to the base $e$, not to the base 10.\n",
    "\n",
    "It might help to compare $\\log(x_1)$ and $\\log(x_2)$ for $x_1 < x_2$.\n",
    "\n",
    "The observation in this exercise is hugely important in data science because many probabilities are products and the $\\log$ function turns products into sums. It's much simpler to work with a sum than with a product.\n",
    "\n",
    "<!--\n",
    "BEGIN QUESTION\n",
    "name: q3d\n",
    "manual: true\n",
    "-->"
   ]
  },
  {
   "cell_type": "markdown",
   "metadata": {},
   "source": [
    "If x1<x2, then log(x1)<log(x2), the curve of log(x) is increasing constantly when x increase. the bigger the x, the bigger the log(x). So when f attains its maximum values, which is f($\\hat{p}$), log(f) may also attain its maximum."
   ]
  },
  {
   "cell_type": "markdown",
   "metadata": {
    "deletable": false,
    "editable": false
   },
   "source": [
    "<!-- END QUESTION -->\n",
    "\n",
    "<!-- BEGIN QUESTION -->\n",
    "\n",
    "#### Question 3e) ####\n",
    "Instead of using the graph, this time use Part <b>c</b> and calculus to find $\\hat{p}$. Using Part <b>d</b> makes the calculus much easier. You don't have to check that the value you've found produces a max and not a min – we'll spare you that step.\n",
    "\n",
    "<!--\n",
    "BEGIN QUESTION\n",
    "name: q3e\n",
    "manual: true\n",
    "-->"
   ]
  },
  {
   "cell_type": "markdown",
   "metadata": {},
   "source": [
    "$\\log(f)$ \n",
    "\n",
    "=$\\log((1−p)^{6}*p^{4})$\n",
    "\n",
    "=$\\log((1−p)^{6})+\\log(p^{4})$\n",
    "\n",
    "=$6\\log(1−p)+4\\log(p)$\n",
    "\n",
    "$\\frac{d}{\\hat{p}}$=$6\\frac{1}{1-\\hat{p}}+4\\frac{1}{\\hat{p}}=0$\n",
    "\n",
    "$\\hat{p}=0.4$"
   ]
  },
  {
   "cell_type": "markdown",
   "metadata": {},
   "source": [
    "<!-- END QUESTION -->\n",
    "\n",
    "\n",
    "\n",
    "## Probabilities and Proportions ##"
   ]
  },
  {
   "cell_type": "markdown",
   "metadata": {
    "deletable": false,
    "editable": false
   },
   "source": [
    "<!-- BEGIN QUESTION -->\n",
    "\n",
    "### Question 4 ###\n",
    "\n",
    "Much of data analysis involves interpreting proportions – lots and lots of related proportions. So let's recall the basics. It might help to start by reviewing [the main rules](https://www.inferentialthinking.com/chapters/09/5/Finding_Probabilities.html) from Data 8, with particular attention to what's being multiplied in the multiplication rule.\n",
    "\n",
    "<!--\n",
    "    BEGIN QUESTION\n",
    "    name: q4a\n",
    "    manual: true\n",
    "-->\n",
    "\n",
    "#### Question 4a) ####\n",
    "The Pew Research Foundation publishes the results of numerous surveys, one of which is about the [trust that Americans have](https://www.pewresearch.org/fact-tank/2019/03/22/public-confidence-in-scientists-has-remained-stable-for-decades/) in groups such as the military, scientists, and elected officials to act in the public interest. A table in the article summarizes the results.\n",
    "\n",
    "Pick one of the options (i) and (ii) to answer the question below; if you pick (i), fill in the blank with the percent. Then, explain your choice.\n",
    "\n",
    "The percent of surveyed U.S. adults who had a great deal of confidence in both scientists and religious leaders\n",
    "\n",
    "(i) is equal to ______________________.\n",
    "\n",
    "(ii) cannot be found with the information in the article."
   ]
  },
  {
   "cell_type": "markdown",
   "metadata": {},
   "source": [
    "ii，by looking at the graph we can only know that 17% of people are greatly confident in religious leaders and 39% of people have a great deal of confidence in scientists, but it didn't give any information about the intersection of these two groups of people."
   ]
  },
  {
   "cell_type": "markdown",
   "metadata": {
    "deletable": false,
    "editable": false
   },
   "source": [
    "<!-- END QUESTION -->\n",
    "\n",
    "#### Question 4b) ####\n",
    "In a famous (or infamous) survey, members of the Harvard medical school were asked to consider a scenario in which \"a test to detect a disease whose prevalence is 1/1,000 has a false positive rate of 5 percent\". The terminology, the specific question asked in the survey, and the answer, are discussed in detail in a Stat 88 textbook [section](http://stat88.org/textbook/notebooks/Chapter_02/04_Use_and_Interpretation.html#Harvard-Medical-School-Survey) that you are strongly encouraged to read. As Stat 88 is a Data 8 connector course, the section is another look at the same ideas as in the corresponding [Data 8 textbook section](https://www.inferentialthinking.com/chapters/18/2/Making_Decisions.html).\n",
    "\n",
    "The corresponding tree diagram is copied below for your reference.\n",
    "\n",
    "<img src=\"tree_disease_harvard.png\">\n",
    "\n",
    "The survey did not provide the true positive rate. The respondents and Stat 88 were allowed to assume that the true positive rate is 1, but we will not do so here. **Let the true positive rate be some unknown proportion $p$.**\n",
    "\n",
    "Suppose a person is picked at random from the population. Let $N$ be the event that the person doesn't have the disease and let $T_N$ be the event that the person's test result is negative. \n",
    "\n",
    "Fill in Blanks 1 and 2 with options chosen from (1)-(9).\n",
    "\n",
    "The proportion $P(N \\mid T_N)$ is the number of people who $\\underline{~~~~~~1~~~~~~}$ relative to the total number of people who $\\underline{~~~~~~2~~~~~~}$.\n",
    "\n",
    "(1) are in the population\n",
    "\n",
    "(2) have the disease\n",
    "\n",
    "(3) don't have the disease\n",
    "\n",
    "(4) test positive\n",
    "\n",
    "(5) test negative\n",
    "\n",
    "(6) have the disease and test positive\n",
    "\n",
    "(7) have the disease and test negative\n",
    "\n",
    "(8) don't have the disease and test positive\n",
    "\n",
    "(9) don't have the disease and test negative\n",
    "\n",
    "Assign the variable `q4bi` to your answer to the first blank and `q4bii` to your answer to the second blank.\n",
    "\n",
    "<!--\n",
    "    BEGIN QUESTION\n",
    "    name: q4b\n",
    "    points: 1\n",
    "-->"
   ]
  },
  {
   "cell_type": "code",
   "execution_count": 8,
   "metadata": {},
   "outputs": [
    {
     "data": {
      "text/plain": [
       "(9, 5)"
      ]
     },
     "execution_count": 8,
     "metadata": {},
     "output_type": "execute_result"
    }
   ],
   "source": [
    "q4bi = 9\n",
    "q4bii = 5\n",
    "q4bi, q4bii"
   ]
  },
  {
   "cell_type": "code",
   "execution_count": 9,
   "metadata": {
    "deletable": false,
    "editable": false
   },
   "outputs": [
    {
     "data": {
      "text/html": [
       "\n",
       "    <p><strong>q4b</strong> passed!</p>\n",
       "    "
      ],
      "text/plain": [
       "q4b passed!"
      ]
     },
     "execution_count": 9,
     "metadata": {},
     "output_type": "execute_result"
    }
   ],
   "source": [
    "grader.check(\"q4b\")"
   ]
  },
  {
   "cell_type": "markdown",
   "metadata": {
    "deletable": false,
    "editable": false
   },
   "source": [
    "#### Question 4c) ####\n",
    "(This is a continuation of the previous part.) Define a function `no_disease_given_negative` that takes $p$ as its argument and returns $P(N \\mid T_N)$.\n",
    "\n",
    "<!--\n",
    "    BEGIN QUESTION\n",
    "    name: q4c\n",
    "    points: 2\n",
    "-->"
   ]
  },
  {
   "cell_type": "code",
   "execution_count": 10,
   "metadata": {},
   "outputs": [],
   "source": [
    "def no_disease_given_negative(p):\n",
    "    return (0.999*0.95)/(0.999*0.95+0.001*(1-p))"
   ]
  },
  {
   "cell_type": "code",
   "execution_count": 11,
   "metadata": {
    "deletable": false,
    "editable": false
   },
   "outputs": [
    {
     "data": {
      "text/html": [
       "\n",
       "    <p><strong>q4c</strong> passed!</p>\n",
       "    "
      ],
      "text/plain": [
       "q4c passed!"
      ]
     },
     "execution_count": 11,
     "metadata": {},
     "output_type": "execute_result"
    }
   ],
   "source": [
    "grader.check(\"q4c\")"
   ]
  },
  {
   "cell_type": "markdown",
   "metadata": {
    "deletable": false,
    "editable": false
   },
   "source": [
    "<!-- BEGIN QUESTION -->\n",
    "\n",
    "#### Question 4d) ####\n",
    "(This part is a continuation of the previous two.) Pick all of the options (i)-(iv) that are true for all values of $p$. Explain by algebraic or probailistic reasoning; you are welcome to use your function `no_disease_given_negative` to try a few cases numerically. Your explanation should include the reasons why you *didn't* choose some options.\n",
    "\n",
    "$P(N \\mid T_N)$ is\n",
    "\n",
    "(i) equal to $0.95$.\n",
    "\n",
    "(ii) equal to $0.999 \\times 0.95$.\n",
    "\n",
    "(iii) greater than $0.999 \\times 0.95$.\n",
    "\n",
    "(iv) greater than $0.95$.\n",
    "\n",
    "<!--\n",
    "BEGIN QUESTION\n",
    "name: q4d\n",
    "manual: true\n",
    "-->"
   ]
  },
  {
   "cell_type": "markdown",
   "metadata": {},
   "source": [
    "(iii)(iv), since $P(N \\mid T_N)$ equals to $0.999*0.95/0.999*0.95+0.001(1-p)$. p is between 0 and 1,when p equals to 0, $P(N \\mid T_N)$ = $0.999*0.95/0.999*0.95+0.001$ = $0.94905/0.95005$,which is approximately 0.9989. When p equals to 1, $P(N \\mid T_N)$ = $1$, so the value of $P(N \\mid T_N)$ is between 0.9989 and 1, since 0.999*0.95=0.94905,then (iii) and (iv) make sense."
   ]
  },
  {
   "cell_type": "markdown",
   "metadata": {
    "deletable": false,
    "editable": false
   },
   "source": [
    "<!-- END QUESTION -->"
   ]
  },
  {
   "cell_type": "code",
   "execution_count": 12,
   "metadata": {},
   "outputs": [
    {
     "data": {
      "text/plain": [
       "0.998947423819799"
      ]
     },
     "execution_count": 12,
     "metadata": {},
     "output_type": "execute_result"
    }
   ],
   "source": [
    "no_disease_given_negative(0)"
   ]
  },
  {
   "cell_type": "code",
   "execution_count": 13,
   "metadata": {},
   "outputs": [
    {
     "data": {
      "text/plain": [
       "1.0"
      ]
     },
     "execution_count": 13,
     "metadata": {},
     "output_type": "execute_result"
    }
   ],
   "source": [
    "no_disease_given_negative(1)"
   ]
  },
  {
   "cell_type": "markdown",
   "metadata": {
    "deletable": false,
    "editable": false
   },
   "source": [
    "<!-- BEGIN QUESTION -->\n",
    "\n",
    "#### Question 4e) ####\n",
    "Suzuki is one of most commonly owned makes of cars in our county (Alameda). A car heading from Berkeley to San Francisco is pulled over on the freeway for speeding. Suppose I tell you that the car is either a Suzuki or a Lamborghini, and you have to guess which of the two is more likely. \n",
    "\n",
    "What would you guess, and why? Make some reasonable assumptions and explain them (data scientists often have to do this), justify your answer, and say how it's connected to the previous parts.\n",
    "\n",
    "<!--\n",
    "    BEGIN QUESTION\n",
    "    name: q4e\n",
    "    manual: true\n",
    "-->"
   ]
  },
  {
   "cell_type": "markdown",
   "metadata": {},
   "source": [
    "I would guess it is a Suzuki, because Alameda is near Berkeley and San Francisco, so maybe suzuki is also commonly owned in this area. So if a car is pulled over on the freeway for speeding, it might be more likely to be a suzuki."
   ]
  },
  {
   "cell_type": "markdown",
   "metadata": {},
   "source": [
    "<!-- END QUESTION -->\n",
    "\n",
    "\n",
    "\n",
    "## Distributions ##"
   ]
  },
  {
   "cell_type": "markdown",
   "metadata": {},
   "source": [
    "### Question 5 ###\n",
    "Visualizing distributions, both categorical and numerical, helps us understand variability. In Data 8 you visualized numerical distributions by drawing [histograms](https://www.inferentialthinking.com/chapters/07/2/Visualizing_Numerical_Distributions.html#A-Histogram), which look like bar charts but represent proportions by the *areas* of the bars instead of the heights or lengths. In this exercise you will use the `hist` function in `matplotlib` instead of the corresponding `Table` method to draw histograms.\n",
    "\n",
    "To start off, suppose we want to plot the probability distribution of the number of spots on a single roll of a die. That should be a flat histogram since the chance of each of the values 1 through 6 is 1/6. Here is a first attempt at drawing the histogram."
   ]
  },
  {
   "cell_type": "code",
   "execution_count": 14,
   "metadata": {},
   "outputs": [
    {
     "data": {
      "text/plain": [
       "(array([1., 0., 1., 0., 1., 0., 1., 0., 1., 1.]),\n",
       " array([1. , 1.5, 2. , 2.5, 3. , 3.5, 4. , 4.5, 5. , 5.5, 6. ]),\n",
       " <BarContainer object of 10 artists>)"
      ]
     },
     "execution_count": 14,
     "metadata": {},
     "output_type": "execute_result"
    },
    {
     "data": {
      "image/png": "[encoded data removed]",
      "text/plain": [
       "<Figure size 432x288 with 1 Axes>"
      ]
     },
     "metadata": {},
     "output_type": "display_data"
    }
   ],
   "source": [
    "faces = range(1, 7)\n",
    "plt.hist(faces)"
   ]
  },
  {
   "cell_type": "markdown",
   "metadata": {},
   "source": [
    "This default plot is not helpful. We have to choose some arguments to get a visualization that we can interpret. \n",
    "\n",
    "Note that the second printed line shows the left ends of the default bins, as well as the right end of the last bin. The first line shows the counts in the bins. If you don't want the printed lines you can add a semi-colon at the end of the call to `plt.hist`, but we'll keep the lines for now.\n",
    "\n",
    "Let's redraw the histogram with bins of unit length centered at the possible values. By the end of the exercise you'll see a reason for centering. Notice that the argument for specifying bins is the same as the one for the `Table` method `hist`."
   ]
  },
  {
   "cell_type": "code",
   "execution_count": 15,
   "metadata": {},
   "outputs": [
    {
     "data": {
      "text/plain": [
       "(array([1., 1., 1., 1., 1., 1.]),\n",
       " array([0.5, 1.5, 2.5, 3.5, 4.5, 5.5, 6.5]),\n",
       " <BarContainer object of 6 artists>)"
      ]
     },
     "execution_count": 15,
     "metadata": {},
     "output_type": "execute_result"
    },
    {
     "data": {
      "image/png": "[encoded data removed]",
      "text/plain": [
       "<Figure size 432x288 with 1 Axes>"
      ]
     },
     "metadata": {},
     "output_type": "display_data"
    }
   ],
   "source": [
    "unit_bins = np.arange(0.5, 6.6)\n",
    "plt.hist(faces, bins = unit_bins)"
   ]
  },
  {
   "cell_type": "markdown",
   "metadata": {},
   "source": [
    "We need to see the edges of the bars! Let's specify the edge color `ec` to be white. [Here](https://matplotlib.org/3.1.0/gallery/color/named_colors.html) are all the colors you could use, but do try to drag yourself away from the poetic names."
   ]
  },
  {
   "cell_type": "code",
   "execution_count": 16,
   "metadata": {},
   "outputs": [
    {
     "data": {
      "text/plain": [
       "(array([1., 1., 1., 1., 1., 1.]),\n",
       " array([0.5, 1.5, 2.5, 3.5, 4.5, 5.5, 6.5]),\n",
       " <BarContainer object of 6 artists>)"
      ]
     },
     "execution_count": 16,
     "metadata": {},
     "output_type": "execute_result"
    },
    {
     "data": {
      "image/png": "[encoded data removed]",
      "text/plain": [
       "<Figure size 432x288 with 1 Axes>"
      ]
     },
     "metadata": {},
     "output_type": "display_data"
    }
   ],
   "source": [
    "plt.hist(faces, bins = unit_bins, ec='white')"
   ]
  },
  {
   "cell_type": "markdown",
   "metadata": {},
   "source": [
    "That's much better, but look at the vertical axis. It is not drawn to the [density scale](https://www.inferentialthinking.com/chapters/07/2/Visualizing_Numerical_Distributions.html#The-Histogram:-General-Principles-and-Calculation) defined in Data 8. We want a histogram of a probability distribution, so the total area should be 1. We just have to ask for that."
   ]
  },
  {
   "cell_type": "code",
   "execution_count": 17,
   "metadata": {},
   "outputs": [
    {
     "data": {
      "text/plain": [
       "(array([0.16666667, 0.16666667, 0.16666667, 0.16666667, 0.16666667,\n",
       "        0.16666667]),\n",
       " array([0.5, 1.5, 2.5, 3.5, 4.5, 5.5, 6.5]),\n",
       " <BarContainer object of 6 artists>)"
      ]
     },
     "execution_count": 17,
     "metadata": {},
     "output_type": "execute_result"
    },
    {
     "data": {
      "image/png": "[encoded data removed]",
      "text/plain": [
       "<Figure size 432x288 with 1 Axes>"
      ]
     },
     "metadata": {},
     "output_type": "display_data"
    }
   ],
   "source": [
    "plt.hist(faces, bins = unit_bins, ec='white', density=True)"
   ]
  },
  {
   "cell_type": "markdown",
   "metadata": {},
   "source": [
    "That's the probability histogram of the number of spots on one roll of a die. The proportion is $1/6$ in each of the bins."
   ]
  },
  {
   "cell_type": "markdown",
   "metadata": {
    "deletable": false,
    "editable": false
   },
   "source": [
    "<!-- BEGIN QUESTION -->\n",
    "\n",
    "#### Question 5a) ####\n",
    "\n",
    "Define a function `integer_distribution` that takes an array of integers and draws the histogram of the distribution using unit bins centered at the integers and white edges for the bars. The histogram should be drawn to the density scale. The left-most bar should be centered at the smallest integer in the array, and the right-most bar at the largest.\n",
    "\n",
    "Your function does not have to check that the input is an array consisting only of integers. The display does not need to include the printed proportions and bins.\n",
    "\n",
    "If you have trouble defining the function, go back and carefully read all the lines of code that resulted in the probability histogram of the number of spots on one roll of a die. Pay special attention to the bins. \n",
    "\n",
    "<!--\n",
    "    BEGIN QUESTION\n",
    "    name: q5a\n",
    "    manual: true\n",
    "-->"
   ]
  },
  {
   "cell_type": "code",
   "execution_count": 18,
   "metadata": {},
   "outputs": [
    {
     "data": {
      "image/png": "[encoded data removed]",
      "text/plain": [
       "<Figure size 432x288 with 1 Axes>"
      ]
     },
     "metadata": {},
     "output_type": "display_data"
    }
   ],
   "source": [
    "def integer_distribution(x):\n",
    "    plt.hist(x, bins = np.arange(min(x)-0.5,max(x)+0.6,1), ec='white', density=True)\n",
    "integer_distribution(faces)"
   ]
  },
  {
   "cell_type": "markdown",
   "metadata": {
    "deletable": false,
    "editable": false
   },
   "source": [
    "<!-- END QUESTION -->\n",
    "\n",
    "#### Question 5b) ####\n",
    "In Data 8 you studied the Supreme Court case of [Swain versus the State of Alabama](https://www.inferentialthinking.com/chapters/11/1/Assessing_Models.html), where a question before the Court was whether a jury panel of size 100 had been selected at random from a population in which 26% of the people were black. That was the percent of black people in the population that was eligible to serve on the panel.\n",
    "\n",
    "You can use `np.random.multinomial` to simulate drawing at random with replacement from a categorical distribution. The arguments are the sample size `n` and an array `pvals` of the proportions in all the categories. The function simulates `n` independent random draws from the distribution and returns the observed counts in all the categories. Read the documentation to see how this is described formally; we will use the formal terminology and notation in future assignments after we have discussed them in class.\n",
    "\n",
    "You will see that the function also takes a third argument `size`, which for our purposes will be an integer that specifies the number of times to run the entire simulation. All the runs are independent of each other. \n",
    "\n",
    "Write one line of code that uses `np.random.multinomial` to run 10 independent simulations of drawing 100 times at random with replacement from a population in which 26% of the people are black. The output should be an array containing the counts in the black category in the 10 simulations. It will help to recall how to slice `NumPy` arrays. Assign your answer to the variable `sample`.\n",
    "\n",
    "<!--\n",
    "    BEGIN QUESTION\n",
    "    name: q5b\n",
    "    points: 2\n",
    "-->"
   ]
  },
  {
   "cell_type": "code",
   "execution_count": 19,
   "metadata": {},
   "outputs": [
    {
     "data": {
      "text/plain": [
       "array([19, 28, 26, 26, 32, 23, 25, 26, 31, 30])"
      ]
     },
     "execution_count": 19,
     "metadata": {},
     "output_type": "execute_result"
    }
   ],
   "source": [
    "sample = np.random.multinomial(100,[0.26,0.74],10)[:,0]\n",
    "sample"
   ]
  },
  {
   "cell_type": "code",
   "execution_count": 20,
   "metadata": {
    "deletable": false,
    "editable": false
   },
   "outputs": [
    {
     "data": {
      "text/html": [
       "\n",
       "    <p><strong>q5b</strong> passed!</p>\n",
       "    "
      ],
      "text/plain": [
       "q5b passed!"
      ]
     },
     "execution_count": 20,
     "metadata": {},
     "output_type": "execute_result"
    }
   ],
   "source": [
    "grader.check(\"q5b\")"
   ]
  },
  {
   "cell_type": "markdown",
   "metadata": {
    "deletable": false,
    "editable": false
   },
   "source": [
    "<!-- BEGIN QUESTION -->\n",
    "\n",
    "#### Question 5c) ####\n",
    "\n",
    "Replace the \"...\" in the code cell below with a Python expression so that the output of the cell is an empirical histogram of 500,000 simulated counts of black people in 100 draws made at random with replacement from the population eligible for Swain's jury panel.  \n",
    "\n",
    "After you have drawn the histogram, you might want to take a moment to recall the conclusion reached in Data 8 based on the data that Swain's panel had 8 black people in it.\n",
    "\n",
    "<!--\n",
    "    BEGIN QUESTION\n",
    "    name: q5c\n",
    "    manual: true\n",
    "-->"
   ]
  },
  {
   "cell_type": "code",
   "execution_count": 21,
   "metadata": {
    "scrolled": true
   },
   "outputs": [
    {
     "data": {
      "image/png": "[encoded data removed]",
      "text/plain": [
       "<Figure size 432x288 with 1 Axes>"
      ]
     },
     "metadata": {},
     "output_type": "display_data"
    }
   ],
   "source": [
    "simulated_counts = np.random.multinomial(100,[0.26,0.74],500000)[:,0]\n",
    "integer_distribution(simulated_counts)"
   ]
  },
  {
   "cell_type": "markdown",
   "metadata": {
    "deletable": false,
    "editable": false
   },
   "source": [
    "<!-- END QUESTION -->\n",
    "\n",
    "<!-- BEGIN QUESTION -->\n",
    "\n",
    "#### Question 5d) ####\n",
    "As you know, the count of black people in a sample of 100 people drawn at random from the eligible population is expected to be 26. Just by looking at the histogram in Part **c**, and **no other calculation**, pick the correct option and explain your choice. You might want to refer to the [Data 8 textbook](https://www.inferentialthinking.com/chapters/14/3/SD_and_the_Normal_Curve.html) again.\n",
    "\n",
    "The SD of the distribution of the number of black people in a random sample of 100 people drawn from the eligible population is closest to\n",
    "\n",
    "(i) 1.4\n",
    "\n",
    "(ii) 4.4\n",
    "\n",
    "(iii) 7.4\n",
    "\n",
    "(iv) 10.4\n",
    "\n",
    "<!--\n",
    "    BEGIN QUESTION\n",
    "    name: q5d\n",
    "    manual: true\n",
    "-->"
   ]
  },
  {
   "cell_type": "markdown",
   "metadata": {},
   "source": [
    "ii"
   ]
  },
  {
   "cell_type": "markdown",
   "metadata": {
    "deletable": false,
    "editable": false
   },
   "source": [
    "<!-- END QUESTION -->\n",
    "\n",
    "<!-- BEGIN QUESTION -->\n",
    "\n",
    "#### Question 5e) ####\n",
    "The *normal curve with mean $\\mu$ and SD $\\sigma$* is defined by\n",
    "\n",
    "$$\n",
    "f(x) ~ = ~ \\frac{1}{\\sqrt{2\\pi}\\sigma} e^{-\\frac{1}{2}\\big{(}\\frac{x-\\mu}{\\sigma}\\big{)}^2}, ~~~ -\\infty < x < \\infty\n",
    "$$\n",
    "\n",
    "Redraw your histogram from Part **c** and overlay the normal curve with $\\mu = 26$ and $\\sigma$ equal to the choice you made in Part **d**. You just have to call `plt.plot` after `integer_distribution`. Use `np.e` for $e$. For the curve, use 2 as the line width, and any color that is easy to see over the blue histogram. It's fine to just let Python use its default color.\n",
    "\n",
    "Now you can see why centering the histogram bars over the integers was a good idea. The normal curve peaks at 26, which is the center of the corresponding bar.\n",
    "\n",
    "<!--\n",
    "    BEGIN QUESTION\n",
    "    name: q6e\n",
    "    manual: true\n",
    "-->"
   ]
  },
  {
   "cell_type": "code",
   "execution_count": 22,
   "metadata": {
    "scrolled": false
   },
   "outputs": [
    {
     "data": {
      "text/plain": [
       "[<matplotlib.lines.Line2D at 0x7fcbf5524fa0>]"
      ]
     },
     "execution_count": 22,
     "metadata": {},
     "output_type": "execute_result"
    },
    {
     "data": {
      "image/png": "[encoded data removed]",
      "text/plain": [
       "<Figure size 432x288 with 1 Axes>"
      ]
     },
     "metadata": {},
     "output_type": "display_data"
    }
   ],
   "source": [
    "mu = 26\n",
    "sigma = 4.4\n",
    "x = np.linspace(0, 50, 200)\n",
    "f_x = (1/(np.sqrt(2*np.pi)*sigma))*np.e**(-1/2*((x-mu)/sigma)**2)\n",
    "integer_distribution(simulated_counts)\n",
    "plt.plot(x, f_x, lw=2, color='orange')"
   ]
  },
  {
   "cell_type": "markdown",
   "metadata": {
    "deletable": false,
    "editable": false
   },
   "source": [
    "<!-- END QUESTION -->\n",
    "\n",
    "### Question 6 ###\n",
    "Please fill out the Data 100 Spring 2021 Welcome Survey: https://forms.gle/hBvrL3n1h6QrTGjK8\n",
    "\n",
    "At the end of the survey, there will be a codeword displayed. Assign `q6_survey` to that codeword as a string below.\n",
    "\n",
    "<!--\n",
    "    BEGIN QUESTION\n",
    "    name: q6\n",
    "    points: 1\n",
    "-->"
   ]
  },
  {
   "cell_type": "code",
   "execution_count": 23,
   "metadata": {},
   "outputs": [],
   "source": [
    "q6_survey = \"central beef overview\""
   ]
  },
  {
   "cell_type": "code",
   "execution_count": 24,
   "metadata": {
    "deletable": false,
    "editable": false
   },
   "outputs": [
    {
     "data": {
      "text/html": [
       "\n",
       "    <p><strong>q6</strong> passed!</p>\n",
       "    "
      ],
      "text/plain": [
       "q6 passed!"
      ]
     },
     "execution_count": 24,
     "metadata": {},
     "output_type": "execute_result"
    }
   ],
   "source": [
    "grader.check(\"q6\")"
   ]
  },
  {
   "cell_type": "markdown",
   "metadata": {
    "deletable": false,
    "editable": false
   },
   "source": [
    "---\n",
    "\n",
    "To double-check your work, the cell below will rerun all of the autograder tests."
   ]
  },
  {
   "cell_type": "code",
   "execution_count": 25,
   "metadata": {
    "deletable": false,
    "editable": false
   },
   "outputs": [
    {
     "data": {
      "text/html": [
       "\n",
       "    <p><strong>q3a</strong> passed!</p>\n",
       "    \n",
       "\n",
       "\n",
       "    <p><strong>q4b</strong> passed!</p>\n",
       "    \n",
       "\n",
       "\n",
       "    <p><strong>q4c</strong> passed!</p>\n",
       "    \n",
       "\n",
       "\n",
       "    <p><strong>q5b</strong> passed!</p>\n",
       "    \n",
       "\n",
       "\n",
       "    <p><strong>q6</strong> passed!</p>\n",
       "    \n",
       "\n"
      ],
      "text/plain": [
       "q3a passed!\n",
       "\n",
       "q4b passed!\n",
       "\n",
       "q4c passed!\n",
       "\n",
       "q5b passed!\n",
       "\n",
       "q6 passed!\n"
      ]
     },
     "execution_count": 25,
     "metadata": {},
     "output_type": "execute_result"
    }
   ],
   "source": [
    "grader.check_all()"
   ]
  },
  {
   "cell_type": "markdown",
   "metadata": {
    "deletable": false,
    "editable": false
   },
   "source": [
    "## Submission\n",
    "\n",
    "Make sure you have run all cells in your notebook in order before running the cell below, so that all images/graphs appear in the output. The cell below will generate a zip file for you to submit. **Please save before exporting!**"
   ]
  },
  {
   "cell_type": "code",
   "execution_count": null,
   "metadata": {
    "deletable": false,
    "editable": false
   },
   "outputs": [],
   "source": [
    "# Save your notebook first, then run this cell to export your submission.\n",
    "grader.export()"
   ]
  },
  {
   "cell_type": "markdown",
   "metadata": {},
   "source": [
    " "
   ]
  }
 ],
 "metadata": {
  "history": [
   {
    "code": "p = np.linspace(0, 1, 100) # SOLUTION\nf = (p**4) * ((1-p)**6) # SOLUTION\nplt.plot(p, f, lw=2, color='darkblue') # lw is line width\nplt.plot([0, 1], [0, 0], lw=1, color='grey')    # horizontal axis\nplt.xlabel('$p$')\nplt.ylabel('$f(p)$', rotation=0)\nplt.title('Probability of Observing TTTHTHHTTH');",
    "id": "2e61d1a2bbb24da482cb75c1493ec705",
    "idx": 35,
    "time": "2021-01-17T17:57:44.762Z",
    "type": "execution"
   },
   {
    "id": "2e61d1a2bbb24da482cb75c1493ec705",
    "time": "2021-01-17T17:57:44.889Z",
    "type": "completion"
   },
   {
    "code": "import numpy as np\nimport matplotlib\nimport matplotlib.pyplot as plt\nplt.style.use('fivethirtyeight')",
    "id": "55879c87f2bb4c2285fb29d299b0e20b",
    "idx": 17,
    "time": "2021-01-17T17:57:53.541Z",
    "type": "execution"
   },
   {
    "code": "np.arange?",
    "id": "7bd71372d8964354b6a2c60e6d0a3350",
    "idx": 20,
    "time": "2021-01-17T17:57:54.068Z",
    "type": "execution"
   },
   {
    "code": "np.linspace",
    "id": "610c62c9ec2b4e24888dc561f213e300",
    "idx": 23,
    "time": "2021-01-17T17:57:54.540Z",
    "type": "execution"
   },
   {
    "id": "55879c87f2bb4c2285fb29d299b0e20b",
    "time": "2021-01-17T17:57:56.666Z",
    "type": "completion"
   },
   {
    "id": "7bd71372d8964354b6a2c60e6d0a3350",
    "time": "2021-01-17T17:57:56.668Z",
    "type": "completion"
   },
   {
    "id": "610c62c9ec2b4e24888dc561f213e300",
    "time": "2021-01-17T17:57:56.743Z",
    "type": "completion"
   },
   {
    "code": "p_HHHTHT = (0.8 ** 4) * (0.2 ** 2) # SOLUTION\np_HHHTHT",
    "id": "470a6a55740a4a42804faf73bc701928",
    "idx": 31,
    "time": "2021-01-17T17:58:03.079Z",
    "type": "execution"
   },
   {
    "id": "470a6a55740a4a42804faf73bc701928",
    "time": "2021-01-17T17:58:03.177Z",
    "type": "completion"
   },
   {
    "code": "# TEST\n0 <= p_HHHTHT <= 1",
    "id": "46f5518ae042409a8f8fd0ec99c7f3ae",
    "idx": 32,
    "time": "2021-01-17T17:58:03.495Z",
    "type": "execution"
   },
   {
    "id": "46f5518ae042409a8f8fd0ec99c7f3ae",
    "time": "2021-01-17T17:58:03.583Z",
    "type": "completion"
   },
   {
    "code": "# HIDDEN TEST\nnp.isclose(p_HHHTHT, (0.8 ** 4) * (0.2 ** 2))",
    "id": "eeb1da3775d043fd90ee2957a4b6ac13",
    "idx": 33,
    "time": "2021-01-17T17:58:03.895Z",
    "type": "execution"
   },
   {
    "id": "eeb1da3775d043fd90ee2957a4b6ac13",
    "time": "2021-01-17T17:58:03.990Z",
    "type": "completion"
   },
   {
    "code": "p = np.linspace(0, 1, 100) # SOLUTION\nf = (p**4) * ((1-p)**6) # SOLUTION\nplt.plot(p, f, lw=2, color='darkblue') # lw is line width\nplt.plot([0, 1], [0, 0], lw=1, color='grey')    # horizontal axis\nplt.xlabel('$p$')\nplt.ylabel('$f(p)$', rotation=0)\nplt.title('Probability of Observing TTTHTHHTTH');",
    "id": "2e61d1a2bbb24da482cb75c1493ec705",
    "idx": 35,
    "time": "2021-01-17T17:58:05.832Z",
    "type": "execution"
   },
   {
    "id": "2e61d1a2bbb24da482cb75c1493ec705",
    "time": "2021-01-17T17:58:06.472Z",
    "type": "completion"
   },
   {
    "code": "p = np.linspace(0, 1, 100) # SOLUTION\nf = (p**4) * ((1-p)**6) # SOLUTION\nplt.plot(p, f, lw=2, color='darkblue') # lw is line width\nplt.plot([0, 1], [0, 0], lw=1, color='grey')    # horizontal axis\nplt.xlabel('$p$')\nplt.ylabel('$f(p)$', rotation=0)\nplt.title('Probability of TTTHTHHTTH');",
    "id": "2e61d1a2bbb24da482cb75c1493ec705",
    "idx": 35,
    "time": "2021-01-17T17:58:27.994Z",
    "type": "execution"
   },
   {
    "id": "2e61d1a2bbb24da482cb75c1493ec705",
    "time": "2021-01-17T17:58:28.297Z",
    "type": "completion"
   },
   {
    "code": "p = np.linspace(0, 1, 100) # SOLUTION\nf = (p**4) * ((1-p)**6) # SOLUTION\nplt.plot(p, f, lw=2, color='darkblue') # lw is line width\nplt.plot([0, 1], [0, 0], lw=1, color='grey')    # horizontal axis\nplt.xlabel('$p$')\nplt.ylabel('$f(p)$', rotation=0)\nplt.title('Probability of Observing TTTHTHHTTH');",
    "id": "2e61d1a2bbb24da482cb75c1493ec705",
    "idx": 35,
    "time": "2021-01-17T17:58:36.981Z",
    "type": "execution"
   },
   {
    "id": "2e61d1a2bbb24da482cb75c1493ec705",
    "time": "2021-01-17T17:58:37.297Z",
    "type": "completion"
   },
   {
    "code": "q4bi = 9 # SOLUTION\nq4bii = 5 # SOLUTION\nq4bi, q4bii",
    "id": "7ea62778b422489f872af1b6f6f7bd9f",
    "idx": 46,
    "time": "2021-01-18T17:40:36.090Z",
    "type": "execution"
   },
   {
    "id": "7ea62778b422489f872af1b6f6f7bd9f",
    "time": "2021-01-18T17:40:36.201Z",
    "type": "completion"
   },
   {
    "code": "q4bi = 9 # SOLUTION\nq4bii = 5 # SOLUTION\nq4bi, q4bii",
    "id": "7ea62778b422489f872af1b6f6f7bd9f",
    "idx": 46,
    "time": "2021-01-18T17:40:51.569Z",
    "type": "execution"
   },
   {
    "id": "7ea62778b422489f872af1b6f6f7bd9f",
    "time": "2021-01-18T17:40:51.663Z",
    "type": "completion"
   },
   {
    "code": "# TEST\n0 <= q4bi <= 9",
    "id": "b3c880116aac49fca293cc77b57bf1c2",
    "idx": 47,
    "time": "2021-01-18T17:40:51.727Z",
    "type": "execution"
   },
   {
    "id": "b3c880116aac49fca293cc77b57bf1c2",
    "time": "2021-01-18T17:40:51.822Z",
    "type": "completion"
   },
   {
    "code": "# TEST\n0 <= q4bii <= 9",
    "id": "eb2a51a8ce9b4f3baf83ed8661658772",
    "idx": 48,
    "time": "2021-01-18T17:40:51.892Z",
    "type": "execution"
   },
   {
    "id": "eb2a51a8ce9b4f3baf83ed8661658772",
    "time": "2021-01-18T17:40:51.990Z",
    "type": "completion"
   },
   {
    "code": "# HIDDEN TEST\nq4bi == 9",
    "id": "1d1e5b42d47b452788b75b3b5edf8942",
    "idx": 49,
    "time": "2021-01-18T17:40:52.052Z",
    "type": "execution"
   },
   {
    "code": "# HIDDEN TEST\nq4bii == 5",
    "id": "9e7f8eace29548d5868331eb66b6bebb",
    "idx": 50,
    "time": "2021-01-18T17:40:52.179Z",
    "type": "execution"
   },
   {
    "id": "1d1e5b42d47b452788b75b3b5edf8942",
    "time": "2021-01-18T17:40:52.419Z",
    "type": "completion"
   },
   {
    "id": "9e7f8eace29548d5868331eb66b6bebb",
    "time": "2021-01-18T17:40:52.422Z",
    "type": "completion"
   },
   {
    "code": "def no_disease_given_negative(p):\n    return (0.999*0.95) / (0.999*0.95 + 0.001*(1-p)) # SOLUTION",
    "id": "ecf63dca519e425884b9899e1ed90eff",
    "idx": 52,
    "time": "2021-01-18T17:41:04.733Z",
    "type": "execution"
   },
   {
    "id": "ecf63dca519e425884b9899e1ed90eff",
    "time": "2021-01-18T17:41:04.802Z",
    "type": "completion"
   },
   {
    "code": "# TEST\nnp.isclose(no_disease_given_negative(1), 1)",
    "id": "860fd4e524d340c7851962c9465f76a2",
    "idx": 53,
    "time": "2021-01-18T17:41:06.810Z",
    "type": "execution"
   },
   {
    "id": "860fd4e524d340c7851962c9465f76a2",
    "time": "2021-01-18T17:41:06.898Z",
    "type": "completion"
   },
   {
    "code": "# TEST\nnp.isclose(no_disease_given_negative(0), 0.998947423819799)",
    "id": "1f1faeb113bf4e57825be60e8829456d",
    "idx": 54,
    "time": "2021-01-18T17:41:07.004Z",
    "type": "execution"
   },
   {
    "id": "1f1faeb113bf4e57825be60e8829456d",
    "time": "2021-01-18T17:41:07.095Z",
    "type": "completion"
   },
   {
    "code": "simulated_counts = np.random.multinomial(100, [0.26, 0.74], 500000)[:, 0] # SOLUTION\ninteger_distribution(simulated_counts)",
    "id": "a536dc905ce14a548fdae58a00bee5f8",
    "idx": 79,
    "time": "2021-01-18T17:42:30.423Z",
    "type": "execution"
   },
   {
    "id": "a536dc905ce14a548fdae58a00bee5f8",
    "time": "2021-01-18T17:42:30.568Z",
    "type": "completion"
   },
   {
    "code": "import numpy as np\nimport matplotlib\nimport matplotlib.pyplot as plt\nplt.style.use('fivethirtyeight')",
    "id": "c3fd5d4e1fad44c983b860ec5bee1e16",
    "idx": 17,
    "time": "2021-01-18T17:58:16.355Z",
    "type": "execution"
   },
   {
    "id": "c3fd5d4e1fad44c983b860ec5bee1e16",
    "time": "2021-01-18T17:58:16.843Z",
    "type": "completion"
   },
   {
    "code": "np.arange?",
    "id": "5319b3281e5d4bc0b7ae2c5db702c508",
    "idx": 20,
    "time": "2021-01-18T17:58:17.477Z",
    "type": "execution"
   },
   {
    "id": "5319b3281e5d4bc0b7ae2c5db702c508",
    "time": "2021-01-18T17:58:17.553Z",
    "type": "completion"
   },
   {
    "code": "q6_survey = 19846 # SOLUTION",
    "id": "4dd642f1f7de49e0af81fb21f54cba5b",
    "idx": 85,
    "time": "2021-01-18T18:01:14.258Z",
    "type": "execution"
   },
   {
    "id": "4dd642f1f7de49e0af81fb21f54cba5b",
    "time": "2021-01-18T18:01:14.347Z",
    "type": "completion"
   },
   {
    "code": "# TEST\ntype(q6_survey)",
    "id": "fc54545b87a1496486b6a77c161b576f",
    "idx": 86,
    "time": "2021-01-18T18:01:14.549Z",
    "type": "execution"
   },
   {
    "id": "fc54545b87a1496486b6a77c161b576f",
    "time": "2021-01-18T18:01:14.673Z",
    "type": "completion"
   },
   {
    "code": "# HIDDEN TEST\nq6_survey == 19846",
    "id": "0ecb32a3c28c4413a8d775cb2c930b14",
    "idx": 87,
    "time": "2021-01-18T18:01:15.524Z",
    "type": "execution"
   },
   {
    "id": "0ecb32a3c28c4413a8d775cb2c930b14",
    "time": "2021-01-18T18:01:15.665Z",
    "type": "completion"
   },
   {
    "code": "import numpy as np\nimport matplotlib\nimport matplotlib.pyplot as plt\nplt.style.use('fivethirtyeight')",
    "id": "c3fd5d4e1fad44c983b860ec5bee1e16",
    "idx": 17,
    "time": "2021-01-18T18:24:04.511Z",
    "type": "execution"
   },
   {
    "id": "c3fd5d4e1fad44c983b860ec5bee1e16",
    "time": "2021-01-18T18:24:04.624Z",
    "type": "completion"
   },
   {
    "code": "np.arange?",
    "id": "5319b3281e5d4bc0b7ae2c5db702c508",
    "idx": 20,
    "time": "2021-01-18T18:24:04.746Z",
    "type": "execution"
   },
   {
    "id": "5319b3281e5d4bc0b7ae2c5db702c508",
    "time": "2021-01-18T18:24:04.848Z",
    "type": "completion"
   },
   {
    "code": "np.linspace",
    "id": "3a561c52d70c41cd999ff23551e6e880",
    "idx": 23,
    "time": "2021-01-18T18:24:04.992Z",
    "type": "execution"
   },
   {
    "id": "3a561c52d70c41cd999ff23551e6e880",
    "time": "2021-01-18T18:24:05.317Z",
    "type": "completion"
   },
   {
    "code": "p_HHHTHT = (0.8 ** 4) * (0.2 ** 2) # SOLUTION\np_HHHTHT",
    "id": "51bc2e5b0c9f475284f44ac5999727d3",
    "idx": 31,
    "time": "2021-01-18T18:24:08.966Z",
    "type": "execution"
   },
   {
    "id": "51bc2e5b0c9f475284f44ac5999727d3",
    "time": "2021-01-18T18:24:09.068Z",
    "type": "completion"
   },
   {
    "code": "# TEST\n0 <= p_HHHTHT <= 1",
    "id": "5b7940abdf7c4d868063372ba8abffd5",
    "idx": 32,
    "time": "2021-01-18T18:24:09.418Z",
    "type": "execution"
   },
   {
    "id": "5b7940abdf7c4d868063372ba8abffd5",
    "time": "2021-01-18T18:24:09.518Z",
    "type": "completion"
   },
   {
    "code": "# HIDDEN TEST\nnp.isclose(p_HHHTHT, (0.8 ** 4) * (0.2 ** 2))",
    "id": "9af1a16b58af46d180c1631b89b3a4e3",
    "idx": 33,
    "time": "2021-01-18T18:24:09.589Z",
    "type": "execution"
   },
   {
    "id": "9af1a16b58af46d180c1631b89b3a4e3",
    "time": "2021-01-18T18:24:09.692Z",
    "type": "completion"
   },
   {
    "code": "p = np.linspace(0, 1, 100) # SOLUTION\nf = (p**4) * ((1-p)**6) # SOLUTION\nplt.plot(p, f, lw=2, color='darkblue') # lw is line width\nplt.plot([0, 1], [0, 0], lw=1, color='grey')    # horizontal axis\nplt.xlabel('$p$')\nplt.ylabel('$f(p)$', rotation=0)\nplt.title('Probability of Observing TTTHTHHTTH');",
    "id": "866b6aec98be4b8b81b2b27f4f2b634a",
    "idx": 35,
    "time": "2021-01-18T18:24:09.968Z",
    "type": "execution"
   },
   {
    "id": "866b6aec98be4b8b81b2b27f4f2b634a",
    "time": "2021-01-18T18:24:10.520Z",
    "type": "completion"
   },
   {
    "code": "q4bi = 9 # SOLUTION\nq4bii = 5 # SOLUTION\nq4bi, q4bii",
    "id": "7ea62778b422489f872af1b6f6f7bd9f",
    "idx": 46,
    "time": "2021-01-18T18:24:12.238Z",
    "type": "execution"
   },
   {
    "id": "7ea62778b422489f872af1b6f6f7bd9f",
    "time": "2021-01-18T18:24:12.337Z",
    "type": "completion"
   },
   {
    "code": "# TEST\n0 <= q4bi <= 9",
    "id": "b3c880116aac49fca293cc77b57bf1c2",
    "idx": 47,
    "time": "2021-01-18T18:24:12.563Z",
    "type": "execution"
   },
   {
    "id": "b3c880116aac49fca293cc77b57bf1c2",
    "time": "2021-01-18T18:24:12.652Z",
    "type": "completion"
   },
   {
    "code": "# TEST\n0 <= q4bii <= 9",
    "id": "eb2a51a8ce9b4f3baf83ed8661658772",
    "idx": 48,
    "time": "2021-01-18T18:24:12.821Z",
    "type": "execution"
   },
   {
    "id": "eb2a51a8ce9b4f3baf83ed8661658772",
    "time": "2021-01-18T18:24:12.931Z",
    "type": "completion"
   },
   {
    "code": "# HIDDEN TEST\nq4bi == 9",
    "id": "1d1e5b42d47b452788b75b3b5edf8942",
    "idx": 49,
    "time": "2021-01-18T18:24:13.003Z",
    "type": "execution"
   },
   {
    "id": "1d1e5b42d47b452788b75b3b5edf8942",
    "time": "2021-01-18T18:24:13.114Z",
    "type": "completion"
   },
   {
    "code": "# HIDDEN TEST\nq4bii == 5",
    "id": "9e7f8eace29548d5868331eb66b6bebb",
    "idx": 50,
    "time": "2021-01-18T18:24:13.181Z",
    "type": "execution"
   },
   {
    "id": "9e7f8eace29548d5868331eb66b6bebb",
    "time": "2021-01-18T18:24:13.388Z",
    "type": "completion"
   },
   {
    "code": "def no_disease_given_negative(p):\n    return (0.999*0.95) / (0.999*0.95 + 0.001*(1-p)) # SOLUTION",
    "id": "ecf63dca519e425884b9899e1ed90eff",
    "idx": 52,
    "time": "2021-01-18T18:24:13.450Z",
    "type": "execution"
   },
   {
    "id": "ecf63dca519e425884b9899e1ed90eff",
    "time": "2021-01-18T18:24:13.536Z",
    "type": "completion"
   },
   {
    "code": "# TEST\nnp.isclose(no_disease_given_negative(1), 1)",
    "id": "860fd4e524d340c7851962c9465f76a2",
    "idx": 53,
    "time": "2021-01-18T18:24:13.849Z",
    "type": "execution"
   },
   {
    "id": "860fd4e524d340c7851962c9465f76a2",
    "time": "2021-01-18T18:24:13.935Z",
    "type": "completion"
   },
   {
    "code": "# TEST\nnp.isclose(no_disease_given_negative(0), 0.998947423819799)",
    "id": "1f1faeb113bf4e57825be60e8829456d",
    "idx": 54,
    "time": "2021-01-18T18:24:14.317Z",
    "type": "execution"
   },
   {
    "id": "1f1faeb113bf4e57825be60e8829456d",
    "time": "2021-01-18T18:24:14.410Z",
    "type": "completion"
   },
   {
    "code": "# HIDDEN TEST\nnp.isclose(no_disease_given_negative(0.5), 0.9994734347848981)",
    "id": "cab11f503fc5465b8a3f4671e476168c",
    "idx": 55,
    "time": "2021-01-18T18:24:14.473Z",
    "type": "execution"
   },
   {
    "id": "cab11f503fc5465b8a3f4671e476168c",
    "time": "2021-01-18T18:24:14.563Z",
    "type": "completion"
   },
   {
    "code": "# Use this cell for experimenting if you wish, but your answer should be written in the cell above.",
    "id": "769d3712f5934cb7892c98906f2a7703",
    "idx": 58,
    "time": "2021-01-18T18:24:15.116Z",
    "type": "execution"
   },
   {
    "id": "769d3712f5934cb7892c98906f2a7703",
    "time": "2021-01-18T18:24:15.178Z",
    "type": "completion"
   },
   {
    "code": "faces = range(1, 7)\nplt.hist(faces)",
    "id": "359284ba9f074abb85c9ea1a71841efa",
    "idx": 63,
    "time": "2021-01-18T18:24:16.620Z",
    "type": "execution"
   },
   {
    "id": "359284ba9f074abb85c9ea1a71841efa",
    "time": "2021-01-18T18:24:16.876Z",
    "type": "completion"
   },
   {
    "code": "unit_bins = np.arange(0.5, 6.6)\nplt.hist(faces, bins = unit_bins)",
    "id": "fb27d83a11d346068495055ef8d19a89",
    "idx": 65,
    "time": "2021-01-18T18:24:17.487Z",
    "type": "execution"
   },
   {
    "id": "fb27d83a11d346068495055ef8d19a89",
    "time": "2021-01-18T18:24:17.660Z",
    "type": "completion"
   },
   {
    "code": "plt.hist(faces, bins = unit_bins, ec='white')",
    "id": "c601980460bb4ca8813c4a62e2871a08",
    "idx": 67,
    "time": "2021-01-18T18:24:18.365Z",
    "type": "execution"
   },
   {
    "id": "c601980460bb4ca8813c4a62e2871a08",
    "time": "2021-01-18T18:24:18.578Z",
    "type": "completion"
   },
   {
    "code": "plt.hist(faces, bins = unit_bins, ec='white', density=True)",
    "id": "31ea38f0ebdb459c85ad6c6754583918",
    "idx": 69,
    "time": "2021-01-18T18:24:19.166Z",
    "type": "execution"
   },
   {
    "id": "31ea38f0ebdb459c85ad6c6754583918",
    "time": "2021-01-18T18:24:19.401Z",
    "type": "completion"
   },
   {
    "code": "def integer_distribution(x):\n    # BEGIN SOLUTION\n    unit_bins = np.arange(min(x)-0.5, max(x)+0.6)\n    plt.hist(x, bins = unit_bins, ec = 'white', density=True)\n    # END SOLUTION\ninteger_distribution(faces)",
    "id": "d65ac849435249288b73e9a4140a8d38",
    "idx": 72,
    "time": "2021-01-18T18:24:20.290Z",
    "type": "execution"
   },
   {
    "id": "d65ac849435249288b73e9a4140a8d38",
    "time": "2021-01-18T18:24:20.505Z",
    "type": "completion"
   },
   {
    "code": "sample = np.random.multinomial(100, [0.26, 0.74], 10)[:, 0] # SOLUTION\nsample",
    "id": "e30be1165c2f4264be848002d4e245c7",
    "idx": 74,
    "time": "2021-01-18T18:24:21.101Z",
    "type": "execution"
   },
   {
    "id": "e30be1165c2f4264be848002d4e245c7",
    "time": "2021-01-18T18:24:21.183Z",
    "type": "completion"
   },
   {
    "code": "# TEST\nall(sample <= 100)",
    "id": "22e4dac73a5d42518fdc3e08575bf5ea",
    "idx": 75,
    "time": "2021-01-18T18:24:21.458Z",
    "type": "execution"
   },
   {
    "id": "22e4dac73a5d42518fdc3e08575bf5ea",
    "time": "2021-01-18T18:24:21.545Z",
    "type": "completion"
   },
   {
    "code": "# TEST\nall(sample >= 0)",
    "id": "38fca5409aa34867824b0201231ad907",
    "idx": 76,
    "time": "2021-01-18T18:24:21.607Z",
    "type": "execution"
   },
   {
    "id": "38fca5409aa34867824b0201231ad907",
    "time": "2021-01-18T18:24:21.699Z",
    "type": "completion"
   },
   {
    "code": "# TEST\nlen(sample)",
    "id": "4f20e26fdd2c45c38d28e98169621a25",
    "idx": 77,
    "time": "2021-01-18T18:24:21.762Z",
    "type": "execution"
   },
   {
    "id": "4f20e26fdd2c45c38d28e98169621a25",
    "time": "2021-01-18T18:24:21.857Z",
    "type": "completion"
   },
   {
    "code": "simulated_counts = np.random.multinomial(100, [0.26, 0.74], 500000)[:, 0] # SOLUTION\ninteger_distribution(simulated_counts)",
    "id": "a536dc905ce14a548fdae58a00bee5f8",
    "idx": 79,
    "time": "2021-01-18T18:24:22.326Z",
    "type": "execution"
   },
   {
    "id": "a536dc905ce14a548fdae58a00bee5f8",
    "time": "2021-01-18T18:24:22.859Z",
    "type": "completion"
   },
   {
    "code": "mu = 26 # SOLUTION\nsigma = 4.4 # SOLUTION\nx = np.linspace(0, 50, 200)\nf_x = ( 1 / (((2*np.pi)**0.5)*sigma) ) * np.e**(-0.5*(((x-mu)/sigma)**2)) # SOLUTION\ninteger_distribution(simulated_counts)\n#plt.plot(...)\nplt.plot(x, f_x, lw=2); # SOLUTION NO PROMPT",
    "id": "eb4bb6b2af1b442d8984a7f3d087c773",
    "idx": 83,
    "time": "2021-01-18T18:24:24.874Z",
    "type": "execution"
   },
   {
    "id": "eb4bb6b2af1b442d8984a7f3d087c773",
    "time": "2021-01-18T18:24:25.289Z",
    "type": "completion"
   },
   {
    "code": "q6_survey = 19846 # SOLUTION",
    "id": "4dd642f1f7de49e0af81fb21f54cba5b",
    "idx": 85,
    "time": "2021-01-18T18:24:26.064Z",
    "type": "execution"
   },
   {
    "id": "4dd642f1f7de49e0af81fb21f54cba5b",
    "time": "2021-01-18T18:24:26.133Z",
    "type": "completion"
   },
   {
    "code": "# TEST\ntype(q6_survey)",
    "id": "fc54545b87a1496486b6a77c161b576f",
    "idx": 86,
    "time": "2021-01-18T18:24:26.954Z",
    "type": "execution"
   },
   {
    "id": "fc54545b87a1496486b6a77c161b576f",
    "time": "2021-01-18T18:24:27.048Z",
    "type": "completion"
   },
   {
    "code": "# HIDDEN TEST\nq6_survey == 19846",
    "id": "0ecb32a3c28c4413a8d775cb2c930b14",
    "idx": 87,
    "time": "2021-01-18T18:24:27.514Z",
    "type": "execution"
   },
   {
    "id": "0ecb32a3c28c4413a8d775cb2c930b14",
    "time": "2021-01-18T18:24:27.593Z",
    "type": "completion"
   },
   {
    "code": "import numpy as np\nimport matplotlib\nimport matplotlib.pyplot as plt\nplt.style.use('fivethirtyeight')",
    "id": "873a244ad1b943ee9f896f5fe6a1a048",
    "idx": 17,
    "time": "2021-01-18T19:35:36.966Z",
    "type": "execution"
   },
   {
    "id": "873a244ad1b943ee9f896f5fe6a1a048",
    "time": "2021-01-18T19:35:37.055Z",
    "type": "completion"
   },
   {
    "code": "np.arange?",
    "id": "0eb39182838c4e259441159625dc9beb",
    "idx": 20,
    "time": "2021-01-18T19:35:37.248Z",
    "type": "execution"
   },
   {
    "code": "np.linspace",
    "id": "fd7739b59d9c499b8dfb96918624a22b",
    "idx": 23,
    "time": "2021-01-18T19:35:37.460Z",
    "type": "execution"
   },
   {
    "id": "0eb39182838c4e259441159625dc9beb",
    "time": "2021-01-18T19:35:37.480Z",
    "type": "completion"
   },
   {
    "id": "fd7739b59d9c499b8dfb96918624a22b",
    "time": "2021-01-18T19:35:37.779Z",
    "type": "completion"
   },
   {
    "code": "q6_survey = \"central beef overview\" # SOLUTION",
    "id": "8fd8fee57b4740e49d5f8d7692617c0e",
    "idx": 85,
    "time": "2021-01-18T19:37:48.453Z",
    "type": "execution"
   },
   {
    "id": "8fd8fee57b4740e49d5f8d7692617c0e",
    "time": "2021-01-18T19:37:48.535Z",
    "type": "completion"
   },
   {
    "code": "# TEST\ntype(q6_survey)",
    "id": "ef74bf2474b647f1b9101755c64c957a",
    "idx": 86,
    "time": "2021-01-18T19:37:48.797Z",
    "type": "execution"
   },
   {
    "id": "ef74bf2474b647f1b9101755c64c957a",
    "time": "2021-01-18T19:37:48.941Z",
    "type": "completion"
   },
   {
    "code": "# HIDDEN TEST\nq6_survey == \"central beef overview\"",
    "id": "5f1a090cd69c431ab2a5c9bbb20afaa9",
    "idx": 87,
    "time": "2021-01-18T19:37:49.286Z",
    "type": "execution"
   },
   {
    "id": "5f1a090cd69c431ab2a5c9bbb20afaa9",
    "time": "2021-01-18T19:37:49.369Z",
    "type": "completion"
   },
   {
    "code": "# TEST\ntype(q6_survey)",
    "id": "ef74bf2474b647f1b9101755c64c957a",
    "idx": 86,
    "time": "2021-01-18T19:39:38.486Z",
    "type": "execution"
   },
   {
    "id": "ef74bf2474b647f1b9101755c64c957a",
    "time": "2021-01-18T19:39:38.610Z",
    "type": "completion"
   },
   {
    "code": "# HIDDEN TEST\nq6_survey == \"central beef overview\"",
    "id": "5f1a090cd69c431ab2a5c9bbb20afaa9",
    "idx": 87,
    "time": "2021-01-18T19:39:39.135Z",
    "type": "execution"
   },
   {
    "id": "5f1a090cd69c431ab2a5c9bbb20afaa9",
    "time": "2021-01-18T19:39:39.221Z",
    "type": "completion"
   },
   {
    "code": "import numpy as np\nimport matplotlib\nimport matplotlib.pyplot as plt\nplt.style.use('fivethirtyeight')",
    "id": "4869f39943234ed6872fd2458683e650",
    "idx": 17,
    "time": "2021-01-18T22:44:22.948Z",
    "type": "execution"
   },
   {
    "id": "4869f39943234ed6872fd2458683e650",
    "time": "2021-01-18T22:44:23.448Z",
    "type": "completion"
   },
   {
    "code": "np.arange?",
    "id": "18052d288c734c0e8947757681ad09b7",
    "idx": 20,
    "time": "2021-01-18T22:44:23.456Z",
    "type": "execution"
   },
   {
    "id": "18052d288c734c0e8947757681ad09b7",
    "time": "2021-01-18T22:44:23.518Z",
    "type": "completion"
   },
   {
    "code": "np.linspace",
    "id": "cf57893edb0340c8affbce33e9cc4432",
    "idx": 23,
    "time": "2021-01-18T22:44:27.148Z",
    "type": "execution"
   },
   {
    "id": "cf57893edb0340c8affbce33e9cc4432",
    "time": "2021-01-18T22:44:27.243Z",
    "type": "completion"
   },
   {
    "code": "p_HHHTHT = (0.8 ** 4) * (0.2 ** 2) # SOLUTION\np_HHHTHT",
    "id": "7d31de606b2a43c8bc426b019300703d",
    "idx": 31,
    "time": "2021-01-18T22:44:33.086Z",
    "type": "execution"
   },
   {
    "id": "7d31de606b2a43c8bc426b019300703d",
    "time": "2021-01-18T22:44:33.179Z",
    "type": "completion"
   },
   {
    "code": "# TEST\n0 <= p_HHHTHT <= 1",
    "id": "d6141524a8ca4a219967e3367840ac09",
    "idx": 32,
    "time": "2021-01-18T22:44:33.326Z",
    "type": "execution"
   },
   {
    "id": "d6141524a8ca4a219967e3367840ac09",
    "time": "2021-01-18T22:44:33.414Z",
    "type": "completion"
   },
   {
    "code": "# HIDDEN TEST\nnp.isclose(p_HHHTHT, (0.8 ** 4) * (0.2 ** 2))",
    "id": "53d727754be24112a829ac097a4571de",
    "idx": 33,
    "time": "2021-01-18T22:44:33.561Z",
    "type": "execution"
   },
   {
    "id": "53d727754be24112a829ac097a4571de",
    "time": "2021-01-18T22:44:33.663Z",
    "type": "completion"
   },
   {
    "code": "p = np.linspace(0, 1, 100) # SOLUTION\nf = (p**4) * ((1-p)**6) # SOLUTION\nplt.plot(p, f, lw=2, color='darkblue') # lw is line width\nplt.plot([0, 1], [0, 0], lw=1, color='grey')    # horizontal axis\nplt.xlabel('$p$')\nplt.ylabel('$f(p)$', rotation=0)\nplt.title('Probability of Observing TTTHTHHTTH');",
    "id": "777484a3966f48f69096cafa02d4bcba",
    "idx": 35,
    "time": "2021-01-18T22:44:34.166Z",
    "type": "execution"
   },
   {
    "id": "777484a3966f48f69096cafa02d4bcba",
    "time": "2021-01-18T22:44:34.736Z",
    "type": "completion"
   },
   {
    "code": "# HIDDEN TEST\nq6_survey == \"central beef overview\"",
    "id": "5a5154782dd544e084fdbe2d56e51b6b",
    "idx": 87,
    "time": "2021-01-18T22:47:36.794Z",
    "type": "execution"
   },
   {
    "id": "5a5154782dd544e084fdbe2d56e51b6b",
    "time": "2021-01-18T22:47:36.913Z",
    "type": "completion"
   },
   {
    "code": "q6_survey = \"central beef overview\" # SOLUTION",
    "id": "00259c3932b74929b97bf322f893c9ae",
    "idx": 85,
    "time": "2021-01-18T22:47:40.915Z",
    "type": "execution"
   },
   {
    "id": "00259c3932b74929b97bf322f893c9ae",
    "time": "2021-01-18T22:47:40.988Z",
    "type": "completion"
   },
   {
    "code": "# TEST\ntype(q6_survey)",
    "id": "e556c6ea551e4fd78701afbad257293f",
    "idx": 86,
    "time": "2021-01-18T22:47:41.128Z",
    "type": "execution"
   },
   {
    "id": "e556c6ea551e4fd78701afbad257293f",
    "time": "2021-01-18T22:47:41.228Z",
    "type": "completion"
   },
   {
    "code": "# HIDDEN TEST\nq6_survey == \"central beef overview\"",
    "id": "5a5154782dd544e084fdbe2d56e51b6b",
    "idx": 87,
    "time": "2021-01-18T22:47:41.399Z",
    "type": "execution"
   },
   {
    "id": "5a5154782dd544e084fdbe2d56e51b6b",
    "time": "2021-01-18T22:47:41.488Z",
    "type": "completion"
   },
   {
    "code": "# TEST\nassert 0 <= p_HHHTHT <= 1\nassert p_HHHTHT < 0.5",
    "id": "44558b7cbf34424a9dc910eb9eed7ad8",
    "idx": 33,
    "time": "2021-01-18T23:19:34.236Z",
    "type": "execution"
   },
   {
    "id": "44558b7cbf34424a9dc910eb9eed7ad8",
    "time": "2021-01-18T23:19:34.442Z",
    "type": "completion"
   },
   {
    "code": "q6_survey = \"central beef overview\" # SOLUTION",
    "id": "ff6a90641c1844c59a5f39fb6dcbdcc9",
    "idx": 85,
    "time": "2021-01-18T23:28:29.516Z",
    "type": "execution"
   },
   {
    "id": "ff6a90641c1844c59a5f39fb6dcbdcc9",
    "time": "2021-01-18T23:28:29.603Z",
    "type": "completion"
   },
   {
    "code": "# TEST\ntype(q6_survey)",
    "id": "45556a0a527e45748f3c1f85c5185ad3",
    "idx": 86,
    "time": "2021-01-18T23:28:29.840Z",
    "type": "execution"
   },
   {
    "id": "45556a0a527e45748f3c1f85c5185ad3",
    "time": "2021-01-18T23:28:30.060Z",
    "type": "completion"
   },
   {
    "code": "# TEST\ntype(q6_survey) == str",
    "id": "45556a0a527e45748f3c1f85c5185ad3",
    "idx": 86,
    "time": "2021-01-18T23:29:14.423Z",
    "type": "execution"
   },
   {
    "id": "45556a0a527e45748f3c1f85c5185ad3",
    "time": "2021-01-18T23:29:14.520Z",
    "type": "completion"
   },
   {
    "code": "import numpy as np\nimport matplotlib\nimport matplotlib.pyplot as plt\nplt.style.use('fivethirtyeight')",
    "id": "56447ed28adb49afa21e0654d1564c49",
    "idx": 17,
    "time": "2021-01-21T04:15:56.419Z",
    "type": "execution"
   },
   {
    "id": "56447ed28adb49afa21e0654d1564c49",
    "time": "2021-01-21T04:15:56.850Z",
    "type": "completion"
   },
   {
    "code": "np.arange?",
    "id": "d5e5c41648f7416f852d9b57048a05e6",
    "idx": 20,
    "time": "2021-01-21T04:15:57.076Z",
    "type": "execution"
   },
   {
    "id": "d5e5c41648f7416f852d9b57048a05e6",
    "time": "2021-01-21T04:15:57.162Z",
    "type": "completion"
   },
   {
    "code": "np.linspace",
    "id": "48e559410bf54708b486e93b37b36a48",
    "idx": 23,
    "time": "2021-01-21T04:16:00.975Z",
    "type": "execution"
   },
   {
    "id": "48e559410bf54708b486e93b37b36a48",
    "time": "2021-01-21T04:16:01.061Z",
    "type": "completion"
   },
   {
    "code": "p_HHHTHT = (0.8 ** 4) * (0.2 ** 2) # SOLUTION\np_HHHTHT",
    "id": "e6a094319f28470e8aeb8fc2a5c6826b",
    "idx": 31,
    "time": "2021-01-21T04:16:05.063Z",
    "type": "execution"
   },
   {
    "id": "e6a094319f28470e8aeb8fc2a5c6826b",
    "time": "2021-01-21T04:16:05.200Z",
    "type": "completion"
   },
   {
    "code": "# TEST\n0 <= p_HHHTHT <= 1",
    "id": "88f56806abb349a2b1457e369bd121de",
    "idx": 32,
    "time": "2021-01-21T04:16:25.738Z",
    "type": "execution"
   },
   {
    "id": "88f56806abb349a2b1457e369bd121de",
    "time": "2021-01-21T04:16:25.834Z",
    "type": "completion"
   },
   {
    "code": "# HIDDEN TEST\nnp.isclose(p_HHHTHT, (0.8 ** 4) * (0.2 ** 2))",
    "id": "db6d2d8951f743eab0f2e9e438cc90c0",
    "idx": 33,
    "time": "2021-01-21T04:16:26.478Z",
    "type": "execution"
   },
   {
    "id": "db6d2d8951f743eab0f2e9e438cc90c0",
    "time": "2021-01-21T04:16:26.587Z",
    "type": "completion"
   },
   {
    "code": "p = np.linspace(0, 1, 100) # SOLUTION\nf = (p**4) * ((1-p)**6) # SOLUTION\nplt.plot(p, f, lw=2, color='darkblue') # lw is line width\nplt.plot([0, 1], [0, 0], lw=1, color='grey')    # horizontal axis\nplt.xlabel('$p$')\nplt.ylabel('$f(p)$', rotation=0)\nplt.title('Probability of Observing TTTHTHHTTH');",
    "id": "e7d3d3b8cc424fb8834dfb3c7b800abc",
    "idx": 35,
    "time": "2021-01-21T04:16:37.075Z",
    "type": "execution"
   },
   {
    "id": "e7d3d3b8cc424fb8834dfb3c7b800abc",
    "time": "2021-01-21T04:16:37.612Z",
    "type": "completion"
   },
   {
    "code": "q4bi = 9 # SOLUTION\nq4bii = 5 # SOLUTION\nq4bi, q4bii",
    "id": "5f276cc9992c4a2e947fb706f90ff70f",
    "idx": 46,
    "time": "2021-01-21T04:17:47.153Z",
    "type": "execution"
   },
   {
    "id": "5f276cc9992c4a2e947fb706f90ff70f",
    "time": "2021-01-21T04:17:47.288Z",
    "type": "completion"
   },
   {
    "code": "# TEST\n0 <= q4bi <= 9",
    "id": "b400662d508b42b9846005eaf7039ca5",
    "idx": 47,
    "time": "2021-01-21T04:17:47.744Z",
    "type": "execution"
   },
   {
    "id": "b400662d508b42b9846005eaf7039ca5",
    "time": "2021-01-21T04:17:47.868Z",
    "type": "completion"
   },
   {
    "code": "# TEST\n0 <= q4bii <= 9",
    "id": "30beecf9b6f949f69d655d99d36cff83",
    "idx": 48,
    "time": "2021-01-21T04:17:48.171Z",
    "type": "execution"
   },
   {
    "id": "30beecf9b6f949f69d655d99d36cff83",
    "time": "2021-01-21T04:17:48.269Z",
    "type": "completion"
   },
   {
    "code": "# HIDDEN TEST\nq4bi == 9",
    "id": "7fd39d94f54e4dc294ac90306c410583",
    "idx": 49,
    "time": "2021-01-21T04:17:48.668Z",
    "type": "execution"
   },
   {
    "id": "7fd39d94f54e4dc294ac90306c410583",
    "time": "2021-01-21T04:17:48.782Z",
    "type": "completion"
   },
   {
    "code": "# HIDDEN TEST\nq4bii == 5",
    "id": "88bdc0d5572a48478b50ff6b1e16d7ae",
    "idx": 50,
    "time": "2021-01-21T04:17:49.127Z",
    "type": "execution"
   },
   {
    "id": "88bdc0d5572a48478b50ff6b1e16d7ae",
    "time": "2021-01-21T04:17:49.227Z",
    "type": "completion"
   },
   {
    "code": "def no_disease_given_negative(p):\n    return (0.999*0.95) / (0.999*0.95 + 0.001*(1-p)) # SOLUTION",
    "id": "06716599588c4a0d879a9c180c258a5a",
    "idx": 52,
    "time": "2021-01-21T04:17:56.268Z",
    "type": "execution"
   },
   {
    "id": "06716599588c4a0d879a9c180c258a5a",
    "time": "2021-01-21T04:17:56.356Z",
    "type": "completion"
   },
   {
    "code": "# TEST\nassert np.isclose(no_disease_given_negative(1), 1)\nnp.isclose(no_disease_given_negative(0), 0.998947423819799)",
    "id": "6c457a6e94b34d4d8157fb16c77d3b89",
    "idx": 53,
    "time": "2021-01-21T04:17:56.494Z",
    "type": "execution"
   },
   {
    "id": "6c457a6e94b34d4d8157fb16c77d3b89",
    "time": "2021-01-21T04:17:56.617Z",
    "type": "completion"
   },
   {
    "code": "# HIDDEN TEST\nnp.isclose(no_disease_given_negative(0.5), 0.9994734347848981)",
    "id": "ac0cf736acee4d398eeed601e4b7e0fc",
    "idx": 54,
    "time": "2021-01-21T04:17:56.703Z",
    "type": "execution"
   },
   {
    "code": "# Use this cell for experimenting if you wish, but your answer should be written in the cell above.",
    "id": "f95700ab172b4b2f8433971e384f9128",
    "idx": 57,
    "time": "2021-01-21T04:17:57.091Z",
    "type": "execution"
   },
   {
    "id": "ac0cf736acee4d398eeed601e4b7e0fc",
    "time": "2021-01-21T04:17:57.118Z",
    "type": "completion"
   },
   {
    "id": "f95700ab172b4b2f8433971e384f9128",
    "time": "2021-01-21T04:17:57.199Z",
    "type": "completion"
   },
   {
    "code": "faces = range(1, 7)\nplt.hist(faces)",
    "id": "98cbdefc72f4453e8bd4693feef47692",
    "idx": 62,
    "time": "2021-01-21T04:17:58.018Z",
    "type": "execution"
   },
   {
    "id": "98cbdefc72f4453e8bd4693feef47692",
    "time": "2021-01-21T04:17:58.242Z",
    "type": "completion"
   },
   {
    "code": "unit_bins = np.arange(0.5, 6.6)\nplt.hist(faces, bins = unit_bins)",
    "id": "c5a2ab284c4847fe8a935298aa982663",
    "idx": 64,
    "time": "2021-01-21T04:17:58.510Z",
    "type": "execution"
   },
   {
    "id": "c5a2ab284c4847fe8a935298aa982663",
    "time": "2021-01-21T04:17:58.792Z",
    "type": "completion"
   },
   {
    "code": "plt.hist(faces, bins = unit_bins, ec='white')",
    "id": "a7fa88ba9d1845f9940bea58f8b9646c",
    "idx": 66,
    "time": "2021-01-21T04:17:58.849Z",
    "type": "execution"
   },
   {
    "id": "a7fa88ba9d1845f9940bea58f8b9646c",
    "time": "2021-01-21T04:17:59.146Z",
    "type": "completion"
   },
   {
    "code": "plt.hist(faces, bins = unit_bins, ec='white', density=True)",
    "id": "72a7ec8e5c7549389c7ab3acd0181323",
    "idx": 68,
    "time": "2021-01-21T04:17:59.186Z",
    "type": "execution"
   },
   {
    "id": "72a7ec8e5c7549389c7ab3acd0181323",
    "time": "2021-01-21T04:17:59.444Z",
    "type": "completion"
   },
   {
    "code": "def integer_distribution(x):\n    # BEGIN SOLUTION\n    unit_bins = np.arange(min(x)-0.5, max(x)+0.6)\n    plt.hist(x, bins = unit_bins, ec = 'white', density=True)\n    # END SOLUTION\ninteger_distribution(faces)",
    "id": "38dfa5a2e3fc4085934a632f46686a6a",
    "idx": 71,
    "time": "2021-01-21T04:17:59.939Z",
    "type": "execution"
   },
   {
    "code": "sample = np.random.multinomial(100, [0.26, 0.74], 10)[:, 0] # SOLUTION\nsample",
    "id": "fa672982257b4047ba605244afb07067",
    "idx": 73,
    "time": "2021-01-21T04:18:00.122Z",
    "type": "execution"
   },
   {
    "code": "# TEST\nall(sample <= 100)",
    "id": "c41744a9119d48fc8c7b165091b46e71",
    "idx": 74,
    "time": "2021-01-21T04:18:00.177Z",
    "type": "execution"
   },
   {
    "code": "# TEST\nall(sample >= 0)",
    "id": "7a861e3f13674e8498f4457e2d222d96",
    "idx": 75,
    "time": "2021-01-21T04:18:00.269Z",
    "type": "execution"
   },
   {
    "id": "38dfa5a2e3fc4085934a632f46686a6a",
    "time": "2021-01-21T04:18:00.379Z",
    "type": "completion"
   },
   {
    "id": "fa672982257b4047ba605244afb07067",
    "time": "2021-01-21T04:18:00.385Z",
    "type": "completion"
   },
   {
    "id": "c41744a9119d48fc8c7b165091b46e71",
    "time": "2021-01-21T04:18:00.390Z",
    "type": "completion"
   },
   {
    "id": "7a861e3f13674e8498f4457e2d222d96",
    "time": "2021-01-21T04:18:00.396Z",
    "type": "completion"
   },
   {
    "code": "# TEST\nlen(sample)",
    "id": "17c360b83772439c8962e0874fad24a6",
    "idx": 76,
    "time": "2021-01-21T04:18:04.212Z",
    "type": "execution"
   },
   {
    "id": "17c360b83772439c8962e0874fad24a6",
    "time": "2021-01-21T04:18:04.304Z",
    "type": "completion"
   },
   {
    "code": "simulated_counts = np.random.multinomial(100, [0.26, 0.74], 500000)[:, 0] # SOLUTION\ninteger_distribution(simulated_counts)",
    "id": "bff8980c5d5b4085852b91b6e3cbb907",
    "idx": 78,
    "time": "2021-01-21T04:18:11.836Z",
    "type": "execution"
   },
   {
    "id": "bff8980c5d5b4085852b91b6e3cbb907",
    "time": "2021-01-21T04:18:12.406Z",
    "type": "completion"
   },
   {
    "code": "mu = 26 # SOLUTION\nsigma = 4.4 # SOLUTION\nx = np.linspace(0, 50, 200)\nf_x = ( 1 / (((2*np.pi)**0.5)*sigma) ) * np.e**(-0.5*(((x-mu)/sigma)**2)) # SOLUTION\ninteger_distribution(simulated_counts)\n#plt.plot(...)\nplt.plot(x, f_x, lw=2); # SOLUTION NO PROMPT",
    "id": "71998222f60341ebaeabebe68c332609",
    "idx": 82,
    "time": "2021-01-21T04:18:12.966Z",
    "type": "execution"
   },
   {
    "id": "71998222f60341ebaeabebe68c332609",
    "time": "2021-01-21T04:18:13.396Z",
    "type": "completion"
   },
   {
    "code": "q6_survey = \"central beef overview\" # SOLUTION",
    "id": "a1dafc99350f4b8d827bbd928552655d",
    "idx": 84,
    "time": "2021-01-21T04:18:14.642Z",
    "type": "execution"
   },
   {
    "id": "a1dafc99350f4b8d827bbd928552655d",
    "time": "2021-01-21T04:18:14.717Z",
    "type": "completion"
   },
   {
    "code": "# TEST\ntype(q6_survey) == str",
    "id": "954db2fb48534ed6a54c1f8fb14fbb74",
    "idx": 85,
    "time": "2021-01-21T04:18:15.490Z",
    "type": "execution"
   },
   {
    "id": "954db2fb48534ed6a54c1f8fb14fbb74",
    "time": "2021-01-21T04:18:15.604Z",
    "type": "completion"
   },
   {
    "code": "# HIDDEN TEST\nq6_survey == \"central beef overview\"",
    "id": "9fa56768c50b4e6890ec0eaaf2cf9bf5",
    "idx": 86,
    "time": "2021-01-21T04:18:15.746Z",
    "type": "execution"
   },
   {
    "id": "9fa56768c50b4e6890ec0eaaf2cf9bf5",
    "time": "2021-01-21T04:18:15.956Z",
    "type": "completion"
   },
   {
    "code": "# TEST\nlen(sample) == 10",
    "id": "87a4cc2362414b1bb6024edb5e903f0f",
    "idx": 76,
    "time": "2021-01-21T05:32:19.194Z",
    "type": "execution"
   },
   {
    "id": "87a4cc2362414b1bb6024edb5e903f0f",
    "time": "2021-01-21T05:32:19.363Z",
    "type": "completion"
   },
   {
    "code": "import numpy as np\nimport matplotlib\nimport matplotlib.pyplot as plt\nplt.style.use('fivethirtyeight')",
    "id": "9c01c83f3de44de880a352fb0917d8b5",
    "idx": 17,
    "time": "2021-01-21T05:32:40.385Z",
    "type": "execution"
   },
   {
    "code": "np.arange?",
    "id": "ef37256319f947b683ba32caf6316df8",
    "idx": 20,
    "time": "2021-01-21T05:32:40.627Z",
    "type": "execution"
   },
   {
    "id": "9c01c83f3de44de880a352fb0917d8b5",
    "time": "2021-01-21T05:32:40.766Z",
    "type": "completion"
   },
   {
    "id": "ef37256319f947b683ba32caf6316df8",
    "time": "2021-01-21T05:32:40.787Z",
    "type": "completion"
   },
   {
    "code": "np.linspace",
    "id": "ce144a05007d439186ca05c700a788e1",
    "idx": 23,
    "time": "2021-01-21T05:32:40.911Z",
    "type": "execution"
   },
   {
    "id": "ce144a05007d439186ca05c700a788e1",
    "time": "2021-01-21T05:32:41.268Z",
    "type": "completion"
   },
   {
    "code": "p_HHHTHT = (0.8 ** 4) * (0.2 ** 2) # SOLUTION\np_HHHTHT",
    "id": "b8566a1f824644bca8e4e38b1e2f83c2",
    "idx": 31,
    "time": "2021-01-21T05:32:41.547Z",
    "type": "execution"
   },
   {
    "code": "# TEST\n0 <= p_HHHTHT <= 1",
    "id": "3108c605a29e4fff9534911caceb06c1",
    "idx": 32,
    "time": "2021-01-21T05:32:41.646Z",
    "type": "execution"
   },
   {
    "code": "# HIDDEN TEST\nnp.isclose(p_HHHTHT, (0.8 ** 4) * (0.2 ** 2))",
    "id": "82a4d7d50c134d75bacc5bfdabd7e123",
    "idx": 33,
    "time": "2021-01-21T05:32:41.711Z",
    "type": "execution"
   },
   {
    "id": "b8566a1f824644bca8e4e38b1e2f83c2",
    "time": "2021-01-21T05:32:41.859Z",
    "type": "completion"
   },
   {
    "id": "3108c605a29e4fff9534911caceb06c1",
    "time": "2021-01-21T05:32:41.862Z",
    "type": "completion"
   },
   {
    "id": "82a4d7d50c134d75bacc5bfdabd7e123",
    "time": "2021-01-21T05:32:41.865Z",
    "type": "completion"
   },
   {
    "code": "p = np.linspace(0, 1, 100) # SOLUTION\nf = (p**4) * ((1-p)**6) # SOLUTION\nplt.plot(p, f, lw=2, color='darkblue') # lw is line width\nplt.plot([0, 1], [0, 0], lw=1, color='grey')    # horizontal axis\nplt.xlabel('$p$')\nplt.ylabel('$f(p)$', rotation=0)\nplt.title('Probability of Observing TTTHTHHTTH');",
    "id": "b6daefb56d80468d8aa6a986a4da9669",
    "idx": 35,
    "time": "2021-01-21T05:32:44.157Z",
    "type": "execution"
   },
   {
    "id": "b6daefb56d80468d8aa6a986a4da9669",
    "time": "2021-01-21T05:32:44.689Z",
    "type": "completion"
   },
   {
    "code": "q4bi = 9 # SOLUTION\nq4bii = 5 # SOLUTION\nq4bi, q4bii",
    "id": "f3cfd73f32a740b089af19ca66a1a18e",
    "idx": 46,
    "time": "2021-01-21T05:32:45.728Z",
    "type": "execution"
   },
   {
    "code": "# TEST\n0 <= q4bi <= 9",
    "id": "4680bb9da04e43a685dffd2d5c891530",
    "idx": 47,
    "time": "2021-01-21T05:32:45.788Z",
    "type": "execution"
   },
   {
    "code": "# TEST\n0 <= q4bii <= 9",
    "id": "dc523b5a18b0436f80a227d1ccc3848f",
    "idx": 48,
    "time": "2021-01-21T05:32:45.876Z",
    "type": "execution"
   },
   {
    "code": "# HIDDEN TEST\nq4bi == 9",
    "id": "814012f4893f483183173e55bad89c6a",
    "idx": 49,
    "time": "2021-01-21T05:32:45.994Z",
    "type": "execution"
   },
   {
    "code": "# HIDDEN TEST\nq4bii == 5",
    "id": "468e6b98f11c4030b05ca8153266afbc",
    "idx": 50,
    "time": "2021-01-21T05:32:46.048Z",
    "type": "execution"
   },
   {
    "id": "f3cfd73f32a740b089af19ca66a1a18e",
    "time": "2021-01-21T05:32:46.071Z",
    "type": "completion"
   },
   {
    "id": "4680bb9da04e43a685dffd2d5c891530",
    "time": "2021-01-21T05:32:46.073Z",
    "type": "completion"
   },
   {
    "id": "dc523b5a18b0436f80a227d1ccc3848f",
    "time": "2021-01-21T05:32:46.076Z",
    "type": "completion"
   },
   {
    "id": "814012f4893f483183173e55bad89c6a",
    "time": "2021-01-21T05:32:46.184Z",
    "type": "completion"
   },
   {
    "code": "def no_disease_given_negative(p):\n    return (0.999*0.95) / (0.999*0.95 + 0.001*(1-p)) # SOLUTION",
    "id": "3804bee99889429b8e1ea5cd4dfb0ec0",
    "idx": 52,
    "time": "2021-01-21T05:32:46.241Z",
    "type": "execution"
   },
   {
    "code": "# TEST\nassert np.isclose(no_disease_given_negative(1), 1)\nnp.isclose(no_disease_given_negative(0), 0.998947423819799)",
    "id": "b724323c02be43868b3d738a59e236b9",
    "idx": 53,
    "time": "2021-01-21T05:32:46.298Z",
    "type": "execution"
   },
   {
    "code": "# HIDDEN TEST\nnp.isclose(no_disease_given_negative(0.5), 0.9994734347848981)",
    "id": "b4d0daf91ef3428c8d3c7cb3719521c8",
    "idx": 54,
    "time": "2021-01-21T05:32:46.383Z",
    "type": "execution"
   },
   {
    "id": "468e6b98f11c4030b05ca8153266afbc",
    "time": "2021-01-21T05:32:46.414Z",
    "type": "completion"
   },
   {
    "id": "3804bee99889429b8e1ea5cd4dfb0ec0",
    "time": "2021-01-21T05:32:46.498Z",
    "type": "completion"
   },
   {
    "id": "b724323c02be43868b3d738a59e236b9",
    "time": "2021-01-21T05:32:46.500Z",
    "type": "completion"
   },
   {
    "id": "b4d0daf91ef3428c8d3c7cb3719521c8",
    "time": "2021-01-21T05:32:46.616Z",
    "type": "completion"
   },
   {
    "code": "# Use this cell for experimenting if you wish, but your answer should be written in the cell above.",
    "id": "fe17f6369f764bdc8f9976bbdc4d84c4",
    "idx": 57,
    "time": "2021-01-21T05:32:46.626Z",
    "type": "execution"
   },
   {
    "id": "fe17f6369f764bdc8f9976bbdc4d84c4",
    "time": "2021-01-21T05:32:46.764Z",
    "type": "completion"
   },
   {
    "code": "faces = range(1, 7)\nplt.hist(faces)",
    "id": "2f332608b6da4707859b1d318c49ee9a",
    "idx": 62,
    "time": "2021-01-21T05:32:47.052Z",
    "type": "execution"
   },
   {
    "code": "unit_bins = np.arange(0.5, 6.6)\nplt.hist(faces, bins = unit_bins)",
    "id": "3092f6bb1b8640f7a6f84e17a6e0b0f6",
    "idx": 64,
    "time": "2021-01-21T05:32:47.227Z",
    "type": "execution"
   },
   {
    "id": "2f332608b6da4707859b1d318c49ee9a",
    "time": "2021-01-21T05:32:47.366Z",
    "type": "completion"
   },
   {
    "code": "plt.hist(faces, bins = unit_bins, ec='white')",
    "id": "1ccd313fa103448186744aebc887a26f",
    "idx": 66,
    "time": "2021-01-21T05:32:47.426Z",
    "type": "execution"
   },
   {
    "code": "plt.hist(faces, bins = unit_bins, ec='white', density=True)",
    "id": "27b9f30ceeca416aac68f40fdbcf5269",
    "idx": 68,
    "time": "2021-01-21T05:32:47.564Z",
    "type": "execution"
   },
   {
    "id": "3092f6bb1b8640f7a6f84e17a6e0b0f6",
    "time": "2021-01-21T05:32:47.593Z",
    "type": "completion"
   },
   {
    "id": "1ccd313fa103448186744aebc887a26f",
    "time": "2021-01-21T05:32:47.699Z",
    "type": "completion"
   },
   {
    "code": "def integer_distribution(x):\n    # BEGIN SOLUTION\n    unit_bins = np.arange(min(x)-0.5, max(x)+0.6)\n    plt.hist(x, bins = unit_bins, ec = 'white', density=True)\n    # END SOLUTION\ninteger_distribution(faces)",
    "id": "07f840a3c4d244aaaffdc86d3cdb5b05",
    "idx": 71,
    "time": "2021-01-21T05:32:47.813Z",
    "type": "execution"
   },
   {
    "id": "27b9f30ceeca416aac68f40fdbcf5269",
    "time": "2021-01-21T05:32:47.951Z",
    "type": "completion"
   },
   {
    "id": "07f840a3c4d244aaaffdc86d3cdb5b05",
    "time": "2021-01-21T05:32:48.042Z",
    "type": "completion"
   },
   {
    "code": "sample = np.random.multinomial(100, [0.26, 0.74], 10)[:, 0] # SOLUTION\nsample",
    "id": "c16429d7f24e400ebce9b70c38e55875",
    "idx": 73,
    "time": "2021-01-21T05:32:48.426Z",
    "type": "execution"
   },
   {
    "id": "c16429d7f24e400ebce9b70c38e55875",
    "time": "2021-01-21T05:32:48.530Z",
    "type": "completion"
   },
   {
    "code": "# TEST\nassert all(sample <= 100)\nall(sample >= 0)",
    "id": "5e12a7dd453048559cd2fe5a1bc70e9c",
    "idx": 74,
    "time": "2021-01-21T05:32:48.590Z",
    "type": "execution"
   },
   {
    "id": "5e12a7dd453048559cd2fe5a1bc70e9c",
    "time": "2021-01-21T05:32:48.683Z",
    "type": "completion"
   },
   {
    "code": "# TEST\n",
    "id": "ff24b6b05bf4475ab8c6b757c874ef36",
    "idx": 75,
    "time": "2021-01-21T05:32:48.744Z",
    "type": "execution"
   },
   {
    "id": "ff24b6b05bf4475ab8c6b757c874ef36",
    "time": "2021-01-21T05:32:48.831Z",
    "type": "completion"
   },
   {
    "code": "# TEST\nlen(sample) == 10",
    "id": "87a4cc2362414b1bb6024edb5e903f0f",
    "idx": 76,
    "time": "2021-01-21T05:32:48.916Z",
    "type": "execution"
   },
   {
    "id": "87a4cc2362414b1bb6024edb5e903f0f",
    "time": "2021-01-21T05:32:49.010Z",
    "type": "completion"
   },
   {
    "code": "# TEST\nlen(sample) == 10",
    "id": "87a4cc2362414b1bb6024edb5e903f0f",
    "idx": 75,
    "time": "2021-01-21T05:32:55.385Z",
    "type": "execution"
   },
   {
    "id": "87a4cc2362414b1bb6024edb5e903f0f",
    "time": "2021-01-21T05:32:55.461Z",
    "type": "completion"
   },
   {
    "code": "simulated_counts = np.random.multinomial(100, [0.26, 0.74], 500000)[:, 0] # SOLUTION\ninteger_distribution(simulated_counts)",
    "id": "dbed81bbe8aa4f448831c82782ade77f",
    "idx": 77,
    "time": "2021-01-21T05:32:55.922Z",
    "type": "execution"
   },
   {
    "id": "dbed81bbe8aa4f448831c82782ade77f",
    "time": "2021-01-21T05:32:56.416Z",
    "type": "completion"
   },
   {
    "code": "mu = 26 # SOLUTION\nsigma = 4.4 # SOLUTION\nx = np.linspace(0, 50, 200)\nf_x = ( 1 / (((2*np.pi)**0.5)*sigma) ) * np.e**(-0.5*(((x-mu)/sigma)**2)) # SOLUTION\ninteger_distribution(simulated_counts)\n#plt.plot(...)\nplt.plot(x, f_x, lw=2); # SOLUTION NO PROMPT",
    "id": "082f0409da8c44528f2e245cae06ec02",
    "idx": 81,
    "time": "2021-01-21T05:32:57.373Z",
    "type": "execution"
   },
   {
    "id": "082f0409da8c44528f2e245cae06ec02",
    "time": "2021-01-21T05:32:57.815Z",
    "type": "completion"
   },
   {
    "code": "q6_survey = \"central beef overview\" # SOLUTION",
    "id": "bac020fff61942d89fbc3fb595e2f9f4",
    "idx": 83,
    "time": "2021-01-21T05:32:58.016Z",
    "type": "execution"
   },
   {
    "id": "bac020fff61942d89fbc3fb595e2f9f4",
    "time": "2021-01-21T05:32:58.091Z",
    "type": "completion"
   },
   {
    "code": "# TEST\ntype(q6_survey) == str",
    "id": "409c7d6ddb0c4601a1f80330d1266388",
    "idx": 84,
    "time": "2021-01-21T05:32:58.274Z",
    "type": "execution"
   },
   {
    "id": "409c7d6ddb0c4601a1f80330d1266388",
    "time": "2021-01-21T05:32:58.361Z",
    "type": "completion"
   },
   {
    "code": "# HIDDEN TEST\nq6_survey == \"central beef overview\"",
    "id": "98d283052ee040b38820632c5b7bff2c",
    "idx": 85,
    "time": "2021-01-21T05:32:58.898Z",
    "type": "execution"
   },
   {
    "id": "98d283052ee040b38820632c5b7bff2c",
    "time": "2021-01-21T05:32:59.059Z",
    "type": "completion"
   },
   {
    "code": "# Initialize Otter\nimport otter\ngrader = otter.Notebook(\"hw1.ipynb\")",
    "id": "0d35b89934fc4831b276580ceebdce63",
    "idx": 0,
    "time": "2021-01-24T13:33:49.882Z",
    "type": "execution"
   },
   {
    "id": "0d35b89934fc4831b276580ceebdce63",
    "time": "2021-01-24T13:33:51.149Z",
    "type": "completion"
   },
   {
    "code": "import numpy as np\nimport matplotlib\nimport matplotlib.pyplot as plt\nplt.style.use('fivethirtyeight')",
    "id": "e0fc967e7e644ac3801adc5cc818f2fe",
    "idx": 17,
    "time": "2021-01-24T14:07:45.648Z",
    "type": "execution"
   },
   {
    "id": "e0fc967e7e644ac3801adc5cc818f2fe",
    "time": "2021-01-24T14:07:49.046Z",
    "type": "completion"
   },
   {
    "code": "np.arange?",
    "id": "932ad3925ce34b089b348719fb791c84",
    "idx": 20,
    "time": "2021-01-24T14:08:07.727Z",
    "type": "execution"
   },
   {
    "id": "932ad3925ce34b089b348719fb791c84",
    "time": "2021-01-24T14:08:08.172Z",
    "type": "completion"
   },
   {
    "code": "import numpy as np\nimport matplotlib\nimport matplotlib.pyplot as plt\nplt.style.use('fivethirtyeight')",
    "id": "5254818d05a74e7184179f7cdc13dc1e",
    "idx": 17,
    "time": "2021-01-26T01:23:32.258Z",
    "type": "execution"
   },
   {
    "id": "5254818d05a74e7184179f7cdc13dc1e",
    "time": "2021-01-26T01:23:33.103Z",
    "type": "completion"
   },
   {
    "code": "p_HHHTHT = 0.8**4*0.2**2\np_HHHTHT",
    "id": "e573eeb6e01c44a88e8b2f1589a16ef8",
    "idx": 31,
    "time": "2021-01-26T04:48:36.336Z",
    "type": "execution"
   },
   {
    "id": "e573eeb6e01c44a88e8b2f1589a16ef8",
    "time": "2021-01-26T04:48:36.813Z",
    "type": "completion"
   },
   {
    "code": "grader.check(\"q3a\")",
    "id": "8ae23b2c11c04a1eb0af1e09c0b43a02",
    "idx": 32,
    "time": "2021-01-26T04:48:37.971Z",
    "type": "execution"
   },
   {
    "id": "8ae23b2c11c04a1eb0af1e09c0b43a02",
    "time": "2021-01-26T04:48:38.519Z",
    "type": "completion"
   },
   {
    "code": "# Initialize Otter\nimport otter\ngrader = otter.Notebook(\"hw1.ipynb\")",
    "id": "fefbf7693c5649eeb0b67a695c9f8466",
    "idx": 0,
    "time": "2021-01-26T04:48:45.835Z",
    "type": "execution"
   },
   {
    "id": "fefbf7693c5649eeb0b67a695c9f8466",
    "time": "2021-01-26T04:48:47.230Z",
    "type": "completion"
   },
   {
    "code": "p_HHHTHT = 0.8**4*0.2**2\np_HHHTHT",
    "id": "e573eeb6e01c44a88e8b2f1589a16ef8",
    "idx": 31,
    "time": "2021-01-26T04:48:54.558Z",
    "type": "execution"
   },
   {
    "id": "e573eeb6e01c44a88e8b2f1589a16ef8",
    "time": "2021-01-26T04:48:55.044Z",
    "type": "completion"
   },
   {
    "code": "grader.check(\"q3a\")",
    "id": "8ae23b2c11c04a1eb0af1e09c0b43a02",
    "idx": 32,
    "time": "2021-01-26T04:48:56.329Z",
    "type": "execution"
   },
   {
    "id": "8ae23b2c11c04a1eb0af1e09c0b43a02",
    "time": "2021-01-26T04:48:56.857Z",
    "type": "completion"
   },
   {
    "code": "p = np.arange(0,1.0001,0.0001)\nf = (1-p)**6*p**4\nplt.plot(p, f, lw=2, color='darkblue') # lw is line width\nplt.plot([0, 1], [0, 0], lw=1, color='grey')    # horizontal axis\nplt.xlabel('$p$')\nplt.ylabel('$f(p)$', rotation=0)\nplt.title('Probability of Observing TTTHTHHTTH');",
    "id": "092d1d8d14404d1488d8b8ffc9833f43",
    "idx": 34,
    "time": "2021-01-26T04:51:50.734Z",
    "type": "execution"
   },
   {
    "id": "092d1d8d14404d1488d8b8ffc9833f43",
    "time": "2021-01-26T04:51:51.282Z",
    "type": "completion"
   },
   {
    "code": "import numpy as np\nimport matplotlib\nimport matplotlib.pyplot as plt\nplt.style.use('fivethirtyeight')",
    "id": "5254818d05a74e7184179f7cdc13dc1e",
    "idx": 17,
    "time": "2021-01-26T04:51:59.596Z",
    "type": "execution"
   },
   {
    "id": "5254818d05a74e7184179f7cdc13dc1e",
    "time": "2021-01-26T04:52:00.262Z",
    "type": "completion"
   },
   {
    "code": "p = np.arange(0,1.0001,0.0001)\nf = (1-p)**6*p**4\nplt.plot(p, f, lw=2, color='darkblue') # lw is line width\nplt.plot([0, 1], [0, 0], lw=1, color='grey')    # horizontal axis\nplt.xlabel('$p$')\nplt.ylabel('$f(p)$', rotation=0)\nplt.title('Probability of Observing TTTHTHHTTH');",
    "id": "092d1d8d14404d1488d8b8ffc9833f43",
    "idx": 34,
    "time": "2021-01-26T04:52:04.826Z",
    "type": "execution"
   },
   {
    "id": "092d1d8d14404d1488d8b8ffc9833f43",
    "time": "2021-01-26T04:52:06.278Z",
    "type": "completion"
   },
   {
    "code": "# Initialize Otter\nimport otter\ngrader = otter.Notebook(\"hw1.ipynb\")",
    "id": "e37e0558663646fe8d6585fba2e506c8",
    "idx": 0,
    "time": "2021-01-26T11:48:10.350Z",
    "type": "execution"
   },
   {
    "id": "e37e0558663646fe8d6585fba2e506c8",
    "time": "2021-01-26T11:48:11.704Z",
    "type": "completion"
   },
   {
    "code": "import numpy as np\nimport matplotlib\nimport matplotlib.pyplot as plt\nplt.style.use('fivethirtyeight')",
    "id": "e21dd21574b742628f64a687afd23c71",
    "idx": 17,
    "time": "2021-01-26T11:48:25.576Z",
    "type": "execution"
   },
   {
    "id": "e21dd21574b742628f64a687afd23c71",
    "time": "2021-01-26T11:48:26.289Z",
    "type": "completion"
   },
   {
    "code": "np.arange?",
    "id": "3a9a4dc7de5a4215a92194761697b313",
    "idx": 20,
    "time": "2021-01-26T11:48:28.380Z",
    "type": "execution"
   },
   {
    "id": "3a9a4dc7de5a4215a92194761697b313",
    "time": "2021-01-26T11:48:28.871Z",
    "type": "completion"
   },
   {
    "code": "np.linspace",
    "id": "5875a1748e64442c912a229ef56754f0",
    "idx": 23,
    "time": "2021-01-26T11:48:35.512Z",
    "type": "execution"
   },
   {
    "id": "5875a1748e64442c912a229ef56754f0",
    "time": "2021-01-26T11:48:36.021Z",
    "type": "completion"
   },
   {
    "code": "p_HHHTHT = 0.8**4*0.2**2\np_HHHTHT",
    "id": "840d1ce2d6c84a36af48a1c5d2547185",
    "idx": 31,
    "time": "2021-01-26T11:48:45.496Z",
    "type": "execution"
   },
   {
    "id": "840d1ce2d6c84a36af48a1c5d2547185",
    "time": "2021-01-26T11:48:45.946Z",
    "type": "completion"
   },
   {
    "code": "grader.check(\"q3a\")",
    "id": "22a7c2fb81144230856566ac5a36e641",
    "idx": 32,
    "time": "2021-01-26T11:48:46.291Z",
    "type": "execution"
   },
   {
    "id": "22a7c2fb81144230856566ac5a36e641",
    "time": "2021-01-26T11:48:46.893Z",
    "type": "completion"
   },
   {
    "code": "p = np.arange(0,1.0001,0.0001)\nf = (1-p)**6*p**4\nplt.plot(p, f, lw=2, color='darkblue') # lw is line width\nplt.plot([0, 1], [0, 0], lw=1, color='grey')    # horizontal axis\nplt.xlabel('$p$')\nplt.ylabel('$f(p)$', rotation=0)\nplt.title('Probability of Observing TTTHTHHTTH');",
    "id": "fe7f9ede470d453b8cbad3c8b891a928",
    "idx": 34,
    "time": "2021-01-26T11:48:48.574Z",
    "type": "execution"
   },
   {
    "id": "fe7f9ede470d453b8cbad3c8b891a928",
    "time": "2021-01-26T11:48:50.111Z",
    "type": "completion"
   },
   {
    "code": "q4bi = 9\nq4bii = 5\nq4bi, q4bii",
    "id": "0bcfb9b8af1d423087c5c54e0c1ef9cd",
    "idx": 45,
    "time": "2021-01-26T12:02:24.155Z",
    "type": "execution"
   },
   {
    "id": "0bcfb9b8af1d423087c5c54e0c1ef9cd",
    "time": "2021-01-26T12:02:24.855Z",
    "type": "completion"
   },
   {
    "code": "grader.check(\"q4b\")",
    "id": "b9b9786a435b4661a9582ac77959316b",
    "idx": 46,
    "time": "2021-01-26T12:02:25.786Z",
    "type": "execution"
   },
   {
    "id": "b9b9786a435b4661a9582ac77959316b",
    "time": "2021-01-26T12:02:26.374Z",
    "type": "completion"
   },
   {
    "code": "def no_disease_given_negative(p):\n    return (0.999*0.95)/(0.999*0.95+0.001*(1-p))",
    "id": "4f5073a36adf434b85558d60cc3f7829",
    "idx": 48,
    "time": "2021-01-26T12:05:21.740Z",
    "type": "execution"
   },
   {
    "id": "4f5073a36adf434b85558d60cc3f7829",
    "time": "2021-01-26T12:05:22.195Z",
    "type": "completion"
   },
   {
    "code": "grader.check(\"q4c\")",
    "id": "ae52668483aa41159193b50407558e79",
    "idx": 49,
    "time": "2021-01-26T12:05:23.048Z",
    "type": "execution"
   },
   {
    "id": "ae52668483aa41159193b50407558e79",
    "time": "2021-01-26T12:05:23.555Z",
    "type": "completion"
   },
   {
    "code": "no_disease_given_negative(0)",
    "id": "7e1308ed0b014dc28fbc98c5c56a3044",
    "idx": 53,
    "time": "2021-01-26T12:10:53.566Z",
    "type": "execution"
   },
   {
    "id": "7e1308ed0b014dc28fbc98c5c56a3044",
    "time": "2021-01-26T12:10:54.160Z",
    "type": "completion"
   },
   {
    "code": "no_disease_given_negative(1)",
    "id": "89a770c1470f412b8417a8c646eeaf1a",
    "idx": 54,
    "time": "2021-01-26T12:11:06.927Z",
    "type": "execution"
   },
   {
    "id": "89a770c1470f412b8417a8c646eeaf1a",
    "time": "2021-01-26T12:11:07.458Z",
    "type": "completion"
   },
   {
    "code": "faces = range(1, 7)\nplt.hist(faces)",
    "id": "edb78d1ce8d54438a5b154ec1df22017",
    "idx": 59,
    "time": "2021-01-26T12:14:29.343Z",
    "type": "execution"
   },
   {
    "id": "edb78d1ce8d54438a5b154ec1df22017",
    "time": "2021-01-26T12:14:30.073Z",
    "type": "completion"
   },
   {
    "code": "unit_bins = np.arange(0.5, 6.6)\nplt.hist(faces, bins = unit_bins)",
    "id": "28e1d1715cb6433092615ea59091a2bd",
    "idx": 61,
    "time": "2021-01-26T12:14:47.260Z",
    "type": "execution"
   },
   {
    "id": "28e1d1715cb6433092615ea59091a2bd",
    "time": "2021-01-26T12:14:47.857Z",
    "type": "completion"
   },
   {
    "code": "plt.hist(faces, bins = unit_bins, ec='white')",
    "id": "1b7718b293d94e3f81631cf91e009592",
    "idx": 63,
    "time": "2021-01-26T12:23:15.519Z",
    "type": "execution"
   },
   {
    "id": "1b7718b293d94e3f81631cf91e009592",
    "time": "2021-01-26T12:23:16.267Z",
    "type": "completion"
   },
   {
    "code": "plt.hist(faces, bins = unit_bins, ec='white', density=True)",
    "id": "62732051950b4cf49ec21c5460727a07",
    "idx": 65,
    "time": "2021-01-26T12:23:58.142Z",
    "type": "execution"
   },
   {
    "id": "62732051950b4cf49ec21c5460727a07",
    "time": "2021-01-26T12:23:58.920Z",
    "type": "completion"
   },
   {
    "code": "def integer_distribution(x):\n    plt.hist(x, bins = np.arange(min(x)-0.5,max(x)+0.5), ec='white', density=True)\ninteger_distribution(faces)",
    "id": "0ccba512315348d49e7355e319af1f5b",
    "idx": 68,
    "time": "2021-01-27T01:38:49.660Z",
    "type": "execution"
   },
   {
    "id": "0ccba512315348d49e7355e319af1f5b",
    "time": "2021-01-27T01:38:50.184Z",
    "type": "completion"
   },
   {
    "code": "# Initialize Otter\nimport otter\ngrader = otter.Notebook(\"hw1.ipynb\")",
    "id": "d6c66968b24d4ee3aaa56bf136d65220",
    "idx": 0,
    "time": "2021-01-27T01:39:04.624Z",
    "type": "execution"
   },
   {
    "id": "d6c66968b24d4ee3aaa56bf136d65220",
    "time": "2021-01-27T01:39:05.904Z",
    "type": "completion"
   },
   {
    "code": "import numpy as np\nimport matplotlib\nimport matplotlib.pyplot as plt\nplt.style.use('fivethirtyeight')",
    "id": "811a37f0ef5546208d8f8c23875e0651",
    "idx": 17,
    "time": "2021-01-27T01:39:14.035Z",
    "type": "execution"
   },
   {
    "id": "811a37f0ef5546208d8f8c23875e0651",
    "time": "2021-01-27T01:39:14.768Z",
    "type": "completion"
   },
   {
    "code": "np.arange?",
    "id": "77d99aaf6c6c41d5aaf59a4f239e75e2",
    "idx": 20,
    "time": "2021-01-27T01:39:15.721Z",
    "type": "execution"
   },
   {
    "id": "77d99aaf6c6c41d5aaf59a4f239e75e2",
    "time": "2021-01-27T01:39:16.191Z",
    "type": "completion"
   },
   {
    "code": "np.linspace",
    "id": "8f51c929d009491b8b70b57465e982b7",
    "idx": 23,
    "time": "2021-01-27T01:39:17.523Z",
    "type": "execution"
   },
   {
    "id": "8f51c929d009491b8b70b57465e982b7",
    "time": "2021-01-27T01:39:17.952Z",
    "type": "completion"
   },
   {
    "code": "p_HHHTHT = 0.8**4*0.2**2\np_HHHTHT",
    "id": "ac707c62448c49b692081613bbb55e31",
    "idx": 31,
    "time": "2021-01-27T01:39:25.405Z",
    "type": "execution"
   },
   {
    "id": "ac707c62448c49b692081613bbb55e31",
    "time": "2021-01-27T01:39:25.892Z",
    "type": "completion"
   },
   {
    "code": "grader.check(\"q3a\")",
    "id": "014dbf34cf8c4604a879b8c41582f369",
    "idx": 32,
    "time": "2021-01-27T01:39:25.976Z",
    "type": "execution"
   },
   {
    "id": "014dbf34cf8c4604a879b8c41582f369",
    "time": "2021-01-27T01:39:26.487Z",
    "type": "completion"
   },
   {
    "code": "p = np.arange(0,1.0001,0.0001)\nf = (1-p)**6*p**4\nplt.plot(p, f, lw=2, color='darkblue') # lw is line width\nplt.plot([0, 1], [0, 0], lw=1, color='grey')    # horizontal axis\nplt.xlabel('$p$')\nplt.ylabel('$f(p)$', rotation=0)\nplt.title('Probability of Observing TTTHTHHTTH');",
    "id": "3a1cf812dcb94fd6ad09a5fbbcf638f1",
    "idx": 34,
    "time": "2021-01-27T01:39:27.310Z",
    "type": "execution"
   },
   {
    "id": "3a1cf812dcb94fd6ad09a5fbbcf638f1",
    "time": "2021-01-27T01:39:28.650Z",
    "type": "completion"
   },
   {
    "code": "q4bi = 9\nq4bii = 5\nq4bi, q4bii",
    "id": "9500625df12e4b62808614873cdcfdfd",
    "idx": 45,
    "time": "2021-01-27T01:39:35.705Z",
    "type": "execution"
   },
   {
    "id": "9500625df12e4b62808614873cdcfdfd",
    "time": "2021-01-27T01:39:36.222Z",
    "type": "completion"
   },
   {
    "code": "grader.check(\"q4b\")",
    "id": "7bcce70f951d45958adf7b2a38174e14",
    "idx": 46,
    "time": "2021-01-27T01:39:36.403Z",
    "type": "execution"
   },
   {
    "id": "7bcce70f951d45958adf7b2a38174e14",
    "time": "2021-01-27T01:39:36.946Z",
    "type": "completion"
   },
   {
    "code": "def no_disease_given_negative(p):\n    return (0.999*0.95)/(0.999*0.95+0.001*(1-p))",
    "id": "7939a675a5de429788f5e56745475b9f",
    "idx": 48,
    "time": "2021-01-27T01:39:38.189Z",
    "type": "execution"
   },
   {
    "id": "7939a675a5de429788f5e56745475b9f",
    "time": "2021-01-27T01:39:38.619Z",
    "type": "completion"
   },
   {
    "code": "grader.check(\"q4c\")",
    "id": "333fb5b3d286490d97768075c279f400",
    "idx": 49,
    "time": "2021-01-27T01:39:38.823Z",
    "type": "execution"
   },
   {
    "id": "333fb5b3d286490d97768075c279f400",
    "time": "2021-01-27T01:39:39.314Z",
    "type": "completion"
   },
   {
    "code": "no_disease_given_negative(0)",
    "id": "9eef09c126f54ec6b4be34c8fdbdc6b0",
    "idx": 53,
    "time": "2021-01-27T01:39:41.017Z",
    "type": "execution"
   },
   {
    "code": "no_disease_given_negative(1)",
    "id": "b1b4a9edc5944731838f5116d3861799",
    "idx": 54,
    "time": "2021-01-27T01:39:41.243Z",
    "type": "execution"
   },
   {
    "id": "9eef09c126f54ec6b4be34c8fdbdc6b0",
    "time": "2021-01-27T01:39:41.556Z",
    "type": "completion"
   },
   {
    "id": "b1b4a9edc5944731838f5116d3861799",
    "time": "2021-01-27T01:39:41.729Z",
    "type": "completion"
   },
   {
    "code": "faces = range(1, 7)\nplt.hist(faces)",
    "id": "89bee1f9aec642f2868f7835373864c4",
    "idx": 59,
    "time": "2021-01-27T01:39:44.263Z",
    "type": "execution"
   },
   {
    "id": "89bee1f9aec642f2868f7835373864c4",
    "time": "2021-01-27T01:39:44.946Z",
    "type": "completion"
   },
   {
    "code": "unit_bins = np.arange(0.5, 6.6)\nplt.hist(faces, bins = unit_bins)",
    "id": "d13827e049294f4c86b2edd9a9b089fe",
    "idx": 61,
    "time": "2021-01-27T01:39:46.345Z",
    "type": "execution"
   },
   {
    "id": "d13827e049294f4c86b2edd9a9b089fe",
    "time": "2021-01-27T01:39:47.078Z",
    "type": "completion"
   },
   {
    "code": "plt.hist(faces, bins = unit_bins, ec='white')",
    "id": "bfe19e67c7fa43a68754d6efca1d7b42",
    "idx": 63,
    "time": "2021-01-27T01:39:48.564Z",
    "type": "execution"
   },
   {
    "id": "bfe19e67c7fa43a68754d6efca1d7b42",
    "time": "2021-01-27T01:39:49.229Z",
    "type": "completion"
   },
   {
    "code": "plt.hist(faces, bins = unit_bins, ec='white', density=True)",
    "id": "4210552b666040e4942d1372edaae008",
    "idx": 65,
    "time": "2021-01-27T01:39:50.713Z",
    "type": "execution"
   },
   {
    "id": "4210552b666040e4942d1372edaae008",
    "time": "2021-01-27T01:39:51.447Z",
    "type": "completion"
   },
   {
    "code": "def integer_distribution(x):\n    plt.hist(x, bins = np.arange(min(x)-0.5,max(x)+0.5), ec='white', density=True)\ninteger_distribution(faces)",
    "id": "0ccba512315348d49e7355e319af1f5b",
    "idx": 68,
    "time": "2021-01-27T01:39:54.742Z",
    "type": "execution"
   },
   {
    "id": "0ccba512315348d49e7355e319af1f5b",
    "time": "2021-01-27T01:39:55.344Z",
    "type": "completion"
   },
   {
    "code": "def integer_distribution(x):\n    plt.hist(x, bins = np.arange(min(x)-0.5,max(x)+0.5,1), ec='white', density=True)\ninteger_distribution(faces)",
    "id": "0ccba512315348d49e7355e319af1f5b",
    "idx": 68,
    "time": "2021-01-27T01:40:53.705Z",
    "type": "execution"
   },
   {
    "id": "0ccba512315348d49e7355e319af1f5b",
    "time": "2021-01-27T01:40:54.324Z",
    "type": "completion"
   },
   {
    "code": "def integer_distribution(x):\n    plt.hist(x, bins = np.arange(min(x)-0.5,max(x)+0.6,1), ec='white', density=True)\ninteger_distribution(faces)",
    "id": "0ccba512315348d49e7355e319af1f5b",
    "idx": 68,
    "time": "2021-01-27T01:41:08.896Z",
    "type": "execution"
   },
   {
    "id": "0ccba512315348d49e7355e319af1f5b",
    "time": "2021-01-27T01:41:09.632Z",
    "type": "completion"
   },
   {
    "code": "np.random.multinomial",
    "id": "d9c483d35afe4138843ee8d5b92f2938",
    "idx": 70,
    "time": "2021-01-28T04:48:58.272Z",
    "type": "execution"
   },
   {
    "id": "d9c483d35afe4138843ee8d5b92f2938",
    "time": "2021-01-28T04:48:58.699Z",
    "type": "completion"
   },
   {
    "code": "np.random.multinomial?",
    "id": "d9c483d35afe4138843ee8d5b92f2938",
    "idx": 70,
    "time": "2021-01-28T04:49:06.816Z",
    "type": "execution"
   },
   {
    "id": "d9c483d35afe4138843ee8d5b92f2938",
    "time": "2021-01-28T04:49:07.173Z",
    "type": "completion"
   },
   {
    "code": "# Initialize Otter\nimport otter\ngrader = otter.Notebook(\"hw1.ipynb\")",
    "id": "38bf2d78bcbe419390508fdbb952d2ab",
    "idx": 0,
    "time": "2021-01-28T04:49:17.610Z",
    "type": "execution"
   },
   {
    "id": "38bf2d78bcbe419390508fdbb952d2ab",
    "time": "2021-01-28T04:49:18.860Z",
    "type": "completion"
   },
   {
    "code": "import numpy as np\nimport matplotlib\nimport matplotlib.pyplot as plt\nplt.style.use('fivethirtyeight')",
    "id": "a3163991fd03410f82a545c60cd429ed",
    "idx": 17,
    "time": "2021-01-28T04:49:30.561Z",
    "type": "execution"
   },
   {
    "id": "a3163991fd03410f82a545c60cd429ed",
    "time": "2021-01-28T04:49:31.249Z",
    "type": "completion"
   },
   {
    "code": "np.arange?",
    "id": "05faaa32829a4073ab0818133626574a",
    "idx": 20,
    "time": "2021-01-28T04:49:33.158Z",
    "type": "execution"
   },
   {
    "id": "05faaa32829a4073ab0818133626574a",
    "time": "2021-01-28T04:49:33.597Z",
    "type": "completion"
   },
   {
    "code": "np.linspace",
    "id": "b4c5ec9b22dd4669862d1324e6c394cf",
    "idx": 23,
    "time": "2021-01-28T04:49:38.808Z",
    "type": "execution"
   },
   {
    "id": "b4c5ec9b22dd4669862d1324e6c394cf",
    "time": "2021-01-28T04:49:39.236Z",
    "type": "completion"
   },
   {
    "code": "p_HHHTHT = 0.8**4*0.2**2\np_HHHTHT",
    "id": "a27c59832dfb42f6a526d40303b68680",
    "idx": 31,
    "time": "2021-01-28T04:49:44.037Z",
    "type": "execution"
   },
   {
    "id": "a27c59832dfb42f6a526d40303b68680",
    "time": "2021-01-28T04:49:44.388Z",
    "type": "completion"
   },
   {
    "code": "grader.check(\"q3a\")",
    "id": "6bd72d4d456f4e978525ed438a50a846",
    "idx": 32,
    "time": "2021-01-28T04:49:44.794Z",
    "type": "execution"
   },
   {
    "id": "6bd72d4d456f4e978525ed438a50a846",
    "time": "2021-01-28T04:49:45.462Z",
    "type": "completion"
   },
   {
    "code": "p = np.arange(0,1.0001,0.0001)\nf = (1-p)**6*p**4\nplt.plot(p, f, lw=2, color='darkblue') # lw is line width\nplt.plot([0, 1], [0, 0], lw=1, color='grey')    # horizontal axis\nplt.xlabel('$p$')\nplt.ylabel('$f(p)$', rotation=0)\nplt.title('Probability of Observing TTTHTHHTTH');",
    "id": "184dac3a3ae34f36b8c54220d878f3c2",
    "idx": 34,
    "time": "2021-01-28T04:49:46.504Z",
    "type": "execution"
   },
   {
    "id": "184dac3a3ae34f36b8c54220d878f3c2",
    "time": "2021-01-28T04:49:47.694Z",
    "type": "completion"
   },
   {
    "code": "q4bi = 9\nq4bii = 5\nq4bi, q4bii",
    "id": "6548860e412e480ca1fb6739f29e4d9f",
    "idx": 45,
    "time": "2021-01-28T04:49:56.950Z",
    "type": "execution"
   },
   {
    "id": "6548860e412e480ca1fb6739f29e4d9f",
    "time": "2021-01-28T04:49:57.357Z",
    "type": "completion"
   },
   {
    "code": "grader.check(\"q4b\")",
    "id": "ca6d6a1a41e0474091fde4b419153450",
    "idx": 46,
    "time": "2021-01-28T04:49:57.705Z",
    "type": "execution"
   },
   {
    "id": "ca6d6a1a41e0474091fde4b419153450",
    "time": "2021-01-28T04:49:58.038Z",
    "type": "completion"
   },
   {
    "code": "def no_disease_given_negative(p):\n    return (0.999*0.95)/(0.999*0.95+0.001*(1-p))",
    "id": "3be430f35ec0491699a4be35620154a4",
    "idx": 48,
    "time": "2021-01-28T04:49:59.389Z",
    "type": "execution"
   },
   {
    "id": "3be430f35ec0491699a4be35620154a4",
    "time": "2021-01-28T04:49:59.718Z",
    "type": "completion"
   },
   {
    "code": "grader.check(\"q4c\")",
    "id": "dfb5b634e3af400a86e8cc0c955ea6d8",
    "idx": 49,
    "time": "2021-01-28T04:50:00.309Z",
    "type": "execution"
   },
   {
    "id": "dfb5b634e3af400a86e8cc0c955ea6d8",
    "time": "2021-01-28T04:50:00.688Z",
    "type": "completion"
   },
   {
    "code": "no_disease_given_negative(0)",
    "id": "9416d6f2c1e54f538cbcfd26b3b87367",
    "idx": 53,
    "time": "2021-01-28T04:50:02.968Z",
    "type": "execution"
   },
   {
    "id": "9416d6f2c1e54f538cbcfd26b3b87367",
    "time": "2021-01-28T04:50:03.300Z",
    "type": "completion"
   },
   {
    "code": "no_disease_given_negative(1)",
    "id": "624a54951e794a1e82b781b533e9ef7d",
    "idx": 54,
    "time": "2021-01-28T04:50:03.651Z",
    "type": "execution"
   },
   {
    "id": "624a54951e794a1e82b781b533e9ef7d",
    "time": "2021-01-28T04:50:04.005Z",
    "type": "completion"
   },
   {
    "code": "faces = range(1, 7)\nplt.hist(faces)",
    "id": "fe9945f358ba4f23833963282a156285",
    "idx": 59,
    "time": "2021-01-28T04:50:08.364Z",
    "type": "execution"
   },
   {
    "id": "fe9945f358ba4f23833963282a156285",
    "time": "2021-01-28T04:50:08.892Z",
    "type": "completion"
   },
   {
    "code": "unit_bins = np.arange(0.5, 6.6)\nplt.hist(faces, bins = unit_bins)",
    "id": "3eca2bce55e341b487950c04e256c032",
    "idx": 61,
    "time": "2021-01-28T04:50:10.527Z",
    "type": "execution"
   },
   {
    "id": "3eca2bce55e341b487950c04e256c032",
    "time": "2021-01-28T04:50:11.108Z",
    "type": "completion"
   },
   {
    "code": "plt.hist(faces, bins = unit_bins, ec='white')",
    "id": "59b8a3e681214c038f76a11d4c3d150e",
    "idx": 63,
    "time": "2021-01-28T04:50:11.995Z",
    "type": "execution"
   },
   {
    "id": "59b8a3e681214c038f76a11d4c3d150e",
    "time": "2021-01-28T04:50:12.550Z",
    "type": "completion"
   },
   {
    "code": "plt.hist(faces, bins = unit_bins, ec='white', density=True)",
    "id": "4371930436e844d396a89d6b738edd2f",
    "idx": 65,
    "time": "2021-01-28T04:50:13.814Z",
    "type": "execution"
   },
   {
    "id": "4371930436e844d396a89d6b738edd2f",
    "time": "2021-01-28T04:50:14.411Z",
    "type": "completion"
   },
   {
    "code": "def integer_distribution(x):\n    plt.hist(x, bins = np.arange(min(x)-0.5,max(x)+0.6,1), ec='white', density=True)\ninteger_distribution(faces)",
    "id": "0b367d725472454d849a21da41d339ac",
    "idx": 68,
    "time": "2021-01-28T04:50:16.303Z",
    "type": "execution"
   },
   {
    "id": "0b367d725472454d849a21da41d339ac",
    "time": "2021-01-28T04:50:16.828Z",
    "type": "completion"
   },
   {
    "code": "np.random.multinomial?",
    "id": "d9c483d35afe4138843ee8d5b92f2938",
    "idx": 70,
    "time": "2021-01-28T04:50:17.603Z",
    "type": "execution"
   },
   {
    "id": "d9c483d35afe4138843ee8d5b92f2938",
    "time": "2021-01-28T04:50:17.941Z",
    "type": "completion"
   },
   {
    "code": "sample = np.random.multinomial(100,[0.26,0.74],10)[:,0]\nsample",
    "id": "eae1a6ac12a54a9c9a162b4035427fcf",
    "idx": 71,
    "time": "2021-01-28T04:52:24.248Z",
    "type": "execution"
   },
   {
    "id": "eae1a6ac12a54a9c9a162b4035427fcf",
    "time": "2021-01-28T04:52:24.559Z",
    "type": "completion"
   },
   {
    "code": "grader.check(\"q5b\")",
    "id": "5e6854f5e57b40559553e60f39dd07a6",
    "idx": 72,
    "time": "2021-01-28T04:52:26.086Z",
    "type": "execution"
   },
   {
    "id": "5e6854f5e57b40559553e60f39dd07a6",
    "time": "2021-01-28T04:52:26.463Z",
    "type": "completion"
   },
   {
    "code": "np.random.multinomial?",
    "id": "d9c483d35afe4138843ee8d5b92f2938",
    "idx": 70,
    "time": "2021-01-28T04:52:39.221Z",
    "type": "execution"
   },
   {
    "id": "d9c483d35afe4138843ee8d5b92f2938",
    "time": "2021-01-28T04:52:39.562Z",
    "type": "completion"
   },
   {
    "code": "sample = np.random.multinomial(100,[0.26,0.74],10)\nsample",
    "id": "eae1a6ac12a54a9c9a162b4035427fcf",
    "idx": 71,
    "time": "2021-01-28T04:53:23.326Z",
    "type": "execution"
   },
   {
    "id": "eae1a6ac12a54a9c9a162b4035427fcf",
    "time": "2021-01-28T04:53:23.649Z",
    "type": "completion"
   },
   {
    "code": "sample = np.random.multinomial(100,[0.26,0.74],10)[:,0]\nsample",
    "id": "eae1a6ac12a54a9c9a162b4035427fcf",
    "idx": 71,
    "time": "2021-01-28T04:53:38.939Z",
    "type": "execution"
   },
   {
    "id": "eae1a6ac12a54a9c9a162b4035427fcf",
    "time": "2021-01-28T04:53:39.310Z",
    "type": "completion"
   },
   {
    "code": "grader.check(\"q5b\")",
    "id": "5e6854f5e57b40559553e60f39dd07a6",
    "idx": 72,
    "time": "2021-01-28T04:54:00.153Z",
    "type": "execution"
   },
   {
    "id": "5e6854f5e57b40559553e60f39dd07a6",
    "time": "2021-01-28T04:54:00.528Z",
    "type": "completion"
   },
   {
    "code": "simulated_counts = np.random.multinomial(100,[0.26,0.74],500000)[:,0]\ninteger_distribution(simulated_counts)",
    "id": "e4d9def0de0843aab532b175656390c8",
    "idx": 74,
    "time": "2021-01-28T04:55:15.093Z",
    "type": "execution"
   },
   {
    "id": "e4d9def0de0843aab532b175656390c8",
    "time": "2021-01-28T04:55:16.049Z",
    "type": "completion"
   },
   {
    "code": "mu = 26\nsigma = 4.4\nx = np.linspace(0, 50, 200)\nf_x = (1/(np.sqrt(2*np.pi)*sigma))*np.e**(-1/2*((x-mu)/sigma)**2)\ninteger_distribution(simulated_counts)\nplt.plot(x, f_x, lw=2, color='orange')",
    "id": "00f6531c948e45a08bc6dc5ff9616260",
    "idx": 78,
    "time": "2021-01-28T05:01:04.540Z",
    "type": "execution"
   },
   {
    "id": "00f6531c948e45a08bc6dc5ff9616260",
    "time": "2021-01-28T05:01:05.776Z",
    "type": "completion"
   },
   {
    "code": "q6_survey = central beef overview",
    "id": "fd85d1897bdf405c9de297f6d26fe3d1",
    "idx": 80,
    "time": "2021-01-28T05:03:52.408Z",
    "type": "execution"
   },
   {
    "id": "fd85d1897bdf405c9de297f6d26fe3d1",
    "time": "2021-01-28T05:03:52.887Z",
    "type": "completion"
   },
   {
    "code": "grader.check(\"q6\")",
    "id": "20bd9b7c74494897b177ad7d849ff3ca",
    "idx": 81,
    "time": "2021-01-28T05:03:55.441Z",
    "type": "execution"
   },
   {
    "id": "20bd9b7c74494897b177ad7d849ff3ca",
    "time": "2021-01-28T05:03:55.824Z",
    "type": "completion"
   },
   {
    "code": "q6_survey = \"central beef overview\"",
    "id": "fd85d1897bdf405c9de297f6d26fe3d1",
    "idx": 80,
    "time": "2021-01-28T05:04:07.972Z",
    "type": "execution"
   },
   {
    "id": "fd85d1897bdf405c9de297f6d26fe3d1",
    "time": "2021-01-28T05:04:08.295Z",
    "type": "completion"
   },
   {
    "code": "grader.check(\"q6\")",
    "id": "20bd9b7c74494897b177ad7d849ff3ca",
    "idx": 81,
    "time": "2021-01-28T05:04:09.661Z",
    "type": "execution"
   },
   {
    "id": "20bd9b7c74494897b177ad7d849ff3ca",
    "time": "2021-01-28T05:04:10.033Z",
    "type": "completion"
   },
   {
    "code": "grader.check_all()",
    "id": "926f0f116ac44c2e9f3015819b4386fa",
    "idx": 83,
    "time": "2021-01-28T05:04:13.754Z",
    "type": "execution"
   },
   {
    "id": "926f0f116ac44c2e9f3015819b4386fa",
    "time": "2021-01-28T05:04:14.157Z",
    "type": "completion"
   },
   {
    "code": "# Save your notebook first, then run this cell to export your submission.\ngrader.export()",
    "id": "d9173445a73240939666eae93f8081e6",
    "idx": 85,
    "time": "2021-01-28T05:04:33.624Z",
    "type": "execution"
   },
   {
    "code": "# Initialize Otter\nimport otter\ngrader = otter.Notebook(\"hw1.ipynb\")",
    "id": "36e75f0067df44289a14e1f2d89a7620",
    "idx": 0,
    "time": "2021-01-28T12:01:58.627Z",
    "type": "execution"
   },
   {
    "id": "36e75f0067df44289a14e1f2d89a7620",
    "time": "2021-01-28T12:01:59.802Z",
    "type": "completion"
   },
   {
    "code": "import numpy as np\nimport matplotlib\nimport matplotlib.pyplot as plt\nplt.style.use('fivethirtyeight')",
    "id": "b66dd904476d45cb86a80a023ac7e48e",
    "idx": 17,
    "time": "2021-01-28T12:03:19.245Z",
    "type": "execution"
   },
   {
    "id": "b66dd904476d45cb86a80a023ac7e48e",
    "time": "2021-01-28T12:03:19.802Z",
    "type": "completion"
   },
   {
    "code": "np.arange?",
    "id": "ea0590d314d4419b8bbdbe4581e15119",
    "idx": 20,
    "time": "2021-01-28T12:03:21.590Z",
    "type": "execution"
   },
   {
    "id": "ea0590d314d4419b8bbdbe4581e15119",
    "time": "2021-01-28T12:03:21.950Z",
    "type": "completion"
   },
   {
    "code": "np.linspace",
    "id": "5fb67430f8f24ce29d91c5a0643dcba1",
    "idx": 23,
    "time": "2021-01-28T12:03:27.194Z",
    "type": "execution"
   },
   {
    "id": "5fb67430f8f24ce29d91c5a0643dcba1",
    "time": "2021-01-28T12:03:27.557Z",
    "type": "completion"
   },
   {
    "code": "p_HHHTHT = 0.8**4*0.2**2\np_HHHTHT",
    "id": "ed5834c387e144178161f92a3e6592e0",
    "idx": 31,
    "time": "2021-01-28T12:04:34.597Z",
    "type": "execution"
   },
   {
    "id": "ed5834c387e144178161f92a3e6592e0",
    "time": "2021-01-28T12:04:34.933Z",
    "type": "completion"
   },
   {
    "code": "grader.check(\"q3a\")",
    "id": "7a395e4ace124ca9af7b9f6277e6264d",
    "idx": 32,
    "time": "2021-01-28T12:04:35.626Z",
    "type": "execution"
   },
   {
    "id": "7a395e4ace124ca9af7b9f6277e6264d",
    "time": "2021-01-28T12:04:36.115Z",
    "type": "completion"
   },
   {
    "code": "p = np.arange(0,1.0001,0.0001)\nf = (1-p)**6*p**4\nplt.plot(p, f, lw=2, color='darkblue') # lw is line width\nplt.plot([0, 1], [0, 0], lw=1, color='grey')    # horizontal axis\nplt.xlabel('$p$')\nplt.ylabel('$f(p)$', rotation=0)\nplt.title('Probability of Observing TTTHTHHTTH');",
    "id": "5e2aeb49f34a4941806f70e531efad2b",
    "idx": 34,
    "time": "2021-01-28T12:04:37.932Z",
    "type": "execution"
   },
   {
    "id": "5e2aeb49f34a4941806f70e531efad2b",
    "time": "2021-01-28T12:04:39.014Z",
    "type": "completion"
   },
   {
    "code": "q4bi = 9\nq4bii = 5\nq4bi, q4bii",
    "id": "ba121f7ee3854c4e9bc9fd344baf1e00",
    "idx": 45,
    "time": "2021-01-28T12:04:47.151Z",
    "type": "execution"
   },
   {
    "id": "ba121f7ee3854c4e9bc9fd344baf1e00",
    "time": "2021-01-28T12:04:47.532Z",
    "type": "completion"
   },
   {
    "code": "grader.check(\"q4b\")",
    "id": "8a338867c92b49a28e7e23d470f4af31",
    "idx": 46,
    "time": "2021-01-28T12:04:47.858Z",
    "type": "execution"
   },
   {
    "id": "8a338867c92b49a28e7e23d470f4af31",
    "time": "2021-01-28T12:04:48.372Z",
    "type": "completion"
   },
   {
    "code": "def no_disease_given_negative(p):\n    return (0.999*0.95)/(0.999*0.95+0.001*(1-p))",
    "id": "73d7334a3ee54529a70db3672c6ddbb9",
    "idx": 48,
    "time": "2021-01-28T12:04:48.898Z",
    "type": "execution"
   },
   {
    "id": "73d7334a3ee54529a70db3672c6ddbb9",
    "time": "2021-01-28T12:04:49.215Z",
    "type": "completion"
   },
   {
    "code": "grader.check(\"q4c\")",
    "id": "af642cd9ec8a4d148b8d889cd8676ea7",
    "idx": 49,
    "time": "2021-01-28T12:04:49.409Z",
    "type": "execution"
   },
   {
    "id": "af642cd9ec8a4d148b8d889cd8676ea7",
    "time": "2021-01-28T12:04:49.783Z",
    "type": "completion"
   },
   {
    "code": "no_disease_given_negative(0)",
    "id": "20b9227716d04a8ebe5343e5575fa740",
    "idx": 53,
    "time": "2021-01-28T12:04:51.949Z",
    "type": "execution"
   },
   {
    "id": "20b9227716d04a8ebe5343e5575fa740",
    "time": "2021-01-28T12:04:52.258Z",
    "type": "completion"
   },
   {
    "code": "no_disease_given_negative(1)",
    "id": "be58dfa6a81c4e418de3cd5709fb404e",
    "idx": 54,
    "time": "2021-01-28T12:04:52.497Z",
    "type": "execution"
   },
   {
    "id": "be58dfa6a81c4e418de3cd5709fb404e",
    "time": "2021-01-28T12:04:52.860Z",
    "type": "completion"
   },
   {
    "code": "faces = range(1, 7)\nplt.hist(faces)",
    "id": "3f985704a44a41f186cc5eace31fbf57",
    "idx": 59,
    "time": "2021-01-28T12:04:55.810Z",
    "type": "execution"
   },
   {
    "id": "3f985704a44a41f186cc5eace31fbf57",
    "time": "2021-01-28T12:04:56.311Z",
    "type": "completion"
   },
   {
    "code": "unit_bins = np.arange(0.5, 6.6)\nplt.hist(faces, bins = unit_bins)",
    "id": "5a30ca2050494397858341153256468a",
    "idx": 61,
    "time": "2021-01-28T12:04:56.988Z",
    "type": "execution"
   },
   {
    "id": "5a30ca2050494397858341153256468a",
    "time": "2021-01-28T12:04:57.514Z",
    "type": "completion"
   },
   {
    "code": "plt.hist(faces, bins = unit_bins, ec='white')",
    "id": "1472fd0eab41421293de84b76bcfe292",
    "idx": 63,
    "time": "2021-01-28T12:04:58.317Z",
    "type": "execution"
   },
   {
    "id": "1472fd0eab41421293de84b76bcfe292",
    "time": "2021-01-28T12:04:58.825Z",
    "type": "completion"
   },
   {
    "code": "plt.hist(faces, bins = unit_bins, ec='white', density=True)",
    "id": "ec1cbc945b8b48a9be14130ee246edfd",
    "idx": 65,
    "time": "2021-01-28T12:04:59.542Z",
    "type": "execution"
   },
   {
    "id": "ec1cbc945b8b48a9be14130ee246edfd",
    "time": "2021-01-28T12:05:00.053Z",
    "type": "completion"
   },
   {
    "code": "def integer_distribution(x):\n    plt.hist(x, bins = np.arange(min(x)-0.5,max(x)+0.6,1), ec='white', density=True)\ninteger_distribution(faces)",
    "id": "8314d9e5253d42d695aae2141382ff6c",
    "idx": 68,
    "time": "2021-01-28T12:05:01.201Z",
    "type": "execution"
   },
   {
    "id": "8314d9e5253d42d695aae2141382ff6c",
    "time": "2021-01-28T12:05:01.835Z",
    "type": "completion"
   },
   {
    "code": "np.random.multinomial?",
    "id": "330d2e09abe94a1a83cd04d11a1ed9aa",
    "idx": 70,
    "time": "2021-01-28T12:05:02.522Z",
    "type": "execution"
   },
   {
    "id": "330d2e09abe94a1a83cd04d11a1ed9aa",
    "time": "2021-01-28T12:05:02.891Z",
    "type": "completion"
   },
   {
    "code": "sample = np.random.multinomial(100,[0.26,0.74],10)[:,0]\nsample",
    "id": "e482d76c192942ee9112e9e63c512311",
    "idx": 70,
    "time": "2021-01-28T12:05:13.852Z",
    "type": "execution"
   },
   {
    "id": "e482d76c192942ee9112e9e63c512311",
    "time": "2021-01-28T12:05:14.186Z",
    "type": "completion"
   },
   {
    "code": "grader.check(\"q5b\")",
    "id": "d47f5b566d3543bf81e88d474201e9ae",
    "idx": 71,
    "time": "2021-01-28T12:05:14.920Z",
    "type": "execution"
   },
   {
    "id": "d47f5b566d3543bf81e88d474201e9ae",
    "time": "2021-01-28T12:05:15.344Z",
    "type": "completion"
   },
   {
    "code": "simulated_counts = np.random.multinomial(100,[0.26,0.74],500000)[:,0]\ninteger_distribution(simulated_counts)",
    "id": "3f79098cbf244923b07fe989c51b8c93",
    "idx": 73,
    "time": "2021-01-28T12:05:16.736Z",
    "type": "execution"
   },
   {
    "id": "3f79098cbf244923b07fe989c51b8c93",
    "time": "2021-01-28T12:05:17.525Z",
    "type": "completion"
   },
   {
    "code": "mu = 26\nsigma = 4.4\nx = np.linspace(0, 50, 200)\nf_x = (1/(np.sqrt(2*np.pi)*sigma))*np.e**(-1/2*((x-mu)/sigma)**2)\ninteger_distribution(simulated_counts)\nplt.plot(x, f_x, lw=2, color='orange')",
    "id": "473bb595bc3f42efbab7bd26c1ad47e2",
    "idx": 77,
    "time": "2021-01-28T12:05:20.894Z",
    "type": "execution"
   },
   {
    "id": "473bb595bc3f42efbab7bd26c1ad47e2",
    "time": "2021-01-28T12:05:21.785Z",
    "type": "completion"
   },
   {
    "code": "q6_survey = \"central beef overview\"",
    "id": "6d223dcb5cf1490d8d57a2c90e2f8dba",
    "idx": 79,
    "time": "2021-01-28T12:05:22.759Z",
    "type": "execution"
   },
   {
    "id": "6d223dcb5cf1490d8d57a2c90e2f8dba",
    "time": "2021-01-28T12:05:23.053Z",
    "type": "completion"
   },
   {
    "code": "grader.check(\"q6\")",
    "id": "3e0eb0501e0b4e458a1e0f08d96cf28d",
    "idx": 80,
    "time": "2021-01-28T12:05:23.465Z",
    "type": "execution"
   },
   {
    "id": "3e0eb0501e0b4e458a1e0f08d96cf28d",
    "time": "2021-01-28T12:05:23.852Z",
    "type": "completion"
   },
   {
    "code": "grader.check_all()",
    "id": "c49941e9e5b54f06be75192575031bfe",
    "idx": 82,
    "time": "2021-01-28T12:05:27.780Z",
    "type": "execution"
   },
   {
    "id": "c49941e9e5b54f06be75192575031bfe",
    "time": "2021-01-28T12:05:28.242Z",
    "type": "completion"
   },
   {
    "code": "# Save your notebook first, then run this cell to export your submission.\ngrader.export()",
    "id": "9d66926f3d944aa980ac1a6c88b828e6",
    "idx": 84,
    "time": "2021-01-28T12:05:37.728Z",
    "type": "execution"
   },
   {
    "id": "9d66926f3d944aa980ac1a6c88b828e6",
    "time": "2021-01-28T12:05:45.028Z",
    "type": "completion"
   },
   {
    "code": "# Save your notebook first, then run this cell to export your submission.\ngrader.export()",
    "id": "9d66926f3d944aa980ac1a6c88b828e6",
    "idx": 84,
    "time": "2021-01-28T12:05:57.332Z",
    "type": "execution"
   },
   {
    "id": "9d66926f3d944aa980ac1a6c88b828e6",
    "time": "2021-01-28T12:06:04.547Z",
    "type": "completion"
   },
   {
    "code": "# Initialize Otter\nimport otter\ngrader = otter.Notebook(\"hw1.ipynb\")",
    "id": "ee0fb68e7cd242e7a8a5f5f1c29f32d4",
    "idx": 0,
    "time": "2021-01-29T05:19:09.932Z",
    "type": "execution"
   },
   {
    "id": "ee0fb68e7cd242e7a8a5f5f1c29f32d4",
    "time": "2021-01-29T05:19:11.317Z",
    "type": "completion"
   },
   {
    "code": "import numpy as np\nimport matplotlib\nimport matplotlib.pyplot as plt\nplt.style.use('fivethirtyeight')",
    "id": "72b947e6150d4013a3549ce0bb4e0a94",
    "idx": 17,
    "time": "2021-01-29T05:19:24.779Z",
    "type": "execution"
   },
   {
    "id": "72b947e6150d4013a3549ce0bb4e0a94",
    "time": "2021-01-29T05:19:25.467Z",
    "type": "completion"
   },
   {
    "code": "np.arange?",
    "id": "5a2f5d332b9041efbb2412a60a1934ab",
    "idx": 20,
    "time": "2021-01-29T05:19:27.617Z",
    "type": "execution"
   },
   {
    "id": "5a2f5d332b9041efbb2412a60a1934ab",
    "time": "2021-01-29T05:19:28.156Z",
    "type": "completion"
   },
   {
    "code": "np.linspace",
    "id": "1a8371c2ecb64174bba436eede380ed7",
    "idx": 23,
    "time": "2021-01-29T05:19:32.908Z",
    "type": "execution"
   },
   {
    "id": "1a8371c2ecb64174bba436eede380ed7",
    "time": "2021-01-29T05:19:33.355Z",
    "type": "completion"
   },
   {
    "code": "p_HHHTHT = 0.8**4*0.2**2\np_HHHTHT",
    "id": "e128c9f9b2b2477987a9d9ae189ad117",
    "idx": 31,
    "time": "2021-01-29T05:19:37.660Z",
    "type": "execution"
   },
   {
    "id": "e128c9f9b2b2477987a9d9ae189ad117",
    "time": "2021-01-29T05:19:38.143Z",
    "type": "completion"
   },
   {
    "code": "grader.check(\"q3a\")",
    "id": "2b9f9137049b4a818f29d87b8931ab0d",
    "idx": 32,
    "time": "2021-01-29T05:19:38.337Z",
    "type": "execution"
   },
   {
    "id": "2b9f9137049b4a818f29d87b8931ab0d",
    "time": "2021-01-29T05:19:38.983Z",
    "type": "completion"
   },
   {
    "code": "p = np.arange(0,1.0001,0.0001)\nf = (1-p)**6*p**4\nplt.plot(p, f, lw=2, color='darkblue') # lw is line width\nplt.plot([0, 1], [0, 0], lw=1, color='grey')    # horizontal axis\nplt.xlabel('$p$')\nplt.ylabel('$f(p)$', rotation=0)\nplt.title('Probability of Observing TTTHTHHTTH');",
    "id": "9445c225ea7c458995c1942e1d6746ee",
    "idx": 34,
    "time": "2021-01-29T05:19:39.696Z",
    "type": "execution"
   },
   {
    "id": "9445c225ea7c458995c1942e1d6746ee",
    "time": "2021-01-29T05:19:41.108Z",
    "type": "completion"
   },
   {
    "code": "q4bi = 9\nq4bii = 5\nq4bi, q4bii",
    "id": "23148281ff8e4eb88ce02964927421d1",
    "idx": 45,
    "time": "2021-01-29T05:19:46.320Z",
    "type": "execution"
   },
   {
    "id": "23148281ff8e4eb88ce02964927421d1",
    "time": "2021-01-29T05:19:46.765Z",
    "type": "completion"
   },
   {
    "code": "grader.check(\"q4b\")",
    "id": "2ae135ffb5894c44adf02b087825c04d",
    "idx": 46,
    "time": "2021-01-29T05:19:46.998Z",
    "type": "execution"
   },
   {
    "id": "2ae135ffb5894c44adf02b087825c04d",
    "time": "2021-01-29T05:19:47.454Z",
    "type": "completion"
   },
   {
    "code": "def no_disease_given_negative(p):\n    return (0.999*0.95)/(0.999*0.95+0.001*(1-p))",
    "id": "601cdbc48f5049bdba8f2b7d75911449",
    "idx": 48,
    "time": "2021-01-29T05:19:47.889Z",
    "type": "execution"
   },
   {
    "code": "grader.check(\"q4c\")",
    "id": "e50feb1e08d740758df5a29b6da966f2",
    "idx": 49,
    "time": "2021-01-29T05:19:48.259Z",
    "type": "execution"
   },
   {
    "id": "601cdbc48f5049bdba8f2b7d75911449",
    "time": "2021-01-29T05:19:48.389Z",
    "type": "completion"
   },
   {
    "id": "e50feb1e08d740758df5a29b6da966f2",
    "time": "2021-01-29T05:19:48.715Z",
    "type": "completion"
   },
   {
    "code": "no_disease_given_negative(0)",
    "id": "577684f041f3461d86d4387689ea9138",
    "idx": 53,
    "time": "2021-01-29T05:19:50.316Z",
    "type": "execution"
   },
   {
    "id": "577684f041f3461d86d4387689ea9138",
    "time": "2021-01-29T05:19:50.758Z",
    "type": "completion"
   },
   {
    "code": "no_disease_given_negative(1)",
    "id": "0580f64db6c74fee99a51de7ac7d9207",
    "idx": 54,
    "time": "2021-01-29T05:19:50.830Z",
    "type": "execution"
   },
   {
    "id": "0580f64db6c74fee99a51de7ac7d9207",
    "time": "2021-01-29T05:19:51.273Z",
    "type": "completion"
   },
   {
    "code": "faces = range(1, 7)\nplt.hist(faces)",
    "id": "b226e7c8162341dd85faeb9d403a165c",
    "idx": 59,
    "time": "2021-01-29T05:19:52.559Z",
    "type": "execution"
   },
   {
    "id": "b226e7c8162341dd85faeb9d403a165c",
    "time": "2021-01-29T05:19:53.244Z",
    "type": "completion"
   },
   {
    "code": "unit_bins = np.arange(0.5, 6.6)\nplt.hist(faces, bins = unit_bins)",
    "id": "a190a226adb541219ad1c12d2c26891f",
    "idx": 61,
    "time": "2021-01-29T05:19:53.302Z",
    "type": "execution"
   },
   {
    "id": "a190a226adb541219ad1c12d2c26891f",
    "time": "2021-01-29T05:19:53.992Z",
    "type": "completion"
   },
   {
    "code": "plt.hist(faces, bins = unit_bins, ec='white')",
    "id": "e155be946f224e169bdd1d2c4e531fd1",
    "idx": 63,
    "time": "2021-01-29T05:19:54.026Z",
    "type": "execution"
   },
   {
    "id": "e155be946f224e169bdd1d2c4e531fd1",
    "time": "2021-01-29T05:19:54.697Z",
    "type": "completion"
   },
   {
    "code": "plt.hist(faces, bins = unit_bins, ec='white', density=True)",
    "id": "2eae6119cb1b4e8b811b95924a7d251e",
    "idx": 65,
    "time": "2021-01-29T05:19:55.572Z",
    "type": "execution"
   },
   {
    "id": "2eae6119cb1b4e8b811b95924a7d251e",
    "time": "2021-01-29T05:19:56.331Z",
    "type": "completion"
   },
   {
    "code": "def integer_distribution(x):\n    plt.hist(x, bins = np.arange(min(x)-0.5,max(x)+0.6,1), ec='white', density=True)\ninteger_distribution(faces)",
    "id": "ce750563423544fb8dceb9c8a67344fe",
    "idx": 68,
    "time": "2021-01-29T05:19:57.479Z",
    "type": "execution"
   },
   {
    "id": "ce750563423544fb8dceb9c8a67344fe",
    "time": "2021-01-29T05:19:58.296Z",
    "type": "completion"
   },
   {
    "code": "sample = np.random.multinomial(100,[0.26,0.74],10)[:,0]\nsample",
    "id": "1ff749f8e3284d8b83fc866362d6277a",
    "idx": 70,
    "time": "2021-01-29T05:19:58.894Z",
    "type": "execution"
   },
   {
    "id": "1ff749f8e3284d8b83fc866362d6277a",
    "time": "2021-01-29T05:19:59.358Z",
    "type": "completion"
   },
   {
    "code": "grader.check(\"q5b\")",
    "id": "cd544608c0b044078408d0e486fe3256",
    "idx": 71,
    "time": "2021-01-29T05:19:59.551Z",
    "type": "execution"
   },
   {
    "id": "cd544608c0b044078408d0e486fe3256",
    "time": "2021-01-29T05:20:00.009Z",
    "type": "completion"
   },
   {
    "code": "simulated_counts = np.random.multinomial(100,[0.26,0.74],500000)[:,0]\ninteger_distribution(simulated_counts)",
    "id": "531601daf36f45299a517b2f633d4027",
    "idx": 73,
    "time": "2021-01-29T05:20:00.688Z",
    "type": "execution"
   },
   {
    "id": "531601daf36f45299a517b2f633d4027",
    "time": "2021-01-29T05:20:01.670Z",
    "type": "completion"
   },
   {
    "code": "mu = 26\nsigma = 4.4\nx = np.linspace(0, 50, 200)\nf_x = (1/(np.sqrt(2*np.pi)*sigma))*np.e**(-1/2*((x-mu)/sigma)**2)\ninteger_distribution(simulated_counts)\nplt.plot(x, f_x, lw=2, color='orange')",
    "id": "19a70d32759e4d6a826a004c85d334ef",
    "idx": 77,
    "time": "2021-01-29T05:20:03.495Z",
    "type": "execution"
   },
   {
    "id": "19a70d32759e4d6a826a004c85d334ef",
    "time": "2021-01-29T05:20:04.639Z",
    "type": "completion"
   },
   {
    "code": "q6_survey = \"central beef overview\"",
    "id": "04c25c68ae3647638e122652fd11e87b",
    "idx": 79,
    "time": "2021-01-29T05:20:05.609Z",
    "type": "execution"
   },
   {
    "code": "grader.check(\"q6\")",
    "id": "2b531f73dc3d483a83053d1558f6f61e",
    "idx": 80,
    "time": "2021-01-29T05:20:06.051Z",
    "type": "execution"
   },
   {
    "id": "04c25c68ae3647638e122652fd11e87b",
    "time": "2021-01-29T05:20:06.156Z",
    "type": "completion"
   },
   {
    "id": "2b531f73dc3d483a83053d1558f6f61e",
    "time": "2021-01-29T05:20:06.526Z",
    "type": "completion"
   },
   {
    "code": "grader.check_all()",
    "id": "2da82101ddd44fc3948f306851a9bde8",
    "idx": 82,
    "time": "2021-01-29T05:20:07.524Z",
    "type": "execution"
   },
   {
    "id": "2da82101ddd44fc3948f306851a9bde8",
    "time": "2021-01-29T05:20:07.979Z",
    "type": "completion"
   },
   {
    "code": "# Save your notebook first, then run this cell to export your submission.\ngrader.export()",
    "id": "134f95fda84d41168cf5c4f949414d3e",
    "idx": 84,
    "time": "2021-01-29T05:20:22.228Z",
    "type": "execution"
   }
  ],
  "kernelspec": {
   "display_name": "Python 3",
   "language": "python",
   "name": "python3"
  },
  "language_info": {
   "codemirror_mode": {
    "name": "ipython",
    "version": 3
   },
   "file_extension": ".py",
   "mimetype": "text/x-python",
   "name": "python",
   "nbconvert_exporter": "python",
   "pygments_lexer": "ipython3",
   "version": "3.8.6"
  }
 },
 "nbformat": 4,
 "nbformat_minor": 2
}
