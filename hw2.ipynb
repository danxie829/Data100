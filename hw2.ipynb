{
 "cells": [
  {
   "cell_type": "code",
   "execution_count": 1,
   "metadata": {
    "deletable": false,
    "editable": false
   },
   "outputs": [],
   "source": [
    "# Initialize Otter\n",
    "import otter\n",
    "grader = otter.Notebook(\"hw2.ipynb\")"
   ]
  },
  {
   "cell_type": "markdown",
   "metadata": {
    "nbgrader": {
     "grade": false,
     "grade_id": "introduction",
     "locked": true,
     "schema_version": 2,
     "solution": false
    }
   },
   "source": [
    "# Homework 2: Sampling Error and Bias\n",
    "## Due Date: Thursday, February 4th, 11:59PM\n",
    "\n",
    "## Collaboration Policy\n",
    "\n",
    "Data science is a collaborative activity. While you may talk with others about\n",
    "the homework, we ask that you **write your solutions individually**. If you do\n",
    "discuss the assignments with others please **include their names** below."
   ]
  },
  {
   "cell_type": "markdown",
   "metadata": {},
   "source": [
    "**Collaborators**: *list  collaborators here*"
   ]
  },
  {
   "cell_type": "markdown",
   "metadata": {},
   "source": [
    "## Grading\n",
    "\n",
    "Grading is broken down into autograded answers and free response. \n",
    "\n",
    "For autograded answers, the results of your code are compared to provided and/or hidden tests. **For autograded probability questions, the provided tests will only check that your answer is within a reasonable range.**\n",
    "\n",
    "For free response, readers will evaluate how well you answered the question and/or fulfilled the requirements of the question.\n",
    "\n",
    "For plots, make sure to be as descriptive as possible: include titles, axes labels, and units wherever applicable."
   ]
  },
  {
   "cell_type": "markdown",
   "metadata": {},
   "source": [
    "### Please make sure to save regularly; do not rely on autosave to save your work for you!"
   ]
  },
  {
   "cell_type": "markdown",
   "metadata": {},
   "source": [
    "## Scoring Breakdown\n",
    "\n",
    "|Question|Points|\n",
    "|---|---|\n",
    "|1.1|1|\n",
    "|1.2|1|\n",
    "|1.3|1|\n",
    "|2.1|1|\n",
    "|2.2|1|\n",
    "|2.3|2|\n",
    "|3.1|1|\n",
    "|3.2|1|\n",
    "|3.3|1|\n",
    "|3.4|1|\n",
    "|3.5|1|\n",
    "|3.6|2|\n",
    "|4.1|1|\n",
    "|4.2|1|\n",
    "|5|1|\n",
    "|6.1|2|\n",
    "|6.2|1|\n",
    "|6.3|1|\n",
    "|6.4|1|\n",
    "|6.5|2|\n",
    "|6.6|1|\n",
    "|7.1|1|\n",
    "|7.2|1|\n",
    "|7.3|2|\n",
    "|7.4|1|\n",
    "|8.1|1|\n",
    "|8.2|2|\n",
    "|9|2|\n",
    "|**Total**|35|\n"
   ]
  },
  {
   "cell_type": "markdown",
   "metadata": {},
   "source": [
    "## Introduction\n",
    "\n",
    "The outcome of the US presidential election in 2016 took many people and many pollsters by surprise. In this assignment we will carry out a simulation study / post mortem in an attempt to understand what happened. Doing such an analysis is especially important even though the 2020 federal elections have already occurred."
   ]
  },
  {
   "cell_type": "code",
   "execution_count": 2,
   "metadata": {},
   "outputs": [],
   "source": [
    "import numpy as np\n",
    "import matplotlib\n",
    "import matplotlib.pyplot as plt\n",
    "import seaborn as sns\n",
    "\n",
    "plt.style.use('fivethirtyeight')\n",
    "\n",
    "# Default plot configurations\n",
    "%matplotlib inline\n",
    "plt.rcParams['figure.figsize'] = (16,8)\n",
    "plt.rcParams['figure.dpi'] = 150\n",
    "sns.set()\n",
    "\n",
    "from IPython.display import display, Latex, Markdown"
   ]
  },
  {
   "cell_type": "markdown",
   "metadata": {},
   "source": [
    "## `SciPy` and `special` ##"
   ]
  },
  {
   "cell_type": "markdown",
   "metadata": {},
   "source": [
    "Factorials and the *binomial coefficients* $\\binom{n}{k} = \\frac{n!}{k!(n-k)!}$ get large very quickly as $n$ gets large. One way to compute them is to use the `SciPy` module `special`. `SciPy` is a collection of Python-based software for math, probability, statistics, science, and engineering."
   ]
  },
  {
   "cell_type": "code",
   "execution_count": 3,
   "metadata": {},
   "outputs": [],
   "source": [
    "from scipy import special"
   ]
  },
  {
   "cell_type": "markdown",
   "metadata": {},
   "source": [
    "Below are some examples of `special.factorial`:"
   ]
  },
  {
   "cell_type": "code",
   "execution_count": 4,
   "metadata": {},
   "outputs": [
    {
     "data": {
      "text/plain": [
       "(120.0, array([  1.,   2.,   6.,  24., 120.]))"
      ]
     },
     "execution_count": 4,
     "metadata": {},
     "output_type": "execute_result"
    }
   ],
   "source": [
    "special.factorial(5), special.factorial(range(1, 6))"
   ]
  },
  {
   "cell_type": "markdown",
   "metadata": {},
   "source": [
    "Traditionally, subsets of $k$ individuals out of a population of $n$ individuals are called *combinations*, and so `special.comb(n, k)` evaluates to $\\binom{n}{k}$. \n",
    "\n",
    "Note that we will always use the term *subsets* to mean un-ordered sets. We will use *permutations* in situations where we need to keep track of the order in which the elements appear.\n",
    "\n",
    "Look at the code and output below carefully (including types) before starting Question 1."
   ]
  },
  {
   "cell_type": "code",
   "execution_count": 5,
   "metadata": {},
   "outputs": [
    {
     "data": {
      "text/plain": [
       "(10.0, 10.0)"
      ]
     },
     "execution_count": 5,
     "metadata": {},
     "output_type": "execute_result"
    }
   ],
   "source": [
    "special.comb(5, 3), special.factorial(5) / (special.factorial(3) * special.factorial(2))"
   ]
  },
  {
   "cell_type": "code",
   "execution_count": 6,
   "metadata": {},
   "outputs": [
    {
     "data": {
      "text/plain": [
       "array([ 1.,  5., 10., 10.,  5.,  1.])"
      ]
     },
     "execution_count": 6,
     "metadata": {},
     "output_type": "execute_result"
    }
   ],
   "source": [
    "special.comb(5, range(6))"
   ]
  },
  {
   "cell_type": "code",
   "execution_count": 7,
   "metadata": {},
   "outputs": [
    {
     "data": {
      "text/plain": [
       "(1.0089134454556415e+29, 100891344545564193334812497256)"
      ]
     },
     "execution_count": 7,
     "metadata": {},
     "output_type": "execute_result"
    }
   ],
   "source": [
    "special.comb(100, 50), special.comb(100, 50, exact=True)"
   ]
  },
  {
   "cell_type": "markdown",
   "metadata": {},
   "source": [
    "### Question 1"
   ]
  },
  {
   "cell_type": "markdown",
   "metadata": {},
   "source": [
    "Consider a population in which a proportion $p$ of individuals are called \"successes\" (or 1, if you prefer) and the remaining proportion are rudely called \"failures\" (or 0).\n",
    "\n",
    "As we saw in lecture, if you draw a sample of size $n$ (where $n$ is some positive integer) at random with replacement from the population, then the number of successes is a random variable that follows the binomial distribution. The probability of drawing $k$ successes and $n-k$ failures is $\\binom{n}{k}p^k(1-p)^{n-k}$, for $0 \\leq k \\leq n$. To reduce writing, we will shorten \"$k$ successes and $n-k$ failures\" to \"$k$ successes\". In other words, \"$k$ successes\" means \"exactly $k$ successes\".\n",
    "\n",
    "To formalize notation: if $X$ is the number of successes we draw, then $P(X = k) = \\binom{n}{k}p^k(1-p)^{n-k}$."
   ]
  },
  {
   "cell_type": "markdown",
   "metadata": {
    "deletable": false,
    "editable": false
   },
   "source": [
    "### Question 1a) ###\n",
    "Suppose you sample 100 times at random with replacement from a population in which 26% of the individuals are successes. Write a Python expression that evaluates to the chance that the sample has 20 successes. \n",
    "\n",
    "**Computational note:** Don't import any other libraries; just use the ones already imported and plug into the formula above. It's far from the best way numerically, but it is fine for the numbers involved in this Homework. \n",
    "\n",
    "<!--\n",
    "BEGIN QUESTION\n",
    "name: q1a\n",
    "manual: false\n",
    "points: 1\n",
    "-->"
   ]
  },
  {
   "cell_type": "code",
   "execution_count": 8,
   "metadata": {},
   "outputs": [
    {
     "data": {
      "text/plain": [
       "0.036911003560024636"
      ]
     },
     "execution_count": 8,
     "metadata": {},
     "output_type": "execute_result"
    }
   ],
   "source": [
    "prob_1a = special.comb(100,20)*(0.26**20)*(0.74**80)\n",
    "prob_1a"
   ]
  },
  {
   "cell_type": "code",
   "execution_count": 9,
   "metadata": {
    "deletable": false,
    "editable": false
   },
   "outputs": [
    {
     "data": {
      "text/html": [
       "\n",
       "    <p><strong>q1a</strong> passed!</p>\n",
       "    "
      ],
      "text/plain": [
       "q1a passed!"
      ]
     },
     "execution_count": 9,
     "metadata": {},
     "output_type": "execute_result"
    }
   ],
   "source": [
    "grader.check(\"q1a\")"
   ]
  },
  {
   "cell_type": "markdown",
   "metadata": {
    "deletable": false,
    "editable": false
   },
   "source": [
    "### Question 1b) ###\n",
    "Complete the cell with a Python expression that evaluates to an array whose elements are the chances of $k$ successes for $k = 0, 1, 2, \\ldots, 100$. That is, `all_probs[k]` should contain $P(X = k)$, where $X$ is the random variable describing the number of successes drawn from the scenario outlined above.\n",
    "\n",
    "<!--\n",
    "BEGIN QUESTION\n",
    "name: q1b\n",
    "points: 1\n",
    "-->"
   ]
  },
  {
   "cell_type": "code",
   "execution_count": 10,
   "metadata": {},
   "outputs": [
    {
     "data": {
      "text/plain": [
       "(array([0.    , 0.    , 0.    , 0.    , 0.    , 0.    , 0.    , 0.    ,\n",
       "        0.    , 0.    , 0.    , 0.0001, 0.0003, 0.0007, 0.0016, 0.0033,\n",
       "        0.0061, 0.0106, 0.0171, 0.0259, 0.0369, 0.0494, 0.0623, 0.0743,\n",
       "        0.0837, 0.0894, 0.0906, 0.0873, 0.0799, 0.0697, 0.058 , 0.046 ,\n",
       "        0.0349, 0.0252, 0.0175, 0.0116, 0.0073, 0.0045, 0.0026, 0.0015,\n",
       "        0.0008, 0.0004, 0.0002, 0.0001, 0.    , 0.    , 0.    , 0.    ,\n",
       "        0.    , 0.    , 0.    , 0.    , 0.    , 0.    , 0.    , 0.    ,\n",
       "        0.    , 0.    , 0.    , 0.    , 0.    , 0.    , 0.    , 0.    ,\n",
       "        0.    , 0.    , 0.    , 0.    , 0.    , 0.    , 0.    , 0.    ,\n",
       "        0.    , 0.    , 0.    , 0.    , 0.    , 0.    , 0.    , 0.    ,\n",
       "        0.    , 0.    , 0.    , 0.    , 0.    , 0.    , 0.    , 0.    ,\n",
       "        0.    , 0.    , 0.    , 0.    , 0.    , 0.    , 0.    , 0.    ,\n",
       "        0.    , 0.    , 0.    , 0.    , 0.    ]),\n",
       " 0.9999999999999996)"
      ]
     },
     "execution_count": 10,
     "metadata": {},
     "output_type": "execute_result"
    }
   ],
   "source": [
    "k = np.arange(101)\n",
    "all_probs = special.comb(100,k)*(0.26**k)*(0.74**(100-k))\n",
    "np.round(all_probs, 4), sum(all_probs)"
   ]
  },
  {
   "cell_type": "code",
   "execution_count": 11,
   "metadata": {
    "deletable": false,
    "editable": false
   },
   "outputs": [
    {
     "data": {
      "text/html": [
       "\n",
       "    <p><strong>q1b</strong> passed!</p>\n",
       "    "
      ],
      "text/plain": [
       "q1b passed!"
      ]
     },
     "execution_count": 11,
     "metadata": {},
     "output_type": "execute_result"
    }
   ],
   "source": [
    "grader.check(\"q1b\")"
   ]
  },
  {
   "cell_type": "markdown",
   "metadata": {
    "deletable": false,
    "editable": false
   },
   "source": [
    "### Question 1c) ###\n",
    "\n",
    "\n",
    "Complete the cell with an expression that evaluates to the chance that the number of successes in the sample is in the interval $26 \\pm 10$ (inclusive on both sides). In other words, determine $P(16 \\leq X \\leq 36)$. **Hint: You might want to apply your Python indexing knowledge here.**\n",
    "\n",
    "**Note: Please assign your answer to `prob_1c`. Because we use an autograder, please make sure your answer is a proportion between 0 and 1, not a percent between 0 and 100.**\n",
    "\n",
    "<!--\n",
    "BEGIN QUESTION\n",
    "name: q1c\n",
    "manual: false\n",
    "points: 1\n",
    "-->"
   ]
  },
  {
   "cell_type": "code",
   "execution_count": 12,
   "metadata": {},
   "outputs": [
    {
     "data": {
      "text/plain": [
       "0.9838345682140129"
      ]
     },
     "execution_count": 12,
     "metadata": {},
     "output_type": "execute_result"
    }
   ],
   "source": [
    "prob_1c = sum(all_probs[16:37])/sum(all_probs)\n",
    "prob_1c "
   ]
  },
  {
   "cell_type": "code",
   "execution_count": 13,
   "metadata": {
    "deletable": false,
    "editable": false
   },
   "outputs": [
    {
     "data": {
      "text/html": [
       "\n",
       "    <p><strong>q1c</strong> passed!</p>\n",
       "    "
      ],
      "text/plain": [
       "q1c passed!"
      ]
     },
     "execution_count": 13,
     "metadata": {},
     "output_type": "execute_result"
    }
   ],
   "source": [
    "grader.check(\"q1c\")"
   ]
  },
  {
   "cell_type": "markdown",
   "metadata": {},
   "source": [
    "### Question 2"
   ]
  },
  {
   "cell_type": "markdown",
   "metadata": {},
   "source": [
    "Consider (once again) a sample of size $n$ drawn at random with replacement from a population in which a proportion $p$ of the individuals are called successes.\n",
    "\n",
    "Let $S$ be the random variable that denotes the number of successes in our sample. (As stated above, $S$ follows the binomial distribution.) Then, the probability that the number of successes in our sample is **at most** $s$ (where $0 \\leq s \\leq n$) is\n",
    "\n",
    "$$P(S \\leq s) = P(S = 0) + P(S = 1) + ... + P(S = s) = \\sum_{k=0}^s \\binom{n}{k}p^k(1-p)^{n-k}$$\n",
    "\n",
    "We obtain this by summing the probability that the number of successes is exactly $k$, for each value of $k = 0, 1, 2, ..., s$."
   ]
  },
  {
   "cell_type": "markdown",
   "metadata": {
    "deletable": false,
    "editable": false
   },
   "source": [
    "### Question 2a) ###\n",
    "\n",
    "Please fill in the function `prob_at_most` which takes $n$, $p$, and $s$ and returns $P(S \\le s)$ as defined above. If the inputs are invalid: for instance, if $p > 1$ OR $s > n$ then return 0.\" \n",
    "\n",
    "It might help to refer to the calculation in Question 1b.\n",
    "\n",
    "<!--\n",
    "BEGIN QUESTION\n",
    "name: q2a\n",
    "manual: false\n",
    "points: 1\n",
    "-->"
   ]
  },
  {
   "cell_type": "code",
   "execution_count": 14,
   "metadata": {},
   "outputs": [],
   "source": [
    "def prob_at_most(n, p, s):\n",
    "    \"\"\" \n",
    "    returns the probability of S <= s\n",
    "    Input n: sample size; p : proportion; s: number of successes at most\"\"\"\n",
    "    if p>1 or s>n:\n",
    "        return 0\n",
    "    else:\n",
    "        k=np.arange(1,s+1)\n",
    "        return sum(special.comb(n,k)*(p**k)*((1-p)**(n-k)))"
   ]
  },
  {
   "cell_type": "code",
   "execution_count": 15,
   "metadata": {
    "deletable": false,
    "editable": false
   },
   "outputs": [
    {
     "data": {
      "text/html": [
       "\n",
       "    <p><strong>q2a</strong> passed!</p>\n",
       "    "
      ],
      "text/plain": [
       "q2a passed!"
      ]
     },
     "execution_count": 15,
     "metadata": {},
     "output_type": "execute_result"
    }
   ],
   "source": [
    "grader.check(\"q2a\")"
   ]
  },
  {
   "cell_type": "markdown",
   "metadata": {
    "deletable": false,
    "editable": false
   },
   "source": [
    "### Question 2b) ###\n",
    "In an election, supporters of Candidate C are in a minority. Only 45% of the voters in the population favor the candidate.\n",
    "\n",
    "Suppose a survey organization takes a sample of 200 voters at random with replacement from this population. Use `prob_at_most` to write an expression that evaluates to the chance that a majority (more than half) of the sampled voters favor Candidate C.\n",
    "\n",
    "<!--\n",
    "BEGIN QUESTION\n",
    "name: q2b\n",
    "manual: false\n",
    "points: 1\n",
    "-->"
   ]
  },
  {
   "cell_type": "code",
   "execution_count": 16,
   "metadata": {},
   "outputs": [
    {
     "data": {
      "text/plain": [
       "0.06807524986275781"
      ]
     },
     "execution_count": 16,
     "metadata": {},
     "output_type": "execute_result"
    }
   ],
   "source": [
    "p_majority = prob_at_most(200,0.55,99)\n",
    "p_majority"
   ]
  },
  {
   "cell_type": "code",
   "execution_count": 17,
   "metadata": {
    "deletable": false,
    "editable": false
   },
   "outputs": [
    {
     "data": {
      "text/html": [
       "\n",
       "    <p><strong>q2b</strong> passed!</p>\n",
       "    "
      ],
      "text/plain": [
       "q2b passed!"
      ]
     },
     "execution_count": 17,
     "metadata": {},
     "output_type": "execute_result"
    }
   ],
   "source": [
    "grader.check(\"q2b\")"
   ]
  },
  {
   "cell_type": "markdown",
   "metadata": {
    "deletable": false,
    "editable": false
   },
   "source": [
    "### Question 2c) ###\n",
    "Suppose each of five survey organizations takes a sample of voters at random with replacement from the population of voters in Part **b**, independently of the samples drawn by the other organizations. \n",
    "\n",
    "- Three of the organizations use a sample size of 200\n",
    "- One organization uses a sample size of 300\n",
    "- One organization uses a sample size of 400\n",
    "\n",
    "Write an expression that evaluates to the chance that in at least one of the five samples the majority of voters favor Candidate C. You can use any quantity or function defined earlier in this exercise.\n",
    "\n",
    "<!--\n",
    "BEGIN QUESTION\n",
    "name: q2c\n",
    "manual: false\n",
    "points: 2\n",
    "-->"
   ]
  },
  {
   "cell_type": "code",
   "execution_count": 18,
   "metadata": {},
   "outputs": [
    {
     "data": {
      "text/plain": [
       "0.23550361568484224"
      ]
     },
     "execution_count": 18,
     "metadata": {},
     "output_type": "execute_result"
    }
   ],
   "source": [
    "p2_majority=prob_at_most(300,0.55,149)\n",
    "p3_majority=prob_at_most(400,0.55,199)\n",
    "prob_2c = 1-((1-p_majority)**3)*(1-p2_majority)*(1-p3_majority)\n",
    "prob_2c"
   ]
  },
  {
   "cell_type": "code",
   "execution_count": 19,
   "metadata": {
    "deletable": false,
    "editable": false
   },
   "outputs": [
    {
     "data": {
      "text/html": [
       "\n",
       "    <p><strong>q2c</strong> passed!</p>\n",
       "    "
      ],
      "text/plain": [
       "q2c passed!"
      ]
     },
     "execution_count": 19,
     "metadata": {},
     "output_type": "execute_result"
    }
   ],
   "source": [
    "grader.check(\"q2c\")"
   ]
  },
  {
   "cell_type": "markdown",
   "metadata": {},
   "source": [
    "### Question 3"
   ]
  },
  {
   "cell_type": "markdown",
   "metadata": {},
   "source": [
    "In Pennsylvania, 6,165,478 people voted in the 2016 Presidential election.\n",
    "Trump received 48.18% of the vote and Clinton recieved 47.46%.\n",
    "This doesn't add up to 100% because other candidates received votes.\n",
    "All together these other candidates received 100% - 48.18% - 47.46% = 4.36% of the vote.\n",
    "\n",
    "The table below displays the counts and proportions.\n",
    "\n",
    "\n",
    "|   Voted for   |  Trump|    Clinton|    Other|\n",
    "|-----------|-----------|-----------|---------|\n",
    "| Probability      |   0.4818   | 0.4746  |   0.0436 |\n",
    "| Number of people | 2,970,733  | 2,926,441 | 268,304 |"
   ]
  },
  {
   "cell_type": "markdown",
   "metadata": {
    "deletable": false,
    "editable": false
   },
   "source": [
    "### Question 3a) ###\n",
    "Suppose we pick a simple random sample of 20 of the 6,165,478 Pennsylvania (PA) voters. \n",
    "\n",
    "In the sample, let $N_T$ be the number of Trump voters, $N_C$ the number of Clinton voters, and $N_O$ the number of \"other\" voters. Then $N_T$, $N_C$, and $N_O$ are random: they depend on how the sample comes out. In Data 8 we called such quantities \"statistics\".\n",
    "\n",
    "Pick the correct option: $N_T + N_C + N_O$ is equal to\n",
    "\n",
    "<ol style=\"list-style-type: lower-alpha;\">\n",
    "    <li>3</li>\n",
    "    <li>20</li>\n",
    "    <li>6,165,478</li>\n",
    "    <li>a random quantity</li>\n",
    "</ol>\n",
    "\n",
    "*Note*: if your answer is (d), put  `ans_3a = 'd'`  for the purpose of grading. Passing the test **does NOT** mean you answer is correct. The test only checks if your answer is in the correct format.\n",
    "\n",
    "<!--\n",
    "BEGIN QUESTION\n",
    "name: q3a\n",
    "manual: false\n",
    "points: \n",
    "    - 0\n",
    "    - 1\n",
    "-->"
   ]
  },
  {
   "cell_type": "code",
   "execution_count": 20,
   "metadata": {},
   "outputs": [],
   "source": [
    "ans_3a = 'b'"
   ]
  },
  {
   "cell_type": "code",
   "execution_count": 21,
   "metadata": {
    "deletable": false,
    "editable": false
   },
   "outputs": [
    {
     "data": {
      "text/html": [
       "\n",
       "    <p><strong>q3a</strong> passed!</p>\n",
       "    "
      ],
      "text/plain": [
       "q3a passed!"
      ]
     },
     "execution_count": 21,
     "metadata": {},
     "output_type": "execute_result"
    }
   ],
   "source": [
    "grader.check(\"q3a\")"
   ]
  },
  {
   "cell_type": "markdown",
   "metadata": {
    "deletable": false,
    "editable": false
   },
   "source": [
    "### Question 3b) ###\n",
    "Pick the correct option.\n",
    "\n",
    "A simple random sample of 20 PA voters is like a sample drawn at random with replacement, because\n",
    "\n",
    "<ol style=\"list-style-type: lower-alpha;\">\n",
    "<li>that's the definition of \"simple random sample\"</li>\n",
    "<li>there are only 3 categories of voters, which is small in comparison to 20</li>\n",
    "<li>there are only 20 people in the sample, which is small in comparison to the total number of PA voters</li>\n",
    "<li>all PA voters are equally likely to be selected</li>\n",
    "</ol>\n",
    "\n",
    "*Note*: if your answer is (d), put `ans_3b = 'd'`  for the purpose of grading. Passing the test **does NOT** mean you answer is correct. The test only checks if your answer is in the correct format.\n",
    "\n",
    "<!--\n",
    "BEGIN QUESTION\n",
    "name: q3b\n",
    "manual: false\n",
    "points: \n",
    "    - 0\n",
    "    - 1\n",
    "-->"
   ]
  },
  {
   "cell_type": "code",
   "execution_count": 22,
   "metadata": {},
   "outputs": [],
   "source": [
    "ans_3b = 'c'"
   ]
  },
  {
   "cell_type": "code",
   "execution_count": 23,
   "metadata": {
    "deletable": false,
    "editable": false
   },
   "outputs": [
    {
     "data": {
      "text/html": [
       "\n",
       "    <p><strong>q3b</strong> passed!</p>\n",
       "    "
      ],
      "text/plain": [
       "q3b passed!"
      ]
     },
     "execution_count": 23,
     "metadata": {},
     "output_type": "execute_result"
    }
   ],
   "source": [
    "grader.check(\"q3b\")"
   ]
  },
  {
   "cell_type": "markdown",
   "metadata": {
    "deletable": false,
    "editable": false
   },
   "source": [
    "### Question 3c) ###\n",
    "\n",
    "Let $t$, $c$, and $o$ be any three non-negative integers. For the sample defined in Part **a**, the probability that the sample contains $t$ Trump voters, $c$ Clinton voters and $o$ \"other\" voters is denoted by $P(N_T = t, N_C = c, N_O = o)$.\n",
    "\n",
    "Define a function `prob_sample_counts` that takes any three non-negative integers $t$, $c$, and $o$, and returns $P(N_T = t, N_C = c, N_O = o)$. The probability is 0 for some choices of the arguments, and your function should return 0 in those cases.\n",
    "\n",
    "Remember that Part **b** implies you can use results for sampling with replacement.\n",
    "\n",
    "What should `prob_sample_counts(31, 8, 1)` evaluate to? Check that your function returns the right value (No extra code/cells required).\n",
    "\n",
    "<!--\n",
    "BEGIN QUESTION\n",
    "name: q3c\n",
    "manual: false\n",
    "points: 1\n",
    "-->"
   ]
  },
  {
   "cell_type": "code",
   "execution_count": 24,
   "metadata": {},
   "outputs": [],
   "source": [
    "def prob_sample_counts(t, c, o):\n",
    "    \"\"\"\n",
    "    Input:\n",
    "    t - number of votes for Trump\n",
    "    c - number of votes for Clinton\n",
    "    o - number of votes for Other\n",
    "    Return: The probability of getting a such sample\n",
    "    \"\"\"\n",
    "    if t<0 or c<0 or o<0:\n",
    "        return 0\n",
    "    elif t+c+o!=20:\n",
    "        return 0\n",
    "    else:\n",
    "        situations=special.factorial(20) / (special.factorial(t)*special.factorial(c)*special.factorial(o))\n",
    "        return (0.4818**t)*(0.4746**c)*(0.0436**o)*situations"
   ]
  },
  {
   "cell_type": "code",
   "execution_count": 25,
   "metadata": {
    "deletable": false,
    "editable": false
   },
   "outputs": [
    {
     "data": {
      "text/html": [
       "\n",
       "    <p><strong>q3c</strong> passed!</p>\n",
       "    "
      ],
      "text/plain": [
       "q3c passed!"
      ]
     },
     "execution_count": 25,
     "metadata": {},
     "output_type": "execute_result"
    }
   ],
   "source": [
    "grader.check(\"q3c\")"
   ]
  },
  {
   "cell_type": "markdown",
   "metadata": {
    "deletable": false,
    "editable": false
   },
   "source": [
    "### Question 3d) ###\n",
    "\n",
    "Check that your function determines a probability distribution by summing all the positive terms. You know what the sum should be. **Hint: You might need to iterate through certain values of c and t to compute the sum of all positive probabilities.**\n",
    "\n",
    "<!--\n",
    "BEGIN QUESTION\n",
    "name: q3d\n",
    "manual: false\n",
    "points: 1\n",
    "-->"
   ]
  },
  {
   "cell_type": "code",
   "execution_count": 26,
   "metadata": {},
   "outputs": [
    {
     "data": {
      "text/plain": [
       "1.0000000000000007"
      ]
     },
     "execution_count": 26,
     "metadata": {},
     "output_type": "execute_result"
    }
   ],
   "source": [
    "prob_3d=0\n",
    "for t1 in range(0,21):\n",
    "    for c1 in range(21-t1):\n",
    "        prob_3d += prob_sample_counts(t1, c1, 20-t1-c1)\n",
    "prob_3d"
   ]
  },
  {
   "cell_type": "code",
   "execution_count": 27,
   "metadata": {
    "deletable": false,
    "editable": false
   },
   "outputs": [
    {
     "data": {
      "text/html": [
       "\n",
       "    <p><strong>q3d</strong> passed!</p>\n",
       "    "
      ],
      "text/plain": [
       "q3d passed!"
      ]
     },
     "execution_count": 27,
     "metadata": {},
     "output_type": "execute_result"
    }
   ],
   "source": [
    "grader.check(\"q3d\")"
   ]
  },
  {
   "cell_type": "markdown",
   "metadata": {
    "deletable": false,
    "editable": false
   },
   "source": [
    "### Question 3e) ###\n",
    "Use `prob_sample_counts` to find the chance that the sample consists of 11 Trump voters, 8 Clinton voters, and 1 \"other\" voter.\n",
    "\n",
    "<!--\n",
    "BEGIN QUESTION\n",
    "name: q3e\n",
    "manual: false\n",
    "points: 1\n",
    "-->"
   ]
  },
  {
   "cell_type": "code",
   "execution_count": 28,
   "metadata": {},
   "outputs": [
    {
     "data": {
      "text/plain": [
       "0.055092374118670545"
      ]
     },
     "execution_count": 28,
     "metadata": {},
     "output_type": "execute_result"
    }
   ],
   "source": [
    "prob_3e = prob_sample_counts(11,8,1)\n",
    "prob_3e"
   ]
  },
  {
   "cell_type": "code",
   "execution_count": 29,
   "metadata": {
    "deletable": false,
    "editable": false
   },
   "outputs": [
    {
     "data": {
      "text/html": [
       "\n",
       "    <p><strong>q3e</strong> passed!</p>\n",
       "    "
      ],
      "text/plain": [
       "q3e passed!"
      ]
     },
     "execution_count": 29,
     "metadata": {},
     "output_type": "execute_result"
    }
   ],
   "source": [
    "grader.check(\"q3e\")"
   ]
  },
  {
   "cell_type": "markdown",
   "metadata": {
    "deletable": false,
    "editable": false
   },
   "source": [
    "### Question 3f) ###\n",
    "Write an expression that evaluates the chance that the sample contains at least 7 Trump voters, at least 7 Clinton voters, and at least 1 \"other\" voter. **Hint: You might find 3d useful.**\n",
    "\n",
    "<!--\n",
    "BEGIN QUESTION\n",
    "name: q3f\n",
    "manual: false\n",
    "points: 2\n",
    "-->"
   ]
  },
  {
   "cell_type": "code",
   "execution_count": 30,
   "metadata": {},
   "outputs": [
    {
     "data": {
      "text/plain": [
       "0.4693870766509243"
      ]
     },
     "execution_count": 30,
     "metadata": {},
     "output_type": "execute_result"
    }
   ],
   "source": [
    "prob_3f=0\n",
    "for t2 in range(0,21):\n",
    "    for c2 in range(21-t2):\n",
    "        if t2>=7 and c2>=7 and 20-t2-c2>=1:\n",
    "            prob_3f += prob_sample_counts(t2, c2, 20-t2-c2)\n",
    "prob_3f"
   ]
  },
  {
   "cell_type": "code",
   "execution_count": 31,
   "metadata": {
    "deletable": false,
    "editable": false
   },
   "outputs": [
    {
     "data": {
      "text/html": [
       "\n",
       "    <p><strong>q3f</strong> passed!</p>\n",
       "    "
      ],
      "text/plain": [
       "q3f passed!"
      ]
     },
     "execution_count": 31,
     "metadata": {},
     "output_type": "execute_result"
    }
   ],
   "source": [
    "grader.check(\"q3f\")"
   ]
  },
  {
   "cell_type": "markdown",
   "metadata": {
    "nbgrader": {
     "grade": false,
     "grade_id": "codebook",
     "locked": true,
     "schema_version": 2,
     "solution": false
    }
   },
   "source": [
    "## Election Polling\n",
    "\n",
    "Political polling is a type of public opinion polling that can at best represent a snapshot of public opinion at the particular moment in time. Voter opinion shifts from week to week, even day to day, as candidates battle it out on the campaign field.\n",
    "\n",
    "Polls usually start with a \"horse-race\" question, where respondents are asked whom they would vote for in a head-to-head race if the election were tomorrow: Candidate A or Candidate B. The survey begins with this question so that the respondent is not influenced by any of the other questions asked in the survey. Some of these other questions are asked to help assess how likely is it that the respondent will vote. Other questions are asked about age, education, and sex in order to adjust the findings if one group appears overly represented in the sample.\n",
    "\n",
    "Pollsters typically use [random digit dialing](https://en.wikipedia.org/wiki/Random_digit_dialing) to contact people."
   ]
  },
  {
   "cell_type": "markdown",
   "metadata": {},
   "source": [
    "### Question 4"
   ]
  },
  {
   "cell_type": "markdown",
   "metadata": {
    "deletable": false,
    "editable": false
   },
   "source": [
    "<!-- BEGIN QUESTION -->\n",
    "\n",
    "#### Part 1 ####\n",
    "\n",
    "If we're trying to predict the results of the Clinton vs. Trump presidential race, what is the population of interest? \n",
    "\n",
    "<!--\n",
    "BEGIN QUESTION\n",
    "name: q4a\n",
    "manual: true\n",
    "points: 1\n",
    "-->"
   ]
  },
  {
   "cell_type": "markdown",
   "metadata": {},
   "source": [
    "All the people who can vote in the US in that year."
   ]
  },
  {
   "cell_type": "markdown",
   "metadata": {
    "deletable": false,
    "editable": false,
    "nbgrader": {
     "grade": false,
     "grade_id": "cell-5a5f851db609367a",
     "locked": true,
     "schema_version": 2,
     "solution": false
    }
   },
   "source": [
    "<!-- END QUESTION -->\n",
    "\n",
    "<!-- BEGIN QUESTION -->\n",
    "\n",
    "#### Part 2 ####\n",
    "\n",
    "What is the sampling frame?\n",
    "\n",
    "<!--\n",
    "BEGIN QUESTION\n",
    "name: q4b\n",
    "manual: true\n",
    "points: 1\n",
    "-->"
   ]
  },
  {
   "cell_type": "markdown",
   "metadata": {},
   "source": [
    "All the people who has a phone number(is possible to be called)."
   ]
  },
  {
   "cell_type": "markdown",
   "metadata": {
    "nbgrader": {
     "grade": false,
     "grade_id": "examine-contents",
     "locked": true,
     "schema_version": 2,
     "solution": false
    }
   },
   "source": [
    "<!-- END QUESTION -->\n",
    "\n",
    "\n",
    "\n",
    "### How might the sampling frame differ from the population?\n",
    "\n",
    "After the fact, many experts have studied the 2016 election results. For example, according to the American Association for Public Opinion Research (AAPOR), predictions made before the election were flawed for three key reasons:\n",
    "\n",
    "1. voters changed their preferences a few days before the election\n",
    "2. those sampled were not representative of the voting population, e.g., some said that there was an overrepresentation of college graduates in some poll samples \n",
    "3. voters kept their support for Trump to themselves (hidden from the pollsters)\n",
    "\n",
    "In Questions 6 and 7, we will do two things:\n",
    "\n",
    "+ Question 6: We will carry out a study of the sampling error when there is no bias. In other words, we will try to compute the chance that we get the election result wrong even if we collect our sample in a manner that is completely correct. In this case, any failure of our prediction is due entirely to random chance.\n",
    "+ Question 7: We will carry out a study of the sampling error when there is bias of the second type from the list above. In other words, we will try to compute the chance that we get the election result wrong if we have a small systematic bias. In this case, any failure of our prediction is due to a combination of random chance and our bias.\n"
   ]
  },
  {
   "cell_type": "markdown",
   "metadata": {
    "deletable": false,
    "editable": false
   },
   "source": [
    "<!-- BEGIN QUESTION -->\n",
    "\n",
    "### Question 5\n",
    "\n",
    "Why can't we assess the impact of the other two biases (voters changing preference and voters hiding their preference)? \n",
    "\n",
    "Note: You might find it easier to complete this question after you've completed the rest of the homework including the simulation study.\n",
    "\n",
    "<!--\n",
    "BEGIN QUESTION\n",
    "name: q5\n",
    "manual: true\n",
    "points: 1\n",
    "-->"
   ]
  },
  {
   "cell_type": "markdown",
   "metadata": {},
   "source": [
    "Because we can't predict the change in voters'preference and we won't know if they are lying when they tell us their preference."
   ]
  },
  {
   "cell_type": "markdown",
   "metadata": {
    "nbgrader": {
     "grade": false,
     "grade_id": "examine-size",
     "locked": true,
     "schema_version": 2,
     "solution": false
    }
   },
   "source": [
    "<!-- END QUESTION -->\n",
    "\n",
    "\n",
    "\n",
    "### How large was the sampling error?\n",
    "\n",
    "In some states the race was very close, and it may have been simply sampling error, i.e., random chance that the majority of the voters chosen for the sample voted for Clinton.\n",
    "\n",
    "A 2- or 3-point polling error in Trump’s favor (typical error historically) would likely be enough to tip the Electoral College to him.\n",
    "\n",
    "One year after the 2016 election, Nate Silver wrote in\n",
    "*The Media Has A Probability Problem* that\n",
    "the \"media’s demand for certainty -- and its lack of statistical rigor -- is a bad match for our complex world.\"\n",
    "FiveThirtyEight forecasted that Clinton had about a 70 percent chance of winning.  \n",
    "\n",
    "We will first carry out a simulation study to assess the impact of the sampling error on the predictions.\n"
   ]
  },
  {
   "cell_type": "markdown",
   "metadata": {
    "nbgrader": {
     "grade": false,
     "grade_id": "load-data",
     "locked": true,
     "schema_version": 2,
     "solution": false
    }
   },
   "source": [
    "## The Electoral College\n",
    "\n",
    "The US president is chosen by the Electoral College, not by the\n",
    "popular vote. Each state is alotted a certain number of \n",
    "electoral college votes, as a function of their population.\n",
    "Whomever wins in the state gets all of the electoral college votes for that state.\n",
    "\n",
    "There are 538 electoral college votes (hence the name of the Nate Silver's site, FiveThirtyEight).\n",
    "\n",
    "Pollsters correctly predicted the election outcome in 46 of the 50 states. \n",
    "For these 46 states Trump received 231 and Clinton received 232 electoral college votes.\n",
    "\n",
    "The remaining 4 states accounted for a total of 75 votes, and \n",
    "whichever candidate received the majority of the electoral college votes in these states would win the election. \n",
    "\n",
    "These states were Florida, Michigan, Pennsylvania, and Wisconsin.\n",
    "\n",
    "|State |Electoral College Votes|\n",
    "| --- | --- |\n",
    "|Florida | 29 |\n",
    "|Michigan | 16 |\n",
    "|Pennsylvania | 20 |\n",
    "|Wisconsin | 10|\n",
    "\n",
    "For Donald Trump to win the election, he had to win either:\n",
    "* Florida + one (or more) other states\n",
    "* Michigan, Pennsylvania, and Wisconsin\n",
    "\n",
    "\n",
    "The electoral margins were very narrow in these four states, as seen below:\n",
    "\n",
    "\n",
    "|State | Trump |   Clinton | Total Voters |\n",
    "| --- | --- |  --- |  --- |\n",
    "|Florida | 49.02 | 47.82 | 9,419,886  | \n",
    "|Michigan | 47.50 | 47.27  |  4,799,284|\n",
    "|Pennsylvania | 48.18 | 47.46 |  6,165,478|\n",
    "|Wisconsin | 47.22 | 46.45  |  2,976,150|\n",
    "\n",
    "Those narrow electoral margins can make it hard to predict the outcome given the sample sizes that the polls used. "
   ]
  },
  {
   "cell_type": "markdown",
   "metadata": {
    "nbgrader": {
     "grade": false,
     "grade_id": "q1",
     "locked": true,
     "schema_version": 2,
     "solution": false
    }
   },
   "source": [
    "---\n",
    "## Simulation Study of the Sampling Error\n",
    "\n",
    "Now that we know how people actually voted, we can carry\n",
    "out a simulation study that imitates the polling.\n",
    "\n",
    "Our ultimate goal in this problem is to understand the chance that we will incorrectly call the election for Hillary Clinton even if our sample was collected with absolutely no bias."
   ]
  },
  {
   "cell_type": "markdown",
   "metadata": {
    "deletable": false,
    "editable": false,
    "nbgrader": {
     "grade": false,
     "grade_id": "q1a",
     "locked": true,
     "schema_version": 2,
     "solution": false
    }
   },
   "source": [
    "### Question 6\n",
    "\n",
    "#### Part 1 \n",
    "\n",
    "For your convenience, the results of the vote in the four pivotal states is repeated below:\n",
    "\n",
    "|State | Trump |   Clinton | Total Voters |\n",
    "| --- | --- |  --- |  --- |\n",
    "|Florida | 49.02 | 47.82 | 9,419,886  | \n",
    "|Michigan | 47.50 | 47.27  |  4,799,284|\n",
    "|Pennsylvania | 48.18 | 47.46 |  6,165,478|\n",
    "|Wisconsin | 47.22 | 46.45  |  2,976,150|\n",
    "\n",
    "\n",
    "Using the table above, write a function `draw_state_sample(N, state)` that returns a sample with replacement of N voters from the given state. Your result should be returned as a list, where the first element is the number of Trump votes, the second element is the number of Clinton votes, and the third is the number of Other votes. For example, `draw_state_sample(1500, \"florida\")` could return `[727, 692, 81]`. You may assume that the state name is given in all lower case.\n",
    "\n",
    "You might find `np.random.multinomial` useful.\n",
    "\n",
    "<!--\n",
    "BEGIN QUESTION\n",
    "name: q6a\n",
    "points: 2\n",
    "-->"
   ]
  },
  {
   "cell_type": "code",
   "execution_count": 32,
   "metadata": {},
   "outputs": [],
   "source": [
    "def draw_state_sample(N, state):\n",
    "    if state== 'florida':\n",
    "        return np.random.multinomial(N,[0.4902,0.4782,1-0.4902-0.4782],1)[0]\n",
    "    if state=='michigan':\n",
    "        return np.random.multinomial(N,[0.475,0.4727,1-0.475-0.4727],1)[0]\n",
    "    if state=='pennsylvania':\n",
    "        return np.random.multinomial(N,[0.4818,0.4746,1-0.4818-0.4746],1)[0]\n",
    "    if state=='wisconsin':\n",
    "        return np.random.multinomial(N,[0.4722,0.4645,1-0.4722-0.4645],1)[0]"
   ]
  },
  {
   "cell_type": "code",
   "execution_count": 33,
   "metadata": {
    "deletable": false,
    "editable": false
   },
   "outputs": [
    {
     "data": {
      "text/html": [
       "\n",
       "    <p><strong>q6a</strong> passed!</p>\n",
       "    "
      ],
      "text/plain": [
       "q6a passed!"
      ]
     },
     "execution_count": 33,
     "metadata": {},
     "output_type": "execute_result"
    }
   ],
   "source": [
    "grader.check(\"q6a\")"
   ]
  },
  {
   "cell_type": "markdown",
   "metadata": {
    "deletable": false,
    "editable": false
   },
   "source": [
    "#### Part 2\n",
    "\n",
    "Now, create a function `trump_advantage` that takes in a sample of votes (like the one returned by `draw_state_sample`) and returns the difference in the proportion of votes between Trump and Clinton. For example `trump_advantage([100, 60, 40])` would return `0.2`, since Trump had 50% of the votes in this sample and Clinton had 30%.\n",
    "\n",
    "<!--\n",
    "BEGIN QUESTION\n",
    "name: q6b\n",
    "points: 1\n",
    "-->"
   ]
  },
  {
   "cell_type": "code",
   "execution_count": 34,
   "metadata": {},
   "outputs": [],
   "source": [
    "def trump_advantage(voter_sample):\n",
    "    return (voter_sample[0]-voter_sample[1])/sum(voter_sample)"
   ]
  },
  {
   "cell_type": "code",
   "execution_count": 35,
   "metadata": {
    "deletable": false,
    "editable": false
   },
   "outputs": [
    {
     "data": {
      "text/html": [
       "\n",
       "    <p><strong>q6b</strong> passed!</p>\n",
       "    "
      ],
      "text/plain": [
       "q6b passed!"
      ]
     },
     "execution_count": 35,
     "metadata": {},
     "output_type": "execute_result"
    }
   ],
   "source": [
    "grader.check(\"q6b\")"
   ]
  },
  {
   "cell_type": "markdown",
   "metadata": {
    "deletable": false,
    "editable": false
   },
   "source": [
    "#### Part 3\n",
    "\n",
    "Simulate Trump's advantage across 100,000 samples of 1500 voters for the state of Pennsylvania and store the results of each simulation in a list called `simulations`. \n",
    "\n",
    "That is, `simulations[i]` should be Trump's proportion advantage for the `i+1`th simple random sample.\n",
    "\n",
    "<!--\n",
    "BEGIN QUESTION\n",
    "name: q6c\n",
    "points: 1\n",
    "-->"
   ]
  },
  {
   "cell_type": "code",
   "execution_count": 36,
   "metadata": {},
   "outputs": [],
   "source": [
    "simulations = []\n",
    "for i in range (100000):\n",
    "    simulations.append(trump_advantage(draw_state_sample(1500,'pennsylvania')))"
   ]
  },
  {
   "cell_type": "code",
   "execution_count": 37,
   "metadata": {
    "deletable": false,
    "editable": false
   },
   "outputs": [
    {
     "data": {
      "text/html": [
       "\n",
       "    <p><strong>q6c</strong> passed!</p>\n",
       "    "
      ],
      "text/plain": [
       "q6c passed!"
      ]
     },
     "execution_count": 37,
     "metadata": {},
     "output_type": "execute_result"
    }
   ],
   "source": [
    "grader.check(\"q6c\")"
   ]
  },
  {
   "cell_type": "markdown",
   "metadata": {
    "deletable": false,
    "editable": false,
    "nbgrader": {
     "grade": false,
     "grade_id": "q1c",
     "locked": true,
     "schema_version": 2,
     "solution": false
    }
   },
   "source": [
    "<!-- BEGIN QUESTION -->\n",
    "\n",
    "#### Part 4\n",
    "\n",
    "Make a histogram of the sampling distribution of Trump's proportion advantage in Pennsylvania. Make sure to give your plot a title and add labels where appropriate.\n",
    "Hint: You should use the [`plt.hist`](https://matplotlib.org/3.1.1/api/_as_gen/matplotlib.pyplot.hist.html) function in your code.\n",
    "\n",
    "Make sure to include a title as well as axis labels. You can do this using `plt.title`, `plt.xlabel`, and `plt.ylabel`.\n",
    "\n",
    "<!--\n",
    "BEGIN QUESTION\n",
    "name: q6d\n",
    "manual: true\n",
    "points: 1\n",
    "-->"
   ]
  },
  {
   "cell_type": "code",
   "execution_count": 38,
   "metadata": {
    "scrolled": false
   },
   "outputs": [
    {
     "data": {
      "text/plain": [
       "Text(0, 0.5, 'times')"
      ]
     },
     "execution_count": 38,
     "metadata": {},
     "output_type": "execute_result"
    },
    {
     "data": {
      "image/png": "[encoded data removed]",
      "text/plain": [
       "<Figure size 2400x1200 with 1 Axes>"
      ]
     },
     "metadata": {},
     "output_type": "display_data"
    }
   ],
   "source": [
    "plt.hist(simulations,density=True)\n",
    "plt.title(\"Distribution of Trump's proportion advantage\")\n",
    "plt.xlabel('proportion advantage')\n",
    "plt.ylabel('times')"
   ]
  },
  {
   "cell_type": "markdown",
   "metadata": {
    "deletable": false,
    "editable": false
   },
   "source": [
    "<!-- END QUESTION -->\n",
    "\n",
    "#### Part 5\n",
    "\n",
    "Now write a function `trump_wins(N)` that creates a sample of N voters for each of the four crucial states (Florida, Michigan, Pennsylvania, and Wisconsin) and returns 1 if Trump is predicted to win based on these samples and 0 if Trump is predicted to lose.\n",
    "\n",
    "Recall that for Trump to win the election, he must either:\n",
    "* Win the state of Florida and 1 or more other states\n",
    "* Win Michigan, Pennsylvania, and Wisconsin\n",
    "\n",
    "<!--\n",
    "BEGIN QUESTION\n",
    "name: q6e\n",
    "manual: false\n",
    "points: 2\n",
    "-->"
   ]
  },
  {
   "cell_type": "code",
   "execution_count": 39,
   "metadata": {},
   "outputs": [],
   "source": [
    "def trump_wins(N):\n",
    "    if trump_advantage(draw_state_sample(N, 'florida'))>0:\n",
    "        if trump_advantage(draw_state_sample(N, 'michigan'))>0 or trump_advantage(draw_state_sample(N, 'pennsylvania'))>0 or trump_advantage(draw_state_sample(N, 'wisconsin'))>0:\n",
    "            return 1\n",
    "    elif trump_advantage(draw_state_sample(N, 'michigan'))>0 and trump_advantage(draw_state_sample(N, 'pennsylvania'))>0 and trump_advantage(draw_state_sample(N, 'wisconsin'))>0:\n",
    "        return 1\n",
    "    else:\n",
    "        return 0"
   ]
  },
  {
   "cell_type": "code",
   "execution_count": 40,
   "metadata": {
    "deletable": false,
    "editable": false
   },
   "outputs": [
    {
     "data": {
      "text/html": [
       "\n",
       "    <p><strong>q6e</strong> passed!</p>\n",
       "    "
      ],
      "text/plain": [
       "q6e passed!"
      ]
     },
     "execution_count": 40,
     "metadata": {},
     "output_type": "execute_result"
    }
   ],
   "source": [
    "grader.check(\"q6e\")"
   ]
  },
  {
   "cell_type": "markdown",
   "metadata": {
    "deletable": false,
    "editable": false
   },
   "source": [
    "#### Part 6\n",
    "\n",
    "If we repeat 100,000 simulations of the election, i.e. we call `trump_wins(1500)` 100,000 times, what proportion of these simulations predict a Trump victory? Give your answer as `proportion_trump`.\n",
    "\n",
    "This number represents the percent chance that a given sample will correctly predict Trump's victory *even if the sample was collected with absolutely no bias*. \n",
    "\n",
    "**Note: Many laypeople, even well educated ones, assume that this number should be 1. After all, how could a non-biased sample be wrong? This is the type of incredibly important intuition we hope to develop in you throughout this class and your future data science coursework.**\n",
    "\n",
    "<!--\n",
    "BEGIN QUESTION\n",
    "name: q6f\n",
    "manual: false\n",
    "points: 1\n",
    "-->"
   ]
  },
  {
   "cell_type": "code",
   "execution_count": 41,
   "metadata": {},
   "outputs": [
    {
     "data": {
      "text/plain": [
       "0.69078"
      ]
     },
     "execution_count": 41,
     "metadata": {},
     "output_type": "execute_result"
    }
   ],
   "source": [
    "proportion_trump = np.count_nonzero([trump_wins(1500) for i in range(100000)]) / 100000\n",
    "proportion_trump"
   ]
  },
  {
   "cell_type": "code",
   "execution_count": 42,
   "metadata": {
    "deletable": false,
    "editable": false
   },
   "outputs": [
    {
     "data": {
      "text/html": [
       "\n",
       "    <p><strong>q6f</strong> passed!</p>\n",
       "    "
      ],
      "text/plain": [
       "q6f passed!"
      ]
     },
     "execution_count": 42,
     "metadata": {},
     "output_type": "execute_result"
    }
   ],
   "source": [
    "grader.check(\"q6f\")"
   ]
  },
  {
   "cell_type": "markdown",
   "metadata": {},
   "source": [
    "We have just studied the sampling error, and found how \n",
    "our predictions might look if there was no bias in our \n",
    "sampling process. \n",
    "Essentially, we assumed that the people surveyed didn't change their minds, \n",
    "didn't hide who they voted for, and were representative\n",
    "of those who voted on election day."
   ]
  },
  {
   "cell_type": "markdown",
   "metadata": {
    "nbgrader": {
     "grade": false,
     "grade_id": "q2",
     "locked": true,
     "schema_version": 2,
     "solution": false
    }
   },
   "source": [
    "---\n",
    "## Simulation Study of Selection Bias\n",
    "\n",
    "According to [an article](https://blogs.lse.ac.uk/usappblog/2018/02/01/better-poll-sampling-would-have-cast-more-doubt-on-the-potential-for-hillary-clinton-to-win-the-2016-election/#Author) by Grotenhuis, Subramanian, Nieuwenhuis, Pelzer and Eisinga:\n",
    "\n",
    "> In a perfect world, polls sample from the population of voters, who would state their political preference perfectly clearly and then vote accordingly.\n",
    "\n",
    "That's the simulation study that we just performed. \n",
    "\n",
    "\n",
    "It's difficult to control for every source of selection bias.\n",
    "And, it's not possible to control for some of the other sources of bias.\n",
    "\n",
    "Next we investigate the effect of small sampling bias on the polling results in these four battleground states.  \n",
    "\n",
    "Throughout this problem, we'll examine the impacts of a 0.5 percent bias in favor of Clinton in each state. Such a bias has been suggested because highly educated voters tend to be more willing to participate in polls."
   ]
  },
  {
   "cell_type": "markdown",
   "metadata": {
    "deletable": false,
    "editable": false,
    "nbgrader": {
     "grade": false,
     "grade_id": "q2a",
     "locked": true,
     "schema_version": 2,
     "solution": false
    }
   },
   "source": [
    "### Question 7\n",
    "\n",
    "Throughout this problem, adjust the selection of voters so that there is a 0.5% bias in favor of Clinton in each of these states. \n",
    "\n",
    "For example, in Pennsylvania, Clinton received 47.46 percent of the votes and Trump 48.18 percent. Increase the population of Clinton voters to 47.46 + 0.5  percent and correspondingly decrease the percent of Trump voters. \n",
    "\n",
    "#### Part 1\n",
    "\n",
    "Simulate Trump's advantage across 100,000 simple random samples of 1500 voters for the state of Pennsylvania and store the results of each simulation in a list called `biased_simulations`.\n",
    "\n",
    "That is, `biased_simulation[i]` should hold the result of the `i+1`th simulation.\n",
    "\n",
    "That is, your answer to this problem should be just like your answer from Question 6 part 3, but now using samples that are biased as described above.\n",
    "\n",
    "<!--\n",
    "BEGIN QUESTION\n",
    "name: q7a\n",
    "points: 1\n",
    "-->"
   ]
  },
  {
   "cell_type": "code",
   "execution_count": 43,
   "metadata": {},
   "outputs": [],
   "source": [
    "def draw_biased_state_sample(N, state):\n",
    "    if state== 'florida':\n",
    "        return np.random.multinomial(N,[0.4902-0.005,0.4782+0.005,1-0.4902-0.4782],1)[0]\n",
    "    if state=='michigan':\n",
    "        return np.random.multinomial(N,[0.475-0.005,0.4727+0.005,1-0.475-0.4727],1)[0]\n",
    "    if state=='pennsylvania':\n",
    "        return np.random.multinomial(N,[0.4818-0.005,0.4746+0.005,1-0.4818-0.4746],1)[0]\n",
    "    if state=='wisconsin':\n",
    "        return np.random.multinomial(N,[0.4722-0.005,0.4645+0.005,1-0.4722-0.4645],1)[0]\n",
    "    \n",
    "biased_simulations = []\n",
    "for i in range (100000):\n",
    "    biased_simulations.append(trump_advantage(draw_biased_state_sample(1500,'pennsylvania')))"
   ]
  },
  {
   "cell_type": "code",
   "execution_count": 44,
   "metadata": {
    "deletable": false,
    "editable": false
   },
   "outputs": [
    {
     "data": {
      "text/html": [
       "\n",
       "    <p><strong>q7a</strong> passed!</p>\n",
       "    "
      ],
      "text/plain": [
       "q7a passed!"
      ]
     },
     "execution_count": 44,
     "metadata": {},
     "output_type": "execute_result"
    }
   ],
   "source": [
    "grader.check(\"q7a\")"
   ]
  },
  {
   "cell_type": "markdown",
   "metadata": {
    "deletable": false,
    "editable": false
   },
   "source": [
    "<!-- BEGIN QUESTION -->\n",
    "\n",
    "#### Part 2\n",
    "\n",
    "Make a histogram of the new sampling distribution of Trump's proportion advantage now using these biased samples. That is, your histogram should be the same as in Q6.4, but now using the biased samples.\n",
    "\n",
    "Make sure to give your plot a title and add labels where appropriate.\n",
    "\n",
    "\n",
    "<!--\n",
    "BEGIN QUESTION\n",
    "name: q7b\n",
    "manual: true\n",
    "points: 1\n",
    "-->"
   ]
  },
  {
   "cell_type": "code",
   "execution_count": 45,
   "metadata": {},
   "outputs": [
    {
     "data": {
      "text/plain": [
       "Text(0, 0.5, 'times')"
      ]
     },
     "execution_count": 45,
     "metadata": {},
     "output_type": "execute_result"
    },
    {
     "data": {
      "image/png": "[encoded data removed]",
      "text/plain": [
       "<Figure size 2400x1200 with 1 Axes>"
      ]
     },
     "metadata": {},
     "output_type": "display_data"
    }
   ],
   "source": [
    "plt.hist(biased_simulations,density=True)\n",
    "plt.title(\"Biased Distribution of Trump's proportion advantage\")\n",
    "plt.xlabel('proportion advantage')\n",
    "plt.ylabel('times')"
   ]
  },
  {
   "cell_type": "markdown",
   "metadata": {
    "deletable": false,
    "editable": false
   },
   "source": [
    "<!-- END QUESTION -->\n",
    "\n",
    "<!-- BEGIN QUESTION -->\n",
    "\n",
    "#### Part 3\n",
    "\n",
    "Compare the histogram you created in Q7.2 to that in Q6.4. \n",
    "\n",
    "<!--\n",
    "BEGIN QUESTION\n",
    "name: q7c\n",
    "manual: true\n",
    "points: 2\n",
    "-->"
   ]
  },
  {
   "cell_type": "markdown",
   "metadata": {},
   "source": [
    "The whole histogram move slightly left in Q7.2 than in Q5.4, which means Trump's biased proportion advantage is smaller than that in the unbiased situation."
   ]
  },
  {
   "cell_type": "markdown",
   "metadata": {
    "deletable": false,
    "editable": false
   },
   "source": [
    "<!-- END QUESTION -->\n",
    "\n",
    "#### Part 4\n",
    "\n",
    "Now perform 100,000 simulations of all four states and return the proportion of these simulations that result in a Trump victory. This is the same fraction that you computed in Question 6 Part 6, but now using your biased samples.\n",
    "\n",
    "Give your answer as `proportion_trump_biased`.\n",
    "\n",
    "This number represents the chance that a sample biased 0.5% in Hillary Clinton's favor will correctly predict Trump's victory. You should observe that the chance is signficantly lower than with an unbiased sample, i.e. your answer in Q6.6.\n",
    "\n",
    "<!--\n",
    "BEGIN QUESTION\n",
    "name: q7d\n",
    "manual: false\n",
    "points: 1\n",
    "-->"
   ]
  },
  {
   "cell_type": "code",
   "execution_count": 46,
   "metadata": {},
   "outputs": [
    {
     "data": {
      "text/plain": [
       "0.46498"
      ]
     },
     "execution_count": 46,
     "metadata": {},
     "output_type": "execute_result"
    }
   ],
   "source": [
    "def trump_wins_biased(N): \n",
    "    if trump_advantage(draw_biased_state_sample(N, 'florida'))>0:\n",
    "        if trump_advantage(draw_biased_state_sample(N, 'michigan'))>0 or trump_advantage(draw_biased_state_sample(N, 'pennsylvania'))>0 or trump_advantage(draw_biased_state_sample(N, 'wisconsin'))>0:\n",
    "            return 1\n",
    "    elif trump_advantage(draw_biased_state_sample(N, 'michigan'))>0 and trump_advantage(draw_biased_state_sample(N, 'pennsylvania'))>0 and trump_advantage(draw_biased_state_sample(N, 'wisconsin'))>0:\n",
    "        return 1\n",
    "    else:\n",
    "        return 0\n",
    "    \n",
    "proportion_trump_biased = np.count_nonzero([trump_wins_biased(1500) for i in range(100000)]) / 100000\n",
    "proportion_trump_biased"
   ]
  },
  {
   "cell_type": "code",
   "execution_count": 47,
   "metadata": {
    "deletable": false,
    "editable": false
   },
   "outputs": [
    {
     "data": {
      "text/html": [
       "\n",
       "    <p><strong>q7d</strong> passed!</p>\n",
       "    "
      ],
      "text/plain": [
       "q7d passed!"
      ]
     },
     "execution_count": 47,
     "metadata": {},
     "output_type": "execute_result"
    }
   ],
   "source": [
    "grader.check(\"q7d\")"
   ]
  },
  {
   "cell_type": "markdown",
   "metadata": {},
   "source": [
    "## Further Study\n"
   ]
  },
  {
   "cell_type": "markdown",
   "metadata": {
    "deletable": false,
    "editable": false,
    "nbgrader": {
     "grade": false,
     "grade_id": "q2c",
     "locked": true,
     "schema_version": 2,
     "solution": false
    }
   },
   "source": [
    "### Question 8\n",
    "\n",
    "Would increasing the sample size have helped?\n",
    "\n",
    "#### Part 1\n",
    "\n",
    "Try a sample size of 5,000 and run 100,000 simulations of a sample with replacement. What proportion of the 100,000 times is Trump predicted to win the election in the unbiased setting? In the biased setting?\n",
    "\n",
    "Give your answers as `high_sample_size_unbiased_proportion_trump` and `high_sample_size_biased_proportion_trump`.\n",
    "\n",
    "*Note: Don't worry if your solution takes a while to run.* \n",
    "\n",
    "<!--\n",
    "BEGIN QUESTION\n",
    "name: q8a\n",
    "manual: false\n",
    "points: 1\n",
    "-->\n",
    "\n"
   ]
  },
  {
   "cell_type": "code",
   "execution_count": 48,
   "metadata": {},
   "outputs": [
    {
     "name": "stdout",
     "output_type": "stream",
     "text": [
      "0.82842 0.44696\n"
     ]
    }
   ],
   "source": [
    "high_sample_size_unbiased_proportion_trump = np.count_nonzero([trump_wins(5000) for i in range(100000)]) / 100000\n",
    "high_sample_size_biased_proportion_trump = np.count_nonzero([trump_wins_biased(5000) for i in range(100000)]) / 100000\n",
    "print(high_sample_size_unbiased_proportion_trump, high_sample_size_biased_proportion_trump)"
   ]
  },
  {
   "cell_type": "code",
   "execution_count": 49,
   "metadata": {
    "deletable": false,
    "editable": false
   },
   "outputs": [
    {
     "data": {
      "text/html": [
       "\n",
       "    <p><strong>q8a</strong> passed!</p>\n",
       "    "
      ],
      "text/plain": [
       "q8a passed!"
      ]
     },
     "execution_count": 49,
     "metadata": {},
     "output_type": "execute_result"
    }
   ],
   "source": [
    "grader.check(\"q8a\")"
   ]
  },
  {
   "cell_type": "markdown",
   "metadata": {},
   "source": [
    "#### Part 2\n",
    "\n",
    "What do your observations from Part 1 say about the impact of sample size\n",
    "on the sampling error and on the bias?   \n",
    "\n",
    "Extra question for those who are curious: Just for fun, you might find it interesting to see what happens with even larger sample sizes (> 5000 voters) for both the unbiased and biased cases. Can you get them up to 99% success with sufficient large samples? How many? Why or why not? If you do this, include your observations in your answer."
   ]
  },
  {
   "cell_type": "code",
   "execution_count": 50,
   "metadata": {},
   "outputs": [
    {
     "data": {
      "text/plain": [
       "0.99848"
      ]
     },
     "execution_count": 50,
     "metadata": {},
     "output_type": "execute_result"
    }
   ],
   "source": [
    "# Feel free to use this cell for any scratch work (creating visualizations, examining data, etc.)\n",
    "np.count_nonzero([trump_wins(50000) for i in range(100000)]) / 100000"
   ]
  },
  {
   "cell_type": "code",
   "execution_count": 51,
   "metadata": {},
   "outputs": [
    {
     "data": {
      "text/plain": [
       "0.34029"
      ]
     },
     "execution_count": 51,
     "metadata": {},
     "output_type": "execute_result"
    }
   ],
   "source": [
    "np.count_nonzero([trump_wins_biased(50000) for i in range(100000)]) / 100000"
   ]
  },
  {
   "cell_type": "markdown",
   "metadata": {
    "deletable": false,
    "editable": false
   },
   "source": [
    "<!-- BEGIN QUESTION -->\n",
    "\n",
    "Write your answer in the cell below.\n",
    "\n",
    "<!--\n",
    "BEGIN QUESTION\n",
    "name: q8b\n",
    "manual: true\n",
    "points: 2\n",
    "-->"
   ]
  },
  {
   "cell_type": "markdown",
   "metadata": {},
   "source": [
    "When we use a sample size of 1500, the difference between unbiased proportion advantage and biased proportion advantage is 0.22958(0.69523-0.46565), when we use a sample size of 5000, the difference increase to 0.38047(0.82708-0.44661), which means the bigger the sample size, the smaller the sampling error and the bigger the bias."
   ]
  },
  {
   "cell_type": "markdown",
   "metadata": {
    "deletable": false,
    "editable": false
   },
   "source": [
    "<!-- END QUESTION -->\n",
    "\n",
    "<!-- BEGIN QUESTION -->\n",
    "\n",
    "### Question 9\n",
    "\n",
    "According to FiveThirtyEight: \"... Polls of the November 2016 presidential election were about as accurate as polls of presidential elections have been on average since 1972.\"\n",
    "\n",
    "When the margin of victory may be relatively small as it was in 2016, why don't polling agencies simply gather significantly larger samples to bring this error close to zero?\n",
    "\n",
    "<!--\n",
    "BEGIN QUESTION\n",
    "name: q9\n",
    "manual: true\n",
    "points: 2\n",
    "-->"
   ]
  },
  {
   "cell_type": "markdown",
   "metadata": {},
   "source": [
    "Because it cost much to gather a large sample."
   ]
  },
  {
   "cell_type": "markdown",
   "metadata": {},
   "source": [
    "<!-- END QUESTION -->\n",
    "\n",
    "\n",
    "\n",
    "**Important**: To make sure the test cases run correctly, click `Kernel>Restart & Run All` and make sure all of the test cases are still passing."
   ]
  },
  {
   "cell_type": "markdown",
   "metadata": {
    "deletable": false,
    "editable": false
   },
   "source": [
    "---\n",
    "\n",
    "To double-check your work, the cell below will rerun all of the autograder tests."
   ]
  },
  {
   "cell_type": "code",
   "execution_count": 52,
   "metadata": {
    "deletable": false,
    "editable": false
   },
   "outputs": [
    {
     "data": {
      "text/html": [
       "\n",
       "    <p><strong>q1a</strong> passed!</p>\n",
       "    \n",
       "\n",
       "\n",
       "    <p><strong>q1b</strong> passed!</p>\n",
       "    \n",
       "\n",
       "\n",
       "    <p><strong>q1c</strong> passed!</p>\n",
       "    \n",
       "\n",
       "\n",
       "    <p><strong>q2a</strong> passed!</p>\n",
       "    \n",
       "\n",
       "\n",
       "    <p><strong>q2b</strong> passed!</p>\n",
       "    \n",
       "\n",
       "\n",
       "    <p><strong>q2c</strong> passed!</p>\n",
       "    \n",
       "\n",
       "\n",
       "    <p><strong>q3a</strong> passed!</p>\n",
       "    \n",
       "\n",
       "\n",
       "    <p><strong>q3b</strong> passed!</p>\n",
       "    \n",
       "\n",
       "\n",
       "    <p><strong>q3c</strong> passed!</p>\n",
       "    \n",
       "\n",
       "\n",
       "    <p><strong>q3d</strong> passed!</p>\n",
       "    \n",
       "\n",
       "\n",
       "    <p><strong>q3e</strong> passed!</p>\n",
       "    \n",
       "\n",
       "\n",
       "    <p><strong>q3f</strong> passed!</p>\n",
       "    \n",
       "\n",
       "\n",
       "    <p><strong>q6a</strong> passed!</p>\n",
       "    \n",
       "\n",
       "\n",
       "    <p><strong>q6b</strong> passed!</p>\n",
       "    \n",
       "\n",
       "\n",
       "    <p><strong>q6c</strong> passed!</p>\n",
       "    \n",
       "\n",
       "\n",
       "    <p><strong>q6e</strong> passed!</p>\n",
       "    \n",
       "\n",
       "\n",
       "    <p><strong>q6f</strong> passed!</p>\n",
       "    \n",
       "\n",
       "\n",
       "    <p><strong>q7a</strong> passed!</p>\n",
       "    \n",
       "\n",
       "\n",
       "    <p><strong>q7d</strong> passed!</p>\n",
       "    \n",
       "\n",
       "\n",
       "    <p><strong>q8a</strong> passed!</p>\n",
       "    \n",
       "\n"
      ],
      "text/plain": [
       "q1a passed!\n",
       "\n",
       "q1b passed!\n",
       "\n",
       "q1c passed!\n",
       "\n",
       "q2a passed!\n",
       "\n",
       "q2b passed!\n",
       "\n",
       "q2c passed!\n",
       "\n",
       "q3a passed!\n",
       "\n",
       "q3b passed!\n",
       "\n",
       "q3c passed!\n",
       "\n",
       "q3d passed!\n",
       "\n",
       "q3e passed!\n",
       "\n",
       "q3f passed!\n",
       "\n",
       "q6a passed!\n",
       "\n",
       "q6b passed!\n",
       "\n",
       "q6c passed!\n",
       "\n",
       "q6e passed!\n",
       "\n",
       "q6f passed!\n",
       "\n",
       "q7a passed!\n",
       "\n",
       "q7d passed!\n",
       "\n",
       "q8a passed!\n"
      ]
     },
     "execution_count": 52,
     "metadata": {},
     "output_type": "execute_result"
    }
   ],
   "source": [
    "grader.check_all()"
   ]
  },
  {
   "cell_type": "markdown",
   "metadata": {
    "deletable": false,
    "editable": false
   },
   "source": [
    "## Submission\n",
    "\n",
    "Make sure you have run all cells in your notebook in order before running the cell below, so that all images/graphs appear in the output. The cell below will generate a zip file for you to submit. **Please save before exporting!**"
   ]
  },
  {
   "cell_type": "code",
   "execution_count": null,
   "metadata": {
    "deletable": false,
    "editable": false
   },
   "outputs": [],
   "source": [
    "# Save your notebook first, then run this cell to export your submission.\n",
    "grader.export()"
   ]
  },
  {
   "cell_type": "markdown",
   "metadata": {},
   "source": [
    " "
   ]
  }
 ],
 "metadata": {
  "celltoolbar": "Create Assignment",
  "history": [
   {
    "code": "import numpy as np\nimport matplotlib\nimport matplotlib.pyplot as plt\nimport seaborn as sns\n\nplt.style.use('fivethirtyeight')\n\n# Default plot configurations\n%matplotlib inline\nplt.rcParams['figure.figsize'] = (16,8)\nplt.rcParams['figure.dpi'] = 150\nsns.set()\n\nfrom IPython.display import display, Latex, Markdown",
    "id": "07375046d98444e281b75644b7875f95",
    "idx": 7,
    "time": "2021-01-23T21:48:36.943Z",
    "type": "execution"
   },
   {
    "code": "from scipy import special",
    "id": "ca39083560ea48cf8a0c0ab0b13e4a27",
    "idx": 10,
    "time": "2021-01-23T21:48:36.954Z",
    "type": "execution"
   },
   {
    "code": "special.factorial(5), special.factorial(range(1, 6))",
    "id": "546d30b5861449e185cf528e370283f4",
    "idx": 12,
    "time": "2021-01-23T21:48:36.958Z",
    "type": "execution"
   },
   {
    "code": "special.comb(5, 3), special.factorial(5) / (special.factorial(3) * special.factorial(2))",
    "id": "cdacb5e5b5f5491ebea0d749e96e2402",
    "idx": 14,
    "time": "2021-01-23T21:48:36.963Z",
    "type": "execution"
   },
   {
    "code": "special.comb(5, range(6))",
    "id": "eec6b0ee84b547228484cd07185aef3a",
    "idx": 15,
    "time": "2021-01-23T21:48:36.967Z",
    "type": "execution"
   },
   {
    "code": "special.comb(100, 50), special.comb(100, 50, exact=True)",
    "id": "af3b02975565487986a72fd8707c2f9f",
    "idx": 16,
    "time": "2021-01-23T21:48:36.971Z",
    "type": "execution"
   },
   {
    "code": "prob_1a = special.comb(100, 20)*(0.26**20)*(0.74**80) # SOLUTION\nprob_1a",
    "id": "0f105036c2234405a0b2d62c2868d190",
    "idx": 20,
    "time": "2021-01-23T21:48:36.976Z",
    "type": "execution"
   },
   {
    "code": "# TEST\nprob_1a >= 0 and prob_1a <= 1",
    "id": "5838c54b39cc421c890b923111e00494",
    "idx": 21,
    "time": "2021-01-23T21:48:36.980Z",
    "type": "execution"
   },
   {
    "code": "# HIDDEN TEST\nnp.isclose(prob_1a, 0.0369, atol = 1e-4)",
    "id": "b9f7002ce1c4413e84f330d03ad31725",
    "idx": 22,
    "time": "2021-01-23T21:48:36.983Z",
    "type": "execution"
   },
   {
    "code": "k = np.arange(101)\nall_probs = special.comb(100, k)*(0.26**k)*(0.74**(100-k)) # SOLUTION\nnp.round(all_probs, 4), sum(all_probs)",
    "id": "f9d1a7f6b6fe49108c96260b5a5fccf0",
    "idx": 24,
    "time": "2021-01-23T21:48:36.987Z",
    "type": "execution"
   },
   {
    "code": "# TEST\nnp.all(all_probs >= 0) and np.all(all_probs <= 1)",
    "id": "50904c34398d4918b2dcc241adcdd6a8",
    "idx": 25,
    "time": "2021-01-23T21:48:36.990Z",
    "type": "execution"
   },
   {
    "code": "# HIDDEN TEST\nk = np.arange(101)\ntest_1b = special.comb(100, k)*(0.26**k)*(0.74**(100-k))\nnp.all(np.isclose(test_1b, all_probs, atol = 1e-5))",
    "id": "90f6c97618f94fa79d3380d9c710a12b",
    "idx": 26,
    "time": "2021-01-23T21:48:36.994Z",
    "type": "execution"
   },
   {
    "code": "prob_1c = sum(all_probs[16:37]) # SOLUTION",
    "id": "4173ddcd4e1640f4bd6188effa6f43b1",
    "idx": 28,
    "time": "2021-01-23T21:48:36.997Z",
    "type": "execution"
   },
   {
    "code": "# TEST\nprob_1c >= 0 and prob_1c <= 1",
    "id": "657df98b45184f34946c7e4ac100efcc",
    "idx": 29,
    "time": "2021-01-23T21:48:37.000Z",
    "type": "execution"
   },
   {
    "code": "# HIDDEN TEST\nnp.isclose(prob_1c, 0.9838, atol = 1e-4)",
    "id": "935a2ffad450451797dfcc5b047755a0",
    "idx": 30,
    "time": "2021-01-23T21:48:37.004Z",
    "type": "execution"
   },
   {
    "code": "def prob_at_most(n, p, s):\n    \"\"\" \n    returns the probability of S <= s\n    Input n: sample size; p : proportion; s: number of successes at most\"\"\"\n    # BEGIN SOLUTION\n    if 0 <= p and p <= 1 and s <= n:\n        k = np.arange(n+1)\n        all_probs = special.comb(n, k)*(p**k)*((1-p)**(n-k))\n        return sum(all_probs[:s+1])\n    else:\n        return 0\n    # END SOLUTION",
    "id": "130d2dd651f8442e87a118bb867d08ac",
    "idx": 34,
    "time": "2021-01-23T21:48:37.011Z",
    "type": "execution"
   },
   {
    "code": "# TEST\nprob_at_most(3, 0.4, 1) >= 0",
    "id": "5a339ffda5a2464a86d95aa1d8971b3d",
    "idx": 35,
    "time": "2021-01-23T21:48:37.016Z",
    "type": "execution"
   },
   {
    "code": "# TEST\nprob_at_most(5, 0.6, 3) <= 1",
    "id": "a1a9472708d84cc189f5449729557e17",
    "idx": 36,
    "time": "2021-01-23T21:48:37.020Z",
    "type": "execution"
   },
   {
    "code": "# TEST\nprob_at_most(2, 3, 4) == 0",
    "id": "55237996ee7d44e980a858332e3d9647",
    "idx": 37,
    "time": "2021-01-23T21:48:37.024Z",
    "type": "execution"
   },
   {
    "code": "# HIDDEN TEST\nnp.isclose(prob_at_most(10, 0.7, 4), 0.0473, atol = 1e-4)",
    "id": "503b79910c514d8f9f2046fdee3b760d",
    "idx": 38,
    "time": "2021-01-23T21:48:37.028Z",
    "type": "execution"
   },
   {
    "code": "# HIDDEN TEST\nnp.isclose(prob_at_most(10, 0.7, 4), 0.0473, atol = 1e-4)",
    "id": "1fee61bd636a4537be2e225c71113061",
    "idx": 39,
    "time": "2021-01-23T21:48:37.032Z",
    "type": "execution"
   },
   {
    "code": "# HIDDEN TEST\nnp.isclose(prob_at_most(5, 1, 1), 0, atol = 1e-4)",
    "id": "b6ea452a317547a98539e9a3610f76b6",
    "idx": 40,
    "time": "2021-01-23T21:48:37.036Z",
    "type": "execution"
   },
   {
    "code": "# HIDDEN TEST\nnp.isclose(prob_at_most(8, 0.7, 3), 0.05797, atol = 1e-4)",
    "id": "740b927cd5c04911863f7afd0e4f8f56",
    "idx": 41,
    "time": "2021-01-23T21:48:37.039Z",
    "type": "execution"
   },
   {
    "code": "p_majority = 1 - prob_at_most(200, 0.45, 100) # SOLUTION \np_majority",
    "id": "73d052a1a7d3435181ad634b43ba9058",
    "idx": 43,
    "time": "2021-01-23T21:48:37.044Z",
    "type": "execution"
   },
   {
    "code": "# TEST\np_majority >= 0 and p_majority <= 1",
    "id": "30a63dda25564ef798da00a017df030a",
    "idx": 44,
    "time": "2021-01-23T21:48:37.048Z",
    "type": "execution"
   },
   {
    "code": "# HIDDEN TEST\nnp.isclose(p_majority, 0.06807, atol = 1e-4)",
    "id": "c19c832fa41f46e08c57b815296be79a",
    "idx": 45,
    "time": "2021-01-23T21:48:37.052Z",
    "type": "execution"
   },
   {
    "code": "prob_2c = 1 - (prob_at_most(200, 0.45, 100)**3)*prob_at_most(300, 0.45, 150)*prob_at_most(400, 0.45, 200) # SOLUTION\nprob_2c",
    "id": "d547a11c354d4ad3b8b675c5e3eb0b7d",
    "idx": 47,
    "time": "2021-01-23T21:48:37.056Z",
    "type": "execution"
   },
   {
    "code": "# TEST\nprob_2c >= 0 and prob_2c <= 1",
    "id": "f145bb9b002c49e3a863cfaab4467aae",
    "idx": 48,
    "time": "2021-01-23T21:48:37.059Z",
    "type": "execution"
   },
   {
    "code": "# HIDDEN TEST\nnp.isclose(prob_2c, 0.2355, atol = 1e-4)",
    "id": "99f9aec328bd4afc9d5daa52f3885683",
    "idx": 49,
    "time": "2021-01-23T21:48:37.063Z",
    "type": "execution"
   },
   {
    "code": "ans_3a = 'b' # SOLUTION",
    "id": "0888f108b7e2463286cd457555e111ae",
    "idx": 53,
    "time": "2021-01-23T21:48:37.068Z",
    "type": "execution"
   },
   {
    "code": "# TEST\nans_3a in ['a', 'b', 'c', 'd']",
    "id": "a21ac002a2cf40ac8e34e2249b02b7ff",
    "idx": 54,
    "time": "2021-01-23T21:48:37.072Z",
    "type": "execution"
   },
   {
    "code": "# HIDDEN TEST\nans_3a == 'b'",
    "id": "7f841ce92e0843bf988238d86a200552",
    "idx": 55,
    "time": "2021-01-23T21:48:37.076Z",
    "type": "execution"
   },
   {
    "code": "ans_3b = 'c' # SOLUTION",
    "id": "feacd24ac12b42f283d4acac35fe18e7",
    "idx": 57,
    "time": "2021-01-23T21:48:37.080Z",
    "type": "execution"
   },
   {
    "code": "# TEST\nans_3b in ['a', 'b', 'c', 'd']",
    "id": "5d009f8137de4f46a8f29cb7dbcbf1a1",
    "idx": 58,
    "time": "2021-01-23T21:48:37.085Z",
    "type": "execution"
   },
   {
    "code": "# HIDDEN TEST\nans_3b == 'c'",
    "id": "6e00401dd8cd425797371d55bd30d6ad",
    "idx": 59,
    "time": "2021-01-23T21:48:37.089Z",
    "type": "execution"
   },
   {
    "code": "def prob_sample_counts(t, c, o):\n    \"\"\"\n    Input:\n    t - number of votes for Trump\n    c - number of votes for Clinton\n    o - number of votes for Other\n    Return: The probability of getting a such sample\n    \"\"\"\n    # BEGIN SOLUTION\n    if t+c+o == 20:\n        p_T = 0.4818\n        p_C = 0.4746\n        p_O = 0.0436\n        return (special.factorial(20)/(special.factorial(t)*special.factorial(c)*special.factorial(o)))*(p_T**t)*(p_C**c)*(p_O**o)\n    else:\n        return 0\n    # END SOLUTION",
    "id": "4509a567eb874e3187ed7b3bc31f6749",
    "idx": 61,
    "time": "2021-01-23T21:48:37.093Z",
    "type": "execution"
   },
   {
    "code": "# TEST\nnp.isclose(prob_sample_counts(31, 8, 1), 0, atol = 1e-5)",
    "id": "cc8c9ae26ae340dcb3e81ce9915fbd76",
    "idx": 62,
    "time": "2021-01-23T21:48:37.098Z",
    "type": "execution"
   },
   {
    "code": "# TEST\n0 <= prob_sample_counts(2, 5, 13) <= 1",
    "id": "a2ca3b4de3c4441db397aaaab0d513d9",
    "idx": 63,
    "time": "2021-01-23T21:48:37.101Z",
    "type": "execution"
   },
   {
    "code": "# TEST\n0 <= prob_sample_counts(5, 1, 14) <= 1",
    "id": "fbca87c0854449d38b8d114094c49c5d",
    "idx": 64,
    "time": "2021-01-23T21:48:37.105Z",
    "type": "execution"
   },
   {
    "code": "# TEST\n0 <= prob_sample_counts(10, 8, 2) <= 1",
    "id": "5af515b0b8604114a14dc807a547c0b1",
    "idx": 65,
    "time": "2021-01-23T21:48:37.109Z",
    "type": "execution"
   },
   {
    "code": "# TEST\n0 <= prob_sample_counts(6, 12, 2) <= 1",
    "id": "ba76be6ba14b45a19d644c2335b5523c",
    "idx": 66,
    "time": "2021-01-23T21:48:37.113Z",
    "type": "execution"
   },
   {
    "code": "# HIDDEN TEST\nprob_sample_counts(6, 12, 8) == 0",
    "id": "92c511f89990432780373a8f3a2aa2ee",
    "idx": 67,
    "time": "2021-01-23T21:48:37.117Z",
    "type": "execution"
   },
   {
    "code": "# HIDDEN TEST\nprob_sample_counts(21, 0, 3) == 0",
    "id": "00fdb3c2df454397868530ac7e920543",
    "idx": 68,
    "time": "2021-01-23T21:48:37.120Z",
    "type": "execution"
   },
   {
    "code": "# HIDDEN TEST\nprob_sample_counts(6, 6, 2) == 0",
    "id": "e0c408edc17a411c9ed23cca33ee9bc5",
    "idx": 69,
    "time": "2021-01-23T21:48:37.125Z",
    "type": "execution"
   },
   {
    "code": "# HIDDEN TEST\nnp.isclose(prob_sample_counts(6, 12, 2), 0.01095, atol = 1e-4)",
    "id": "5c3828052c4248c3af031efc31b1dc7d",
    "idx": 70,
    "time": "2021-01-23T21:48:37.129Z",
    "type": "execution"
   },
   {
    "code": "# HIDDEN TEST\nnp.isclose(prob_sample_counts(13, 7, 0), 0.03169, atol = 1e-4)",
    "id": "1b5d3eab73614eec813d52ab44acb1d8",
    "idx": 71,
    "time": "2021-01-23T21:48:37.132Z",
    "type": "execution"
   },
   {
    "code": "# HIDDEN TEST\nnp.isclose(prob_sample_counts(13, 5, 2), 0.00562, atol = 1e-4)",
    "id": "8285217ca0134e218d7ed7e29298573a",
    "idx": 72,
    "time": "2021-01-23T21:48:37.135Z",
    "type": "execution"
   },
   {
    "code": "prob_3d = sum(prob_sample_counts(t, c, 20-(t+c)) for t in range(21) for c in range(0, 21-t)) # SOLUTION\nprob_3d",
    "id": "c9eb6bdf28b245228c52db3692bdde90",
    "idx": 74,
    "time": "2021-01-23T21:48:37.139Z",
    "type": "execution"
   },
   {
    "code": "# TEST\nnp.isclose(prob_3d, 1, atol = 1e-4)",
    "id": "7a2b5b3ec7ce495ab4cba58fd78b477e",
    "idx": 75,
    "time": "2021-01-23T21:48:37.142Z",
    "type": "execution"
   },
   {
    "code": "# HIDDEN TEST\nnp.isclose(prob_3d, 1, atol = 1e-4)",
    "id": "82c6f152c79a4a268617fac53b0f7297",
    "idx": 76,
    "time": "2021-01-23T21:48:37.146Z",
    "type": "execution"
   },
   {
    "code": "prob_3e = prob_sample_counts(11, 8, 1) # SOLUTION\nprob_3e",
    "id": "7fcfe91b3df4486d8c4e3464a6c676ed",
    "idx": 78,
    "time": "2021-01-23T21:48:37.150Z",
    "type": "execution"
   },
   {
    "code": "# TEST\nprob_3e >= 0 and prob_3e <= 1",
    "id": "f457b33bc8674894ad7ec071e416d4a9",
    "idx": 79,
    "time": "2021-01-23T21:48:37.154Z",
    "type": "execution"
   },
   {
    "code": "# HIDDEN TEST\nnp.isclose(prob_3e, 0.05509, atol = 1e-4)",
    "id": "b57dbe1dcaa742728bfe2306f33fc72e",
    "idx": 80,
    "time": "2021-01-23T21:48:37.158Z",
    "type": "execution"
   },
   {
    "code": "prob_3f = sum(prob_sample_counts(t, c, 20-(t+c)) for t in range(7, 13) for c in range(7, 20-t)) # SOLUTION\nprob_3f",
    "id": "5dd79ef94fd842db8803cb43750bed25",
    "idx": 82,
    "time": "2021-01-23T21:48:37.165Z",
    "type": "execution"
   },
   {
    "code": "# TEST\nprob_3f >= 0 and prob_3f <= 1",
    "id": "04819c13bb9742e98ff78d4dd08f3637",
    "idx": 83,
    "time": "2021-01-23T21:48:37.169Z",
    "type": "execution"
   },
   {
    "code": "# HIDDEN TEST\nnp.isclose(prob_3f, 0.46939, atol = 1e-4)",
    "id": "ee73ff5a3e184f7daa26425f8d843c94",
    "idx": 84,
    "time": "2021-01-23T21:48:37.173Z",
    "type": "execution"
   },
   {
    "code": "def draw_state_sample(N, state):\n    # BEGIN SOLUTION \n    if state == \"florida\":\n        return np.random.multinomial(N, [0.4902, 0.4782, 1 - (0.4902 + 0.4782)])\n    \n    if state == \"michigan\": \n        return np.random.multinomial(N, [0.475, 0.4727, 1 - (0.475 + 0.4727)])\n\n    if state == \"pennsylvania\":\n        return np.random.multinomial(N, [0.4818, 0.4746, 1 - (0.4818 + 0.4746)])\n  \n    if state == \"wisconsin\":\n        return np.random.multinomial(N, [0.4722, 0.4645, 1 - (0.4722 + 0.4645)])\n\n    raise(\"invalid state\")\n    # END SOLUTION",
    "id": "8fe21bd6a5d14aef96b3182eaec02042",
    "idx": 98,
    "time": "2021-01-23T21:48:37.187Z",
    "type": "execution"
   },
   {
    "code": "# TEST\nlen(draw_state_sample(1500, \"florida\")) == 3",
    "id": "ea70a7e0cdaa47cfa97b83f69b8f6bd0",
    "idx": 99,
    "time": "2021-01-23T21:48:37.191Z",
    "type": "execution"
   },
   {
    "code": "# TEST \nsum(draw_state_sample(1500, \"michigan\")) == 1500",
    "id": "9bdf6a755df24968a0b08f58c2e71f4d",
    "idx": 100,
    "time": "2021-01-23T21:48:37.198Z",
    "type": "execution"
   },
   {
    "code": "# TEST\nq7a_penn = draw_state_sample(1500, \"pennsylvania\")\ntrump_win_penn = (q7a_penn[0] - q7a_penn[1]) / 1500\nabs(trump_win_penn - 0.007) <= 0.12",
    "id": "3a4cfa9f2ace4979b904afbe52dc85e8",
    "idx": 101,
    "time": "2021-01-23T21:48:37.202Z",
    "type": "execution"
   },
   {
    "code": "def trump_advantage(voter_sample):\n    # BEGIN SOLUTION \n    N = sum(voter_sample)\n    percentage_trump = voter_sample[0]/N \n    percentage_clinton = voter_sample[1]/N \n    return percentage_trump - percentage_clinton\n    # END SOLUTION",
    "id": "1404c78e30d447808dd7199d0b479184",
    "idx": 103,
    "time": "2021-01-23T21:48:37.206Z",
    "type": "execution"
   },
   {
    "code": "# TEST\n-1 < trump_advantage(draw_state_sample(1500, \"wisconsin\")) < 1",
    "id": "d941f4a8cdd84e0ea8de879669856f61",
    "idx": 104,
    "time": "2021-01-23T21:48:37.210Z",
    "type": "execution"
   },
   {
    "code": "# TEST\nnp.isclose(trump_advantage([100, 60, 40]), 0.2)",
    "id": "aa851f0f6d344198a30cc3039cb39e77",
    "idx": 105,
    "time": "2021-01-23T21:48:37.214Z",
    "type": "execution"
   },
   {
    "code": "# TEST\nnp.isclose(trump_advantage([10, 30, 10]), -0.4)",
    "id": "79f6a59ecaa6411c8f9231f2557e0bb4",
    "idx": 106,
    "time": "2021-01-23T21:48:37.217Z",
    "type": "execution"
   },
   {
    "code": "simulations = [trump_advantage(draw_state_sample(1500, \"pennsylvania\")) for i in range(100000)] # SOLUTION",
    "id": "84c14ccc49154f668ed9f7edb7d430fa",
    "idx": 108,
    "time": "2021-01-23T21:48:37.221Z",
    "type": "execution"
   },
   {
    "code": "# TEST\nlen(simulations) == 100000",
    "id": "b68d426107104885949db508865d56ab",
    "idx": 109,
    "time": "2021-01-23T21:48:37.224Z",
    "type": "execution"
   },
   {
    "code": "# TEST\nsum([-1 < x < 1 for x in simulations]) == len(simulations)",
    "id": "9743053eb8eb4c36908aa1d2389b40f1",
    "idx": 110,
    "time": "2021-01-23T21:48:37.227Z",
    "type": "execution"
   },
   {
    "code": "# TEST\nabs(np.mean(simulations) - 0.007) <= 0.016",
    "id": "9ce83a25df2a40b9977a9a78e24a26b5",
    "idx": 111,
    "time": "2021-01-23T21:48:37.231Z",
    "type": "execution"
   },
   {
    "code": "# BEGIN SOLUTION\nplt.hist(simulations) ;\nplt.title('Pennsylvania');\nplt.ylabel('# of Simulations');\nplt.xlabel('Sampling Distribution Advantage');\n# END SOLUTION",
    "id": "6bdc1384f83241a48222e9ed20494d7c",
    "idx": 113,
    "time": "2021-01-23T21:48:37.235Z",
    "type": "execution"
   },
   {
    "code": "def trump_wins(N):\n    # BEGIN SOLUTION \n    wins_florida = trump_advantage(draw_state_sample(N, \"florida\")) > 0\n    wins_michigan = trump_advantage(draw_state_sample(N, \"michigan\")) > 0\n    wins_pennsylvania = trump_advantage(draw_state_sample(N, \"pennsylvania\")) > 0\n    wins_wisconsin = trump_advantage(draw_state_sample(N, \"wisconsin\")) > 0\n    if wins_michigan and wins_pennsylvania and wins_wisconsin:\n        return 1\n    if wins_florida and (wins_michigan or wins_pennsylvania or wins_wisconsin):\n        return 1\n    return 0\n    # END SOLUTION",
    "id": "4039454d470642128e018a2f340c0538",
    "idx": 115,
    "time": "2021-01-23T21:48:37.238Z",
    "type": "execution"
   },
   {
    "code": "# TEST\ntrump_wins(1000) in [0, 1]",
    "id": "bf75dae85c3e41c99c8150776dd9068d",
    "idx": 116,
    "time": "2021-01-23T21:48:37.242Z",
    "type": "execution"
   },
   {
    "code": "proportion_trump = np.mean([trump_wins(1500) for i in range(100000)]) # SOLUTION\nproportion_trump",
    "id": "26efb4f8a1824e0c88bb216534551591",
    "idx": 118,
    "time": "2021-01-23T21:48:37.246Z",
    "type": "execution"
   },
   {
    "code": "# TEST\n0 < proportion_trump < 1",
    "id": "85aa0487ae7543489c079cc129284b0e",
    "idx": 119,
    "time": "2021-01-23T21:48:37.249Z",
    "type": "execution"
   },
   {
    "code": "# TEST\nabs(proportion_trump - 0.695) <= 0.02",
    "id": "2675f62285cb4d19932cf605fb510707",
    "idx": 120,
    "time": "2021-01-23T21:48:37.253Z",
    "type": "execution"
   },
   {
    "code": "def draw_biased_state_sample(N, state):\n    \n    # BEGIN SOLUTION \n    if state == \"florida\":\n        return np.random.multinomial(N, [0.4902 - 0.005, 0.4782 + 0.005, 1 - (0.4902 + 0.4782)])\n    \n    if state == \"michigan\": \n        return np.random.multinomial(N, [0.475 - 0.005, 0.4727 + 0.005, 1 - (0.475 + 0.4727)])\n\n    if state == \"pennsylvania\":\n        return np.random.multinomial(N, [0.4818 - 0.005, 0.4746 + 0.005, 1 - (0.4818 + 0.4746)])\n  \n    if state == \"wisconsin\":\n        return np.random.multinomial(N, [0.4722 - 0.005, 0.4645 + 0.005, 1 - (0.4722 + 0.4645)])\n\n    raise(\"invalid state\")\n    # END SOLUTION\n    \nbiased_simulations = [trump_advantage(draw_biased_state_sample(1500, \"pennsylvania\")) for i in range(100000)] # SOLUTION",
    "id": "1ff387807db94700a63d77d3c1e8fb86",
    "idx": 124,
    "time": "2021-01-23T21:48:37.258Z",
    "type": "execution"
   },
   {
    "code": "# TEST\nlen(draw_biased_state_sample(1000, \"wisconsin\")) == 3",
    "id": "18cdd85d443d4d018969163d737e32b4",
    "idx": 125,
    "time": "2021-01-23T21:48:37.261Z",
    "type": "execution"
   },
   {
    "code": "# TEST\nsum(draw_biased_state_sample(1000, \"michigan\")) == 1000",
    "id": "5e13d84d3eaa4678866b718d0209eaf1",
    "idx": 126,
    "time": "2021-01-23T21:48:37.264Z",
    "type": "execution"
   },
   {
    "code": "# TEST\nq7_1 = draw_biased_state_sample(3000, \"florida\")\nq7_1[0] > q7_1[2] and q7_1[1] > q7_1[2]",
    "id": "781806d2d30a4fe48e226059af4f0a21",
    "idx": 127,
    "time": "2021-01-23T21:48:37.268Z",
    "type": "execution"
   },
   {
    "code": "# TEST\nlen(biased_simulations) == 100000",
    "id": "8918a8df1868472c939b0bc23c02f3b9",
    "idx": 128,
    "time": "2021-01-23T21:48:37.271Z",
    "type": "execution"
   },
   {
    "code": "# TEST\nsum([-1 < x < 1 for x in biased_simulations]) == len(biased_simulations)",
    "id": "877f92a5f38340b7b51fb574bd365e0c",
    "idx": 129,
    "time": "2021-01-23T21:48:37.274Z",
    "type": "execution"
   },
   {
    "code": "# TEST\nabs(np.mean(biased_simulations) + 0.003) <= 0.12",
    "id": "a7a6fef5e9bf4dce8911896e259ec312",
    "idx": 130,
    "time": "2021-01-23T21:48:37.278Z",
    "type": "execution"
   },
   {
    "code": "# BEGIN SOLUTION\nplt.hist(biased_simulations) ;\nplt.title('Biased Sampling of Pennsylvania') ;\nplt.ylabel('# of Simulations');\nplt.xlabel('Sampling Distribution Advantage');\n# END SOLUTION",
    "id": "637730b8633341de858c757d2b7ca6ce",
    "idx": 132,
    "time": "2021-01-23T21:48:37.281Z",
    "type": "execution"
   },
   {
    "code": "def trump_wins_biased(N): \n    # BEGIN SOLUTION \n    wins_florida = trump_advantage(draw_biased_state_sample(N, \"florida\")) > 0\n    wins_michigan = trump_advantage(draw_biased_state_sample(N, \"michigan\")) > 0\n    wins_pennsylvania = trump_advantage(draw_biased_state_sample(N, \"pennsylvania\")) > 0\n    wins_wisconsin = trump_advantage(draw_biased_state_sample(N, \"wisconsin\")) > 0\n    if wins_michigan and wins_pennsylvania and wins_wisconsin:\n        return 1\n    if wins_florida and (wins_michigan or wins_pennsylvania or wins_wisconsin):\n        return 1\n    return 0\n    # END SOLUTION\n\nproportion_trump_biased = np.mean([trump_wins_biased(1500) for i in range(100000)]) # SOLUTION\nproportion_trump_biased",
    "id": "0e8439d120e54c198d72db1d863959c0",
    "idx": 136,
    "time": "2021-01-23T21:48:37.287Z",
    "type": "execution"
   },
   {
    "code": "# TEST\n0 < proportion_trump_biased < 1",
    "id": "412e961a3b614b968a8f29f2a028fe31",
    "idx": 137,
    "time": "2021-01-23T21:48:37.290Z",
    "type": "execution"
   },
   {
    "code": "# TEST\nabs(proportion_trump_biased - 0.466) <= 0.04",
    "id": "67ab961501094d12baa8c0ecc57aec27",
    "idx": 138,
    "time": "2021-01-23T21:48:37.294Z",
    "type": "execution"
   },
   {
    "code": "high_sample_size_unbiased_proportion_trump = np.mean([trump_wins(5000) for i in range(100000)])  # SOLUTION\nhigh_sample_size_biased_proportion_trump = np.mean([trump_wins_biased(5000) for i in range(100000)])  # SOLUTION\nprint(high_sample_size_unbiased_proportion_trump, high_sample_size_biased_proportion_trump)",
    "id": "a75269063207490db6a4bba2bd678958",
    "idx": 141,
    "time": "2021-01-23T21:48:37.298Z",
    "type": "execution"
   },
   {
    "code": "# TEST\nnp.abs(high_sample_size_unbiased_proportion_trump - 0.829) <= 0.02",
    "id": "7598f8ac178f40ec8b6fb65be77544ed",
    "idx": 142,
    "time": "2021-01-23T21:48:37.302Z",
    "type": "execution"
   },
   {
    "code": "# TEST \nnp.abs(high_sample_size_biased_proportion_trump - 0.445) <= 0.04",
    "id": "5874694d43b3458283c9fb26c6bbc7e8",
    "idx": 143,
    "time": "2021-01-23T21:48:37.304Z",
    "type": "execution"
   },
   {
    "code": "# Feel free to use this cell for any scratch work (creating visualizations, examining data, etc.)",
    "id": "5998b4d4fc4a4d5585a9a7172ceac024",
    "idx": 145,
    "time": "2021-01-23T21:48:37.309Z",
    "type": "execution"
   },
   {
    "id": "07375046d98444e281b75644b7875f95",
    "time": "2021-01-23T21:48:37.988Z",
    "type": "completion"
   },
   {
    "id": "ca39083560ea48cf8a0c0ab0b13e4a27",
    "time": "2021-01-23T21:48:37.991Z",
    "type": "completion"
   },
   {
    "id": "546d30b5861449e185cf528e370283f4",
    "time": "2021-01-23T21:48:38.084Z",
    "type": "completion"
   },
   {
    "id": "cdacb5e5b5f5491ebea0d749e96e2402",
    "time": "2021-01-23T21:48:38.093Z",
    "type": "completion"
   },
   {
    "id": "eec6b0ee84b547228484cd07185aef3a",
    "time": "2021-01-23T21:48:38.102Z",
    "type": "completion"
   },
   {
    "id": "af3b02975565487986a72fd8707c2f9f",
    "time": "2021-01-23T21:48:38.120Z",
    "type": "completion"
   },
   {
    "id": "0f105036c2234405a0b2d62c2868d190",
    "time": "2021-01-23T21:48:38.125Z",
    "type": "completion"
   },
   {
    "id": "5838c54b39cc421c890b923111e00494",
    "time": "2021-01-23T21:48:38.128Z",
    "type": "completion"
   },
   {
    "id": "b9f7002ce1c4413e84f330d03ad31725",
    "time": "2021-01-23T21:48:38.135Z",
    "type": "completion"
   },
   {
    "id": "f9d1a7f6b6fe49108c96260b5a5fccf0",
    "time": "2021-01-23T21:48:38.150Z",
    "type": "completion"
   },
   {
    "id": "50904c34398d4918b2dcc241adcdd6a8",
    "time": "2021-01-23T21:48:38.158Z",
    "type": "completion"
   },
   {
    "id": "90f6c97618f94fa79d3380d9c710a12b",
    "time": "2021-01-23T21:48:38.161Z",
    "type": "completion"
   },
   {
    "id": "4173ddcd4e1640f4bd6188effa6f43b1",
    "time": "2021-01-23T21:48:38.201Z",
    "type": "completion"
   },
   {
    "id": "657df98b45184f34946c7e4ac100efcc",
    "time": "2021-01-23T21:48:38.221Z",
    "type": "completion"
   },
   {
    "id": "935a2ffad450451797dfcc5b047755a0",
    "time": "2021-01-23T21:48:38.226Z",
    "type": "completion"
   },
   {
    "id": "130d2dd651f8442e87a118bb867d08ac",
    "time": "2021-01-23T21:48:38.301Z",
    "type": "completion"
   },
   {
    "id": "5a339ffda5a2464a86d95aa1d8971b3d",
    "time": "2021-01-23T21:48:38.358Z",
    "type": "completion"
   },
   {
    "id": "a1a9472708d84cc189f5449729557e17",
    "time": "2021-01-23T21:48:38.364Z",
    "type": "completion"
   },
   {
    "id": "55237996ee7d44e980a858332e3d9647",
    "time": "2021-01-23T21:48:38.370Z",
    "type": "completion"
   },
   {
    "id": "503b79910c514d8f9f2046fdee3b760d",
    "time": "2021-01-23T21:48:38.375Z",
    "type": "completion"
   },
   {
    "id": "1fee61bd636a4537be2e225c71113061",
    "time": "2021-01-23T21:48:38.412Z",
    "type": "completion"
   },
   {
    "id": "b6ea452a317547a98539e9a3610f76b6",
    "time": "2021-01-23T21:48:38.482Z",
    "type": "completion"
   },
   {
    "id": "740b927cd5c04911863f7afd0e4f8f56",
    "time": "2021-01-23T21:48:38.487Z",
    "type": "completion"
   },
   {
    "id": "73d052a1a7d3435181ad634b43ba9058",
    "time": "2021-01-23T21:48:38.492Z",
    "type": "completion"
   },
   {
    "id": "30a63dda25564ef798da00a017df030a",
    "time": "2021-01-23T21:48:38.496Z",
    "type": "completion"
   },
   {
    "id": "c19c832fa41f46e08c57b815296be79a",
    "time": "2021-01-23T21:48:38.498Z",
    "type": "completion"
   },
   {
    "id": "d547a11c354d4ad3b8b675c5e3eb0b7d",
    "time": "2021-01-23T21:48:38.502Z",
    "type": "completion"
   },
   {
    "id": "f145bb9b002c49e3a863cfaab4467aae",
    "time": "2021-01-23T21:48:38.504Z",
    "type": "completion"
   },
   {
    "id": "99f9aec328bd4afc9d5daa52f3885683",
    "time": "2021-01-23T21:48:38.507Z",
    "type": "completion"
   },
   {
    "id": "0888f108b7e2463286cd457555e111ae",
    "time": "2021-01-23T21:48:38.509Z",
    "type": "completion"
   },
   {
    "id": "a21ac002a2cf40ac8e34e2249b02b7ff",
    "time": "2021-01-23T21:48:38.512Z",
    "type": "completion"
   },
   {
    "id": "7f841ce92e0843bf988238d86a200552",
    "time": "2021-01-23T21:48:38.514Z",
    "type": "completion"
   },
   {
    "id": "feacd24ac12b42f283d4acac35fe18e7",
    "time": "2021-01-23T21:48:38.516Z",
    "type": "completion"
   },
   {
    "id": "5d009f8137de4f46a8f29cb7dbcbf1a1",
    "time": "2021-01-23T21:48:38.517Z",
    "type": "completion"
   },
   {
    "id": "6e00401dd8cd425797371d55bd30d6ad",
    "time": "2021-01-23T21:48:38.582Z",
    "type": "completion"
   },
   {
    "id": "4509a567eb874e3187ed7b3bc31f6749",
    "time": "2021-01-23T21:48:38.583Z",
    "type": "completion"
   },
   {
    "id": "cc8c9ae26ae340dcb3e81ce9915fbd76",
    "time": "2021-01-23T21:48:38.585Z",
    "type": "completion"
   },
   {
    "id": "a2ca3b4de3c4441db397aaaab0d513d9",
    "time": "2021-01-23T21:48:38.587Z",
    "type": "completion"
   },
   {
    "id": "fbca87c0854449d38b8d114094c49c5d",
    "time": "2021-01-23T21:48:38.589Z",
    "type": "completion"
   },
   {
    "id": "5af515b0b8604114a14dc807a547c0b1",
    "time": "2021-01-23T21:48:38.656Z",
    "type": "completion"
   },
   {
    "id": "ba76be6ba14b45a19d644c2335b5523c",
    "time": "2021-01-23T21:48:38.658Z",
    "type": "completion"
   },
   {
    "id": "92c511f89990432780373a8f3a2aa2ee",
    "time": "2021-01-23T21:48:38.661Z",
    "type": "completion"
   },
   {
    "id": "00fdb3c2df454397868530ac7e920543",
    "time": "2021-01-23T21:48:38.663Z",
    "type": "completion"
   },
   {
    "id": "e0c408edc17a411c9ed23cca33ee9bc5",
    "time": "2021-01-23T21:48:38.665Z",
    "type": "completion"
   },
   {
    "id": "5c3828052c4248c3af031efc31b1dc7d",
    "time": "2021-01-23T21:48:38.667Z",
    "type": "completion"
   },
   {
    "id": "1b5d3eab73614eec813d52ab44acb1d8",
    "time": "2021-01-23T21:48:38.670Z",
    "type": "completion"
   },
   {
    "id": "8285217ca0134e218d7ed7e29298573a",
    "time": "2021-01-23T21:48:38.672Z",
    "type": "completion"
   },
   {
    "id": "c9eb6bdf28b245228c52db3692bdde90",
    "time": "2021-01-23T21:48:38.673Z",
    "type": "completion"
   },
   {
    "id": "7a2b5b3ec7ce495ab4cba58fd78b477e",
    "time": "2021-01-23T21:48:38.676Z",
    "type": "completion"
   },
   {
    "id": "82c6f152c79a4a268617fac53b0f7297",
    "time": "2021-01-23T21:48:38.678Z",
    "type": "completion"
   },
   {
    "id": "7fcfe91b3df4486d8c4e3464a6c676ed",
    "time": "2021-01-23T21:48:38.680Z",
    "type": "completion"
   },
   {
    "id": "f457b33bc8674894ad7ec071e416d4a9",
    "time": "2021-01-23T21:48:38.682Z",
    "type": "completion"
   },
   {
    "id": "b57dbe1dcaa742728bfe2306f33fc72e",
    "time": "2021-01-23T21:48:38.685Z",
    "type": "completion"
   },
   {
    "id": "5dd79ef94fd842db8803cb43750bed25",
    "time": "2021-01-23T21:48:38.688Z",
    "type": "completion"
   },
   {
    "id": "04819c13bb9742e98ff78d4dd08f3637",
    "time": "2021-01-23T21:48:38.690Z",
    "type": "completion"
   },
   {
    "id": "ee73ff5a3e184f7daa26425f8d843c94",
    "time": "2021-01-23T21:48:38.692Z",
    "type": "completion"
   },
   {
    "id": "8fe21bd6a5d14aef96b3182eaec02042",
    "time": "2021-01-23T21:48:38.701Z",
    "type": "completion"
   },
   {
    "id": "ea70a7e0cdaa47cfa97b83f69b8f6bd0",
    "time": "2021-01-23T21:48:38.767Z",
    "type": "completion"
   },
   {
    "id": "9bdf6a755df24968a0b08f58c2e71f4d",
    "time": "2021-01-23T21:48:38.771Z",
    "type": "completion"
   },
   {
    "id": "3a4cfa9f2ace4979b904afbe52dc85e8",
    "time": "2021-01-23T21:48:38.773Z",
    "type": "completion"
   },
   {
    "id": "1404c78e30d447808dd7199d0b479184",
    "time": "2021-01-23T21:48:38.774Z",
    "type": "completion"
   },
   {
    "id": "d941f4a8cdd84e0ea8de879669856f61",
    "time": "2021-01-23T21:48:38.776Z",
    "type": "completion"
   },
   {
    "id": "aa851f0f6d344198a30cc3039cb39e77",
    "time": "2021-01-23T21:48:38.779Z",
    "type": "completion"
   },
   {
    "id": "79f6a59ecaa6411c8f9231f2557e0bb4",
    "time": "2021-01-23T21:48:38.781Z",
    "type": "completion"
   },
   {
    "id": "84c14ccc49154f668ed9f7edb7d430fa",
    "time": "2021-01-23T21:48:40.465Z",
    "type": "completion"
   },
   {
    "id": "b68d426107104885949db508865d56ab",
    "time": "2021-01-23T21:48:40.470Z",
    "type": "completion"
   },
   {
    "id": "9743053eb8eb4c36908aa1d2389b40f1",
    "time": "2021-01-23T21:48:40.753Z",
    "type": "completion"
   },
   {
    "id": "9ce83a25df2a40b9977a9a78e24a26b5",
    "time": "2021-01-23T21:48:40.760Z",
    "type": "completion"
   },
   {
    "id": "6bdc1384f83241a48222e9ed20494d7c",
    "time": "2021-01-23T21:48:41.864Z",
    "type": "completion"
   },
   {
    "id": "4039454d470642128e018a2f340c0538",
    "time": "2021-01-23T21:48:41.906Z",
    "type": "completion"
   },
   {
    "id": "bf75dae85c3e41c99c8150776dd9068d",
    "time": "2021-01-23T21:48:41.909Z",
    "type": "completion"
   },
   {
    "id": "26efb4f8a1824e0c88bb216534551591",
    "time": "2021-01-23T21:48:50.053Z",
    "type": "completion"
   },
   {
    "id": "85aa0487ae7543489c079cc129284b0e",
    "time": "2021-01-23T21:48:50.055Z",
    "type": "completion"
   },
   {
    "id": "2675f62285cb4d19932cf605fb510707",
    "time": "2021-01-23T21:48:50.059Z",
    "type": "completion"
   },
   {
    "id": "1ff387807db94700a63d77d3c1e8fb86",
    "time": "2021-01-23T21:48:52.199Z",
    "type": "completion"
   },
   {
    "id": "18cdd85d443d4d018969163d737e32b4",
    "time": "2021-01-23T21:48:52.203Z",
    "type": "completion"
   },
   {
    "id": "5e13d84d3eaa4678866b718d0209eaf1",
    "time": "2021-01-23T21:48:52.273Z",
    "type": "completion"
   },
   {
    "id": "781806d2d30a4fe48e226059af4f0a21",
    "time": "2021-01-23T21:48:52.278Z",
    "type": "completion"
   },
   {
    "id": "8918a8df1868472c939b0bc23c02f3b9",
    "time": "2021-01-23T21:48:52.281Z",
    "type": "completion"
   },
   {
    "id": "877f92a5f38340b7b51fb574bd365e0c",
    "time": "2021-01-23T21:48:52.645Z",
    "type": "completion"
   },
   {
    "id": "a7a6fef5e9bf4dce8911896e259ec312",
    "time": "2021-01-23T21:48:52.703Z",
    "type": "completion"
   },
   {
    "id": "637730b8633341de858c757d2b7ca6ce",
    "time": "2021-01-23T21:48:53.826Z",
    "type": "completion"
   },
   {
    "id": "0e8439d120e54c198d72db1d863959c0",
    "time": "2021-01-23T21:49:01.608Z",
    "type": "completion"
   },
   {
    "id": "412e961a3b614b968a8f29f2a028fe31",
    "time": "2021-01-23T21:49:01.612Z",
    "type": "completion"
   },
   {
    "id": "67ab961501094d12baa8c0ecc57aec27",
    "time": "2021-01-23T21:49:01.719Z",
    "type": "completion"
   },
   {
    "code": "# TEST\nassert prob_at_most(3, 0.4, 1) >= 0\nassert prob_at_most(5, 0.6, 3) <= 1\nassert prob_at_most(2, 3, 4) == 0",
    "id": "5a339ffda5a2464a86d95aa1d8971b3d",
    "idx": 35,
    "time": "2021-01-23T21:49:16.005Z",
    "type": "execution"
   },
   {
    "id": "a75269063207490db6a4bba2bd678958",
    "time": "2021-01-23T21:49:18.563Z",
    "type": "completion"
   },
   {
    "id": "7598f8ac178f40ec8b6fb65be77544ed",
    "time": "2021-01-23T21:49:18.567Z",
    "type": "completion"
   },
   {
    "id": "5874694d43b3458283c9fb26c6bbc7e8",
    "time": "2021-01-23T21:49:18.627Z",
    "type": "completion"
   },
   {
    "id": "5998b4d4fc4a4d5585a9a7172ceac024",
    "time": "2021-01-23T21:49:18.631Z",
    "type": "completion"
   },
   {
    "id": "5a339ffda5a2464a86d95aa1d8971b3d",
    "time": "2021-01-23T21:49:18.635Z",
    "type": "completion"
   },
   {
    "code": "# HIDDEN TEST\nassert np.isclose(prob_at_most(10, 0.7, 4), 0.0473, atol = 1e-4)\nassert np.isclose(prob_at_most(10, 0.7, 4), 0.0473, atol = 1e-4)\nassert np.isclose(prob_at_most(5, 1, 1), 0, atol = 1e-4)\nassert np.isclose(prob_at_most(8, 0.7, 3), 0.05797, atol = 1e-4)",
    "id": "503b79910c514d8f9f2046fdee3b760d",
    "idx": 36,
    "time": "2021-01-23T21:49:30.589Z",
    "type": "execution"
   },
   {
    "id": "503b79910c514d8f9f2046fdee3b760d",
    "time": "2021-01-23T21:49:30.732Z",
    "type": "completion"
   },
   {
    "code": "# TEST\nassert prob_at_most(3, 0.4, 1) >= 0\nassert prob_at_most(5, 0.6, 3) <= 1\nassert prob_at_most(2, 3, 4) == 0",
    "id": "5a339ffda5a2464a86d95aa1d8971b3d",
    "idx": 35,
    "time": "2021-01-23T21:49:46.560Z",
    "type": "execution"
   },
   {
    "id": "5a339ffda5a2464a86d95aa1d8971b3d",
    "time": "2021-01-23T21:49:46.655Z",
    "type": "completion"
   },
   {
    "code": "# HIDDEN TEST\nnp.isclose(prob_at_most(10, 0.7, 4), 0.0473, atol = 1e-4)",
    "id": "503b79910c514d8f9f2046fdee3b760d",
    "idx": 36,
    "time": "2021-01-23T21:49:46.686Z",
    "type": "execution"
   },
   {
    "id": "503b79910c514d8f9f2046fdee3b760d",
    "time": "2021-01-23T21:49:46.769Z",
    "type": "completion"
   },
   {
    "code": "# HIDDEN TEST\nnp.isclose(prob_at_most(10, 0.7, 4), 0.0473, atol = 1e-4)",
    "id": "fedd5027cfeb4f3c8e1a7461bbc3ce1a",
    "idx": 37,
    "time": "2021-01-23T21:49:46.839Z",
    "type": "execution"
   },
   {
    "code": "# HIDDEN TEST\nnp.isclose(prob_at_most(5, 1, 1), 0, atol = 1e-4)",
    "id": "a5d7ff2507a94b018296b82bdcfbb9a5",
    "idx": 38,
    "time": "2021-01-23T21:49:46.977Z",
    "type": "execution"
   },
   {
    "code": "# HIDDEN TEST\nnp.isclose(prob_at_most(8, 0.7, 3), 0.05797, atol = 1e-4)",
    "id": "1f6890d7ce9a4ef28ae5e4462f10fb57",
    "idx": 39,
    "time": "2021-01-23T21:49:47.113Z",
    "type": "execution"
   },
   {
    "id": "fedd5027cfeb4f3c8e1a7461bbc3ce1a",
    "time": "2021-01-23T21:49:47.145Z",
    "type": "completion"
   },
   {
    "id": "a5d7ff2507a94b018296b82bdcfbb9a5",
    "time": "2021-01-23T21:49:47.274Z",
    "type": "completion"
   },
   {
    "id": "1f6890d7ce9a4ef28ae5e4462f10fb57",
    "time": "2021-01-23T21:49:47.277Z",
    "type": "completion"
   },
   {
    "code": "ans_3a = 'b' # SOLUTION",
    "id": "0888f108b7e2463286cd457555e111ae",
    "idx": 51,
    "time": "2021-01-23T21:52:08.756Z",
    "type": "execution"
   },
   {
    "id": "0888f108b7e2463286cd457555e111ae",
    "time": "2021-01-23T21:52:08.894Z",
    "type": "completion"
   },
   {
    "code": "# TEST\nans_3a in ['a', 'b', 'c', 'd']",
    "id": "a21ac002a2cf40ac8e34e2249b02b7ff",
    "idx": 52,
    "time": "2021-01-23T21:52:08.919Z",
    "type": "execution"
   },
   {
    "id": "a21ac002a2cf40ac8e34e2249b02b7ff",
    "time": "2021-01-23T21:52:09.053Z",
    "type": "completion"
   },
   {
    "code": "# HIDDEN TEST\nans_3a == 'b'",
    "id": "7f841ce92e0843bf988238d86a200552",
    "idx": 53,
    "time": "2021-01-23T21:52:09.123Z",
    "type": "execution"
   },
   {
    "id": "7f841ce92e0843bf988238d86a200552",
    "time": "2021-01-23T21:52:09.264Z",
    "type": "completion"
   },
   {
    "code": "# TEST\nassert np.isclose(prob_sample_counts(31, 8, 1), 0, atol = 1e-5)\nassert 0 <= prob_sample_counts(2, 5, 13) <= 1\nassert 0 <= prob_sample_counts(5, 1, 14) <= 1\nassert 0 <= prob_sample_counts(10, 8, 2) <= 1\nassert 0 <= prob_sample_counts(6, 12, 2) <= 1",
    "id": "cc8c9ae26ae340dcb3e81ce9915fbd76",
    "idx": 60,
    "time": "2021-01-23T21:54:57.593Z",
    "type": "execution"
   },
   {
    "id": "cc8c9ae26ae340dcb3e81ce9915fbd76",
    "time": "2021-01-23T21:54:57.797Z",
    "type": "completion"
   },
   {
    "code": "# HIDDEN TEST\nassert prob_sample_counts(6, 12, 8) == 0\nassert prob_sample_counts(21, 0, 3) == 0\nassert prob_sample_counts(6, 6, 2) == 0\nassert np.isclose(prob_sample_counts(6, 12, 2), 0.01095, atol = 1e-4)\nassert np.isclose(prob_sample_counts(13, 7, 0), 0.03169, atol = 1e-4)\nassert np.isclose(prob_sample_counts(13, 5, 2), 0.00562, atol = 1e-4)",
    "id": "92c511f89990432780373a8f3a2aa2ee",
    "idx": 61,
    "time": "2021-01-23T21:55:20.487Z",
    "type": "execution"
   },
   {
    "id": "92c511f89990432780373a8f3a2aa2ee",
    "time": "2021-01-23T21:55:20.610Z",
    "type": "completion"
   },
   {
    "code": "# TEST\nassert len(draw_state_sample(1500, \"florida\")) == 3\nassert sum(draw_state_sample(1500, \"michigan\")) == 1500",
    "id": "ea70a7e0cdaa47cfa97b83f69b8f6bd0",
    "idx": 88,
    "time": "2021-01-23T21:57:06.918Z",
    "type": "execution"
   },
   {
    "id": "ea70a7e0cdaa47cfa97b83f69b8f6bd0",
    "time": "2021-01-23T21:57:07.044Z",
    "type": "completion"
   },
   {
    "code": "# TEST\nq7a_penn = draw_state_sample(1500, \"pennsylvania\")\ntrump_win_penn = (q7a_penn[0] - q7a_penn[1]) / 1500\nabs(trump_win_penn - 0.007) <= 0.12",
    "id": "3a4cfa9f2ace4979b904afbe52dc85e8",
    "idx": 89,
    "time": "2021-01-23T21:57:07.276Z",
    "type": "execution"
   },
   {
    "id": "3a4cfa9f2ace4979b904afbe52dc85e8",
    "time": "2021-01-23T21:57:07.389Z",
    "type": "completion"
   },
   {
    "code": "def trump_advantage(voter_sample):\n    # BEGIN SOLUTION \n    N = sum(voter_sample)\n    percentage_trump = voter_sample[0]/N \n    percentage_clinton = voter_sample[1]/N \n    return percentage_trump - percentage_clinton\n    # END SOLUTION",
    "id": "1404c78e30d447808dd7199d0b479184",
    "idx": 91,
    "time": "2021-01-23T21:57:29.111Z",
    "type": "execution"
   },
   {
    "code": "# TEST\nassert -1 < trump_advantage(draw_state_sample(1500, \"wisconsin\")) < 1\nassert np.isclose(trump_advantage([100, 60, 40]), 0.2)\nassert np.isclose(trump_advantage([10, 30, 10]), -0.4)",
    "id": "d941f4a8cdd84e0ea8de879669856f61",
    "idx": 92,
    "time": "2021-01-23T21:57:29.248Z",
    "type": "execution"
   },
   {
    "id": "1404c78e30d447808dd7199d0b479184",
    "time": "2021-01-23T21:57:29.384Z",
    "type": "completion"
   },
   {
    "id": "d941f4a8cdd84e0ea8de879669856f61",
    "time": "2021-01-23T21:57:29.386Z",
    "type": "completion"
   },
   {
    "code": "# TEST\nassert len(simulations) == 100000\nassert sum([-1 < x < 1 for x in simulations]) == len(simulations)\nassert abs(np.mean(simulations) - 0.007) <= 0.016",
    "id": "b68d426107104885949db508865d56ab",
    "idx": 95,
    "time": "2021-01-23T21:57:49.737Z",
    "type": "execution"
   },
   {
    "id": "b68d426107104885949db508865d56ab",
    "time": "2021-01-23T21:57:50.276Z",
    "type": "completion"
   },
   {
    "code": "# BEGIN SOLUTION\nplt.hist(simulations) ;\nplt.title('Pennsylvania');\nplt.ylabel('# of Simulations');\nplt.xlabel('Sampling Distribution Advantage');\n# END SOLUTION",
    "id": "6bdc1384f83241a48222e9ed20494d7c",
    "idx": 97,
    "time": "2021-01-23T21:57:51.836Z",
    "type": "execution"
   },
   {
    "id": "6bdc1384f83241a48222e9ed20494d7c",
    "time": "2021-01-23T21:57:53.066Z",
    "type": "completion"
   },
   {
    "code": "import numpy as np\nimport matplotlib\nimport matplotlib.pyplot as plt\nimport seaborn as sns\n\nplt.style.use('fivethirtyeight')\n\n# Default plot configurations\n%matplotlib inline\nplt.rcParams['figure.figsize'] = (16,8)\nplt.rcParams['figure.dpi'] = 150\nsns.set()\n\nfrom IPython.display import display, Latex, Markdown",
    "id": "07375046d98444e281b75644b7875f95",
    "idx": 7,
    "time": "2021-01-23T21:58:23.021Z",
    "type": "execution"
   },
   {
    "code": "from scipy import special",
    "id": "ca39083560ea48cf8a0c0ab0b13e4a27",
    "idx": 10,
    "time": "2021-01-23T21:58:23.030Z",
    "type": "execution"
   },
   {
    "code": "special.factorial(5), special.factorial(range(1, 6))",
    "id": "546d30b5861449e185cf528e370283f4",
    "idx": 12,
    "time": "2021-01-23T21:58:23.033Z",
    "type": "execution"
   },
   {
    "code": "special.comb(5, 3), special.factorial(5) / (special.factorial(3) * special.factorial(2))",
    "id": "cdacb5e5b5f5491ebea0d749e96e2402",
    "idx": 14,
    "time": "2021-01-23T21:58:23.037Z",
    "type": "execution"
   },
   {
    "code": "special.comb(5, range(6))",
    "id": "eec6b0ee84b547228484cd07185aef3a",
    "idx": 15,
    "time": "2021-01-23T21:58:23.040Z",
    "type": "execution"
   },
   {
    "code": "special.comb(100, 50), special.comb(100, 50, exact=True)",
    "id": "af3b02975565487986a72fd8707c2f9f",
    "idx": 16,
    "time": "2021-01-23T21:58:23.044Z",
    "type": "execution"
   },
   {
    "code": "prob_1a = special.comb(100, 20)*(0.26**20)*(0.74**80) # SOLUTION\nprob_1a",
    "id": "0f105036c2234405a0b2d62c2868d190",
    "idx": 20,
    "time": "2021-01-23T21:58:23.048Z",
    "type": "execution"
   },
   {
    "code": "# TEST\nprob_1a >= 0 and prob_1a <= 1",
    "id": "5838c54b39cc421c890b923111e00494",
    "idx": 21,
    "time": "2021-01-23T21:58:23.051Z",
    "type": "execution"
   },
   {
    "code": "# HIDDEN TEST\nnp.isclose(prob_1a, 0.0369, atol = 1e-4)",
    "id": "b9f7002ce1c4413e84f330d03ad31725",
    "idx": 22,
    "time": "2021-01-23T21:58:23.054Z",
    "type": "execution"
   },
   {
    "code": "k = np.arange(101)\nall_probs = special.comb(100, k)*(0.26**k)*(0.74**(100-k)) # SOLUTION\nnp.round(all_probs, 4), sum(all_probs)",
    "id": "f9d1a7f6b6fe49108c96260b5a5fccf0",
    "idx": 24,
    "time": "2021-01-23T21:58:23.057Z",
    "type": "execution"
   },
   {
    "code": "# TEST\nnp.all(all_probs >= 0) and np.all(all_probs <= 1)",
    "id": "50904c34398d4918b2dcc241adcdd6a8",
    "idx": 25,
    "time": "2021-01-23T21:58:23.060Z",
    "type": "execution"
   },
   {
    "code": "# HIDDEN TEST\nk = np.arange(101)\ntest_1b = special.comb(100, k)*(0.26**k)*(0.74**(100-k))\nnp.all(np.isclose(test_1b, all_probs, atol = 1e-5))",
    "id": "90f6c97618f94fa79d3380d9c710a12b",
    "idx": 26,
    "time": "2021-01-23T21:58:23.063Z",
    "type": "execution"
   },
   {
    "code": "prob_1c = sum(all_probs[16:37]) # SOLUTION",
    "id": "4173ddcd4e1640f4bd6188effa6f43b1",
    "idx": 28,
    "time": "2021-01-23T21:58:23.066Z",
    "type": "execution"
   },
   {
    "code": "# TEST\nprob_1c >= 0 and prob_1c <= 1",
    "id": "657df98b45184f34946c7e4ac100efcc",
    "idx": 29,
    "time": "2021-01-23T21:58:23.069Z",
    "type": "execution"
   },
   {
    "code": "# HIDDEN TEST\nnp.isclose(prob_1c, 0.9838, atol = 1e-4)",
    "id": "935a2ffad450451797dfcc5b047755a0",
    "idx": 30,
    "time": "2021-01-23T21:58:23.071Z",
    "type": "execution"
   },
   {
    "code": "def prob_at_most(n, p, s):\n    \"\"\" \n    returns the probability of S <= s\n    Input n: sample size; p : proportion; s: number of successes at most\"\"\"\n    # BEGIN SOLUTION\n    if 0 <= p and p <= 1 and s <= n:\n        k = np.arange(n+1)\n        all_probs = special.comb(n, k)*(p**k)*((1-p)**(n-k))\n        return sum(all_probs[:s+1])\n    else:\n        return 0\n    # END SOLUTION",
    "id": "130d2dd651f8442e87a118bb867d08ac",
    "idx": 34,
    "time": "2021-01-23T21:58:23.076Z",
    "type": "execution"
   },
   {
    "code": "# TEST\nassert prob_at_most(3, 0.4, 1) >= 0\nassert prob_at_most(5, 0.6, 3) <= 1\nassert prob_at_most(2, 3, 4) == 0",
    "id": "5a339ffda5a2464a86d95aa1d8971b3d",
    "idx": 35,
    "time": "2021-01-23T21:58:23.078Z",
    "type": "execution"
   },
   {
    "code": "# HIDDEN TEST\nnp.isclose(prob_at_most(10, 0.7, 4), 0.0473, atol = 1e-4)",
    "id": "503b79910c514d8f9f2046fdee3b760d",
    "idx": 36,
    "time": "2021-01-23T21:58:23.081Z",
    "type": "execution"
   },
   {
    "code": "# HIDDEN TEST\nnp.isclose(prob_at_most(10, 0.7, 4), 0.0473, atol = 1e-4)",
    "id": "fedd5027cfeb4f3c8e1a7461bbc3ce1a",
    "idx": 37,
    "time": "2021-01-23T21:58:23.084Z",
    "type": "execution"
   },
   {
    "code": "# HIDDEN TEST\nnp.isclose(prob_at_most(5, 1, 1), 0, atol = 1e-4)",
    "id": "a5d7ff2507a94b018296b82bdcfbb9a5",
    "idx": 38,
    "time": "2021-01-23T21:58:23.087Z",
    "type": "execution"
   },
   {
    "code": "# HIDDEN TEST\nnp.isclose(prob_at_most(8, 0.7, 3), 0.05797, atol = 1e-4)",
    "id": "1f6890d7ce9a4ef28ae5e4462f10fb57",
    "idx": 39,
    "time": "2021-01-23T21:58:23.089Z",
    "type": "execution"
   },
   {
    "code": "p_majority = 1 - prob_at_most(200, 0.45, 100) # SOLUTION \np_majority",
    "id": "73d052a1a7d3435181ad634b43ba9058",
    "idx": 41,
    "time": "2021-01-23T21:58:23.092Z",
    "type": "execution"
   },
   {
    "code": "# TEST\np_majority >= 0 and p_majority <= 1",
    "id": "30a63dda25564ef798da00a017df030a",
    "idx": 42,
    "time": "2021-01-23T21:58:23.095Z",
    "type": "execution"
   },
   {
    "code": "# HIDDEN TEST\nnp.isclose(p_majority, 0.06807, atol = 1e-4)",
    "id": "c19c832fa41f46e08c57b815296be79a",
    "idx": 43,
    "time": "2021-01-23T21:58:23.098Z",
    "type": "execution"
   },
   {
    "code": "prob_2c = 1 - (prob_at_most(200, 0.45, 100)**3)*prob_at_most(300, 0.45, 150)*prob_at_most(400, 0.45, 200) # SOLUTION\nprob_2c",
    "id": "d547a11c354d4ad3b8b675c5e3eb0b7d",
    "idx": 45,
    "time": "2021-01-23T21:58:23.102Z",
    "type": "execution"
   },
   {
    "code": "# TEST\nprob_2c >= 0 and prob_2c <= 1",
    "id": "f145bb9b002c49e3a863cfaab4467aae",
    "idx": 46,
    "time": "2021-01-23T21:58:23.105Z",
    "type": "execution"
   },
   {
    "code": "# HIDDEN TEST\nnp.isclose(prob_2c, 0.2355, atol = 1e-4)",
    "id": "99f9aec328bd4afc9d5daa52f3885683",
    "idx": 47,
    "time": "2021-01-23T21:58:23.108Z",
    "type": "execution"
   },
   {
    "code": "ans_3a = 'b' # SOLUTION",
    "id": "0888f108b7e2463286cd457555e111ae",
    "idx": 51,
    "time": "2021-01-23T21:58:23.140Z",
    "type": "execution"
   },
   {
    "code": "# TEST\nans_3a in ['a', 'b', 'c', 'd']",
    "id": "a21ac002a2cf40ac8e34e2249b02b7ff",
    "idx": 52,
    "time": "2021-01-23T21:58:23.144Z",
    "type": "execution"
   },
   {
    "code": "# HIDDEN TEST\nans_3a == 'b'",
    "id": "7f841ce92e0843bf988238d86a200552",
    "idx": 53,
    "time": "2021-01-23T21:58:23.147Z",
    "type": "execution"
   },
   {
    "code": "ans_3b = 'c' # SOLUTION",
    "id": "feacd24ac12b42f283d4acac35fe18e7",
    "idx": 55,
    "time": "2021-01-23T21:58:23.150Z",
    "type": "execution"
   },
   {
    "code": "# TEST\nans_3b in ['a', 'b', 'c', 'd']",
    "id": "5d009f8137de4f46a8f29cb7dbcbf1a1",
    "idx": 56,
    "time": "2021-01-23T21:58:23.153Z",
    "type": "execution"
   },
   {
    "code": "# HIDDEN TEST\nans_3b == 'c'",
    "id": "6e00401dd8cd425797371d55bd30d6ad",
    "idx": 57,
    "time": "2021-01-23T21:58:23.155Z",
    "type": "execution"
   },
   {
    "code": "def prob_sample_counts(t, c, o):\n    \"\"\"\n    Input:\n    t - number of votes for Trump\n    c - number of votes for Clinton\n    o - number of votes for Other\n    Return: The probability of getting a such sample\n    \"\"\"\n    # BEGIN SOLUTION\n    if t+c+o == 20:\n        p_T = 0.4818\n        p_C = 0.4746\n        p_O = 0.0436\n        return (special.factorial(20)/(special.factorial(t)*special.factorial(c)*special.factorial(o)))*(p_T**t)*(p_C**c)*(p_O**o)\n    else:\n        return 0\n    # END SOLUTION",
    "id": "4509a567eb874e3187ed7b3bc31f6749",
    "idx": 59,
    "time": "2021-01-23T21:58:23.158Z",
    "type": "execution"
   },
   {
    "code": "# TEST\nassert np.isclose(prob_sample_counts(31, 8, 1), 0, atol = 1e-5)\nassert 0 <= prob_sample_counts(2, 5, 13) <= 1\nassert 0 <= prob_sample_counts(5, 1, 14) <= 1\nassert 0 <= prob_sample_counts(10, 8, 2) <= 1\nassert 0 <= prob_sample_counts(6, 12, 2) <= 1",
    "id": "cc8c9ae26ae340dcb3e81ce9915fbd76",
    "idx": 60,
    "time": "2021-01-23T21:58:23.161Z",
    "type": "execution"
   },
   {
    "code": "# HIDDEN TEST\nassert prob_sample_counts(6, 12, 8) == 0\nassert prob_sample_counts(21, 0, 3) == 0\nassert prob_sample_counts(6, 6, 2) == 0\nassert np.isclose(prob_sample_counts(6, 12, 2), 0.01095, atol = 1e-4)\nassert np.isclose(prob_sample_counts(13, 7, 0), 0.03169, atol = 1e-4)\nassert np.isclose(prob_sample_counts(13, 5, 2), 0.00562, atol = 1e-4)",
    "id": "92c511f89990432780373a8f3a2aa2ee",
    "idx": 61,
    "time": "2021-01-23T21:58:23.164Z",
    "type": "execution"
   },
   {
    "code": "prob_3d = sum(prob_sample_counts(t, c, 20-(t+c)) for t in range(21) for c in range(0, 21-t)) # SOLUTION\nprob_3d",
    "id": "c9eb6bdf28b245228c52db3692bdde90",
    "idx": 63,
    "time": "2021-01-23T21:58:23.167Z",
    "type": "execution"
   },
   {
    "code": "# TEST\nnp.isclose(prob_3d, 1, atol = 1e-4)",
    "id": "7a2b5b3ec7ce495ab4cba58fd78b477e",
    "idx": 64,
    "time": "2021-01-23T21:58:23.170Z",
    "type": "execution"
   },
   {
    "code": "# HIDDEN TEST\nnp.isclose(prob_3d, 1, atol = 1e-4)",
    "id": "82c6f152c79a4a268617fac53b0f7297",
    "idx": 65,
    "time": "2021-01-23T21:58:23.174Z",
    "type": "execution"
   },
   {
    "code": "prob_3e = prob_sample_counts(11, 8, 1) # SOLUTION\nprob_3e",
    "id": "7fcfe91b3df4486d8c4e3464a6c676ed",
    "idx": 67,
    "time": "2021-01-23T21:58:23.178Z",
    "type": "execution"
   },
   {
    "code": "# TEST\nprob_3e >= 0 and prob_3e <= 1",
    "id": "f457b33bc8674894ad7ec071e416d4a9",
    "idx": 68,
    "time": "2021-01-23T21:58:23.180Z",
    "type": "execution"
   },
   {
    "code": "# HIDDEN TEST\nnp.isclose(prob_3e, 0.05509, atol = 1e-4)",
    "id": "b57dbe1dcaa742728bfe2306f33fc72e",
    "idx": 69,
    "time": "2021-01-23T21:58:23.183Z",
    "type": "execution"
   },
   {
    "code": "prob_3f = sum(prob_sample_counts(t, c, 20-(t+c)) for t in range(7, 13) for c in range(7, 20-t)) # SOLUTION\nprob_3f",
    "id": "5dd79ef94fd842db8803cb43750bed25",
    "idx": 71,
    "time": "2021-01-23T21:58:23.187Z",
    "type": "execution"
   },
   {
    "code": "# TEST\nprob_3f >= 0 and prob_3f <= 1",
    "id": "04819c13bb9742e98ff78d4dd08f3637",
    "idx": 72,
    "time": "2021-01-23T21:58:23.190Z",
    "type": "execution"
   },
   {
    "code": "# HIDDEN TEST\nnp.isclose(prob_3f, 0.46939, atol = 1e-4)",
    "id": "ee73ff5a3e184f7daa26425f8d843c94",
    "idx": 73,
    "time": "2021-01-23T21:58:23.193Z",
    "type": "execution"
   },
   {
    "code": "def draw_state_sample(N, state):\n    # BEGIN SOLUTION \n    if state == \"florida\":\n        return np.random.multinomial(N, [0.4902, 0.4782, 1 - (0.4902 + 0.4782)])\n    \n    if state == \"michigan\": \n        return np.random.multinomial(N, [0.475, 0.4727, 1 - (0.475 + 0.4727)])\n\n    if state == \"pennsylvania\":\n        return np.random.multinomial(N, [0.4818, 0.4746, 1 - (0.4818 + 0.4746)])\n  \n    if state == \"wisconsin\":\n        return np.random.multinomial(N, [0.4722, 0.4645, 1 - (0.4722 + 0.4645)])\n\n    raise(\"invalid state\")\n    # END SOLUTION",
    "id": "8fe21bd6a5d14aef96b3182eaec02042",
    "idx": 87,
    "time": "2021-01-23T21:58:23.202Z",
    "type": "execution"
   },
   {
    "code": "# TEST\nassert len(draw_state_sample(1500, \"florida\")) == 3\nassert sum(draw_state_sample(1500, \"michigan\")) == 1500",
    "id": "ea70a7e0cdaa47cfa97b83f69b8f6bd0",
    "idx": 88,
    "time": "2021-01-23T21:58:23.205Z",
    "type": "execution"
   },
   {
    "code": "# TEST\nq7a_penn = draw_state_sample(1500, \"pennsylvania\")\ntrump_win_penn = (q7a_penn[0] - q7a_penn[1]) / 1500\nabs(trump_win_penn - 0.007) <= 0.12",
    "id": "3a4cfa9f2ace4979b904afbe52dc85e8",
    "idx": 89,
    "time": "2021-01-23T21:58:23.208Z",
    "type": "execution"
   },
   {
    "code": "def trump_advantage(voter_sample):\n    # BEGIN SOLUTION \n    N = sum(voter_sample)\n    percentage_trump = voter_sample[0]/N \n    percentage_clinton = voter_sample[1]/N \n    return percentage_trump - percentage_clinton\n    # END SOLUTION",
    "id": "1404c78e30d447808dd7199d0b479184",
    "idx": 91,
    "time": "2021-01-23T21:58:23.211Z",
    "type": "execution"
   },
   {
    "code": "# TEST\nassert -1 < trump_advantage(draw_state_sample(1500, \"wisconsin\")) < 1\nassert np.isclose(trump_advantage([100, 60, 40]), 0.2)\nassert np.isclose(trump_advantage([10, 30, 10]), -0.4)",
    "id": "d941f4a8cdd84e0ea8de879669856f61",
    "idx": 92,
    "time": "2021-01-23T21:58:23.214Z",
    "type": "execution"
   },
   {
    "code": "simulations = [trump_advantage(draw_state_sample(1500, \"pennsylvania\")) for i in range(100000)] # SOLUTION",
    "id": "84c14ccc49154f668ed9f7edb7d430fa",
    "idx": 94,
    "time": "2021-01-23T21:58:23.216Z",
    "type": "execution"
   },
   {
    "code": "# TEST\nassert len(simulations) == 100000\nassert sum([-1 < x < 1 for x in simulations]) == len(simulations)\nassert abs(np.mean(simulations) - 0.007) <= 0.016",
    "id": "b68d426107104885949db508865d56ab",
    "idx": 95,
    "time": "2021-01-23T21:58:23.219Z",
    "type": "execution"
   },
   {
    "code": "# BEGIN SOLUTION\nplt.hist(simulations) ;\nplt.title('Pennsylvania');\nplt.ylabel('# of Simulations');\nplt.xlabel('Sampling Distribution Advantage');\n# END SOLUTION",
    "id": "6bdc1384f83241a48222e9ed20494d7c",
    "idx": 97,
    "time": "2021-01-23T21:58:23.223Z",
    "type": "execution"
   },
   {
    "code": "def trump_wins(N):\n    # BEGIN SOLUTION \n    wins_florida = trump_advantage(draw_state_sample(N, \"florida\")) > 0\n    wins_michigan = trump_advantage(draw_state_sample(N, \"michigan\")) > 0\n    wins_pennsylvania = trump_advantage(draw_state_sample(N, \"pennsylvania\")) > 0\n    wins_wisconsin = trump_advantage(draw_state_sample(N, \"wisconsin\")) > 0\n    if wins_michigan and wins_pennsylvania and wins_wisconsin:\n        return 1\n    if wins_florida and (wins_michigan or wins_pennsylvania or wins_wisconsin):\n        return 1\n    return 0\n    # END SOLUTION",
    "id": "4039454d470642128e018a2f340c0538",
    "idx": 99,
    "time": "2021-01-23T21:58:23.226Z",
    "type": "execution"
   },
   {
    "code": "# TEST\ntrump_wins(1000) in [0, 1]",
    "id": "bf75dae85c3e41c99c8150776dd9068d",
    "idx": 100,
    "time": "2021-01-23T21:58:23.229Z",
    "type": "execution"
   },
   {
    "code": "proportion_trump = np.mean([trump_wins(1500) for i in range(100000)]) # SOLUTION\nproportion_trump",
    "id": "26efb4f8a1824e0c88bb216534551591",
    "idx": 102,
    "time": "2021-01-23T21:58:23.233Z",
    "type": "execution"
   },
   {
    "code": "# TEST\n0 < proportion_trump < 1",
    "id": "85aa0487ae7543489c079cc129284b0e",
    "idx": 103,
    "time": "2021-01-23T21:58:23.235Z",
    "type": "execution"
   },
   {
    "code": "# TEST\nabs(proportion_trump - 0.695) <= 0.02",
    "id": "2675f62285cb4d19932cf605fb510707",
    "idx": 104,
    "time": "2021-01-23T21:58:23.238Z",
    "type": "execution"
   },
   {
    "code": "def draw_biased_state_sample(N, state):\n    \n    # BEGIN SOLUTION \n    if state == \"florida\":\n        return np.random.multinomial(N, [0.4902 - 0.005, 0.4782 + 0.005, 1 - (0.4902 + 0.4782)])\n    \n    if state == \"michigan\": \n        return np.random.multinomial(N, [0.475 - 0.005, 0.4727 + 0.005, 1 - (0.475 + 0.4727)])\n\n    if state == \"pennsylvania\":\n        return np.random.multinomial(N, [0.4818 - 0.005, 0.4746 + 0.005, 1 - (0.4818 + 0.4746)])\n  \n    if state == \"wisconsin\":\n        return np.random.multinomial(N, [0.4722 - 0.005, 0.4645 + 0.005, 1 - (0.4722 + 0.4645)])\n\n    raise(\"invalid state\")\n    # END SOLUTION\n    \nbiased_simulations = [trump_advantage(draw_biased_state_sample(1500, \"pennsylvania\")) for i in range(100000)] # SOLUTION",
    "id": "1ff387807db94700a63d77d3c1e8fb86",
    "idx": 108,
    "time": "2021-01-23T21:58:23.243Z",
    "type": "execution"
   },
   {
    "code": "# TEST\nlen(draw_biased_state_sample(1000, \"wisconsin\")) == 3",
    "id": "18cdd85d443d4d018969163d737e32b4",
    "idx": 109,
    "time": "2021-01-23T21:58:23.246Z",
    "type": "execution"
   },
   {
    "code": "# TEST\nsum(draw_biased_state_sample(1000, \"michigan\")) == 1000",
    "id": "5e13d84d3eaa4678866b718d0209eaf1",
    "idx": 110,
    "time": "2021-01-23T21:58:23.249Z",
    "type": "execution"
   },
   {
    "code": "# TEST\nq7_1 = draw_biased_state_sample(3000, \"florida\")\nq7_1[0] > q7_1[2] and q7_1[1] > q7_1[2]",
    "id": "781806d2d30a4fe48e226059af4f0a21",
    "idx": 111,
    "time": "2021-01-23T21:58:23.251Z",
    "type": "execution"
   },
   {
    "code": "# TEST\nlen(biased_simulations) == 100000",
    "id": "8918a8df1868472c939b0bc23c02f3b9",
    "idx": 112,
    "time": "2021-01-23T21:58:23.254Z",
    "type": "execution"
   },
   {
    "code": "# TEST\nsum([-1 < x < 1 for x in biased_simulations]) == len(biased_simulations)",
    "id": "877f92a5f38340b7b51fb574bd365e0c",
    "idx": 113,
    "time": "2021-01-23T21:58:23.256Z",
    "type": "execution"
   },
   {
    "code": "# TEST\nabs(np.mean(biased_simulations) + 0.003) <= 0.12",
    "id": "a7a6fef5e9bf4dce8911896e259ec312",
    "idx": 114,
    "time": "2021-01-23T21:58:23.259Z",
    "type": "execution"
   },
   {
    "code": "# BEGIN SOLUTION\nplt.hist(biased_simulations) ;\nplt.title('Biased Sampling of Pennsylvania') ;\nplt.ylabel('# of Simulations');\nplt.xlabel('Sampling Distribution Advantage');\n# END SOLUTION",
    "id": "637730b8633341de858c757d2b7ca6ce",
    "idx": 116,
    "time": "2021-01-23T21:58:23.263Z",
    "type": "execution"
   },
   {
    "code": "def trump_wins_biased(N): \n    # BEGIN SOLUTION \n    wins_florida = trump_advantage(draw_biased_state_sample(N, \"florida\")) > 0\n    wins_michigan = trump_advantage(draw_biased_state_sample(N, \"michigan\")) > 0\n    wins_pennsylvania = trump_advantage(draw_biased_state_sample(N, \"pennsylvania\")) > 0\n    wins_wisconsin = trump_advantage(draw_biased_state_sample(N, \"wisconsin\")) > 0\n    if wins_michigan and wins_pennsylvania and wins_wisconsin:\n        return 1\n    if wins_florida and (wins_michigan or wins_pennsylvania or wins_wisconsin):\n        return 1\n    return 0\n    # END SOLUTION\n\nproportion_trump_biased = np.mean([trump_wins_biased(1500) for i in range(100000)]) # SOLUTION\nproportion_trump_biased",
    "id": "0e8439d120e54c198d72db1d863959c0",
    "idx": 120,
    "time": "2021-01-23T21:58:23.267Z",
    "type": "execution"
   },
   {
    "code": "# TEST\n0 < proportion_trump_biased < 1",
    "id": "412e961a3b614b968a8f29f2a028fe31",
    "idx": 121,
    "time": "2021-01-23T21:58:23.270Z",
    "type": "execution"
   },
   {
    "code": "# TEST\nabs(proportion_trump_biased - 0.466) <= 0.04",
    "id": "67ab961501094d12baa8c0ecc57aec27",
    "idx": 122,
    "time": "2021-01-23T21:58:23.273Z",
    "type": "execution"
   },
   {
    "code": "high_sample_size_unbiased_proportion_trump = np.mean([trump_wins(5000) for i in range(100000)])  # SOLUTION\nhigh_sample_size_biased_proportion_trump = np.mean([trump_wins_biased(5000) for i in range(100000)])  # SOLUTION\nprint(high_sample_size_unbiased_proportion_trump, high_sample_size_biased_proportion_trump)",
    "id": "a75269063207490db6a4bba2bd678958",
    "idx": 125,
    "time": "2021-01-23T21:58:23.276Z",
    "type": "execution"
   },
   {
    "code": "# TEST\nnp.abs(high_sample_size_unbiased_proportion_trump - 0.829) <= 0.02",
    "id": "7598f8ac178f40ec8b6fb65be77544ed",
    "idx": 126,
    "time": "2021-01-23T21:58:23.279Z",
    "type": "execution"
   },
   {
    "code": "# TEST \nnp.abs(high_sample_size_biased_proportion_trump - 0.445) <= 0.04",
    "id": "5874694d43b3458283c9fb26c6bbc7e8",
    "idx": 127,
    "time": "2021-01-23T21:58:23.282Z",
    "type": "execution"
   },
   {
    "code": "# Feel free to use this cell for any scratch work (creating visualizations, examining data, etc.)",
    "id": "5998b4d4fc4a4d5585a9a7172ceac024",
    "idx": 129,
    "time": "2021-01-23T21:58:23.286Z",
    "type": "execution"
   },
   {
    "id": "07375046d98444e281b75644b7875f95",
    "time": "2021-01-23T21:58:24.385Z",
    "type": "completion"
   },
   {
    "id": "ca39083560ea48cf8a0c0ab0b13e4a27",
    "time": "2021-01-23T21:58:24.950Z",
    "type": "completion"
   },
   {
    "id": "546d30b5861449e185cf528e370283f4",
    "time": "2021-01-23T21:58:25.415Z",
    "type": "completion"
   },
   {
    "id": "cdacb5e5b5f5491ebea0d749e96e2402",
    "time": "2021-01-23T21:58:25.421Z",
    "type": "completion"
   },
   {
    "id": "eec6b0ee84b547228484cd07185aef3a",
    "time": "2021-01-23T21:58:25.554Z",
    "type": "completion"
   },
   {
    "id": "af3b02975565487986a72fd8707c2f9f",
    "time": "2021-01-23T21:58:25.558Z",
    "type": "completion"
   },
   {
    "id": "0f105036c2234405a0b2d62c2868d190",
    "time": "2021-01-23T21:58:25.623Z",
    "type": "completion"
   },
   {
    "id": "5838c54b39cc421c890b923111e00494",
    "time": "2021-01-23T21:58:25.684Z",
    "type": "completion"
   },
   {
    "id": "b9f7002ce1c4413e84f330d03ad31725",
    "time": "2021-01-23T21:58:25.687Z",
    "type": "completion"
   },
   {
    "id": "f9d1a7f6b6fe49108c96260b5a5fccf0",
    "time": "2021-01-23T21:58:25.985Z",
    "type": "completion"
   },
   {
    "id": "50904c34398d4918b2dcc241adcdd6a8",
    "time": "2021-01-23T21:58:25.988Z",
    "type": "completion"
   },
   {
    "id": "90f6c97618f94fa79d3380d9c710a12b",
    "time": "2021-01-23T21:58:25.995Z",
    "type": "completion"
   },
   {
    "id": "4173ddcd4e1640f4bd6188effa6f43b1",
    "time": "2021-01-23T21:58:25.997Z",
    "type": "completion"
   },
   {
    "id": "657df98b45184f34946c7e4ac100efcc",
    "time": "2021-01-23T21:58:26.059Z",
    "type": "completion"
   },
   {
    "id": "935a2ffad450451797dfcc5b047755a0",
    "time": "2021-01-23T21:58:26.061Z",
    "type": "completion"
   },
   {
    "id": "130d2dd651f8442e87a118bb867d08ac",
    "time": "2021-01-23T21:58:26.122Z",
    "type": "completion"
   },
   {
    "id": "5a339ffda5a2464a86d95aa1d8971b3d",
    "time": "2021-01-23T21:58:26.123Z",
    "type": "completion"
   },
   {
    "id": "503b79910c514d8f9f2046fdee3b760d",
    "time": "2021-01-23T21:58:26.126Z",
    "type": "completion"
   },
   {
    "id": "fedd5027cfeb4f3c8e1a7461bbc3ce1a",
    "time": "2021-01-23T21:58:26.183Z",
    "type": "completion"
   },
   {
    "id": "a5d7ff2507a94b018296b82bdcfbb9a5",
    "time": "2021-01-23T21:58:26.187Z",
    "type": "completion"
   },
   {
    "id": "1f6890d7ce9a4ef28ae5e4462f10fb57",
    "time": "2021-01-23T21:58:26.245Z",
    "type": "completion"
   },
   {
    "id": "73d052a1a7d3435181ad634b43ba9058",
    "time": "2021-01-23T21:58:26.248Z",
    "type": "completion"
   },
   {
    "id": "30a63dda25564ef798da00a017df030a",
    "time": "2021-01-23T21:58:26.251Z",
    "type": "completion"
   },
   {
    "id": "c19c832fa41f46e08c57b815296be79a",
    "time": "2021-01-23T21:58:26.380Z",
    "type": "completion"
   },
   {
    "id": "d547a11c354d4ad3b8b675c5e3eb0b7d",
    "time": "2021-01-23T21:58:26.383Z",
    "type": "completion"
   },
   {
    "id": "f145bb9b002c49e3a863cfaab4467aae",
    "time": "2021-01-23T21:58:26.389Z",
    "type": "completion"
   },
   {
    "id": "99f9aec328bd4afc9d5daa52f3885683",
    "time": "2021-01-23T21:58:26.448Z",
    "type": "completion"
   },
   {
    "id": "0888f108b7e2463286cd457555e111ae",
    "time": "2021-01-23T21:58:26.450Z",
    "type": "completion"
   },
   {
    "id": "a21ac002a2cf40ac8e34e2249b02b7ff",
    "time": "2021-01-23T21:58:26.527Z",
    "type": "completion"
   },
   {
    "id": "7f841ce92e0843bf988238d86a200552",
    "time": "2021-01-23T21:58:26.531Z",
    "type": "completion"
   },
   {
    "id": "feacd24ac12b42f283d4acac35fe18e7",
    "time": "2021-01-23T21:58:26.661Z",
    "type": "completion"
   },
   {
    "id": "5d009f8137de4f46a8f29cb7dbcbf1a1",
    "time": "2021-01-23T21:58:26.669Z",
    "type": "completion"
   },
   {
    "id": "6e00401dd8cd425797371d55bd30d6ad",
    "time": "2021-01-23T21:58:26.672Z",
    "type": "completion"
   },
   {
    "id": "4509a567eb874e3187ed7b3bc31f6749",
    "time": "2021-01-23T21:58:26.673Z",
    "type": "completion"
   },
   {
    "id": "cc8c9ae26ae340dcb3e81ce9915fbd76",
    "time": "2021-01-23T21:58:26.675Z",
    "type": "completion"
   },
   {
    "id": "92c511f89990432780373a8f3a2aa2ee",
    "time": "2021-01-23T21:58:26.676Z",
    "type": "completion"
   },
   {
    "id": "c9eb6bdf28b245228c52db3692bdde90",
    "time": "2021-01-23T21:58:26.972Z",
    "type": "completion"
   },
   {
    "id": "7a2b5b3ec7ce495ab4cba58fd78b477e",
    "time": "2021-01-23T21:58:26.975Z",
    "type": "completion"
   },
   {
    "id": "82c6f152c79a4a268617fac53b0f7297",
    "time": "2021-01-23T21:58:26.977Z",
    "type": "completion"
   },
   {
    "id": "7fcfe91b3df4486d8c4e3464a6c676ed",
    "time": "2021-01-23T21:58:26.981Z",
    "type": "completion"
   },
   {
    "id": "f457b33bc8674894ad7ec071e416d4a9",
    "time": "2021-01-23T21:58:27.164Z",
    "type": "completion"
   },
   {
    "id": "b57dbe1dcaa742728bfe2306f33fc72e",
    "time": "2021-01-23T21:58:27.173Z",
    "type": "completion"
   },
   {
    "id": "5dd79ef94fd842db8803cb43750bed25",
    "time": "2021-01-23T21:58:27.176Z",
    "type": "completion"
   },
   {
    "id": "04819c13bb9742e98ff78d4dd08f3637",
    "time": "2021-01-23T21:58:27.178Z",
    "type": "completion"
   },
   {
    "id": "ee73ff5a3e184f7daa26425f8d843c94",
    "time": "2021-01-23T21:58:27.180Z",
    "type": "completion"
   },
   {
    "id": "8fe21bd6a5d14aef96b3182eaec02042",
    "time": "2021-01-23T21:58:27.234Z",
    "type": "completion"
   },
   {
    "id": "ea70a7e0cdaa47cfa97b83f69b8f6bd0",
    "time": "2021-01-23T21:58:27.236Z",
    "type": "completion"
   },
   {
    "id": "3a4cfa9f2ace4979b904afbe52dc85e8",
    "time": "2021-01-23T21:58:27.238Z",
    "type": "completion"
   },
   {
    "id": "1404c78e30d447808dd7199d0b479184",
    "time": "2021-01-23T21:58:27.241Z",
    "type": "completion"
   },
   {
    "id": "d941f4a8cdd84e0ea8de879669856f61",
    "time": "2021-01-23T21:58:27.243Z",
    "type": "completion"
   },
   {
    "id": "84c14ccc49154f668ed9f7edb7d430fa",
    "time": "2021-01-23T21:58:27.245Z",
    "type": "completion"
   },
   {
    "id": "b68d426107104885949db508865d56ab",
    "time": "2021-01-23T21:58:27.247Z",
    "type": "completion"
   },
   {
    "id": "6bdc1384f83241a48222e9ed20494d7c",
    "time": "2021-01-23T21:58:27.731Z",
    "type": "completion"
   },
   {
    "id": "4039454d470642128e018a2f340c0538",
    "time": "2021-01-23T21:58:27.734Z",
    "type": "completion"
   },
   {
    "id": "bf75dae85c3e41c99c8150776dd9068d",
    "time": "2021-01-23T21:58:27.745Z",
    "type": "completion"
   },
   {
    "id": "26efb4f8a1824e0c88bb216534551591",
    "time": "2021-01-23T21:58:36.450Z",
    "type": "completion"
   },
   {
    "id": "85aa0487ae7543489c079cc129284b0e",
    "time": "2021-01-23T21:58:36.455Z",
    "type": "completion"
   },
   {
    "id": "2675f62285cb4d19932cf605fb510707",
    "time": "2021-01-23T21:58:36.457Z",
    "type": "completion"
   },
   {
    "id": "1ff387807db94700a63d77d3c1e8fb86",
    "time": "2021-01-23T21:58:38.513Z",
    "type": "completion"
   },
   {
    "id": "18cdd85d443d4d018969163d737e32b4",
    "time": "2021-01-23T21:58:38.516Z",
    "type": "completion"
   },
   {
    "id": "5e13d84d3eaa4678866b718d0209eaf1",
    "time": "2021-01-23T21:58:38.601Z",
    "type": "completion"
   },
   {
    "id": "781806d2d30a4fe48e226059af4f0a21",
    "time": "2021-01-23T21:58:38.603Z",
    "type": "completion"
   },
   {
    "id": "8918a8df1868472c939b0bc23c02f3b9",
    "time": "2021-01-23T21:58:38.605Z",
    "type": "completion"
   },
   {
    "id": "877f92a5f38340b7b51fb574bd365e0c",
    "time": "2021-01-23T21:58:38.790Z",
    "type": "completion"
   },
   {
    "id": "a7a6fef5e9bf4dce8911896e259ec312",
    "time": "2021-01-23T21:58:38.793Z",
    "type": "completion"
   },
   {
    "id": "637730b8633341de858c757d2b7ca6ce",
    "time": "2021-01-23T21:58:39.833Z",
    "type": "completion"
   },
   {
    "id": "0e8439d120e54c198d72db1d863959c0",
    "time": "2021-01-23T21:58:48.176Z",
    "type": "completion"
   },
   {
    "id": "412e961a3b614b968a8f29f2a028fe31",
    "time": "2021-01-23T21:58:48.239Z",
    "type": "completion"
   },
   {
    "id": "67ab961501094d12baa8c0ecc57aec27",
    "time": "2021-01-23T21:58:48.243Z",
    "type": "completion"
   },
   {
    "id": "a75269063207490db6a4bba2bd678958",
    "time": "2021-01-23T21:59:05.507Z",
    "type": "completion"
   },
   {
    "id": "7598f8ac178f40ec8b6fb65be77544ed",
    "time": "2021-01-23T21:59:05.509Z",
    "type": "completion"
   },
   {
    "id": "5874694d43b3458283c9fb26c6bbc7e8",
    "time": "2021-01-23T21:59:05.780Z",
    "type": "completion"
   },
   {
    "id": "5998b4d4fc4a4d5585a9a7172ceac024",
    "time": "2021-01-23T21:59:05.781Z",
    "type": "completion"
   },
   {
    "code": "# TEST\nassert len(biased_simulations) == 100000\nassert sum([-1 < x < 1 for x in biased_simulations]) == len(biased_simulations)",
    "id": "d3cc5373d3b247dabb86f1ee8d6d5f3c",
    "idx": 112,
    "time": "2021-01-25T04:40:16.423Z",
    "type": "execution"
   },
   {
    "id": "d3cc5373d3b247dabb86f1ee8d6d5f3c",
    "time": "2021-01-25T04:40:16.624Z",
    "type": "completion"
   },
   {
    "code": "import numpy as np\nimport matplotlib\nimport matplotlib.pyplot as plt\nimport seaborn as sns\n\nplt.style.use('fivethirtyeight')\n\n# Default plot configurations\n%matplotlib inline\nplt.rcParams['figure.figsize'] = (16,8)\nplt.rcParams['figure.dpi'] = 150\nsns.set()\n\nfrom IPython.display import display, Latex, Markdown",
    "id": "ff93ae0aea2a4ba6a8bf142ac975d6f7",
    "idx": 7,
    "time": "2021-01-25T04:40:19.056Z",
    "type": "execution"
   },
   {
    "code": "from scipy import special",
    "id": "8579042cc94f46d1b5a6ab705fa911c0",
    "idx": 10,
    "time": "2021-01-25T04:40:19.059Z",
    "type": "execution"
   },
   {
    "code": "special.factorial(5), special.factorial(range(1, 6))",
    "id": "bfdaf248d4c14d9597640247e911ac48",
    "idx": 12,
    "time": "2021-01-25T04:40:19.063Z",
    "type": "execution"
   },
   {
    "code": "special.comb(5, 3), special.factorial(5) / (special.factorial(3) * special.factorial(2))",
    "id": "57a770358751479b9adf5bea1f20abd6",
    "idx": 14,
    "time": "2021-01-25T04:40:19.067Z",
    "type": "execution"
   },
   {
    "code": "special.comb(5, range(6))",
    "id": "965e22707e824f5389d8381c82544870",
    "idx": 15,
    "time": "2021-01-25T04:40:19.070Z",
    "type": "execution"
   },
   {
    "code": "special.comb(100, 50), special.comb(100, 50, exact=True)",
    "id": "9cbb927a6b5a413a862b2977bef03825",
    "idx": 16,
    "time": "2021-01-25T04:40:19.073Z",
    "type": "execution"
   },
   {
    "code": "prob_1a = special.comb(100, 20)*(0.26**20)*(0.74**80) # SOLUTION\nprob_1a",
    "id": "471fdb968e6a4b188fb945c9646e14c0",
    "idx": 20,
    "time": "2021-01-25T04:40:19.078Z",
    "type": "execution"
   },
   {
    "code": "# TEST\nprob_1a >= 0 and prob_1a <= 1",
    "id": "f3e94e85aad840529ac50d3c164ef611",
    "idx": 21,
    "time": "2021-01-25T04:40:19.081Z",
    "type": "execution"
   },
   {
    "code": "# HIDDEN TEST\nnp.isclose(prob_1a, 0.0369, atol = 1e-4)",
    "id": "81b2ee576b134be88f0750f75225054d",
    "idx": 22,
    "time": "2021-01-25T04:40:19.084Z",
    "type": "execution"
   },
   {
    "code": "k = np.arange(101)\nall_probs = special.comb(100, k)*(0.26**k)*(0.74**(100-k)) # SOLUTION\nnp.round(all_probs, 4), sum(all_probs)",
    "id": "91e26e7e139744b4888de555e0c44fcc",
    "idx": 24,
    "time": "2021-01-25T04:40:19.087Z",
    "type": "execution"
   },
   {
    "code": "# TEST\nnp.all(all_probs >= 0) and np.all(all_probs <= 1)",
    "id": "eff15f5dbc194e918856ffa9e2094696",
    "idx": 25,
    "time": "2021-01-25T04:40:19.090Z",
    "type": "execution"
   },
   {
    "code": "# HIDDEN TEST\nk = np.arange(101)\ntest_1b = special.comb(100, k)*(0.26**k)*(0.74**(100-k))\nnp.all(np.isclose(test_1b, all_probs, atol = 1e-5))",
    "id": "4463e88c6be144819e7e6d6d0604aa2a",
    "idx": 26,
    "time": "2021-01-25T04:40:19.092Z",
    "type": "execution"
   },
   {
    "code": "prob_1c = sum(all_probs[16:37]) # SOLUTION",
    "id": "38e034b2b53e4cc88d96523d7989bbce",
    "idx": 28,
    "time": "2021-01-25T04:40:19.096Z",
    "type": "execution"
   },
   {
    "code": "# TEST\nprob_1c >= 0 and prob_1c <= 1",
    "id": "97c8420e39d0461a96005e47d62ee2b8",
    "idx": 29,
    "time": "2021-01-25T04:40:19.100Z",
    "type": "execution"
   },
   {
    "code": "# HIDDEN TEST\nnp.isclose(prob_1c, 0.9838, atol = 1e-4)",
    "id": "8da8b1a16e2c4e859fbc00f9ce7a47c3",
    "idx": 30,
    "time": "2021-01-25T04:40:19.103Z",
    "type": "execution"
   },
   {
    "code": "def prob_at_most(n, p, s):\n    \"\"\" \n    returns the probability of S <= s\n    Input n: sample size; p : proportion; s: number of successes at most\"\"\"\n    # BEGIN SOLUTION\n    if 0 <= p and p <= 1 and s <= n:\n        k = np.arange(n+1)\n        all_probs = special.comb(n, k)*(p**k)*((1-p)**(n-k))\n        return sum(all_probs[:s+1])\n    else:\n        return 0\n    # END SOLUTION",
    "id": "f42dbaecb238481685b6bb8b035dee4e",
    "idx": 34,
    "time": "2021-01-25T04:40:19.108Z",
    "type": "execution"
   },
   {
    "code": "# TEST\nassert prob_at_most(3, 0.4, 1) >= 0\nassert prob_at_most(5, 0.6, 3) <= 1\nassert prob_at_most(2, 3, 4) == 0",
    "id": "7a7e254953974850a207d5903869aeb4",
    "idx": 35,
    "time": "2021-01-25T04:40:19.111Z",
    "type": "execution"
   },
   {
    "code": "# HIDDEN TEST\nnp.isclose(prob_at_most(10, 0.7, 4), 0.0473, atol = 1e-4)",
    "id": "47d4a1503d2748688a655d1984411632",
    "idx": 36,
    "time": "2021-01-25T04:40:19.114Z",
    "type": "execution"
   },
   {
    "code": "# HIDDEN TEST\nnp.isclose(prob_at_most(10, 0.7, 4), 0.0473, atol = 1e-4)",
    "id": "fb8703f12e53462686808feeeff9d66a",
    "idx": 37,
    "time": "2021-01-25T04:40:19.116Z",
    "type": "execution"
   },
   {
    "code": "# HIDDEN TEST\nnp.isclose(prob_at_most(5, 1, 1), 0, atol = 1e-4)",
    "id": "fa1d0070b1dd43a18fbd4f4997641d14",
    "idx": 38,
    "time": "2021-01-25T04:40:19.119Z",
    "type": "execution"
   },
   {
    "code": "# HIDDEN TEST\nnp.isclose(prob_at_most(8, 0.7, 3), 0.05797, atol = 1e-4)",
    "id": "ef06c953bc6943d780f6d6eef4d877e2",
    "idx": 39,
    "time": "2021-01-25T04:40:19.121Z",
    "type": "execution"
   },
   {
    "code": "p_majority = 1 - prob_at_most(200, 0.45, 100) # SOLUTION \np_majority",
    "id": "4e10e6aba361436ba3ce092bb96fccb3",
    "idx": 41,
    "time": "2021-01-25T04:40:19.124Z",
    "type": "execution"
   },
   {
    "code": "# TEST\np_majority >= 0 and p_majority <= 1",
    "id": "31671adeecef4247951b238069c47f45",
    "idx": 42,
    "time": "2021-01-25T04:40:19.127Z",
    "type": "execution"
   },
   {
    "code": "# HIDDEN TEST\nnp.isclose(p_majority, 0.06807, atol = 1e-4)",
    "id": "72bf1106cb8f42eaba1242af60e11045",
    "idx": 43,
    "time": "2021-01-25T04:40:19.130Z",
    "type": "execution"
   },
   {
    "code": "prob_2c = 1 - (prob_at_most(200, 0.45, 100)**3)*prob_at_most(300, 0.45, 150)*prob_at_most(400, 0.45, 200) # SOLUTION\nprob_2c",
    "id": "bb3fe6aac50547c8bf98461ddb4ecd60",
    "idx": 45,
    "time": "2021-01-25T04:40:19.133Z",
    "type": "execution"
   },
   {
    "code": "# TEST\nprob_2c >= 0 and prob_2c <= 1",
    "id": "8d066462acea4eaa8f2d49397d622f6d",
    "idx": 46,
    "time": "2021-01-25T04:40:19.136Z",
    "type": "execution"
   },
   {
    "code": "# HIDDEN TEST\nnp.isclose(prob_2c, 0.2355, atol = 1e-4)",
    "id": "9fb237b3de5a47b3807c850f01530fcd",
    "idx": 47,
    "time": "2021-01-25T04:40:19.139Z",
    "type": "execution"
   },
   {
    "code": "ans_3a = 'b' # SOLUTION",
    "id": "60503f5fc4e649378c8059a18dc6b6d7",
    "idx": 51,
    "time": "2021-01-25T04:40:19.143Z",
    "type": "execution"
   },
   {
    "code": "# TEST\nans_3a in ['a', 'b', 'c', 'd']",
    "id": "7830ffd1b1cb46b680e9d0b63383e056",
    "idx": 52,
    "time": "2021-01-25T04:40:19.146Z",
    "type": "execution"
   },
   {
    "code": "# HIDDEN TEST\nans_3a == 'b'",
    "id": "2bdfbaf213714099890a74c55d913633",
    "idx": 53,
    "time": "2021-01-25T04:40:19.149Z",
    "type": "execution"
   },
   {
    "code": "ans_3b = 'c' # SOLUTION",
    "id": "4362c6ec8e624a4a8316910b4d6fa205",
    "idx": 55,
    "time": "2021-01-25T04:40:19.152Z",
    "type": "execution"
   },
   {
    "code": "# TEST\nans_3b in ['a', 'b', 'c', 'd']",
    "id": "e363e28fa52941908b771db492f9210b",
    "idx": 56,
    "time": "2021-01-25T04:40:19.155Z",
    "type": "execution"
   },
   {
    "code": "# HIDDEN TEST\nans_3b == 'c'",
    "id": "9c0fff729ba345b79338a94e6c41b1f6",
    "idx": 57,
    "time": "2021-01-25T04:40:19.158Z",
    "type": "execution"
   },
   {
    "code": "def prob_sample_counts(t, c, o):\n    \"\"\"\n    Input:\n    t - number of votes for Trump\n    c - number of votes for Clinton\n    o - number of votes for Other\n    Return: The probability of getting a such sample\n    \"\"\"\n    # BEGIN SOLUTION\n    if t+c+o == 20:\n        p_T = 0.4818\n        p_C = 0.4746\n        p_O = 0.0436\n        return (special.factorial(20)/(special.factorial(t)*special.factorial(c)*special.factorial(o)))*(p_T**t)*(p_C**c)*(p_O**o)\n    else:\n        return 0\n    # END SOLUTION",
    "id": "b7ec4af645e44cd3bd771df28651ba61",
    "idx": 59,
    "time": "2021-01-25T04:40:19.161Z",
    "type": "execution"
   },
   {
    "code": "# TEST\nassert np.isclose(prob_sample_counts(31, 8, 1), 0, atol = 1e-5)\nassert 0 <= prob_sample_counts(2, 5, 13) <= 1\nassert 0 <= prob_sample_counts(5, 1, 14) <= 1\nassert 0 <= prob_sample_counts(10, 8, 2) <= 1\nassert 0 <= prob_sample_counts(6, 12, 2) <= 1",
    "id": "42a5aba4bb7646f999d27f43908e236e",
    "idx": 60,
    "time": "2021-01-25T04:40:19.163Z",
    "type": "execution"
   },
   {
    "code": "# HIDDEN TEST\nassert prob_sample_counts(6, 12, 8) == 0\nassert prob_sample_counts(21, 0, 3) == 0\nassert prob_sample_counts(6, 6, 2) == 0\nassert np.isclose(prob_sample_counts(6, 12, 2), 0.01095, atol = 1e-4)\nassert np.isclose(prob_sample_counts(13, 7, 0), 0.03169, atol = 1e-4)\nassert np.isclose(prob_sample_counts(13, 5, 2), 0.00562, atol = 1e-4)",
    "id": "5f1436caf23d42028acf7e24715fe2f3",
    "idx": 61,
    "time": "2021-01-25T04:40:19.166Z",
    "type": "execution"
   },
   {
    "code": "prob_3d = sum(prob_sample_counts(t, c, 20-(t+c)) for t in range(21) for c in range(0, 21-t)) # SOLUTION\nprob_3d",
    "id": "75a79fe1b39145b89d6492f585c4ab33",
    "idx": 63,
    "time": "2021-01-25T04:40:19.169Z",
    "type": "execution"
   },
   {
    "code": "# TEST\nnp.isclose(prob_3d, 1, atol = 1e-4)",
    "id": "66a404dee46d4f5f9fbf31615a554f69",
    "idx": 64,
    "time": "2021-01-25T04:40:19.172Z",
    "type": "execution"
   },
   {
    "code": "# HIDDEN TEST\nnp.isclose(prob_3d, 1, atol = 1e-4)",
    "id": "35c50072c9a64bc8893e9363b9cda387",
    "idx": 65,
    "time": "2021-01-25T04:40:19.174Z",
    "type": "execution"
   },
   {
    "code": "prob_3e = prob_sample_counts(11, 8, 1) # SOLUTION\nprob_3e",
    "id": "30733037ee1e49ad8ce437e64576019c",
    "idx": 67,
    "time": "2021-01-25T04:40:19.179Z",
    "type": "execution"
   },
   {
    "code": "# TEST\nprob_3e >= 0 and prob_3e <= 1",
    "id": "86d3c45b62754ba287019024213c4610",
    "idx": 68,
    "time": "2021-01-25T04:40:19.182Z",
    "type": "execution"
   },
   {
    "code": "# HIDDEN TEST\nnp.isclose(prob_3e, 0.05509, atol = 1e-4)",
    "id": "650afd35e14f45f4833a772ecb19f13d",
    "idx": 69,
    "time": "2021-01-25T04:40:19.185Z",
    "type": "execution"
   },
   {
    "code": "prob_3f = sum(prob_sample_counts(t, c, 20-(t+c)) for t in range(7, 13) for c in range(7, 20-t)) # SOLUTION\nprob_3f",
    "id": "c9f8cc91936344558ea55ab56ef6b0ba",
    "idx": 71,
    "time": "2021-01-25T04:40:19.188Z",
    "type": "execution"
   },
   {
    "code": "# TEST\nprob_3f >= 0 and prob_3f <= 1",
    "id": "451cabb7d5dc4aefb2c7d85a318a4d94",
    "idx": 72,
    "time": "2021-01-25T04:40:19.191Z",
    "type": "execution"
   },
   {
    "code": "# HIDDEN TEST\nnp.isclose(prob_3f, 0.46939, atol = 1e-4)",
    "id": "99622a7c72ad4c5d913514780d3a3741",
    "idx": 73,
    "time": "2021-01-25T04:40:19.194Z",
    "type": "execution"
   },
   {
    "code": "def draw_state_sample(N, state):\n    # BEGIN SOLUTION \n    if state == \"florida\":\n        return np.random.multinomial(N, [0.4902, 0.4782, 1 - (0.4902 + 0.4782)])\n    \n    if state == \"michigan\": \n        return np.random.multinomial(N, [0.475, 0.4727, 1 - (0.475 + 0.4727)])\n\n    if state == \"pennsylvania\":\n        return np.random.multinomial(N, [0.4818, 0.4746, 1 - (0.4818 + 0.4746)])\n  \n    if state == \"wisconsin\":\n        return np.random.multinomial(N, [0.4722, 0.4645, 1 - (0.4722 + 0.4645)])\n\n    raise(\"invalid state\")\n    # END SOLUTION",
    "id": "30f7a9b51ed84d3a8c9fd318f5a44e89",
    "idx": 87,
    "time": "2021-01-25T04:40:19.203Z",
    "type": "execution"
   },
   {
    "code": "# TEST\nassert len(draw_state_sample(1500, \"florida\")) == 3\nassert sum(draw_state_sample(1500, \"michigan\")) == 1500",
    "id": "f0be6645222b4f66b999e23fbba2203f",
    "idx": 88,
    "time": "2021-01-25T04:40:19.206Z",
    "type": "execution"
   },
   {
    "code": "# TEST\nq7a_penn = draw_state_sample(1500, \"pennsylvania\")\ntrump_win_penn = (q7a_penn[0] - q7a_penn[1]) / 1500\nabs(trump_win_penn - 0.007) <= 0.12",
    "id": "c9120274680c43858544798e1dfa4543",
    "idx": 89,
    "time": "2021-01-25T04:40:19.208Z",
    "type": "execution"
   },
   {
    "code": "def trump_advantage(voter_sample):\n    # BEGIN SOLUTION \n    N = sum(voter_sample)\n    percentage_trump = voter_sample[0]/N \n    percentage_clinton = voter_sample[1]/N \n    return percentage_trump - percentage_clinton\n    # END SOLUTION",
    "id": "a679294659fa4b418810ab95e3248b6f",
    "idx": 91,
    "time": "2021-01-25T04:40:19.211Z",
    "type": "execution"
   },
   {
    "code": "# TEST\nassert -1 < trump_advantage(draw_state_sample(1500, \"wisconsin\")) < 1\nassert np.isclose(trump_advantage([100, 60, 40]), 0.2)\nassert np.isclose(trump_advantage([10, 30, 10]), -0.4)",
    "id": "d1894d54f0e84a858a0da3b5b8de81f3",
    "idx": 92,
    "time": "2021-01-25T04:40:19.214Z",
    "type": "execution"
   },
   {
    "code": "simulations = [trump_advantage(draw_state_sample(1500, \"pennsylvania\")) for i in range(100000)] # SOLUTION",
    "id": "876eacfe072c49699e6e982b8624ed5f",
    "idx": 94,
    "time": "2021-01-25T04:40:19.217Z",
    "type": "execution"
   },
   {
    "code": "# TEST\nassert len(simulations) == 100000\nassert sum([-1 < x < 1 for x in simulations]) == len(simulations)\nassert abs(np.mean(simulations) - 0.007) <= 0.016",
    "id": "6849680977ea4a5488e2d8f26ef9fa3d",
    "idx": 95,
    "time": "2021-01-25T04:40:19.220Z",
    "type": "execution"
   },
   {
    "code": "# BEGIN SOLUTION\nplt.hist(simulations) ;\nplt.title('Pennsylvania');\nplt.ylabel('# of Simulations');\nplt.xlabel('Sampling Distribution Advantage');\n# END SOLUTION",
    "id": "bd1e13ea69dd4ec49ad018bc9c6fd6ec",
    "idx": 97,
    "time": "2021-01-25T04:40:19.223Z",
    "type": "execution"
   },
   {
    "code": "def trump_wins(N):\n    # BEGIN SOLUTION \n    wins_florida = trump_advantage(draw_state_sample(N, \"florida\")) > 0\n    wins_michigan = trump_advantage(draw_state_sample(N, \"michigan\")) > 0\n    wins_pennsylvania = trump_advantage(draw_state_sample(N, \"pennsylvania\")) > 0\n    wins_wisconsin = trump_advantage(draw_state_sample(N, \"wisconsin\")) > 0\n    if wins_michigan and wins_pennsylvania and wins_wisconsin:\n        return 1\n    if wins_florida and (wins_michigan or wins_pennsylvania or wins_wisconsin):\n        return 1\n    return 0\n    # END SOLUTION",
    "id": "0cce634745f24d9991c082f371e7112b",
    "idx": 99,
    "time": "2021-01-25T04:40:19.226Z",
    "type": "execution"
   },
   {
    "code": "# TEST\ntrump_wins(1000) in [0, 1]",
    "id": "8e9d9952e56344879d370c19e683de0a",
    "idx": 100,
    "time": "2021-01-25T04:40:19.229Z",
    "type": "execution"
   },
   {
    "code": "proportion_trump = np.mean([trump_wins(1500) for i in range(100000)]) # SOLUTION\nproportion_trump",
    "id": "5edc5f70de9e4a23ac5b5edaafef807d",
    "idx": 102,
    "time": "2021-01-25T04:40:19.232Z",
    "type": "execution"
   },
   {
    "code": "# TEST\n0 < proportion_trump < 1",
    "id": "c5caf2bf70874f3d8d635c3938e76e76",
    "idx": 103,
    "time": "2021-01-25T04:40:19.235Z",
    "type": "execution"
   },
   {
    "code": "# TEST\nabs(proportion_trump - 0.695) <= 0.02",
    "id": "d833444ea3ef4b5ba637aea3a98ac850",
    "idx": 104,
    "time": "2021-01-25T04:40:19.238Z",
    "type": "execution"
   },
   {
    "code": "def draw_biased_state_sample(N, state):\n    \n    # BEGIN SOLUTION \n    if state == \"florida\":\n        return np.random.multinomial(N, [0.4902 - 0.005, 0.4782 + 0.005, 1 - (0.4902 + 0.4782)])\n    \n    if state == \"michigan\": \n        return np.random.multinomial(N, [0.475 - 0.005, 0.4727 + 0.005, 1 - (0.475 + 0.4727)])\n\n    if state == \"pennsylvania\":\n        return np.random.multinomial(N, [0.4818 - 0.005, 0.4746 + 0.005, 1 - (0.4818 + 0.4746)])\n  \n    if state == \"wisconsin\":\n        return np.random.multinomial(N, [0.4722 - 0.005, 0.4645 + 0.005, 1 - (0.4722 + 0.4645)])\n\n    raise(\"invalid state\")\n    # END SOLUTION\n    \nbiased_simulations = [trump_advantage(draw_biased_state_sample(1500, \"pennsylvania\")) for i in range(100000)] # SOLUTION",
    "id": "eed7d8a71b4048e19d66f00f779cdb46",
    "idx": 108,
    "time": "2021-01-25T04:40:19.242Z",
    "type": "execution"
   },
   {
    "code": "# TEST\nlen(draw_biased_state_sample(1000, \"wisconsin\")) == 3",
    "id": "c116c7ac53d04f388b7203221f4fa604",
    "idx": 109,
    "time": "2021-01-25T04:40:19.245Z",
    "type": "execution"
   },
   {
    "code": "# TEST\nsum(draw_biased_state_sample(1000, \"michigan\")) == 1000",
    "id": "9d088377a3ec4e4baa27cdd07d05ad50",
    "idx": 110,
    "time": "2021-01-25T04:40:19.247Z",
    "type": "execution"
   },
   {
    "code": "# TEST\nq7_1 = draw_biased_state_sample(3000, \"florida\")\nq7_1[0] > q7_1[2] and q7_1[1] > q7_1[2]",
    "id": "3d34e28fa9794a9da605327214aed86a",
    "idx": 111,
    "time": "2021-01-25T04:40:19.250Z",
    "type": "execution"
   },
   {
    "code": "# TEST\nassert len(biased_simulations) == 100000\nassert sum([-1 < x < 1 for x in biased_simulations]) == len(biased_simulations)",
    "id": "d3cc5373d3b247dabb86f1ee8d6d5f3c",
    "idx": 112,
    "time": "2021-01-25T04:40:19.253Z",
    "type": "execution"
   },
   {
    "code": "# TEST\nabs(np.mean(biased_simulations) + 0.003) <= 0.12",
    "id": "c39e21ae0cc34420864528f7154f3368",
    "idx": 113,
    "time": "2021-01-25T04:40:19.255Z",
    "type": "execution"
   },
   {
    "code": "# BEGIN SOLUTION\nplt.hist(biased_simulations) ;\nplt.title('Biased Sampling of Pennsylvania') ;\nplt.ylabel('# of Simulations');\nplt.xlabel('Sampling Distribution Advantage');\n# END SOLUTION",
    "id": "18c07cfb0267487082cb152f5901c148",
    "idx": 115,
    "time": "2021-01-25T04:40:19.258Z",
    "type": "execution"
   },
   {
    "code": "def trump_wins_biased(N): \n    # BEGIN SOLUTION \n    wins_florida = trump_advantage(draw_biased_state_sample(N, \"florida\")) > 0\n    wins_michigan = trump_advantage(draw_biased_state_sample(N, \"michigan\")) > 0\n    wins_pennsylvania = trump_advantage(draw_biased_state_sample(N, \"pennsylvania\")) > 0\n    wins_wisconsin = trump_advantage(draw_biased_state_sample(N, \"wisconsin\")) > 0\n    if wins_michigan and wins_pennsylvania and wins_wisconsin:\n        return 1\n    if wins_florida and (wins_michigan or wins_pennsylvania or wins_wisconsin):\n        return 1\n    return 0\n    # END SOLUTION\n\nproportion_trump_biased = np.mean([trump_wins_biased(1500) for i in range(100000)]) # SOLUTION\nproportion_trump_biased",
    "id": "e6603822ea4f4b2b9552e5cbd3aa134f",
    "idx": 119,
    "time": "2021-01-25T04:40:19.262Z",
    "type": "execution"
   },
   {
    "code": "# TEST\n0 < proportion_trump_biased < 1",
    "id": "cae7245762854c58a893b2beff7f7274",
    "idx": 120,
    "time": "2021-01-25T04:40:19.265Z",
    "type": "execution"
   },
   {
    "code": "# TEST\nabs(proportion_trump_biased - 0.466) <= 0.04",
    "id": "4db1ef34e68242d88ed1a27f847d830f",
    "idx": 121,
    "time": "2021-01-25T04:40:19.268Z",
    "type": "execution"
   },
   {
    "code": "high_sample_size_unbiased_proportion_trump = np.mean([trump_wins(5000) for i in range(100000)])  # SOLUTION\nhigh_sample_size_biased_proportion_trump = np.mean([trump_wins_biased(5000) for i in range(100000)])  # SOLUTION\nprint(high_sample_size_unbiased_proportion_trump, high_sample_size_biased_proportion_trump)",
    "id": "e8fe9ded4af64ccb89352b86d5733ef7",
    "idx": 124,
    "time": "2021-01-25T04:40:19.271Z",
    "type": "execution"
   },
   {
    "code": "# TEST\nnp.abs(high_sample_size_unbiased_proportion_trump - 0.829) <= 0.02",
    "id": "f124a5a8de74496b8564e7819bdca4b3",
    "idx": 125,
    "time": "2021-01-25T04:40:19.274Z",
    "type": "execution"
   },
   {
    "code": "# TEST \nnp.abs(high_sample_size_biased_proportion_trump - 0.445) <= 0.04",
    "id": "32a45c98f96240ad8ee028db24ff3c4f",
    "idx": 126,
    "time": "2021-01-25T04:40:19.276Z",
    "type": "execution"
   },
   {
    "code": "# Feel free to use this cell for any scratch work (creating visualizations, examining data, etc.)",
    "id": "4066c38c973b48ea8b19120144b10453",
    "idx": 128,
    "time": "2021-01-25T04:40:19.279Z",
    "type": "execution"
   },
   {
    "id": "ff93ae0aea2a4ba6a8bf142ac975d6f7",
    "time": "2021-01-25T04:40:20.009Z",
    "type": "completion"
   },
   {
    "id": "8579042cc94f46d1b5a6ab705fa911c0",
    "time": "2021-01-25T04:40:20.011Z",
    "type": "completion"
   },
   {
    "id": "bfdaf248d4c14d9597640247e911ac48",
    "time": "2021-01-25T04:40:20.068Z",
    "type": "completion"
   },
   {
    "id": "57a770358751479b9adf5bea1f20abd6",
    "time": "2021-01-25T04:40:20.073Z",
    "type": "completion"
   },
   {
    "id": "965e22707e824f5389d8381c82544870",
    "time": "2021-01-25T04:40:20.076Z",
    "type": "completion"
   },
   {
    "id": "9cbb927a6b5a413a862b2977bef03825",
    "time": "2021-01-25T04:40:20.081Z",
    "type": "completion"
   },
   {
    "id": "471fdb968e6a4b188fb945c9646e14c0",
    "time": "2021-01-25T04:40:20.083Z",
    "type": "completion"
   },
   {
    "id": "f3e94e85aad840529ac50d3c164ef611",
    "time": "2021-01-25T04:40:20.086Z",
    "type": "completion"
   },
   {
    "id": "81b2ee576b134be88f0750f75225054d",
    "time": "2021-01-25T04:40:20.088Z",
    "type": "completion"
   },
   {
    "id": "91e26e7e139744b4888de555e0c44fcc",
    "time": "2021-01-25T04:40:20.090Z",
    "type": "completion"
   },
   {
    "id": "eff15f5dbc194e918856ffa9e2094696",
    "time": "2021-01-25T04:40:20.148Z",
    "type": "completion"
   },
   {
    "id": "4463e88c6be144819e7e6d6d0604aa2a",
    "time": "2021-01-25T04:40:20.169Z",
    "type": "completion"
   },
   {
    "id": "38e034b2b53e4cc88d96523d7989bbce",
    "time": "2021-01-25T04:40:20.171Z",
    "type": "completion"
   },
   {
    "id": "97c8420e39d0461a96005e47d62ee2b8",
    "time": "2021-01-25T04:40:20.174Z",
    "type": "completion"
   },
   {
    "id": "8da8b1a16e2c4e859fbc00f9ce7a47c3",
    "time": "2021-01-25T04:40:20.177Z",
    "type": "completion"
   },
   {
    "id": "f42dbaecb238481685b6bb8b035dee4e",
    "time": "2021-01-25T04:40:20.181Z",
    "type": "completion"
   },
   {
    "id": "7a7e254953974850a207d5903869aeb4",
    "time": "2021-01-25T04:40:20.182Z",
    "type": "completion"
   },
   {
    "id": "47d4a1503d2748688a655d1984411632",
    "time": "2021-01-25T04:40:20.184Z",
    "type": "completion"
   },
   {
    "id": "fb8703f12e53462686808feeeff9d66a",
    "time": "2021-01-25T04:40:20.247Z",
    "type": "completion"
   },
   {
    "id": "fa1d0070b1dd43a18fbd4f4997641d14",
    "time": "2021-01-25T04:40:20.250Z",
    "type": "completion"
   },
   {
    "id": "ef06c953bc6943d780f6d6eef4d877e2",
    "time": "2021-01-25T04:40:20.253Z",
    "type": "completion"
   },
   {
    "id": "4e10e6aba361436ba3ce092bb96fccb3",
    "time": "2021-01-25T04:40:20.257Z",
    "type": "completion"
   },
   {
    "id": "31671adeecef4247951b238069c47f45",
    "time": "2021-01-25T04:40:20.264Z",
    "type": "completion"
   },
   {
    "id": "72bf1106cb8f42eaba1242af60e11045",
    "time": "2021-01-25T04:40:20.268Z",
    "type": "completion"
   },
   {
    "id": "bb3fe6aac50547c8bf98461ddb4ecd60",
    "time": "2021-01-25T04:40:20.271Z",
    "type": "completion"
   },
   {
    "id": "8d066462acea4eaa8f2d49397d622f6d",
    "time": "2021-01-25T04:40:20.329Z",
    "type": "completion"
   },
   {
    "id": "9fb237b3de5a47b3807c850f01530fcd",
    "time": "2021-01-25T04:40:20.334Z",
    "type": "completion"
   },
   {
    "id": "60503f5fc4e649378c8059a18dc6b6d7",
    "time": "2021-01-25T04:40:20.335Z",
    "type": "completion"
   },
   {
    "id": "7830ffd1b1cb46b680e9d0b63383e056",
    "time": "2021-01-25T04:40:20.397Z",
    "type": "completion"
   },
   {
    "id": "2bdfbaf213714099890a74c55d913633",
    "time": "2021-01-25T04:40:20.400Z",
    "type": "completion"
   },
   {
    "id": "4362c6ec8e624a4a8316910b4d6fa205",
    "time": "2021-01-25T04:40:20.403Z",
    "type": "completion"
   },
   {
    "id": "e363e28fa52941908b771db492f9210b",
    "time": "2021-01-25T04:40:20.406Z",
    "type": "completion"
   },
   {
    "id": "9c0fff729ba345b79338a94e6c41b1f6",
    "time": "2021-01-25T04:40:20.409Z",
    "type": "completion"
   },
   {
    "id": "b7ec4af645e44cd3bd771df28651ba61",
    "time": "2021-01-25T04:40:20.412Z",
    "type": "completion"
   },
   {
    "id": "42a5aba4bb7646f999d27f43908e236e",
    "time": "2021-01-25T04:40:20.413Z",
    "type": "completion"
   },
   {
    "id": "5f1436caf23d42028acf7e24715fe2f3",
    "time": "2021-01-25T04:40:20.415Z",
    "type": "completion"
   },
   {
    "id": "75a79fe1b39145b89d6492f585c4ab33",
    "time": "2021-01-25T04:40:20.418Z",
    "type": "completion"
   },
   {
    "id": "66a404dee46d4f5f9fbf31615a554f69",
    "time": "2021-01-25T04:40:20.420Z",
    "type": "completion"
   },
   {
    "id": "35c50072c9a64bc8893e9363b9cda387",
    "time": "2021-01-25T04:40:20.428Z",
    "type": "completion"
   },
   {
    "id": "30733037ee1e49ad8ce437e64576019c",
    "time": "2021-01-25T04:40:20.433Z",
    "type": "completion"
   },
   {
    "id": "86d3c45b62754ba287019024213c4610",
    "time": "2021-01-25T04:40:20.439Z",
    "type": "completion"
   },
   {
    "id": "650afd35e14f45f4833a772ecb19f13d",
    "time": "2021-01-25T04:40:20.442Z",
    "type": "completion"
   },
   {
    "id": "c9f8cc91936344558ea55ab56ef6b0ba",
    "time": "2021-01-25T04:40:20.445Z",
    "type": "completion"
   },
   {
    "id": "451cabb7d5dc4aefb2c7d85a318a4d94",
    "time": "2021-01-25T04:40:20.448Z",
    "type": "completion"
   },
   {
    "id": "99622a7c72ad4c5d913514780d3a3741",
    "time": "2021-01-25T04:40:20.451Z",
    "type": "completion"
   },
   {
    "id": "30f7a9b51ed84d3a8c9fd318f5a44e89",
    "time": "2021-01-25T04:40:20.453Z",
    "type": "completion"
   },
   {
    "id": "f0be6645222b4f66b999e23fbba2203f",
    "time": "2021-01-25T04:40:20.455Z",
    "type": "completion"
   },
   {
    "id": "c9120274680c43858544798e1dfa4543",
    "time": "2021-01-25T04:40:20.457Z",
    "type": "completion"
   },
   {
    "id": "a679294659fa4b418810ab95e3248b6f",
    "time": "2021-01-25T04:40:20.459Z",
    "type": "completion"
   },
   {
    "id": "d1894d54f0e84a858a0da3b5b8de81f3",
    "time": "2021-01-25T04:40:20.461Z",
    "type": "completion"
   },
   {
    "id": "876eacfe072c49699e6e982b8624ed5f",
    "time": "2021-01-25T04:40:22.403Z",
    "type": "completion"
   },
   {
    "id": "6849680977ea4a5488e2d8f26ef9fa3d",
    "time": "2021-01-25T04:40:22.696Z",
    "type": "completion"
   },
   {
    "id": "bd1e13ea69dd4ec49ad018bc9c6fd6ec",
    "time": "2021-01-25T04:40:23.606Z",
    "type": "completion"
   },
   {
    "id": "0cce634745f24d9991c082f371e7112b",
    "time": "2021-01-25T04:40:23.611Z",
    "type": "completion"
   },
   {
    "id": "8e9d9952e56344879d370c19e683de0a",
    "time": "2021-01-25T04:40:23.614Z",
    "type": "completion"
   },
   {
    "id": "5edc5f70de9e4a23ac5b5edaafef807d",
    "time": "2021-01-25T04:40:32.621Z",
    "type": "completion"
   },
   {
    "id": "c5caf2bf70874f3d8d635c3938e76e76",
    "time": "2021-01-25T04:40:32.630Z",
    "type": "completion"
   },
   {
    "id": "d833444ea3ef4b5ba637aea3a98ac850",
    "time": "2021-01-25T04:40:32.633Z",
    "type": "completion"
   },
   {
    "id": "eed7d8a71b4048e19d66f00f779cdb46",
    "time": "2021-01-25T04:40:34.893Z",
    "type": "completion"
   },
   {
    "id": "c116c7ac53d04f388b7203221f4fa604",
    "time": "2021-01-25T04:40:34.903Z",
    "type": "completion"
   },
   {
    "id": "9d088377a3ec4e4baa27cdd07d05ad50",
    "time": "2021-01-25T04:40:34.949Z",
    "type": "completion"
   },
   {
    "id": "3d34e28fa9794a9da605327214aed86a",
    "time": "2021-01-25T04:40:34.953Z",
    "type": "completion"
   },
   {
    "id": "d3cc5373d3b247dabb86f1ee8d6d5f3c",
    "time": "2021-01-25T04:40:35.208Z",
    "type": "completion"
   },
   {
    "id": "c39e21ae0cc34420864528f7154f3368",
    "time": "2021-01-25T04:40:35.212Z",
    "type": "completion"
   },
   {
    "id": "18c07cfb0267487082cb152f5901c148",
    "time": "2021-01-25T04:40:36.036Z",
    "type": "completion"
   },
   {
    "id": "e6603822ea4f4b2b9552e5cbd3aa134f",
    "time": "2021-01-25T04:40:44.652Z",
    "type": "completion"
   },
   {
    "id": "cae7245762854c58a893b2beff7f7274",
    "time": "2021-01-25T04:40:44.659Z",
    "type": "completion"
   },
   {
    "id": "4db1ef34e68242d88ed1a27f847d830f",
    "time": "2021-01-25T04:40:44.714Z",
    "type": "completion"
   },
   {
    "id": "e8fe9ded4af64ccb89352b86d5733ef7",
    "time": "2021-01-25T04:41:03.466Z",
    "type": "completion"
   },
   {
    "id": "f124a5a8de74496b8564e7819bdca4b3",
    "time": "2021-01-25T04:41:03.470Z",
    "type": "completion"
   },
   {
    "id": "32a45c98f96240ad8ee028db24ff3c4f",
    "time": "2021-01-25T04:41:03.519Z",
    "type": "completion"
   },
   {
    "id": "4066c38c973b48ea8b19120144b10453",
    "time": "2021-01-25T04:41:03.522Z",
    "type": "completion"
   },
   {
    "code": "# Initialize Otter\nimport otter\ngrader = otter.Notebook(\"hw2.ipynb\")",
    "id": "77b93ef12a6f488f872b8e88e4564f5c",
    "idx": 0,
    "time": "2021-01-31T00:42:14.351Z",
    "type": "execution"
   },
   {
    "id": "77b93ef12a6f488f872b8e88e4564f5c",
    "time": "2021-01-31T00:42:15.483Z",
    "type": "completion"
   },
   {
    "code": "import numpy as np\nimport matplotlib\nimport matplotlib.pyplot as plt\nimport seaborn as sns\n\nplt.style.use('fivethirtyeight')\n\n# Default plot configurations\n%matplotlib inline\nplt.rcParams['figure.figsize'] = (16,8)\nplt.rcParams['figure.dpi'] = 150\nsns.set()\n\nfrom IPython.display import display, Latex, Markdown",
    "id": "1ae48cc11f5945108b02a35f67e03698",
    "idx": 7,
    "time": "2021-01-31T00:42:49.539Z",
    "type": "execution"
   },
   {
    "id": "1ae48cc11f5945108b02a35f67e03698",
    "time": "2021-01-31T00:42:50.525Z",
    "type": "completion"
   },
   {
    "code": "from scipy import special",
    "id": "04efd83d1328477085921ddb4dd35732",
    "idx": 10,
    "time": "2021-01-31T00:43:19.299Z",
    "type": "execution"
   },
   {
    "id": "04efd83d1328477085921ddb4dd35732",
    "time": "2021-01-31T00:43:19.633Z",
    "type": "completion"
   },
   {
    "code": "special.factorial(5), special.factorial(range(1, 6))",
    "id": "04025a13be1643328917c9e673af8207",
    "idx": 12,
    "time": "2021-01-31T00:43:36.649Z",
    "type": "execution"
   },
   {
    "id": "04025a13be1643328917c9e673af8207",
    "time": "2021-01-31T00:43:36.968Z",
    "type": "completion"
   },
   {
    "code": "special.comb(5, 3), special.factorial(5) / (special.factorial(3) * special.factorial(2))",
    "id": "72fd128c3cba4db7a629036994ca92cb",
    "idx": 14,
    "time": "2021-01-31T00:47:02.545Z",
    "type": "execution"
   },
   {
    "id": "72fd128c3cba4db7a629036994ca92cb",
    "time": "2021-01-31T00:47:02.994Z",
    "type": "completion"
   },
   {
    "code": "special.comb(5, range(6))",
    "id": "083fe3bef1da41bd970d779ddaaf8d96",
    "idx": 15,
    "time": "2021-01-31T00:50:33.014Z",
    "type": "execution"
   },
   {
    "id": "083fe3bef1da41bd970d779ddaaf8d96",
    "time": "2021-01-31T00:50:33.400Z",
    "type": "completion"
   },
   {
    "code": "special.comb(100, 50), special.comb(100, 50, exact=True)",
    "id": "072b2d97b5b44f42ac05275df91c0db1",
    "idx": 16,
    "time": "2021-01-31T00:51:39.908Z",
    "type": "execution"
   },
   {
    "id": "072b2d97b5b44f42ac05275df91c0db1",
    "time": "2021-01-31T00:51:40.366Z",
    "type": "completion"
   },
   {
    "code": "prob_1a = special.comb(100,20)*(0.26**20)*(0.74**80)\nprob_1a",
    "id": "321eb570e5ca4669921953df92c8c74f",
    "idx": 20,
    "time": "2021-01-31T00:59:58.509Z",
    "type": "execution"
   },
   {
    "id": "321eb570e5ca4669921953df92c8c74f",
    "time": "2021-01-31T00:59:58.842Z",
    "type": "completion"
   },
   {
    "code": "grader.check(\"q1a\")",
    "id": "24a98bc18b9648b280283675b7a401eb",
    "idx": 21,
    "time": "2021-01-31T00:59:59.577Z",
    "type": "execution"
   },
   {
    "id": "24a98bc18b9648b280283675b7a401eb",
    "time": "2021-01-31T00:59:59.926Z",
    "type": "completion"
   },
   {
    "code": "k = np.arange(101)\nall_probs = special.comb(100,k)*(0.26**k)*(0.74**(100-k))\nnp.round(all_probs, 4), sum(all_probs)",
    "id": "1ff0bffc9649438287d0ed90169a1c7c",
    "idx": 23,
    "time": "2021-01-31T01:03:33.043Z",
    "type": "execution"
   },
   {
    "id": "1ff0bffc9649438287d0ed90169a1c7c",
    "time": "2021-01-31T01:03:33.346Z",
    "type": "completion"
   },
   {
    "code": "grader.check(\"q1b\")",
    "id": "6826fa0ed99f4e85bc72a13dcfa3b560",
    "idx": 24,
    "time": "2021-01-31T01:03:35.288Z",
    "type": "execution"
   },
   {
    "id": "6826fa0ed99f4e85bc72a13dcfa3b560",
    "time": "2021-01-31T01:03:35.979Z",
    "type": "completion"
   },
   {
    "code": "k1=np.arange(16,37)\nprob_1c = sum(special.comb(100,k1)*(0.26**k1)*(0.74**(100-k1)))",
    "id": "ebd7d9ed53c74f598ad940b6b54abc97",
    "idx": 27,
    "time": "2021-01-31T01:44:00.842Z",
    "type": "execution"
   },
   {
    "id": "ebd7d9ed53c74f598ad940b6b54abc97",
    "time": "2021-01-31T01:44:01.131Z",
    "type": "completion"
   },
   {
    "code": "k1=np.arange(16,37)\nprob_1c = sum(special.comb(100,k1)*(0.26**k1)*(0.74**(100-k1)))/sum(all_probs)",
    "id": "ebd7d9ed53c74f598ad940b6b54abc97",
    "idx": 27,
    "time": "2021-01-31T01:44:34.283Z",
    "type": "execution"
   },
   {
    "id": "ebd7d9ed53c74f598ad940b6b54abc97",
    "time": "2021-01-31T01:44:34.690Z",
    "type": "completion"
   },
   {
    "code": "grader.check(\"q1c\")",
    "id": "e90d0062cfa343b58b4f486f197907b1",
    "idx": 28,
    "time": "2021-01-31T01:44:35.446Z",
    "type": "execution"
   },
   {
    "id": "e90d0062cfa343b58b4f486f197907b1",
    "time": "2021-01-31T01:44:35.835Z",
    "type": "completion"
   },
   {
    "code": "def prob_at_most(n, p, s):\n    \"\"\" \n    returns the probability of S <= s\n    Input n: sample size; p : proportion; s: number of successes at most\"\"\"\n    if p>1 or s>n:\n        return 0\n    else:\n        k=np.range(1,s+1)\n        return sum(special.comb(n,k)*(p**k)*((1-p)**(n-k)))",
    "id": "275c356733dc4e7f8e70820a8851ab0a",
    "idx": 31,
    "time": "2021-01-31T01:58:29.691Z",
    "type": "execution"
   },
   {
    "id": "275c356733dc4e7f8e70820a8851ab0a",
    "time": "2021-01-31T01:58:29.965Z",
    "type": "completion"
   },
   {
    "code": "grader.check(\"q2a\")",
    "id": "f115ed54dc5e4d4b8fac5e94ba45a7f0",
    "idx": 32,
    "time": "2021-01-31T01:58:30.827Z",
    "type": "execution"
   },
   {
    "id": "f115ed54dc5e4d4b8fac5e94ba45a7f0",
    "time": "2021-01-31T01:58:31.104Z",
    "type": "completion"
   },
   {
    "code": "def prob_at_most(n, p, s):\n    \"\"\" \n    returns the probability of S <= s\n    Input n: sample size; p : proportion; s: number of successes at most\"\"\"\n    if p>1 or s>n:\n        return 0\n    else:\n        k=np.arange(1,s+1)\n        return sum(special.comb(n,k)*(p**k)*((1-p)**(n-k)))",
    "id": "275c356733dc4e7f8e70820a8851ab0a",
    "idx": 31,
    "time": "2021-01-31T01:59:31.994Z",
    "type": "execution"
   },
   {
    "id": "275c356733dc4e7f8e70820a8851ab0a",
    "time": "2021-01-31T01:59:32.340Z",
    "type": "completion"
   },
   {
    "code": "grader.check(\"q2a\")",
    "id": "f115ed54dc5e4d4b8fac5e94ba45a7f0",
    "idx": 32,
    "time": "2021-01-31T01:59:32.856Z",
    "type": "execution"
   },
   {
    "id": "f115ed54dc5e4d4b8fac5e94ba45a7f0",
    "time": "2021-01-31T01:59:33.128Z",
    "type": "completion"
   },
   {
    "code": "p_majority = prob_at_most(200,0.55,99)\np_majority",
    "id": "92a1c0cf2be94f4894986be3782093b9",
    "idx": 34,
    "time": "2021-01-31T02:48:41.385Z",
    "type": "execution"
   },
   {
    "id": "92a1c0cf2be94f4894986be3782093b9",
    "time": "2021-01-31T02:48:41.695Z",
    "type": "completion"
   },
   {
    "code": "grader.check(\"q2b\")",
    "id": "e8ab338180334dea843a8dc848878b24",
    "idx": 35,
    "time": "2021-01-31T02:48:42.603Z",
    "type": "execution"
   },
   {
    "id": "e8ab338180334dea843a8dc848878b24",
    "time": "2021-01-31T02:48:43.092Z",
    "type": "completion"
   },
   {
    "code": "# Initialize Otter\nimport otter\ngrader = otter.Notebook(\"hw2.ipynb\")",
    "id": "39f79f5d7f99425a8db6aa38ed978d6e",
    "idx": 0,
    "time": "2021-01-31T07:24:11.685Z",
    "type": "execution"
   },
   {
    "id": "39f79f5d7f99425a8db6aa38ed978d6e",
    "time": "2021-01-31T07:24:12.741Z",
    "type": "completion"
   },
   {
    "code": "import numpy as np\nimport matplotlib\nimport matplotlib.pyplot as plt\nimport seaborn as sns\n\nplt.style.use('fivethirtyeight')\n\n# Default plot configurations\n%matplotlib inline\nplt.rcParams['figure.figsize'] = (16,8)\nplt.rcParams['figure.dpi'] = 150\nsns.set()\n\nfrom IPython.display import display, Latex, Markdown",
    "id": "22b094d17d0e414ea92bb130c6ef97aa",
    "idx": 7,
    "time": "2021-01-31T07:24:18.017Z",
    "type": "execution"
   },
   {
    "id": "22b094d17d0e414ea92bb130c6ef97aa",
    "time": "2021-01-31T07:24:18.874Z",
    "type": "completion"
   },
   {
    "code": "from scipy import special",
    "id": "069461b35a32400d899339b5d853538b",
    "idx": 10,
    "time": "2021-01-31T07:24:19.691Z",
    "type": "execution"
   },
   {
    "id": "069461b35a32400d899339b5d853538b",
    "time": "2021-01-31T07:24:19.912Z",
    "type": "completion"
   },
   {
    "code": "special.factorial(5), special.factorial(range(1, 6))",
    "id": "5cee0c156aed429a87dacfc7784da9a0",
    "idx": 12,
    "time": "2021-01-31T07:24:21.065Z",
    "type": "execution"
   },
   {
    "id": "5cee0c156aed429a87dacfc7784da9a0",
    "time": "2021-01-31T07:24:21.302Z",
    "type": "completion"
   },
   {
    "code": "special.comb(5, 3), special.factorial(5) / (special.factorial(3) * special.factorial(2))",
    "id": "3dfec1eb952f4bca880d5a2a67fafe6f",
    "idx": 14,
    "time": "2021-01-31T07:24:23.301Z",
    "type": "execution"
   },
   {
    "id": "3dfec1eb952f4bca880d5a2a67fafe6f",
    "time": "2021-01-31T07:24:23.619Z",
    "type": "completion"
   },
   {
    "code": "special.comb(5, range(6))",
    "id": "7bc8e290b45c4af698b6553a4672caa5",
    "idx": 15,
    "time": "2021-01-31T07:24:24.175Z",
    "type": "execution"
   },
   {
    "id": "7bc8e290b45c4af698b6553a4672caa5",
    "time": "2021-01-31T07:24:24.438Z",
    "type": "completion"
   },
   {
    "code": "special.comb(100, 50), special.comb(100, 50, exact=True)",
    "id": "e57b7f817f8e423e830e17dc9c446382",
    "idx": 16,
    "time": "2021-01-31T07:24:25.194Z",
    "type": "execution"
   },
   {
    "id": "e57b7f817f8e423e830e17dc9c446382",
    "time": "2021-01-31T07:24:25.464Z",
    "type": "completion"
   },
   {
    "code": "prob_1a = special.comb(100,20)*(0.26**20)*(0.74**80)\nprob_1a",
    "id": "23de906ea794438cbcbdea2e853acb5b",
    "idx": 20,
    "time": "2021-01-31T07:24:31.547Z",
    "type": "execution"
   },
   {
    "id": "23de906ea794438cbcbdea2e853acb5b",
    "time": "2021-01-31T07:24:31.812Z",
    "type": "completion"
   },
   {
    "code": "grader.check(\"q1a\")",
    "id": "d5ec2c57992b48b99660e42a662c4f13",
    "idx": 21,
    "time": "2021-01-31T07:24:32.209Z",
    "type": "execution"
   },
   {
    "id": "d5ec2c57992b48b99660e42a662c4f13",
    "time": "2021-01-31T07:24:32.455Z",
    "type": "completion"
   },
   {
    "code": "k = np.arange(101)\nall_probs = special.comb(100,k)*(0.26**k)*(0.74**(100-k))\nnp.round(all_probs, 4), sum(all_probs)",
    "id": "6ae284db52654151a91efdbcfde69089",
    "idx": 23,
    "time": "2021-01-31T07:24:34.084Z",
    "type": "execution"
   },
   {
    "id": "6ae284db52654151a91efdbcfde69089",
    "time": "2021-01-31T07:24:34.500Z",
    "type": "completion"
   },
   {
    "code": "grader.check(\"q1b\")",
    "id": "0e91a0c8e6f34f0486e88ef11865613a",
    "idx": 24,
    "time": "2021-01-31T07:24:34.890Z",
    "type": "execution"
   },
   {
    "id": "0e91a0c8e6f34f0486e88ef11865613a",
    "time": "2021-01-31T07:24:35.196Z",
    "type": "completion"
   },
   {
    "code": "k1=np.arange(16,37)\nprob_1c = sum(special.comb(100,k1)*(0.26**k1)*(0.74**(100-k1)))/sum(all_probs)",
    "id": "c14919ee64b340d881149016fb23ffb2",
    "idx": 26,
    "time": "2021-01-31T07:24:36.316Z",
    "type": "execution"
   },
   {
    "id": "c14919ee64b340d881149016fb23ffb2",
    "time": "2021-01-31T07:24:36.536Z",
    "type": "completion"
   },
   {
    "code": "grader.check(\"q1c\")",
    "id": "cefbc75801154c0c87160ee9c2fcdc62",
    "idx": 27,
    "time": "2021-01-31T07:24:37.111Z",
    "type": "execution"
   },
   {
    "id": "cefbc75801154c0c87160ee9c2fcdc62",
    "time": "2021-01-31T07:24:37.475Z",
    "type": "completion"
   },
   {
    "code": "def prob_at_most(n, p, s):\n    \"\"\" \n    returns the probability of S <= s\n    Input n: sample size; p : proportion; s: number of successes at most\"\"\"\n    if p>1 or s>n:\n        return 0\n    else:\n        k=np.arange(1,s+1)\n        return sum(special.comb(n,k)*(p**k)*((1-p)**(n-k)))",
    "id": "efaf89feb48d44a2819707206f57258b",
    "idx": 31,
    "time": "2021-01-31T07:24:40.259Z",
    "type": "execution"
   },
   {
    "id": "efaf89feb48d44a2819707206f57258b",
    "time": "2021-01-31T07:24:40.513Z",
    "type": "completion"
   },
   {
    "code": "grader.check(\"q2a\")",
    "id": "428b538c5a6f473eadaf1e01db19d38f",
    "idx": 32,
    "time": "2021-01-31T07:24:41.593Z",
    "type": "execution"
   },
   {
    "id": "428b538c5a6f473eadaf1e01db19d38f",
    "time": "2021-01-31T07:24:41.875Z",
    "type": "completion"
   },
   {
    "code": "p_majority = prob_at_most(200,0.55,99)\np_majority",
    "id": "956e3d3e336f4c7899d48b21b767b122",
    "idx": 34,
    "time": "2021-01-31T07:24:43.261Z",
    "type": "execution"
   },
   {
    "id": "956e3d3e336f4c7899d48b21b767b122",
    "time": "2021-01-31T07:24:43.619Z",
    "type": "completion"
   },
   {
    "code": "grader.check(\"q2b\")",
    "id": "f6174a5884234ce6840a0017ecac7223",
    "idx": 35,
    "time": "2021-01-31T07:24:44.374Z",
    "type": "execution"
   },
   {
    "id": "f6174a5884234ce6840a0017ecac7223",
    "time": "2021-01-31T07:24:44.632Z",
    "type": "completion"
   },
   {
    "code": "p2_majority=prob_at_most(300,0.55,149)\np2_majority",
    "id": "93e27d7cd4144d5da3dc2901bc96a685",
    "idx": 37,
    "time": "2021-01-31T07:32:08.064Z",
    "type": "execution"
   },
   {
    "id": "93e27d7cd4144d5da3dc2901bc96a685",
    "time": "2021-01-31T07:32:08.358Z",
    "type": "completion"
   },
   {
    "code": "p3_majority=prob_at_most(400,0.55,199)\np3_majority",
    "id": "cfa3fe8f24d042f19a1f6997adad2274",
    "idx": 38,
    "time": "2021-01-31T07:32:37.672Z",
    "type": "execution"
   },
   {
    "id": "cfa3fe8f24d042f19a1f6997adad2274",
    "time": "2021-01-31T07:32:37.985Z",
    "type": "completion"
   },
   {
    "code": "prob_2c = 1-((1-p_majority)**3)*(1-p2_majority)*(1-p3_majority)\nprob_2",
    "id": "6dc458faceb044c685fdef1f805b8405",
    "idx": 39,
    "time": "2021-01-31T07:37:27.490Z",
    "type": "execution"
   },
   {
    "id": "6dc458faceb044c685fdef1f805b8405",
    "time": "2021-01-31T07:37:28.004Z",
    "type": "completion"
   },
   {
    "code": "prob_2c = 1-((1-p_majority)**3)*(1-p2_majority)*(1-p3_majority)\nprob_2c",
    "id": "6dc458faceb044c685fdef1f805b8405",
    "idx": 39,
    "time": "2021-01-31T07:37:35.092Z",
    "type": "execution"
   },
   {
    "id": "6dc458faceb044c685fdef1f805b8405",
    "time": "2021-01-31T07:37:35.317Z",
    "type": "completion"
   },
   {
    "code": "grader.check(\"q2c\")",
    "id": "01b94c99425544f983e7ca5fa9a965f2",
    "idx": 40,
    "time": "2021-01-31T07:37:36.225Z",
    "type": "execution"
   },
   {
    "id": "01b94c99425544f983e7ca5fa9a965f2",
    "time": "2021-01-31T07:37:36.496Z",
    "type": "completion"
   },
   {
    "code": "p2_majority=prob_at_most(300,0.55,149)\np3_majority=prob_at_most(400,0.55,199)\nprob_2c = 1-((1-p_majority)**3)*(1-p2_majority)*(1-p3_majority)\nprob_2c",
    "id": "6dc458faceb044c685fdef1f805b8405",
    "idx": 37,
    "time": "2021-01-31T07:38:12.921Z",
    "type": "execution"
   },
   {
    "id": "6dc458faceb044c685fdef1f805b8405",
    "time": "2021-01-31T07:38:13.196Z",
    "type": "completion"
   },
   {
    "code": "grader.check(\"q2c\")",
    "id": "01b94c99425544f983e7ca5fa9a965f2",
    "idx": 38,
    "time": "2021-01-31T07:38:13.793Z",
    "type": "execution"
   },
   {
    "id": "01b94c99425544f983e7ca5fa9a965f2",
    "time": "2021-01-31T07:38:14.053Z",
    "type": "completion"
   },
   {
    "code": "ans_3a = b",
    "id": "1f53afc7379c44d185d6bb0a4af34edc",
    "idx": 42,
    "time": "2021-01-31T07:40:23.137Z",
    "type": "execution"
   },
   {
    "id": "1f53afc7379c44d185d6bb0a4af34edc",
    "time": "2021-01-31T07:40:23.463Z",
    "type": "completion"
   },
   {
    "code": "ans_3a = 'b'",
    "id": "1f53afc7379c44d185d6bb0a4af34edc",
    "idx": 42,
    "time": "2021-01-31T07:40:48.620Z",
    "type": "execution"
   },
   {
    "id": "1f53afc7379c44d185d6bb0a4af34edc",
    "time": "2021-01-31T07:40:48.868Z",
    "type": "completion"
   },
   {
    "code": "grader.check(\"q3a\")",
    "id": "cfa29f78f94b4025ad2c88b7bd3aaced",
    "idx": 43,
    "time": "2021-01-31T07:40:49.756Z",
    "type": "execution"
   },
   {
    "id": "cfa29f78f94b4025ad2c88b7bd3aaced",
    "time": "2021-01-31T07:40:50.096Z",
    "type": "completion"
   },
   {
    "code": "ans_3a = 'd'",
    "id": "1f53afc7379c44d185d6bb0a4af34edc",
    "idx": 42,
    "time": "2021-01-31T07:41:00.311Z",
    "type": "execution"
   },
   {
    "id": "1f53afc7379c44d185d6bb0a4af34edc",
    "time": "2021-01-31T07:41:00.603Z",
    "type": "completion"
   },
   {
    "code": "grader.check(\"q3a\")",
    "id": "cfa29f78f94b4025ad2c88b7bd3aaced",
    "idx": 43,
    "time": "2021-01-31T07:41:01.271Z",
    "type": "execution"
   },
   {
    "id": "cfa29f78f94b4025ad2c88b7bd3aaced",
    "time": "2021-01-31T07:41:01.622Z",
    "type": "completion"
   },
   {
    "code": "ans_3a = 'b'",
    "id": "1f53afc7379c44d185d6bb0a4af34edc",
    "idx": 42,
    "time": "2021-01-31T07:41:06.156Z",
    "type": "execution"
   },
   {
    "id": "1f53afc7379c44d185d6bb0a4af34edc",
    "time": "2021-01-31T07:41:06.376Z",
    "type": "completion"
   },
   {
    "code": "grader.check(\"q3a\")",
    "id": "cfa29f78f94b4025ad2c88b7bd3aaced",
    "idx": 43,
    "time": "2021-01-31T07:41:06.958Z",
    "type": "execution"
   },
   {
    "id": "cfa29f78f94b4025ad2c88b7bd3aaced",
    "time": "2021-01-31T07:41:07.185Z",
    "type": "completion"
   },
   {
    "code": "ans_3b = 'd'",
    "id": "57a72678a8494c828d31522288c5ee80",
    "idx": 45,
    "time": "2021-01-31T07:45:34.276Z",
    "type": "execution"
   },
   {
    "id": "57a72678a8494c828d31522288c5ee80",
    "time": "2021-01-31T07:45:34.637Z",
    "type": "completion"
   },
   {
    "code": "grader.check(\"q3b\")",
    "id": "a02e0996778c4a2e8c3dfbb83e7130ae",
    "idx": 46,
    "time": "2021-01-31T07:45:35.190Z",
    "type": "execution"
   },
   {
    "id": "a02e0996778c4a2e8c3dfbb83e7130ae",
    "time": "2021-01-31T07:45:35.419Z",
    "type": "completion"
   },
   {
    "code": "def prob_sample_counts(t, c, o):\n    \"\"\"\n    Input:\n    t - number of votes for Trump\n    c - number of votes for Clinton\n    o - number of votes for Other\n    Return: The probability of getting a such sample\n    \"\"\"\n    if t<0 or c<0 or o<0:\n        return 0\n    elif t+c+o!=20:\n        return 0\n    else:\n        return (0.4818**t)*(0.4746**c)",
    "id": "9a54792a862746668b2795af2de486fb",
    "idx": 48,
    "time": "2021-01-31T07:58:52.972Z",
    "type": "execution"
   },
   {
    "id": "9a54792a862746668b2795af2de486fb",
    "time": "2021-01-31T07:58:53.235Z",
    "type": "completion"
   },
   {
    "code": "grader.check(\"q3c\")",
    "id": "e5312e36e01948bc88a7ead3efadb8e7",
    "idx": 49,
    "time": "2021-01-31T07:58:54.214Z",
    "type": "execution"
   },
   {
    "id": "e5312e36e01948bc88a7ead3efadb8e7",
    "time": "2021-01-31T07:58:54.483Z",
    "type": "completion"
   },
   {
    "code": "t1=np.arange(0,21)\nc1=np.arange(0,21)\nprob_3d = sum(prob_sample_counts(t1, c1, 20-t1-c1))\nprob_3d",
    "id": "6a3a9946c44a496c9448991afb2eafc7",
    "idx": 51,
    "time": "2021-01-31T08:09:12.339Z",
    "type": "execution"
   },
   {
    "id": "6a3a9946c44a496c9448991afb2eafc7",
    "time": "2021-01-31T08:09:12.707Z",
    "type": "completion"
   },
   {
    "code": "def prob_sample_counts(t, c, o):\n    \"\"\"\n    Input:\n    t - number of votes for Trump\n    c - number of votes for Clinton\n    o - number of votes for Other\n    Return: The probability of getting a such sample\n    \"\"\"\n    if t<0 or c<0:\n        return 0\n    elif o<0:\n        return 0\n    elif t+c+o!=20:\n        return 0\n    else:\n        return (0.4818**t)*(0.4746**c)",
    "id": "9a54792a862746668b2795af2de486fb",
    "idx": 48,
    "time": "2021-01-31T08:10:31.953Z",
    "type": "execution"
   },
   {
    "id": "9a54792a862746668b2795af2de486fb",
    "time": "2021-01-31T08:10:32.173Z",
    "type": "completion"
   },
   {
    "code": "grader.check(\"q3c\")",
    "id": "e5312e36e01948bc88a7ead3efadb8e7",
    "idx": 49,
    "time": "2021-01-31T08:10:32.762Z",
    "type": "execution"
   },
   {
    "id": "e5312e36e01948bc88a7ead3efadb8e7",
    "time": "2021-01-31T08:10:33.051Z",
    "type": "completion"
   },
   {
    "code": "t1=np.arange(0,21)\nc1=np.arange(0,21)\nprob_3d = sum(prob_sample_counts(t1, c1, 20-t1-c1))\nprob_3d",
    "id": "6a3a9946c44a496c9448991afb2eafc7",
    "idx": 51,
    "time": "2021-01-31T08:10:37.026Z",
    "type": "execution"
   },
   {
    "id": "6a3a9946c44a496c9448991afb2eafc7",
    "time": "2021-01-31T08:10:37.354Z",
    "type": "completion"
   },
   {
    "code": "def prob_sample_counts(t, c, o):\n    \"\"\"\n    Input:\n    t - number of votes for Trump\n    c - number of votes for Clinton\n    o - number of votes for Other\n    Return: The probability of getting a such sample\n    \"\"\"\n    if t<0:\n        return 0\n    elif c<0:\n        return 0\n    elif o<0:\n        return 0\n    elif t+c+o!=20:\n        return 0\n    else:\n        return (0.4818**t)*(0.4746**c)",
    "id": "9a54792a862746668b2795af2de486fb",
    "idx": 48,
    "time": "2021-01-31T08:11:16.441Z",
    "type": "execution"
   },
   {
    "id": "9a54792a862746668b2795af2de486fb",
    "time": "2021-01-31T08:11:16.771Z",
    "type": "completion"
   },
   {
    "code": "grader.check(\"q3c\")",
    "id": "e5312e36e01948bc88a7ead3efadb8e7",
    "idx": 49,
    "time": "2021-01-31T08:11:17.067Z",
    "type": "execution"
   },
   {
    "id": "e5312e36e01948bc88a7ead3efadb8e7",
    "time": "2021-01-31T08:11:17.394Z",
    "type": "completion"
   },
   {
    "code": "t1=np.arange(0,21)\nc1=np.arange(0,21)\nprob_3d = sum(prob_sample_counts(t1, c1, 20-t1-c1))\nprob_3d",
    "id": "6a3a9946c44a496c9448991afb2eafc7",
    "idx": 51,
    "time": "2021-01-31T08:11:20.697Z",
    "type": "execution"
   },
   {
    "id": "6a3a9946c44a496c9448991afb2eafc7",
    "time": "2021-01-31T08:11:21.005Z",
    "type": "completion"
   },
   {
    "code": "def prob_sample_counts(t, c, o):\n    \"\"\"\n    Input:\n    t - number of votes for Trump\n    c - number of votes for Clinton\n    o - number of votes for Other\n    Return: The probability of getting a such sample\n    \"\"\"\n    if t<0 or c<0 or o<0:\n        return 0\n    elif t+c+o!=20:\n        return 0\n    else:\n        return (0.4818**t)*(0.4746**c)",
    "id": "9a54792a862746668b2795af2de486fb",
    "idx": 48,
    "time": "2021-01-31T08:16:30.491Z",
    "type": "execution"
   },
   {
    "id": "9a54792a862746668b2795af2de486fb",
    "time": "2021-01-31T08:16:30.837Z",
    "type": "completion"
   },
   {
    "code": "grader.check(\"q3c\")",
    "id": "e5312e36e01948bc88a7ead3efadb8e7",
    "idx": 49,
    "time": "2021-01-31T08:16:31.640Z",
    "type": "execution"
   },
   {
    "id": "e5312e36e01948bc88a7ead3efadb8e7",
    "time": "2021-01-31T08:16:31.976Z",
    "type": "completion"
   },
   {
    "code": "for t1 in range(0,21):\n    for c1 in range(21-t1):\n        prob_3d = sum(prob_sample_counts(t1, c1, 20-t1-c1))\nprob_3d",
    "id": "6a3a9946c44a496c9448991afb2eafc7",
    "idx": 51,
    "time": "2021-01-31T08:17:59.310Z",
    "type": "execution"
   },
   {
    "id": "6a3a9946c44a496c9448991afb2eafc7",
    "time": "2021-01-31T08:17:59.626Z",
    "type": "completion"
   },
   {
    "code": "def prob_sample_counts(t, c, o):\n    \"\"\"\n    Input:\n    t - number of votes for Trump\n    c - number of votes for Clinton\n    o - number of votes for Other\n    Return: The probability of getting a such sample\n    \"\"\"\n    if t<0 or c<0 or o<0:\n        return 0\n    elif t+c+o!=20:\n        return 0\n    else:\n        situations=special.factorial(20) / (special.factorial(t)*special.factorial(c)*special.factorial(o))\n        return (0.4818**t)*(0.4746**c)*situations",
    "id": "9a54792a862746668b2795af2de486fb",
    "idx": 48,
    "time": "2021-01-31T08:20:44.620Z",
    "type": "execution"
   },
   {
    "id": "9a54792a862746668b2795af2de486fb",
    "time": "2021-01-31T08:20:44.832Z",
    "type": "completion"
   },
   {
    "code": "grader.check(\"q3c\")",
    "id": "e5312e36e01948bc88a7ead3efadb8e7",
    "idx": 49,
    "time": "2021-01-31T08:20:45.629Z",
    "type": "execution"
   },
   {
    "id": "e5312e36e01948bc88a7ead3efadb8e7",
    "time": "2021-01-31T08:20:45.923Z",
    "type": "completion"
   },
   {
    "code": "def prob_sample_counts(t, c, o):\n    \"\"\"\n    Input:\n    t - number of votes for Trump\n    c - number of votes for Clinton\n    o - number of votes for Other\n    Return: The probability of getting a such sample\n    \"\"\"\n    if t<0 or c<0 or o<0:\n        return 0\n    elif t+c+o!=20:\n        return 0\n    else:\n        situations=special.factorial(20) / (special.factorial(t)*special.factorial(c)*special.factorial(o))\n        return (0.4818**t)*(0.4746**c)* (0.0436**o)situations",
    "id": "9a54792a862746668b2795af2de486fb",
    "idx": 48,
    "time": "2021-01-31T08:23:18.521Z",
    "type": "execution"
   },
   {
    "id": "9a54792a862746668b2795af2de486fb",
    "time": "2021-01-31T08:23:18.805Z",
    "type": "completion"
   },
   {
    "code": "grader.check(\"q3c\")",
    "id": "e5312e36e01948bc88a7ead3efadb8e7",
    "idx": 49,
    "time": "2021-01-31T08:23:19.262Z",
    "type": "execution"
   },
   {
    "id": "e5312e36e01948bc88a7ead3efadb8e7",
    "time": "2021-01-31T08:23:19.518Z",
    "type": "completion"
   },
   {
    "code": "def prob_sample_counts(t, c, o):\n    \"\"\"\n    Input:\n    t - number of votes for Trump\n    c - number of votes for Clinton\n    o - number of votes for Other\n    Return: The probability of getting a such sample\n    \"\"\"\n    if t<0 or c<0 or o<0:\n        return 0\n    elif t+c+o!=20:\n        return 0\n    else:\n        situations=special.factorial(20) / (special.factorial(t)*special.factorial(c)*special.factorial(o))\n        return (0.4818**t)*(0.4746**c)*(0.0436**o)*situations",
    "id": "9a54792a862746668b2795af2de486fb",
    "idx": 48,
    "time": "2021-01-31T08:23:34.850Z",
    "type": "execution"
   },
   {
    "id": "9a54792a862746668b2795af2de486fb",
    "time": "2021-01-31T08:23:35.182Z",
    "type": "completion"
   },
   {
    "code": "grader.check(\"q3c\")",
    "id": "e5312e36e01948bc88a7ead3efadb8e7",
    "idx": 49,
    "time": "2021-01-31T08:23:35.731Z",
    "type": "execution"
   },
   {
    "id": "e5312e36e01948bc88a7ead3efadb8e7",
    "time": "2021-01-31T08:23:35.994Z",
    "type": "completion"
   },
   {
    "code": "for t1 in range(0,21):\n    for c1 in range(21-t1):\n        prob_3d = sum(prob_sample_counts(t1, c1, 20-t1-c1))\nprob_3d",
    "id": "6a3a9946c44a496c9448991afb2eafc7",
    "idx": 51,
    "time": "2021-01-31T08:23:38.638Z",
    "type": "execution"
   },
   {
    "id": "6a3a9946c44a496c9448991afb2eafc7",
    "time": "2021-01-31T08:23:38.871Z",
    "type": "completion"
   },
   {
    "code": "prob_3d=0\nfor t1 in range(0,21):\n    for c1 in range(21-t1):\n        prob_3d += prob_sample_counts(t1, c1, 20-t1-c1)\nprob_3d",
    "id": "6a3a9946c44a496c9448991afb2eafc7",
    "idx": 51,
    "time": "2021-01-31T08:24:08.014Z",
    "type": "execution"
   },
   {
    "id": "6a3a9946c44a496c9448991afb2eafc7",
    "time": "2021-01-31T08:24:08.241Z",
    "type": "completion"
   },
   {
    "code": "grader.check(\"q3d\")",
    "id": "5f53ad2a5c54490e80201f0dbf7ee12d",
    "idx": 52,
    "time": "2021-01-31T08:24:09.150Z",
    "type": "execution"
   },
   {
    "id": "5f53ad2a5c54490e80201f0dbf7ee12d",
    "time": "2021-01-31T08:24:09.377Z",
    "type": "completion"
   },
   {
    "code": "prob_3e = prob_sample_counts(11,8,1)\nprob_3e",
    "id": "7dec240859a64e4e85600b925da0e302",
    "idx": 54,
    "time": "2021-01-31T08:33:49.812Z",
    "type": "execution"
   },
   {
    "id": "7dec240859a64e4e85600b925da0e302",
    "time": "2021-01-31T08:33:50.131Z",
    "type": "completion"
   },
   {
    "code": "grader.check(\"q3e\")",
    "id": "41d25652e7ec4607808c2951a8b7355f",
    "idx": 55,
    "time": "2021-01-31T08:33:51.004Z",
    "type": "execution"
   },
   {
    "id": "41d25652e7ec4607808c2951a8b7355f",
    "time": "2021-01-31T08:33:51.329Z",
    "type": "completion"
   },
   {
    "code": "prob_3f=0\nfor t2 in range(7,21):\n    for c2 in range(7,21-t1):\n        for o2 in range(1,21-t2-c2):\n            prob_3f += prob_sample_counts(t2, c2, o2)\nprob_3f",
    "id": "909e2f6803ea4725bc01d3bb7bd42cc7",
    "idx": 57,
    "time": "2021-01-31T08:38:27.965Z",
    "type": "execution"
   },
   {
    "id": "909e2f6803ea4725bc01d3bb7bd42cc7",
    "time": "2021-01-31T08:38:28.224Z",
    "type": "completion"
   },
   {
    "code": "grader.check(\"q3f\")",
    "id": "a7ec5fcced30453d8ab27c967b1ef78d",
    "idx": 58,
    "time": "2021-01-31T08:38:29.730Z",
    "type": "execution"
   },
   {
    "id": "a7ec5fcced30453d8ab27c967b1ef78d",
    "time": "2021-01-31T08:38:30.067Z",
    "type": "completion"
   },
   {
    "code": "prob_3f=0\nfor t2 in range(7,21):\n    for c2 in range(7,20-t1):\n        for o2 in range(1,21-t2-c2):\n            prob_3f += prob_sample_counts(t2, c2, o2)\nprob_3f",
    "id": "909e2f6803ea4725bc01d3bb7bd42cc7",
    "idx": 57,
    "time": "2021-01-31T08:39:49.868Z",
    "type": "execution"
   },
   {
    "id": "909e2f6803ea4725bc01d3bb7bd42cc7",
    "time": "2021-01-31T08:39:50.089Z",
    "type": "completion"
   },
   {
    "code": "grader.check(\"q3f\")",
    "id": "a7ec5fcced30453d8ab27c967b1ef78d",
    "idx": 58,
    "time": "2021-01-31T08:39:50.890Z",
    "type": "execution"
   },
   {
    "id": "a7ec5fcced30453d8ab27c967b1ef78d",
    "time": "2021-01-31T08:39:51.191Z",
    "type": "completion"
   },
   {
    "code": "prob_3f=0\nfor t2 in range(0,21):\n    for c2 in range(21-t1):\n        if t2>=7 and c2>=7 and 20-t2-c2>=1:\n            prob_3f += prob_sample_counts(t2, c2, 20-t2-c2)\nprob_3f",
    "id": "909e2f6803ea4725bc01d3bb7bd42cc7",
    "idx": 57,
    "time": "2021-01-31T08:42:43.526Z",
    "type": "execution"
   },
   {
    "id": "909e2f6803ea4725bc01d3bb7bd42cc7",
    "time": "2021-01-31T08:42:43.812Z",
    "type": "completion"
   },
   {
    "code": "grader.check(\"q3f\")",
    "id": "a7ec5fcced30453d8ab27c967b1ef78d",
    "idx": 58,
    "time": "2021-01-31T08:42:44.686Z",
    "type": "execution"
   },
   {
    "id": "a7ec5fcced30453d8ab27c967b1ef78d",
    "time": "2021-01-31T08:42:44.942Z",
    "type": "completion"
   },
   {
    "code": "prob_3f = 0\nfor i in range(21):\n    for j in range(21-i):\n        if i >= 7 and j >= 7 and 20-i-j >= 1:\n            prob_3f += prob_sample_counts(i, j, 20-i-j)\nprob_3f",
    "id": "de0ad7c0ba0d41fab5598e66e75e7c6e",
    "idx": 57,
    "time": "2021-01-31T08:43:44.130Z",
    "type": "execution"
   },
   {
    "id": "de0ad7c0ba0d41fab5598e66e75e7c6e",
    "time": "2021-01-31T08:43:44.442Z",
    "type": "completion"
   },
   {
    "code": "prob_3f=0\nfor t2 in range(0,21):\n    for c2 in range(21-t1):\n        if t2>=7 and c2>=7 and 20-t2-c2>=1:\n            prob_3f += prob_sample_counts(t2, c2, 20-t2-c2)\nprob_3f",
    "id": "909e2f6803ea4725bc01d3bb7bd42cc7",
    "idx": 58,
    "time": "2021-01-31T08:45:16.094Z",
    "type": "execution"
   },
   {
    "id": "909e2f6803ea4725bc01d3bb7bd42cc7",
    "time": "2021-01-31T08:45:16.420Z",
    "type": "completion"
   },
   {
    "code": "prob_3f=0\nfor t2 in range(0,21):\n    for c2 in range(21-t2):\n        if t2>=7 and c2>=7 and 20-t2-c2>=1:\n            prob_3f += prob_sample_counts(t2, c2, 20-t2-c2)\nprob_3f",
    "id": "909e2f6803ea4725bc01d3bb7bd42cc7",
    "idx": 58,
    "time": "2021-01-31T08:45:32.915Z",
    "type": "execution"
   },
   {
    "id": "909e2f6803ea4725bc01d3bb7bd42cc7",
    "time": "2021-01-31T08:45:33.183Z",
    "type": "completion"
   },
   {
    "code": "prob_3f=0\nfor t2 in range(0,21):\n    for c2 in range(21-t2):\n        if t2>=7 and c2>=7 and 20-t2-c2>=1:\n            prob_3f += prob_sample_counts(t2, c2, 20-t2-c2)\nprob_3f",
    "id": "909e2f6803ea4725bc01d3bb7bd42cc7",
    "idx": 57,
    "time": "2021-01-31T08:45:40.162Z",
    "type": "execution"
   },
   {
    "id": "909e2f6803ea4725bc01d3bb7bd42cc7",
    "time": "2021-01-31T08:45:40.454Z",
    "type": "completion"
   },
   {
    "code": "grader.check(\"q3f\")",
    "id": "a7ec5fcced30453d8ab27c967b1ef78d",
    "idx": 58,
    "time": "2021-01-31T08:45:41.331Z",
    "type": "execution"
   },
   {
    "id": "a7ec5fcced30453d8ab27c967b1ef78d",
    "time": "2021-01-31T08:45:41.623Z",
    "type": "completion"
   },
   {
    "code": "np.random.multinomial?",
    "id": "0a2d36b9a836490a8dd410e531a6d846",
    "idx": 72,
    "time": "2021-01-31T09:23:37.854Z",
    "type": "execution"
   },
   {
    "id": "0a2d36b9a836490a8dd410e531a6d846",
    "time": "2021-01-31T09:23:38.198Z",
    "type": "completion"
   },
   {
    "code": "def draw_state_sample(N, state):\n    if state== 'Florida':\n        return np.random.multinomial(1,[0.4902,0.4782,1-0.4902-0.4782],N)",
    "id": "5dd013118229469e8d106d71577e92e0",
    "idx": 73,
    "time": "2021-01-31T09:29:53.502Z",
    "type": "execution"
   },
   {
    "id": "5dd013118229469e8d106d71577e92e0",
    "time": "2021-01-31T09:29:53.786Z",
    "type": "completion"
   },
   {
    "code": "draw_state_sample(1500, \"florida\")",
    "id": "271776206f464cc88e0c54ce74287a41",
    "idx": 75,
    "time": "2021-01-31T09:30:10.560Z",
    "type": "execution"
   },
   {
    "id": "271776206f464cc88e0c54ce74287a41",
    "time": "2021-01-31T09:30:10.868Z",
    "type": "completion"
   },
   {
    "code": "def draw_state_sample(N, state):\n    if state== 'Florida':\n        return np.random.multinomial(1,[0.4902,0.4782,1-0.4902-0.4782],N)[:,0]",
    "id": "5dd013118229469e8d106d71577e92e0",
    "idx": 73,
    "time": "2021-01-31T09:31:00.864Z",
    "type": "execution"
   },
   {
    "id": "5dd013118229469e8d106d71577e92e0",
    "time": "2021-01-31T09:31:01.124Z",
    "type": "completion"
   },
   {
    "code": "draw_state_sample(1500, \"florida\")",
    "id": "271776206f464cc88e0c54ce74287a41",
    "idx": 75,
    "time": "2021-01-31T09:31:03.220Z",
    "type": "execution"
   },
   {
    "id": "271776206f464cc88e0c54ce74287a41",
    "time": "2021-01-31T09:31:03.540Z",
    "type": "completion"
   },
   {
    "code": "def draw_state_sample(N, state):\n    if state== 'florida':\n        return np.random.multinomial(1,[0.4902,0.4782,1-0.4902-0.4782],N)[:,0]",
    "id": "5dd013118229469e8d106d71577e92e0",
    "idx": 73,
    "time": "2021-01-31T09:31:16.623Z",
    "type": "execution"
   },
   {
    "id": "5dd013118229469e8d106d71577e92e0",
    "time": "2021-01-31T09:31:17.118Z",
    "type": "completion"
   },
   {
    "code": "draw_state_sample(1500, \"florida\")",
    "id": "271776206f464cc88e0c54ce74287a41",
    "idx": 75,
    "time": "2021-01-31T09:31:19.192Z",
    "type": "execution"
   },
   {
    "id": "271776206f464cc88e0c54ce74287a41",
    "time": "2021-01-31T09:31:19.493Z",
    "type": "completion"
   },
   {
    "code": "np.random.multinomial?",
    "id": "0a2d36b9a836490a8dd410e531a6d846",
    "idx": 72,
    "time": "2021-01-31T09:31:57.274Z",
    "type": "execution"
   },
   {
    "id": "0a2d36b9a836490a8dd410e531a6d846",
    "time": "2021-01-31T09:31:57.628Z",
    "type": "completion"
   },
   {
    "code": "def draw_state_sample(N, state):\n    if state== 'florida':\n        return np.random.multinomial(1,[0.4902,0.4782,1-0.4902-0.4782],N)",
    "id": "5dd013118229469e8d106d71577e92e0",
    "idx": 73,
    "time": "2021-01-31T09:34:51.475Z",
    "type": "execution"
   },
   {
    "id": "5dd013118229469e8d106d71577e92e0",
    "time": "2021-01-31T09:34:51.881Z",
    "type": "completion"
   },
   {
    "code": "draw_state_sample(1500, \"florida\")",
    "id": "271776206f464cc88e0c54ce74287a41",
    "idx": 75,
    "time": "2021-01-31T09:34:56.860Z",
    "type": "execution"
   },
   {
    "id": "271776206f464cc88e0c54ce74287a41",
    "time": "2021-01-31T09:34:57.185Z",
    "type": "completion"
   },
   {
    "code": "def draw_state_sample(N, state):\n    if state== 'florida':\n        return np.random.multinomial(N,[0.4902,0.4782,1-0.4902-0.4782],1)",
    "id": "5dd013118229469e8d106d71577e92e0",
    "idx": 73,
    "time": "2021-01-31T09:35:50.408Z",
    "type": "execution"
   },
   {
    "id": "5dd013118229469e8d106d71577e92e0",
    "time": "2021-01-31T09:35:50.646Z",
    "type": "completion"
   },
   {
    "code": "draw_state_sample(1500, \"florida\")",
    "id": "271776206f464cc88e0c54ce74287a41",
    "idx": 75,
    "time": "2021-01-31T09:35:52.455Z",
    "type": "execution"
   },
   {
    "id": "271776206f464cc88e0c54ce74287a41",
    "time": "2021-01-31T09:35:52.787Z",
    "type": "completion"
   },
   {
    "code": "def draw_state_sample(N, state):\n    if state== 'florida':\n        return np.random.multinomial(N,[0.4902,0.4782,1-0.4902-0.4782],1)[:0,1,2]",
    "id": "5dd013118229469e8d106d71577e92e0",
    "idx": 73,
    "time": "2021-01-31T09:36:31.972Z",
    "type": "execution"
   },
   {
    "id": "5dd013118229469e8d106d71577e92e0",
    "time": "2021-01-31T09:36:32.230Z",
    "type": "completion"
   },
   {
    "code": "draw_state_sample(1500, \"florida\")",
    "id": "271776206f464cc88e0c54ce74287a41",
    "idx": 75,
    "time": "2021-01-31T09:36:35.032Z",
    "type": "execution"
   },
   {
    "id": "271776206f464cc88e0c54ce74287a41",
    "time": "2021-01-31T09:36:35.342Z",
    "type": "completion"
   },
   {
    "code": "def draw_state_sample(N, state):\n    if state== 'florida':\n        return np.random.multinomial(N,[0.4902,0.4782,1-0.4902-0.4782],1)[:,0]",
    "id": "5dd013118229469e8d106d71577e92e0",
    "idx": 73,
    "time": "2021-01-31T09:37:35.045Z",
    "type": "execution"
   },
   {
    "id": "5dd013118229469e8d106d71577e92e0",
    "time": "2021-01-31T09:37:35.307Z",
    "type": "completion"
   },
   {
    "code": "draw_state_sample(1500, \"florida\")",
    "id": "271776206f464cc88e0c54ce74287a41",
    "idx": 75,
    "time": "2021-01-31T09:37:37.443Z",
    "type": "execution"
   },
   {
    "id": "271776206f464cc88e0c54ce74287a41",
    "time": "2021-01-31T09:37:37.852Z",
    "type": "completion"
   },
   {
    "code": "def draw_state_sample(N, state):\n    if state== 'florida':\n        return np.random.multinomial(N,[0.4902,0.4782,1-0.4902-0.4782],1)[:]",
    "id": "5dd013118229469e8d106d71577e92e0",
    "idx": 73,
    "time": "2021-01-31T09:37:58.843Z",
    "type": "execution"
   },
   {
    "id": "5dd013118229469e8d106d71577e92e0",
    "time": "2021-01-31T09:37:59.077Z",
    "type": "completion"
   },
   {
    "code": "draw_state_sample(1500, \"florida\")",
    "id": "271776206f464cc88e0c54ce74287a41",
    "idx": 75,
    "time": "2021-01-31T09:38:01.434Z",
    "type": "execution"
   },
   {
    "id": "271776206f464cc88e0c54ce74287a41",
    "time": "2021-01-31T09:38:01.724Z",
    "type": "completion"
   },
   {
    "code": "def draw_state_sample(N, state):\n    if state== 'florida':\n        return np.random.multinomial(N,[0.4902,0.4782,1-0.4902-0.4782],1)[0]",
    "id": "5dd013118229469e8d106d71577e92e0",
    "idx": 73,
    "time": "2021-01-31T09:38:15.643Z",
    "type": "execution"
   },
   {
    "id": "5dd013118229469e8d106d71577e92e0",
    "time": "2021-01-31T09:38:15.951Z",
    "type": "completion"
   },
   {
    "code": "draw_state_sample(1500, \"florida\")",
    "id": "271776206f464cc88e0c54ce74287a41",
    "idx": 75,
    "time": "2021-01-31T09:38:17.983Z",
    "type": "execution"
   },
   {
    "id": "271776206f464cc88e0c54ce74287a41",
    "time": "2021-01-31T09:38:18.219Z",
    "type": "completion"
   },
   {
    "code": "def draw_state_sample(N, state):\n    if state== 'florida':\n        return np.random.multinomial(N,[0.4902,0.4782,1-0.4902-0.4782],1)[0]\n    if state=='michigan':\n        return np.random.multinomial(N,[0.475,0.4727,1-0.475-0.4727],1)[0]\n    if state=='pennsylvania':\n        return np.random.multinomial(N,[0.4818,0.4746,1-0.4818-0.4746],1)[0]\n    if state=='wisconsin':\n        return np.random.multinomial(N,[0.4722,0.4645,1-0.4722-0.4645],1)[0]",
    "id": "5dd013118229469e8d106d71577e92e0",
    "idx": 73,
    "time": "2021-01-31T09:40:53.078Z",
    "type": "execution"
   },
   {
    "id": "5dd013118229469e8d106d71577e92e0",
    "time": "2021-01-31T09:40:53.458Z",
    "type": "completion"
   },
   {
    "code": "grader.check(\"q6a\")",
    "id": "6df44c8224cc4dff8af985bf84a66be9",
    "idx": 74,
    "time": "2021-01-31T09:40:56.394Z",
    "type": "execution"
   },
   {
    "id": "6df44c8224cc4dff8af985bf84a66be9",
    "time": "2021-01-31T09:40:56.690Z",
    "type": "completion"
   },
   {
    "code": "def trump_advantage(voter_sample):\n    return (voter_sample[0]-voter_sample[1])/sum(voter_sample)",
    "id": "cd6254768b9e44d18b75e29288bae34a",
    "idx": 76,
    "time": "2021-01-31T09:44:18.619Z",
    "type": "execution"
   },
   {
    "id": "cd6254768b9e44d18b75e29288bae34a",
    "time": "2021-01-31T09:44:18.946Z",
    "type": "completion"
   },
   {
    "code": "grader.check(\"q6b\")",
    "id": "773888e4fd2c4c67aa7b6643e098a288",
    "idx": 77,
    "time": "2021-01-31T09:44:19.178Z",
    "type": "execution"
   },
   {
    "id": "773888e4fd2c4c67aa7b6643e098a288",
    "time": "2021-01-31T09:44:19.461Z",
    "type": "completion"
   },
   {
    "code": "simulations = []\nfor i range (100000):\n    simulations.append(trump_advantage(draw_state_sample(1500,'pennsylvania')))",
    "id": "91623610245e48b980b8ee6d03b65e30",
    "idx": 79,
    "time": "2021-01-31T09:54:14.789Z",
    "type": "execution"
   },
   {
    "id": "91623610245e48b980b8ee6d03b65e30",
    "time": "2021-01-31T09:54:15.273Z",
    "type": "completion"
   },
   {
    "code": "simulations = []\nfor i in range (100000):\n    simulations.append(trump_advantage(draw_state_sample(1500,'pennsylvania')))",
    "id": "91623610245e48b980b8ee6d03b65e30",
    "idx": 79,
    "time": "2021-01-31T09:55:42.683Z",
    "type": "execution"
   },
   {
    "id": "91623610245e48b980b8ee6d03b65e30",
    "time": "2021-01-31T09:55:45.030Z",
    "type": "completion"
   },
   {
    "code": "grader.check(\"q6c\")",
    "id": "2d83df65b5244228b116278737a923b7",
    "idx": 80,
    "time": "2021-01-31T09:55:45.895Z",
    "type": "execution"
   },
   {
    "id": "2d83df65b5244228b116278737a923b7",
    "time": "2021-01-31T09:55:46.505Z",
    "type": "completion"
   },
   {
    "code": "plt.hist(simulations)",
    "id": "2cfee19891b540fc82066b66be655b7f",
    "idx": 82,
    "time": "2021-01-31T10:07:05.575Z",
    "type": "execution"
   },
   {
    "id": "2cfee19891b540fc82066b66be655b7f",
    "time": "2021-01-31T10:07:06.915Z",
    "type": "completion"
   },
   {
    "code": "plt.hist(simulations,bins=np.arange(-0.20,0.21))\nplt.title(\"Distribution of Trump's proportion advantage\")\nplt.xlabel('proportion advantage')\nplt.ylabel('times')",
    "id": "2cfee19891b540fc82066b66be655b7f",
    "idx": 82,
    "time": "2021-01-31T10:12:22.340Z",
    "type": "execution"
   },
   {
    "id": "2cfee19891b540fc82066b66be655b7f",
    "time": "2021-01-31T10:12:23.796Z",
    "type": "completion"
   },
   {
    "code": "plt.hist(simulations)\nplt.title(\"Distribution of Trump's proportion advantage\")\nplt.xlabel('proportion advantage')\nplt.ylabel('times')",
    "id": "2cfee19891b540fc82066b66be655b7f",
    "idx": 82,
    "time": "2021-01-31T10:12:48.358Z",
    "type": "execution"
   },
   {
    "id": "2cfee19891b540fc82066b66be655b7f",
    "time": "2021-01-31T10:12:49.799Z",
    "type": "completion"
   },
   {
    "code": "any()?",
    "id": "9fe6631af2404f98977e705a2ba02527",
    "idx": 84,
    "time": "2021-01-31T10:19:24.460Z",
    "type": "execution"
   },
   {
    "id": "9fe6631af2404f98977e705a2ba02527",
    "time": "2021-01-31T10:19:24.686Z",
    "type": "completion"
   },
   {
    "code": "any?",
    "id": "9fe6631af2404f98977e705a2ba02527",
    "idx": 84,
    "time": "2021-01-31T10:19:34.687Z",
    "type": "execution"
   },
   {
    "id": "9fe6631af2404f98977e705a2ba02527",
    "time": "2021-01-31T10:19:35.007Z",
    "type": "completion"
   },
   {
    "code": "def trump_wins(N):\n    if trump_advantage(draw_state_sample(N, 'florida'))>0:\n        if trump_advantage(draw_state_sample(N, 'michigan'))>0 or trump_advantage(draw_state_sample(N, 'pennsylvania'))>0 or trump_advantage(draw_state_sample(N, 'wisconsin'))>0:\n            return 1\n    elif trump_advantage(draw_state_sample(N, 'michigan'))>0 and trump_advantage(draw_state_sample(N, 'pennsylvania'))>0 and trump_advantage(draw_state_sample(N, 'wisconsin'))>0:\n        return 1\n    else:\n        return 0",
    "id": "876cc35000df4d42b9f79825337c7e63",
    "idx": 85,
    "time": "2021-01-31T10:26:38.838Z",
    "type": "execution"
   },
   {
    "id": "876cc35000df4d42b9f79825337c7e63",
    "time": "2021-01-31T10:26:39.082Z",
    "type": "completion"
   },
   {
    "code": "grader.check(\"q6e\")",
    "id": "9e7bb0e6b39142aaa8d268c84728d47f",
    "idx": 86,
    "time": "2021-01-31T10:26:39.959Z",
    "type": "execution"
   },
   {
    "id": "9e7bb0e6b39142aaa8d268c84728d47f",
    "time": "2021-01-31T10:26:40.281Z",
    "type": "completion"
   },
   {
    "code": "# Initialize Otter\nimport otter\ngrader = otter.Notebook(\"hw2.ipynb\")",
    "id": "eed3d9fdec5e412182677247e7856120",
    "idx": 0,
    "time": "2021-01-31T13:54:27.681Z",
    "type": "execution"
   },
   {
    "id": "eed3d9fdec5e412182677247e7856120",
    "time": "2021-01-31T13:54:28.761Z",
    "type": "completion"
   },
   {
    "code": "import numpy as np\nimport matplotlib\nimport matplotlib.pyplot as plt\nimport seaborn as sns\n\nplt.style.use('fivethirtyeight')\n\n# Default plot configurations\n%matplotlib inline\nplt.rcParams['figure.figsize'] = (16,8)\nplt.rcParams['figure.dpi'] = 150\nsns.set()\n\nfrom IPython.display import display, Latex, Markdown",
    "id": "81a6bb1e4da04005b81f7ec82d667cab",
    "idx": 7,
    "time": "2021-01-31T13:54:34.838Z",
    "type": "execution"
   },
   {
    "id": "81a6bb1e4da04005b81f7ec82d667cab",
    "time": "2021-01-31T13:54:35.776Z",
    "type": "completion"
   },
   {
    "code": "from scipy import special",
    "id": "a2aa0ff14db1450f8231a35f88259bc3",
    "idx": 10,
    "time": "2021-01-31T13:54:41.221Z",
    "type": "execution"
   },
   {
    "id": "a2aa0ff14db1450f8231a35f88259bc3",
    "time": "2021-01-31T13:54:41.506Z",
    "type": "completion"
   },
   {
    "code": "special.factorial(5), special.factorial(range(1, 6))",
    "id": "fb0926c438d948858cd725980048851a",
    "idx": 12,
    "time": "2021-01-31T13:54:43.205Z",
    "type": "execution"
   },
   {
    "id": "fb0926c438d948858cd725980048851a",
    "time": "2021-01-31T13:54:43.502Z",
    "type": "completion"
   },
   {
    "code": "special.comb(5, 3), special.factorial(5) / (special.factorial(3) * special.factorial(2))",
    "id": "b7324c32a6dc4a3781cfa6f3a9b03564",
    "idx": 14,
    "time": "2021-01-31T13:54:51.542Z",
    "type": "execution"
   },
   {
    "id": "b7324c32a6dc4a3781cfa6f3a9b03564",
    "time": "2021-01-31T13:54:51.823Z",
    "type": "completion"
   },
   {
    "code": "special.comb(5, range(6))",
    "id": "22d6f380c8514324bae951c133e18f31",
    "idx": 15,
    "time": "2021-01-31T13:54:52.977Z",
    "type": "execution"
   },
   {
    "id": "22d6f380c8514324bae951c133e18f31",
    "time": "2021-01-31T13:54:53.220Z",
    "type": "completion"
   },
   {
    "code": "special.comb(100, 50), special.comb(100, 50, exact=True)",
    "id": "7f45b7178a194de7ba6df9b717661bc0",
    "idx": 16,
    "time": "2021-01-31T13:54:54.636Z",
    "type": "execution"
   },
   {
    "id": "7f45b7178a194de7ba6df9b717661bc0",
    "time": "2021-01-31T13:54:54.947Z",
    "type": "completion"
   },
   {
    "code": "prob_1a = special.comb(100,20)*(0.26**20)*(0.74**80)\nprob_1a",
    "id": "4926576b67f4405f998a34fd341a759f",
    "idx": 20,
    "time": "2021-01-31T13:55:00.806Z",
    "type": "execution"
   },
   {
    "id": "4926576b67f4405f998a34fd341a759f",
    "time": "2021-01-31T13:55:01.173Z",
    "type": "completion"
   },
   {
    "code": "grader.check(\"q1a\")",
    "id": "844295c6871a40998e994f6dffdecdf1",
    "idx": 21,
    "time": "2021-01-31T13:55:02.332Z",
    "type": "execution"
   },
   {
    "id": "844295c6871a40998e994f6dffdecdf1",
    "time": "2021-01-31T13:55:02.677Z",
    "type": "completion"
   },
   {
    "code": "k = np.arange(101)\nall_probs = special.comb(100,k)*(0.26**k)*(0.74**(100-k))\nnp.round(all_probs, 4), sum(all_probs)",
    "id": "8785020a3342491a87e6ba84e653e23a",
    "idx": 23,
    "time": "2021-01-31T13:56:18.359Z",
    "type": "execution"
   },
   {
    "id": "8785020a3342491a87e6ba84e653e23a",
    "time": "2021-01-31T13:56:18.627Z",
    "type": "completion"
   },
   {
    "code": "grader.check(\"q1b\")",
    "id": "bdf293f7f27a44db83b6c2b42c9a87c1",
    "idx": 24,
    "time": "2021-01-31T13:56:19.613Z",
    "type": "execution"
   },
   {
    "id": "bdf293f7f27a44db83b6c2b42c9a87c1",
    "time": "2021-01-31T13:56:19.938Z",
    "type": "completion"
   },
   {
    "code": "k1=np.arange(16,37)\nprob_1c = sum(special.comb(100,k1)*(0.26**k1)*(0.74**(100-k1)))/sum(all_probs)",
    "id": "d4dda0ffcbd94bea8fc99ba2cd97e25f",
    "idx": 26,
    "time": "2021-01-31T13:56:21.227Z",
    "type": "execution"
   },
   {
    "id": "d4dda0ffcbd94bea8fc99ba2cd97e25f",
    "time": "2021-01-31T13:56:21.470Z",
    "type": "completion"
   },
   {
    "code": "grader.check(\"q1c\")",
    "id": "1c894891d2d04272b6af0004f20f8808",
    "idx": 27,
    "time": "2021-01-31T13:56:22.064Z",
    "type": "execution"
   },
   {
    "id": "1c894891d2d04272b6af0004f20f8808",
    "time": "2021-01-31T13:56:22.379Z",
    "type": "completion"
   },
   {
    "code": "def prob_at_most(n, p, s):\n    \"\"\" \n    returns the probability of S <= s\n    Input n: sample size; p : proportion; s: number of successes at most\"\"\"\n    if p>1 or s>n:\n        return 0\n    else:\n        k=np.arange(1,s+1)\n        return sum(special.comb(n,k)*(p**k)*((1-p)**(n-k)))",
    "id": "b8c57fc30299446d8b77713a14ac68c4",
    "idx": 31,
    "time": "2021-01-31T13:56:26.393Z",
    "type": "execution"
   },
   {
    "id": "b8c57fc30299446d8b77713a14ac68c4",
    "time": "2021-01-31T13:56:26.671Z",
    "type": "completion"
   },
   {
    "code": "grader.check(\"q2a\")",
    "id": "4cb8afbe545c4e44a1e0a1df3cb4f5f6",
    "idx": 32,
    "time": "2021-01-31T13:56:27.556Z",
    "type": "execution"
   },
   {
    "id": "4cb8afbe545c4e44a1e0a1df3cb4f5f6",
    "time": "2021-01-31T13:56:27.852Z",
    "type": "completion"
   },
   {
    "code": "p_majority = prob_at_most(200,0.55,99)\np_majority",
    "id": "c96eebad3d0b46d3a3d4cc9f6ffc6f1d",
    "idx": 34,
    "time": "2021-01-31T13:56:29.453Z",
    "type": "execution"
   },
   {
    "id": "c96eebad3d0b46d3a3d4cc9f6ffc6f1d",
    "time": "2021-01-31T13:56:29.747Z",
    "type": "completion"
   },
   {
    "code": "grader.check(\"q2b\")",
    "id": "4032b1cdbdbe43e880255bfd07a48f2b",
    "idx": 35,
    "time": "2021-01-31T13:56:30.233Z",
    "type": "execution"
   },
   {
    "id": "4032b1cdbdbe43e880255bfd07a48f2b",
    "time": "2021-01-31T13:56:30.596Z",
    "type": "completion"
   },
   {
    "code": "p2_majority=prob_at_most(300,0.55,149)\np3_majority=prob_at_most(400,0.55,199)\nprob_2c = 1-((1-p_majority)**3)*(1-p2_majority)*(1-p3_majority)\nprob_2c",
    "id": "f7bb0e84656f46408c5e1de279b55a07",
    "idx": 37,
    "time": "2021-01-31T13:56:32.173Z",
    "type": "execution"
   },
   {
    "id": "f7bb0e84656f46408c5e1de279b55a07",
    "time": "2021-01-31T13:56:32.513Z",
    "type": "completion"
   },
   {
    "code": "grader.check(\"q2c\")",
    "id": "16405f81ae0d40598a7ae7e4d52bd131",
    "idx": 38,
    "time": "2021-01-31T13:56:33.310Z",
    "type": "execution"
   },
   {
    "id": "16405f81ae0d40598a7ae7e4d52bd131",
    "time": "2021-01-31T13:56:33.672Z",
    "type": "completion"
   },
   {
    "code": "ans_3a = 'b'",
    "id": "40b38b5534b946bf8a336bfa3a4f4ed8",
    "idx": 42,
    "time": "2021-01-31T13:56:36.387Z",
    "type": "execution"
   },
   {
    "id": "40b38b5534b946bf8a336bfa3a4f4ed8",
    "time": "2021-01-31T13:56:36.709Z",
    "type": "completion"
   },
   {
    "code": "grader.check(\"q3a\")",
    "id": "57d57960306946c28616b17f26b0f592",
    "idx": 43,
    "time": "2021-01-31T13:56:36.980Z",
    "type": "execution"
   },
   {
    "id": "57d57960306946c28616b17f26b0f592",
    "time": "2021-01-31T13:56:37.325Z",
    "type": "completion"
   },
   {
    "code": "ans_3b = 'd'",
    "id": "92df4993488743aeb8e2643e0c72b21f",
    "idx": 45,
    "time": "2021-01-31T13:56:38.020Z",
    "type": "execution"
   },
   {
    "id": "92df4993488743aeb8e2643e0c72b21f",
    "time": "2021-01-31T13:56:38.344Z",
    "type": "completion"
   },
   {
    "code": "grader.check(\"q3b\")",
    "id": "e683789298404af7aa52550735513d2c",
    "idx": 46,
    "time": "2021-01-31T13:56:38.398Z",
    "type": "execution"
   },
   {
    "id": "e683789298404af7aa52550735513d2c",
    "time": "2021-01-31T13:56:38.861Z",
    "type": "completion"
   },
   {
    "code": "def prob_sample_counts(t, c, o):\n    \"\"\"\n    Input:\n    t - number of votes for Trump\n    c - number of votes for Clinton\n    o - number of votes for Other\n    Return: The probability of getting a such sample\n    \"\"\"\n    if t<0 or c<0 or o<0:\n        return 0\n    elif t+c+o!=20:\n        return 0\n    else:\n        situations=special.factorial(20) / (special.factorial(t)*special.factorial(c)*special.factorial(o))\n        return (0.4818**t)*(0.4746**c)*(0.0436**o)*situations",
    "id": "f2ea3254082f4f10b33ca71c215fb0c8",
    "idx": 48,
    "time": "2021-01-31T13:56:40.353Z",
    "type": "execution"
   },
   {
    "id": "f2ea3254082f4f10b33ca71c215fb0c8",
    "time": "2021-01-31T13:56:40.702Z",
    "type": "completion"
   },
   {
    "code": "grader.check(\"q3c\")",
    "id": "07bb6b3e3cc84116819bc0e3c125f199",
    "idx": 49,
    "time": "2021-01-31T13:56:40.833Z",
    "type": "execution"
   },
   {
    "id": "07bb6b3e3cc84116819bc0e3c125f199",
    "time": "2021-01-31T13:56:41.157Z",
    "type": "completion"
   },
   {
    "code": "prob_3d=0\nfor t1 in range(0,21):\n    for c1 in range(21-t1):\n        prob_3d += prob_sample_counts(t1, c1, 20-t1-c1)\nprob_3d",
    "id": "a1995d6e620549339c475369a50d98c4",
    "idx": 51,
    "time": "2021-01-31T13:56:42.365Z",
    "type": "execution"
   },
   {
    "id": "a1995d6e620549339c475369a50d98c4",
    "time": "2021-01-31T13:56:42.649Z",
    "type": "completion"
   },
   {
    "code": "grader.check(\"q3d\")",
    "id": "f53be340f2c343f082ce26d705a0b1e3",
    "idx": 52,
    "time": "2021-01-31T13:56:42.861Z",
    "type": "execution"
   },
   {
    "id": "f53be340f2c343f082ce26d705a0b1e3",
    "time": "2021-01-31T13:56:43.165Z",
    "type": "completion"
   },
   {
    "code": "prob_3e = prob_sample_counts(11,8,1)\nprob_3e",
    "id": "6c3ceced452d46aeb63f9d03c5370f3b",
    "idx": 54,
    "time": "2021-01-31T13:56:43.759Z",
    "type": "execution"
   },
   {
    "id": "6c3ceced452d46aeb63f9d03c5370f3b",
    "time": "2021-01-31T13:56:44.076Z",
    "type": "completion"
   },
   {
    "code": "grader.check(\"q3e\")",
    "id": "819c3a69685940b7a6a51af701eb68d7",
    "idx": 55,
    "time": "2021-01-31T13:56:44.163Z",
    "type": "execution"
   },
   {
    "id": "819c3a69685940b7a6a51af701eb68d7",
    "time": "2021-01-31T13:56:44.492Z",
    "type": "completion"
   },
   {
    "code": "prob_3f=0\nfor t2 in range(0,21):\n    for c2 in range(21-t2):\n        if t2>=7 and c2>=7 and 20-t2-c2>=1:\n            prob_3f += prob_sample_counts(t2, c2, 20-t2-c2)\nprob_3f",
    "id": "a089a9e3a3514310a0ca99ce233d86d8",
    "idx": 57,
    "time": "2021-01-31T13:56:45.007Z",
    "type": "execution"
   },
   {
    "id": "a089a9e3a3514310a0ca99ce233d86d8",
    "time": "2021-01-31T13:56:45.307Z",
    "type": "completion"
   },
   {
    "code": "grader.check(\"q3f\")",
    "id": "71403127aef447e7860eb1313ed92cc4",
    "idx": 58,
    "time": "2021-01-31T13:56:45.587Z",
    "type": "execution"
   },
   {
    "id": "71403127aef447e7860eb1313ed92cc4",
    "time": "2021-01-31T13:56:45.964Z",
    "type": "completion"
   },
   {
    "code": "np.random.multinomial?",
    "id": "70b5e99371eb463980b65259cc411d20",
    "idx": 72,
    "time": "2021-01-31T13:56:55.130Z",
    "type": "execution"
   },
   {
    "id": "70b5e99371eb463980b65259cc411d20",
    "time": "2021-01-31T13:56:55.468Z",
    "type": "completion"
   },
   {
    "code": "def draw_state_sample(N, state):\n    if state== 'florida':\n        return np.random.multinomial(N,[0.4902,0.4782,1-0.4902-0.4782],1)[0]\n    if state=='michigan':\n        return np.random.multinomial(N,[0.475,0.4727,1-0.475-0.4727],1)[0]\n    if state=='pennsylvania':\n        return np.random.multinomial(N,[0.4818,0.4746,1-0.4818-0.4746],1)[0]\n    if state=='wisconsin':\n        return np.random.multinomial(N,[0.4722,0.4645,1-0.4722-0.4645],1)[0]",
    "id": "b4e0720334cf40ad99da89e1b1bca927",
    "idx": 73,
    "time": "2021-01-31T13:56:55.818Z",
    "type": "execution"
   },
   {
    "id": "b4e0720334cf40ad99da89e1b1bca927",
    "time": "2021-01-31T13:56:56.085Z",
    "type": "completion"
   },
   {
    "code": "def draw_state_sample(N, state):\n    if state== 'florida':\n        return np.random.multinomial(N,[0.4902,0.4782,1-0.4902-0.4782],1)[0]\n    if state=='michigan':\n        return np.random.multinomial(N,[0.475,0.4727,1-0.475-0.4727],1)[0]\n    if state=='pennsylvania':\n        return np.random.multinomial(N,[0.4818,0.4746,1-0.4818-0.4746],1)[0]\n    if state=='wisconsin':\n        return np.random.multinomial(N,[0.4722,0.4645,1-0.4722-0.4645],1)[0]",
    "id": "b4e0720334cf40ad99da89e1b1bca927",
    "idx": 72,
    "time": "2021-01-31T13:57:05.380Z",
    "type": "execution"
   },
   {
    "id": "b4e0720334cf40ad99da89e1b1bca927",
    "time": "2021-01-31T13:57:05.678Z",
    "type": "completion"
   },
   {
    "code": "grader.check(\"q6a\")",
    "id": "e0352ce0ca8f474085708fc43db2dc51",
    "idx": 73,
    "time": "2021-01-31T13:57:06.225Z",
    "type": "execution"
   },
   {
    "id": "e0352ce0ca8f474085708fc43db2dc51",
    "time": "2021-01-31T13:57:06.574Z",
    "type": "completion"
   },
   {
    "code": "def trump_advantage(voter_sample):\n    return (voter_sample[0]-voter_sample[1])/sum(voter_sample)",
    "id": "bb9f3f5cbdd64f748c2872cfbd6e6102",
    "idx": 75,
    "time": "2021-01-31T13:57:07.538Z",
    "type": "execution"
   },
   {
    "id": "bb9f3f5cbdd64f748c2872cfbd6e6102",
    "time": "2021-01-31T13:57:07.786Z",
    "type": "completion"
   },
   {
    "code": "grader.check(\"q6b\")",
    "id": "d199d648a96547138cc3b2d8f0f2546a",
    "idx": 76,
    "time": "2021-01-31T13:57:08.171Z",
    "type": "execution"
   },
   {
    "id": "d199d648a96547138cc3b2d8f0f2546a",
    "time": "2021-01-31T13:57:08.456Z",
    "type": "completion"
   },
   {
    "code": "simulations = []\nfor i in range (100000):\n    simulations.append(trump_advantage(draw_state_sample(1500,'pennsylvania')))",
    "id": "da64a70b159d4ade8e0f23eb2f4f45dd",
    "idx": 78,
    "time": "2021-01-31T13:57:09.301Z",
    "type": "execution"
   },
   {
    "code": "grader.check(\"q6c\")",
    "id": "0262e7a1e22b4346ae09c54df554d4dd",
    "idx": 79,
    "time": "2021-01-31T13:57:10.199Z",
    "type": "execution"
   },
   {
    "id": "da64a70b159d4ade8e0f23eb2f4f45dd",
    "time": "2021-01-31T13:57:11.628Z",
    "type": "completion"
   },
   {
    "id": "0262e7a1e22b4346ae09c54df554d4dd",
    "time": "2021-01-31T13:57:11.919Z",
    "type": "completion"
   },
   {
    "code": "plt.hist(simulations)\nplt.title(\"Distribution of Trump's proportion advantage\")\nplt.xlabel('proportion advantage')\nplt.ylabel('times')",
    "id": "d6235eea175d4b93a43f8f963bee7caf",
    "idx": 81,
    "time": "2021-01-31T13:57:14.998Z",
    "type": "execution"
   },
   {
    "id": "d6235eea175d4b93a43f8f963bee7caf",
    "time": "2021-01-31T13:57:16.287Z",
    "type": "completion"
   },
   {
    "code": "def trump_wins(N):\n    if trump_advantage(draw_state_sample(N, 'florida'))>0:\n        if trump_advantage(draw_state_sample(N, 'michigan'))>0 or trump_advantage(draw_state_sample(N, 'pennsylvania'))>0 or trump_advantage(draw_state_sample(N, 'wisconsin'))>0:\n            return 1\n    elif trump_advantage(draw_state_sample(N, 'michigan'))>0 and trump_advantage(draw_state_sample(N, 'pennsylvania'))>0 and trump_advantage(draw_state_sample(N, 'wisconsin'))>0:\n        return 1\n    else:\n        return 0",
    "id": "0ac9ea13e7714b668cea243ebeed749e",
    "idx": 83,
    "time": "2021-01-31T13:57:18.724Z",
    "type": "execution"
   },
   {
    "id": "0ac9ea13e7714b668cea243ebeed749e",
    "time": "2021-01-31T13:57:18.965Z",
    "type": "completion"
   },
   {
    "code": "grader.check(\"q6e\")",
    "id": "e3a2473ab8314c869abb4145c008feb8",
    "idx": 84,
    "time": "2021-01-31T13:57:19.992Z",
    "type": "execution"
   },
   {
    "id": "e3a2473ab8314c869abb4145c008feb8",
    "time": "2021-01-31T13:57:20.328Z",
    "type": "completion"
   },
   {
    "code": "simulations_trump=[]\nfor i in range(100000):\n    simulations_trump.append(trump_wins(1500))\nproportion_trump = sum(simulations_trump)/100000\nproportion_trump",
    "id": "c1c0920bc890421a9929be13c6699919",
    "idx": 86,
    "time": "2021-01-31T14:09:34.313Z",
    "type": "execution"
   },
   {
    "id": "c1c0920bc890421a9929be13c6699919",
    "time": "2021-01-31T14:09:40.444Z",
    "type": "completion"
   },
   {
    "code": "simulations_trump=[]\nfor i in range(100000):\n    simulations_trump.append(trump_wins(1500))\nproportion_trump = sum(int(simulations_trump))/100000\nproportion_trump",
    "id": "c1c0920bc890421a9929be13c6699919",
    "idx": 86,
    "time": "2021-01-31T14:11:03.292Z",
    "type": "execution"
   },
   {
    "id": "c1c0920bc890421a9929be13c6699919",
    "time": "2021-01-31T14:11:09.397Z",
    "type": "completion"
   },
   {
    "code": "simulations_trump=0\nfor i in range(100000):\n    simulations_trump += trump_wins(1500)\nproportion_trump = sum(simulations_trump)/100000\nproportion_trump",
    "id": "c1c0920bc890421a9929be13c6699919",
    "idx": 86,
    "time": "2021-01-31T14:12:38.979Z",
    "type": "execution"
   },
   {
    "id": "c1c0920bc890421a9929be13c6699919",
    "time": "2021-01-31T14:12:39.390Z",
    "type": "completion"
   },
   {
    "code": "simulations_trump=0\nfor i in range(100000):\n    simulations_trump += trump_wins(1500)\nsimulations_trump",
    "id": "a13ed2174e684da59ab85af2f5389c97",
    "idx": 86,
    "time": "2021-01-31T14:13:24.437Z",
    "type": "execution"
   },
   {
    "id": "a13ed2174e684da59ab85af2f5389c97",
    "time": "2021-01-31T14:13:24.691Z",
    "type": "completion"
   },
   {
    "code": "trump_wins(1500)",
    "id": "04bd2e704f0143c78b854c87571dd14d",
    "idx": 86,
    "time": "2021-01-31T14:13:56.531Z",
    "type": "execution"
   },
   {
    "id": "04bd2e704f0143c78b854c87571dd14d",
    "time": "2021-01-31T14:13:56.805Z",
    "type": "completion"
   },
   {
    "code": "simulations_trump=0\nfor i in range(100000):\n    simulations_trump += trump_wins(1500)\nsimulations_trump",
    "id": "a13ed2174e684da59ab85af2f5389c97",
    "idx": 87,
    "time": "2021-01-31T14:15:08.893Z",
    "type": "execution"
   },
   {
    "id": "a13ed2174e684da59ab85af2f5389c97",
    "time": "2021-01-31T14:15:09.385Z",
    "type": "completion"
   },
   {
    "code": "simulations_trump=0\nsimulations_trump + trump_wins(1500)",
    "id": "a13ed2174e684da59ab85af2f5389c97",
    "idx": 87,
    "time": "2021-01-31T14:17:05.258Z",
    "type": "execution"
   },
   {
    "id": "a13ed2174e684da59ab85af2f5389c97",
    "time": "2021-01-31T14:17:05.653Z",
    "type": "completion"
   },
   {
    "code": "simulations_trump=0\nfor i in range(100000):\n    simulations_trump = simulations_trump+trump_wins(1500)\nproportion_trump = sum(simulations_trump)/100000\nproportion_trump",
    "id": "c1c0920bc890421a9929be13c6699919",
    "idx": 88,
    "time": "2021-01-31T14:17:40.402Z",
    "type": "execution"
   },
   {
    "id": "c1c0920bc890421a9929be13c6699919",
    "time": "2021-01-31T14:17:41.594Z",
    "type": "completion"
   },
   {
    "code": "simulations_trump=0\nsimulations_trump=simulations_trump + trump_wins(1500)\nsimulations_trump",
    "id": "a13ed2174e684da59ab85af2f5389c97",
    "idx": 87,
    "time": "2021-01-31T14:20:33.874Z",
    "type": "execution"
   },
   {
    "id": "a13ed2174e684da59ab85af2f5389c97",
    "time": "2021-01-31T14:20:34.222Z",
    "type": "completion"
   },
   {
    "code": "simulations_trump=0\nfor i in range(100000):\n    simulations_trump=simulations_trump + trump_wins(1500)\nsimulations_trump",
    "id": "a13ed2174e684da59ab85af2f5389c97",
    "idx": 87,
    "time": "2021-01-31T14:21:03.830Z",
    "type": "execution"
   },
   {
    "id": "a13ed2174e684da59ab85af2f5389c97",
    "time": "2021-01-31T14:21:04.301Z",
    "type": "completion"
   },
   {
    "code": "simulations_trump=0\ni=0\nwhile i<=100000:\n    simulations_trump=simulations_trump + trump_wins(1500)\n    i=i+1\nsimulations_trump",
    "id": "a13ed2174e684da59ab85af2f5389c97",
    "idx": 87,
    "time": "2021-01-31T14:22:59.957Z",
    "type": "execution"
   },
   {
    "id": "a13ed2174e684da59ab85af2f5389c97",
    "time": "2021-01-31T14:23:00.244Z",
    "type": "completion"
   },
   {
    "code": "proportion_trump = np.count_nonzero([trump_wins(1500) for i in range(100000)]) / 100000\nproportion_trump",
    "id": "c1c0920bc890421a9929be13c6699919",
    "idx": 88,
    "time": "2021-01-31T14:25:41.303Z",
    "type": "execution"
   },
   {
    "id": "c1c0920bc890421a9929be13c6699919",
    "time": "2021-01-31T14:25:47.274Z",
    "type": "completion"
   },
   {
    "code": "grader.check(\"q6f\")",
    "id": "2fe9607516f64d0dbb943eccec45fe60",
    "idx": 89,
    "time": "2021-01-31T14:25:48.262Z",
    "type": "execution"
   },
   {
    "id": "2fe9607516f64d0dbb943eccec45fe60",
    "time": "2021-01-31T14:25:48.617Z",
    "type": "completion"
   },
   {
    "code": "# Initialize Otter\nimport otter\ngrader = otter.Notebook(\"hw2.ipynb\")",
    "id": "1d5b658513ca45ee8780b6bdabf46c69",
    "idx": 0,
    "time": "2021-02-04T10:15:14.989Z",
    "type": "execution"
   },
   {
    "id": "1d5b658513ca45ee8780b6bdabf46c69",
    "time": "2021-02-04T10:15:16.505Z",
    "type": "completion"
   },
   {
    "code": "import numpy as np\nimport matplotlib\nimport matplotlib.pyplot as plt\nimport seaborn as sns\n\nplt.style.use('fivethirtyeight')\n\n# Default plot configurations\n%matplotlib inline\nplt.rcParams['figure.figsize'] = (16,8)\nplt.rcParams['figure.dpi'] = 150\nsns.set()\n\nfrom IPython.display import display, Latex, Markdown",
    "id": "8c44339c796c46b08b9657f736e88c0a",
    "idx": 7,
    "time": "2021-02-04T10:15:19.878Z",
    "type": "execution"
   },
   {
    "code": "from scipy import special",
    "id": "52f032c3551441158d9963fabd970b2d",
    "idx": 10,
    "time": "2021-02-04T10:15:21.137Z",
    "type": "execution"
   },
   {
    "id": "8c44339c796c46b08b9657f736e88c0a",
    "time": "2021-02-04T10:15:21.349Z",
    "type": "completion"
   },
   {
    "id": "52f032c3551441158d9963fabd970b2d",
    "time": "2021-02-04T10:15:21.743Z",
    "type": "completion"
   },
   {
    "code": "special.factorial(5), special.factorial(range(1, 6))",
    "id": "0a222cfa3b5a498687c7d0778194978a",
    "idx": 12,
    "time": "2021-02-04T10:15:22.379Z",
    "type": "execution"
   },
   {
    "id": "0a222cfa3b5a498687c7d0778194978a",
    "time": "2021-02-04T10:15:22.969Z",
    "type": "completion"
   },
   {
    "code": "special.comb(5, 3), special.factorial(5) / (special.factorial(3) * special.factorial(2))",
    "id": "905acb24a56145d18a427a1fde3b28cb",
    "idx": 14,
    "time": "2021-02-04T10:15:23.924Z",
    "type": "execution"
   },
   {
    "code": "special.comb(5, range(6))",
    "id": "78dd0ececf9b4c0fba493c1250cced6f",
    "idx": 15,
    "time": "2021-02-04T10:15:24.662Z",
    "type": "execution"
   },
   {
    "id": "905acb24a56145d18a427a1fde3b28cb",
    "time": "2021-02-04T10:15:24.752Z",
    "type": "completion"
   },
   {
    "id": "78dd0ececf9b4c0fba493c1250cced6f",
    "time": "2021-02-04T10:15:25.253Z",
    "type": "completion"
   },
   {
    "code": "special.comb(100, 50), special.comb(100, 50, exact=True)",
    "id": "61262a0ad791401e9d8007da127eb909",
    "idx": 16,
    "time": "2021-02-04T10:15:25.276Z",
    "type": "execution"
   },
   {
    "id": "61262a0ad791401e9d8007da127eb909",
    "time": "2021-02-04T10:15:25.898Z",
    "type": "completion"
   },
   {
    "code": "prob_1a = special.comb(100,20)*(0.26**20)*(0.74**80)\nprob_1a",
    "id": "ae9f9bf90b014de4ab8aad2a1efea7d5",
    "idx": 20,
    "time": "2021-02-04T10:15:27.546Z",
    "type": "execution"
   },
   {
    "id": "ae9f9bf90b014de4ab8aad2a1efea7d5",
    "time": "2021-02-04T10:15:28.084Z",
    "type": "completion"
   },
   {
    "code": "grader.check(\"q1a\")",
    "id": "471e0a3786dd41eea9139c6d09c55b79",
    "idx": 21,
    "time": "2021-02-04T10:15:28.173Z",
    "type": "execution"
   },
   {
    "id": "471e0a3786dd41eea9139c6d09c55b79",
    "time": "2021-02-04T10:15:28.892Z",
    "type": "completion"
   },
   {
    "code": "k = np.arange(101)\nall_probs = special.comb(100,k)*(0.26**k)*(0.74**(100-k))\nnp.round(all_probs, 4), sum(all_probs)",
    "id": "a0f7228cfbba4d66ab2903ce9a58a1b7",
    "idx": 23,
    "time": "2021-02-04T10:15:29.154Z",
    "type": "execution"
   },
   {
    "id": "a0f7228cfbba4d66ab2903ce9a58a1b7",
    "time": "2021-02-04T10:15:29.722Z",
    "type": "completion"
   },
   {
    "code": "grader.check(\"q1b\")",
    "id": "850c8c330b9842209f429915bbfc35fc",
    "idx": 24,
    "time": "2021-02-04T10:15:29.901Z",
    "type": "execution"
   },
   {
    "id": "850c8c330b9842209f429915bbfc35fc",
    "time": "2021-02-04T10:15:30.429Z",
    "type": "completion"
   },
   {
    "code": "k1=np.arange(16,37)\nprob_1c = sum(special.comb(100,k1)*(0.26**k1)*(0.74**(100-k1)))/sum(all_probs)",
    "id": "354fd39f746f44f39a2322d406fd356e",
    "idx": 26,
    "time": "2021-02-04T10:15:31.030Z",
    "type": "execution"
   },
   {
    "id": "354fd39f746f44f39a2322d406fd356e",
    "time": "2021-02-04T10:15:31.557Z",
    "type": "completion"
   },
   {
    "code": "grader.check(\"q1c\")",
    "id": "451c9eb854484da487081db13ac0e26e",
    "idx": 27,
    "time": "2021-02-04T10:15:31.616Z",
    "type": "execution"
   },
   {
    "id": "451c9eb854484da487081db13ac0e26e",
    "time": "2021-02-04T10:15:32.214Z",
    "type": "completion"
   },
   {
    "code": "def prob_at_most(n, p, s):\n    \"\"\" \n    returns the probability of S <= s\n    Input n: sample size; p : proportion; s: number of successes at most\"\"\"\n    if p>1 or s>n:\n        return 0\n    else:\n        k=np.arange(1,s+1)\n        return sum(special.comb(n,k)*(p**k)*((1-p)**(n-k)))",
    "id": "1f1a211111ad40c796ac12944df690ba",
    "idx": 31,
    "time": "2021-02-04T10:15:33.817Z",
    "type": "execution"
   },
   {
    "id": "1f1a211111ad40c796ac12944df690ba",
    "time": "2021-02-04T10:15:34.431Z",
    "type": "completion"
   },
   {
    "code": "grader.check(\"q2a\")",
    "id": "222019cfdc114b31b6183925ab342778",
    "idx": 32,
    "time": "2021-02-04T10:15:34.700Z",
    "type": "execution"
   },
   {
    "id": "222019cfdc114b31b6183925ab342778",
    "time": "2021-02-04T10:15:35.221Z",
    "type": "completion"
   },
   {
    "code": "p_majority = prob_at_most(200,0.55,99)\np_majority",
    "id": "b2c5a3becf0b474d8d8ce9fb9d23de1e",
    "idx": 34,
    "time": "2021-02-04T10:15:35.845Z",
    "type": "execution"
   },
   {
    "code": "grader.check(\"q2b\")",
    "id": "8998c5780b0d4d608836900fdc2a7e9f",
    "idx": 35,
    "time": "2021-02-04T10:15:36.302Z",
    "type": "execution"
   },
   {
    "id": "b2c5a3becf0b474d8d8ce9fb9d23de1e",
    "time": "2021-02-04T10:15:36.393Z",
    "type": "completion"
   },
   {
    "id": "8998c5780b0d4d608836900fdc2a7e9f",
    "time": "2021-02-04T10:15:36.889Z",
    "type": "completion"
   },
   {
    "code": "p2_majority=prob_at_most(300,0.55,149)\np3_majority=prob_at_most(400,0.55,199)\nprob_2c = 1-((1-p_majority)**3)*(1-p2_majority)*(1-p3_majority)\nprob_2c",
    "id": "6f89f601b8e94e578c4baa4e79921ec0",
    "idx": 37,
    "time": "2021-02-04T10:15:37.616Z",
    "type": "execution"
   },
   {
    "id": "6f89f601b8e94e578c4baa4e79921ec0",
    "time": "2021-02-04T10:15:38.166Z",
    "type": "completion"
   },
   {
    "code": "grader.check(\"q2c\")",
    "id": "625583dcdba944b498b87816c61b3380",
    "idx": 38,
    "time": "2021-02-04T10:15:38.307Z",
    "type": "execution"
   },
   {
    "id": "625583dcdba944b498b87816c61b3380",
    "time": "2021-02-04T10:15:38.852Z",
    "type": "completion"
   },
   {
    "code": "ans_3a = 'b'",
    "id": "528b9a6f778240b292c5fc914bd43e15",
    "idx": 42,
    "time": "2021-02-04T10:15:39.915Z",
    "type": "execution"
   },
   {
    "code": "grader.check(\"q3a\")",
    "id": "6029ec82f78945ccbad422d442cd7f7f",
    "idx": 43,
    "time": "2021-02-04T10:15:40.211Z",
    "type": "execution"
   },
   {
    "id": "528b9a6f778240b292c5fc914bd43e15",
    "time": "2021-02-04T10:15:40.424Z",
    "type": "completion"
   },
   {
    "id": "6029ec82f78945ccbad422d442cd7f7f",
    "time": "2021-02-04T10:15:40.825Z",
    "type": "completion"
   },
   {
    "code": "ans_3b = 'd'",
    "id": "15d42d56f7964d4699e411dd83b89900",
    "idx": 45,
    "time": "2021-02-04T10:15:41.070Z",
    "type": "execution"
   },
   {
    "code": "grader.check(\"q3b\")",
    "id": "a8b9bb65e9854f0784b7ceecd0046a29",
    "idx": 46,
    "time": "2021-02-04T10:15:41.429Z",
    "type": "execution"
   },
   {
    "id": "15d42d56f7964d4699e411dd83b89900",
    "time": "2021-02-04T10:15:41.592Z",
    "type": "completion"
   },
   {
    "id": "a8b9bb65e9854f0784b7ceecd0046a29",
    "time": "2021-02-04T10:15:41.992Z",
    "type": "completion"
   },
   {
    "code": "def prob_sample_counts(t, c, o):\n    \"\"\"\n    Input:\n    t - number of votes for Trump\n    c - number of votes for Clinton\n    o - number of votes for Other\n    Return: The probability of getting a such sample\n    \"\"\"\n    if t<0 or c<0 or o<0:\n        return 0\n    elif t+c+o!=20:\n        return 0\n    else:\n        situations=special.factorial(20) / (special.factorial(t)*special.factorial(c)*special.factorial(o))\n        return (0.4818**t)*(0.4746**c)*(0.0436**o)*situations",
    "id": "816c3c286bf14ddc81c10bd24009daff",
    "idx": 48,
    "time": "2021-02-04T10:15:42.214Z",
    "type": "execution"
   },
   {
    "code": "grader.check(\"q3c\")",
    "id": "82cd7a1221534d528c83b8d006985877",
    "idx": 49,
    "time": "2021-02-04T10:15:42.575Z",
    "type": "execution"
   },
   {
    "id": "816c3c286bf14ddc81c10bd24009daff",
    "time": "2021-02-04T10:15:42.726Z",
    "type": "completion"
   },
   {
    "id": "82cd7a1221534d528c83b8d006985877",
    "time": "2021-02-04T10:15:43.169Z",
    "type": "completion"
   },
   {
    "code": "prob_3d=0\nfor t1 in range(0,21):\n    for c1 in range(21-t1):\n        prob_3d += prob_sample_counts(t1, c1, 20-t1-c1)\nprob_3d",
    "id": "be24efd7abe14fa0926d8d12bda7338d",
    "idx": 51,
    "time": "2021-02-04T10:15:43.296Z",
    "type": "execution"
   },
   {
    "code": "grader.check(\"q3d\")",
    "id": "5cc9a49441c94c218ccdd18717d2d0ce",
    "idx": 52,
    "time": "2021-02-04T10:15:43.649Z",
    "type": "execution"
   },
   {
    "id": "be24efd7abe14fa0926d8d12bda7338d",
    "time": "2021-02-04T10:15:43.854Z",
    "type": "completion"
   },
   {
    "code": "prob_3e = prob_sample_counts(11,8,1)\nprob_3e",
    "id": "b16ea492f2ec42799d70c1389774d36b",
    "idx": 54,
    "time": "2021-02-04T10:15:44.214Z",
    "type": "execution"
   },
   {
    "id": "5cc9a49441c94c218ccdd18717d2d0ce",
    "time": "2021-02-04T10:15:44.335Z",
    "type": "completion"
   },
   {
    "code": "grader.check(\"q3e\")",
    "id": "7b61628ae34f4e2d8b20d73b9ca34760",
    "idx": 55,
    "time": "2021-02-04T10:15:44.522Z",
    "type": "execution"
   },
   {
    "id": "b16ea492f2ec42799d70c1389774d36b",
    "time": "2021-02-04T10:15:44.775Z",
    "type": "completion"
   },
   {
    "code": "prob_3f=0\nfor t2 in range(0,21):\n    for c2 in range(21-t2):\n        if t2>=7 and c2>=7 and 20-t2-c2>=1:\n            prob_3f += prob_sample_counts(t2, c2, 20-t2-c2)\nprob_3f",
    "id": "7ada8b238a0b4c1e89614aa8bdcdec89",
    "idx": 57,
    "time": "2021-02-04T10:15:45.122Z",
    "type": "execution"
   },
   {
    "id": "7b61628ae34f4e2d8b20d73b9ca34760",
    "time": "2021-02-04T10:15:45.179Z",
    "type": "completion"
   },
   {
    "code": "grader.check(\"q3f\")",
    "id": "2e7082e3ae0f4d57b9f0afefa7f40641",
    "idx": 58,
    "time": "2021-02-04T10:15:45.369Z",
    "type": "execution"
   },
   {
    "id": "7ada8b238a0b4c1e89614aa8bdcdec89",
    "time": "2021-02-04T10:15:45.685Z",
    "type": "completion"
   },
   {
    "id": "2e7082e3ae0f4d57b9f0afefa7f40641",
    "time": "2021-02-04T10:15:46.044Z",
    "type": "completion"
   },
   {
    "code": "def draw_state_sample(N, state):\n    if state== 'florida':\n        return np.random.multinomial(N,[0.4902,0.4782,1-0.4902-0.4782],1)[0]\n    if state=='michigan':\n        return np.random.multinomial(N,[0.475,0.4727,1-0.475-0.4727],1)[0]\n    if state=='pennsylvania':\n        return np.random.multinomial(N,[0.4818,0.4746,1-0.4818-0.4746],1)[0]\n    if state=='wisconsin':\n        return np.random.multinomial(N,[0.4722,0.4645,1-0.4722-0.4645],1)[0]",
    "id": "d564bc7fa6644cb6889a2b14ecb4cb15",
    "idx": 72,
    "time": "2021-02-04T10:15:51.896Z",
    "type": "execution"
   },
   {
    "id": "d564bc7fa6644cb6889a2b14ecb4cb15",
    "time": "2021-02-04T10:15:52.450Z",
    "type": "completion"
   },
   {
    "code": "grader.check(\"q6a\")",
    "id": "62042340bba24a718e6d7a5ddbb85374",
    "idx": 73,
    "time": "2021-02-04T10:15:53.972Z",
    "type": "execution"
   },
   {
    "id": "62042340bba24a718e6d7a5ddbb85374",
    "time": "2021-02-04T10:15:54.525Z",
    "type": "completion"
   },
   {
    "code": "def trump_advantage(voter_sample):\n    return (voter_sample[0]-voter_sample[1])/sum(voter_sample)",
    "id": "d96451f5cac34538839af0f80c3c5414",
    "idx": 75,
    "time": "2021-02-04T10:15:59.787Z",
    "type": "execution"
   },
   {
    "id": "d96451f5cac34538839af0f80c3c5414",
    "time": "2021-02-04T10:16:00.297Z",
    "type": "completion"
   },
   {
    "code": "grader.check(\"q6b\")",
    "id": "aea2f46022654e8e92b65d22dd16c0c6",
    "idx": 76,
    "time": "2021-02-04T10:16:04.266Z",
    "type": "execution"
   },
   {
    "id": "aea2f46022654e8e92b65d22dd16c0c6",
    "time": "2021-02-04T10:16:04.869Z",
    "type": "completion"
   },
   {
    "code": "simulations = []\nfor i in range (100000):\n    simulations.append(trump_advantage(draw_state_sample(1500,'pennsylvania')))",
    "id": "ee7076e7ab334566a946c52a729e6e14",
    "idx": 78,
    "time": "2021-02-04T10:16:09.490Z",
    "type": "execution"
   },
   {
    "id": "ee7076e7ab334566a946c52a729e6e14",
    "time": "2021-02-04T10:16:12.215Z",
    "type": "completion"
   },
   {
    "code": "grader.check(\"q6c\")",
    "id": "87b90aad49324663992b39d109974a3a",
    "idx": 79,
    "time": "2021-02-04T10:16:14.993Z",
    "type": "execution"
   },
   {
    "id": "87b90aad49324663992b39d109974a3a",
    "time": "2021-02-04T10:16:15.930Z",
    "type": "completion"
   },
   {
    "code": "plt.hist(simulations)\nplt.title(\"Distribution of Trump's proportion advantage\")\nplt.xlabel('proportion advantage')\nplt.ylabel('times')",
    "id": "e7ef21f7556741d0861a6e8aadca0116",
    "idx": 81,
    "time": "2021-02-04T10:16:17.661Z",
    "type": "execution"
   },
   {
    "id": "e7ef21f7556741d0861a6e8aadca0116",
    "time": "2021-02-04T10:16:19.982Z",
    "type": "completion"
   },
   {
    "code": "def trump_wins(N):\n    if trump_advantage(draw_state_sample(N, 'florida'))>0:\n        if trump_advantage(draw_state_sample(N, 'michigan'))>0 or trump_advantage(draw_state_sample(N, 'pennsylvania'))>0 or trump_advantage(draw_state_sample(N, 'wisconsin'))>0:\n            return 1\n    elif trump_advantage(draw_state_sample(N, 'michigan'))>0 and trump_advantage(draw_state_sample(N, 'pennsylvania'))>0 and trump_advantage(draw_state_sample(N, 'wisconsin'))>0:\n        return 1\n    else:\n        return 0",
    "id": "68ba2d54d57d4ffe86b13fc20b9fd00f",
    "idx": 83,
    "time": "2021-02-04T10:16:24.863Z",
    "type": "execution"
   },
   {
    "id": "68ba2d54d57d4ffe86b13fc20b9fd00f",
    "time": "2021-02-04T10:16:25.382Z",
    "type": "completion"
   },
   {
    "code": "grader.check(\"q6e\")",
    "id": "b754ef44115541a68ded0993328b6e1c",
    "idx": 84,
    "time": "2021-02-04T10:16:26.600Z",
    "type": "execution"
   },
   {
    "id": "b754ef44115541a68ded0993328b6e1c",
    "time": "2021-02-04T10:16:27.170Z",
    "type": "completion"
   },
   {
    "code": "proportion_trump = np.count_nonzero([trump_wins(1500) for i in range(100000)]) / 100000\nproportion_trump",
    "id": "f07de6bcbe3d42ee863a3fdbf1aab902",
    "idx": 86,
    "time": "2021-02-04T10:16:35.366Z",
    "type": "execution"
   },
   {
    "code": "grader.check(\"q6f\")",
    "id": "d3736b5a9a7c4fce96ff69652baef653",
    "idx": 87,
    "time": "2021-02-04T10:16:37.856Z",
    "type": "execution"
   },
   {
    "id": "f07de6bcbe3d42ee863a3fdbf1aab902",
    "time": "2021-02-04T10:16:41.803Z",
    "type": "completion"
   },
   {
    "id": "d3736b5a9a7c4fce96ff69652baef653",
    "time": "2021-02-04T10:16:41.808Z",
    "type": "completion"
   },
   {
    "code": "def draw_biased_state_sample(N, state):\n    if state== 'florida':\n        return np.random.multinomial(N,[0.4902-0.005,0.4782+0.005,1-0.4902-0.4782],1)[0]\n    if state=='michigan':\n        return np.random.multinomial(N,[0.475-0.005,0.4727+0.005,1-0.475-0.4727],1)[0]\n    if state=='pennsylvania':\n        return np.random.multinomial(N,[0.4818-0.005,0.4746+0.005,1-0.4818-0.4746],1)[0]\n    if state=='wisconsin':\n        return np.random.multinomial(N,[0.4722-0.005,0.4645+0.005,1-0.4722-0.4645],1)[0]\n    \nbiased_simulations = []\nfor i in range (100000):\n    biased_simulations.append(trump_advantage(draw_biased_state_sample(1500,'pennsylvania')))",
    "id": "b17d53f74e9e4714969ee50e24c87415",
    "idx": 91,
    "time": "2021-02-04T10:24:01.281Z",
    "type": "execution"
   },
   {
    "id": "b17d53f74e9e4714969ee50e24c87415",
    "time": "2021-02-04T10:24:04.069Z",
    "type": "completion"
   },
   {
    "code": "grader.check(\"q7a\")",
    "id": "c50c98b57e7442a189d677ade3b8776f",
    "idx": 92,
    "time": "2021-02-04T10:24:05.602Z",
    "type": "execution"
   },
   {
    "id": "c50c98b57e7442a189d677ade3b8776f",
    "time": "2021-02-04T10:24:06.482Z",
    "type": "completion"
   },
   {
    "code": "plt.hist(biased_simulations)\nplt.title(\"Biased Distribution of Trump's proportion advantage\")\nplt.xlabel('proportion advantage')\nplt.ylabel('times')",
    "id": "04da6141e7054a149d08dee9f0b52f6f",
    "idx": 94,
    "time": "2021-02-04T10:25:06.075Z",
    "type": "execution"
   },
   {
    "id": "04da6141e7054a149d08dee9f0b52f6f",
    "time": "2021-02-04T10:25:08.243Z",
    "type": "completion"
   },
   {
    "code": "def trump_wins_biased(N): \n    if trump_advantage(draw_biased_state_sample(N, 'florida'))>0:\n        if trump_advantage(draw_biased_state_sample(N, 'michigan'))>0 or trump_advantage(draw_biased_state_sample(N, 'pennsylvania'))>0 or trump_advantage(draw_biased_state_sample(N, 'wisconsin'))>0:\n            return 1\n    elif trump_advantage(draw_biased_state_sample(N, 'michigan'))>0 and trump_advantage(draw_biased_state_sample(N, 'pennsylvania'))>0 and trump_advantage(draw_biased_state_sample(N, 'wisconsin'))>0:\n        return 1\n    else:\n        return 0\n    \nproportion_trump_biased = np.count_nonzero([trump_wins_biased(1500) for i in range(100000)]) / 100000\nproportion_trump_biased",
    "id": "912ea12685b74b548287161bfed87eb7",
    "idx": 98,
    "time": "2021-02-04T10:31:43.608Z",
    "type": "execution"
   },
   {
    "id": "912ea12685b74b548287161bfed87eb7",
    "time": "2021-02-04T10:31:50.864Z",
    "type": "completion"
   },
   {
    "code": "grader.check(\"q7d\")",
    "id": "8e2fc06f29a642db8be0b756980bc4d7",
    "idx": 99,
    "time": "2021-02-04T10:31:54.904Z",
    "type": "execution"
   },
   {
    "id": "8e2fc06f29a642db8be0b756980bc4d7",
    "time": "2021-02-04T10:31:55.480Z",
    "type": "completion"
   },
   {
    "code": "high_sample_size_unbiased_proportion_trump = np.count_nonzero([trump_wins(5000) for i in range(100000)]) / 100000\nhigh_sample_size_biased_proportion_trump = np.count_nonzero([trump_wins_biased(5000) for i in range(100000)]) / 100000\nprint(high_sample_size_unbiased_proportion_trump, high_sample_size_biased_proportion_trump)",
    "id": "01e7733a3d8146a8b83c6e23c1f11020",
    "idx": 102,
    "time": "2021-02-04T10:35:11.462Z",
    "type": "execution"
   },
   {
    "id": "01e7733a3d8146a8b83c6e23c1f11020",
    "time": "2021-02-04T10:35:24.560Z",
    "type": "completion"
   },
   {
    "code": "grader.check(\"q8a\")",
    "id": "8feee5a1fc32471dbec051438bcccc98",
    "idx": 103,
    "time": "2021-02-04T10:35:27.911Z",
    "type": "execution"
   },
   {
    "id": "8feee5a1fc32471dbec051438bcccc98",
    "time": "2021-02-04T10:35:28.445Z",
    "type": "completion"
   },
   {
    "code": "# Initialize Otter\nimport otter\ngrader = otter.Notebook(\"hw2.ipynb\")",
    "id": "b7900c85b5e745fa82e66b9594288389",
    "idx": 0,
    "time": "2021-02-05T03:52:51.496Z",
    "type": "execution"
   },
   {
    "id": "b7900c85b5e745fa82e66b9594288389",
    "time": "2021-02-05T03:52:52.719Z",
    "type": "completion"
   },
   {
    "code": "import numpy as np\nimport matplotlib\nimport matplotlib.pyplot as plt\nimport seaborn as sns\n\nplt.style.use('fivethirtyeight')\n\n# Default plot configurations\n%matplotlib inline\nplt.rcParams['figure.figsize'] = (16,8)\nplt.rcParams['figure.dpi'] = 150\nsns.set()\n\nfrom IPython.display import display, Latex, Markdown",
    "id": "98ed1ae7d56e427cb6c13cc774c717a5",
    "idx": 7,
    "time": "2021-02-05T03:52:57.263Z",
    "type": "execution"
   },
   {
    "id": "98ed1ae7d56e427cb6c13cc774c717a5",
    "time": "2021-02-05T03:52:58.225Z",
    "type": "completion"
   },
   {
    "code": "from scipy import special",
    "id": "e896d8f5eab2467cbdf31c700624b59e",
    "idx": 10,
    "time": "2021-02-05T03:52:59.446Z",
    "type": "execution"
   },
   {
    "id": "e896d8f5eab2467cbdf31c700624b59e",
    "time": "2021-02-05T03:52:59.779Z",
    "type": "completion"
   },
   {
    "code": "special.factorial(5), special.factorial(range(1, 6))",
    "id": "7d4aa78bf8c0414882e4702bc7788f7f",
    "idx": 12,
    "time": "2021-02-05T03:53:01.709Z",
    "type": "execution"
   },
   {
    "id": "7d4aa78bf8c0414882e4702bc7788f7f",
    "time": "2021-02-05T03:53:02.034Z",
    "type": "completion"
   },
   {
    "code": "special.comb(5, 3), special.factorial(5) / (special.factorial(3) * special.factorial(2))",
    "id": "1c6620462fc34cfb87adf17d8474a7cb",
    "idx": 14,
    "time": "2021-02-05T03:53:02.900Z",
    "type": "execution"
   },
   {
    "id": "1c6620462fc34cfb87adf17d8474a7cb",
    "time": "2021-02-05T03:53:03.186Z",
    "type": "completion"
   },
   {
    "code": "special.comb(5, range(6))",
    "id": "63253f648c7248f2a4d003af52ed3b05",
    "idx": 15,
    "time": "2021-02-05T03:53:21.398Z",
    "type": "execution"
   },
   {
    "id": "63253f648c7248f2a4d003af52ed3b05",
    "time": "2021-02-05T03:53:21.708Z",
    "type": "completion"
   },
   {
    "code": "special.comb(100, 50), special.comb(100, 50, exact=True)",
    "id": "1319357c53804f489e69a7d57fd213cb",
    "idx": 16,
    "time": "2021-02-05T03:53:24.891Z",
    "type": "execution"
   },
   {
    "id": "1319357c53804f489e69a7d57fd213cb",
    "time": "2021-02-05T03:53:25.166Z",
    "type": "completion"
   },
   {
    "code": "prob_1a = special.comb(100,20)*(0.26**20)*(0.74**80)\nprob_1a",
    "id": "0a5626d9b8ea423885a7fd547f05695f",
    "idx": 20,
    "time": "2021-02-05T03:53:36.403Z",
    "type": "execution"
   },
   {
    "id": "0a5626d9b8ea423885a7fd547f05695f",
    "time": "2021-02-05T03:53:36.847Z",
    "type": "completion"
   },
   {
    "code": "grader.check(\"q1a\")",
    "id": "b7f0cfcc3a8d49bc9f690ee92b140fb4",
    "idx": 21,
    "time": "2021-02-05T03:53:37.163Z",
    "type": "execution"
   },
   {
    "id": "b7f0cfcc3a8d49bc9f690ee92b140fb4",
    "time": "2021-02-05T03:53:37.600Z",
    "type": "completion"
   },
   {
    "code": "k = np.arange(101)\nall_probs = special.comb(100,k)*(0.26**k)*(0.74**(100-k))\nnp.round(all_probs, 4), sum(all_probs)",
    "id": "8444463343534606853d8302c7707866",
    "idx": 23,
    "time": "2021-02-05T03:53:56.371Z",
    "type": "execution"
   },
   {
    "id": "8444463343534606853d8302c7707866",
    "time": "2021-02-05T03:53:56.794Z",
    "type": "completion"
   },
   {
    "code": "grader.check(\"q1b\")",
    "id": "a202da84b7d2482fb562907740276ecf",
    "idx": 24,
    "time": "2021-02-05T03:53:57.060Z",
    "type": "execution"
   },
   {
    "id": "a202da84b7d2482fb562907740276ecf",
    "time": "2021-02-05T03:53:57.388Z",
    "type": "completion"
   },
   {
    "code": "k1=np.arange(16,37)\nprob_1c = sum(special.comb(100,k1)*(0.26**k1)*(0.74**(100-k1)))/sum(all_probs)",
    "id": "d963f4c4f94449148513566166cbd916",
    "idx": 26,
    "time": "2021-02-05T03:54:02.972Z",
    "type": "execution"
   },
   {
    "id": "d963f4c4f94449148513566166cbd916",
    "time": "2021-02-05T03:54:03.210Z",
    "type": "completion"
   },
   {
    "code": "prob_1c = all_probs[36]-all_probs[16]",
    "id": "d963f4c4f94449148513566166cbd916",
    "idx": 27,
    "time": "2021-02-05T03:56:18.051Z",
    "type": "execution"
   },
   {
    "id": "d963f4c4f94449148513566166cbd916",
    "time": "2021-02-05T03:56:18.332Z",
    "type": "completion"
   },
   {
    "code": "grader.check(\"q1c\")",
    "id": "ad2ae05c644f44e89ebe475ebfc49f8a",
    "idx": 28,
    "time": "2021-02-05T03:56:19.069Z",
    "type": "execution"
   },
   {
    "id": "ad2ae05c644f44e89ebe475ebfc49f8a",
    "time": "2021-02-05T03:56:19.420Z",
    "type": "completion"
   },
   {
    "code": "k1=np.arange(16,37)\nprob_1c = sum(special.comb(100,k1)*(0.26**k1)*(0.74**(100-k1)))/sum(all_probs)",
    "id": "c9b8727d8ae146448660fbbad4b12e88",
    "idx": 26,
    "time": "2021-02-05T03:59:19.796Z",
    "type": "execution"
   },
   {
    "id": "c9b8727d8ae146448660fbbad4b12e88",
    "time": "2021-02-05T03:59:20.133Z",
    "type": "completion"
   },
   {
    "code": "grader.check(\"q1c\")",
    "id": "ad2ae05c644f44e89ebe475ebfc49f8a",
    "idx": 27,
    "time": "2021-02-05T03:59:20.697Z",
    "type": "execution"
   },
   {
    "id": "ad2ae05c644f44e89ebe475ebfc49f8a",
    "time": "2021-02-05T03:59:21.117Z",
    "type": "completion"
   },
   {
    "code": "def prob_at_most(n, p, s):\n    \"\"\" \n    returns the probability of S <= s\n    Input n: sample size; p : proportion; s: number of successes at most\"\"\"\n    if p>1 or s>n:\n        return 0\n    else:\n        k=np.arange(1,s+1)\n        return sum(special.comb(n,k)*(p**k)*((1-p)**(n-k)))",
    "id": "bde088880cb349df84c25a3c9554bfc9",
    "idx": 31,
    "time": "2021-02-05T03:59:25.229Z",
    "type": "execution"
   },
   {
    "id": "bde088880cb349df84c25a3c9554bfc9",
    "time": "2021-02-05T03:59:25.513Z",
    "type": "completion"
   },
   {
    "code": "prob_1c = sum(all_probs[16:37])/sum(all_probs)",
    "id": "1a6c422d2c3e410eb5f1005090667958",
    "idx": 27,
    "time": "2021-02-05T04:00:47.516Z",
    "type": "execution"
   },
   {
    "id": "1a6c422d2c3e410eb5f1005090667958",
    "time": "2021-02-05T04:00:48.054Z",
    "type": "completion"
   },
   {
    "code": "grader.check(\"q1c\")",
    "id": "ad2ae05c644f44e89ebe475ebfc49f8a",
    "idx": 28,
    "time": "2021-02-05T04:00:48.859Z",
    "type": "execution"
   },
   {
    "id": "ad2ae05c644f44e89ebe475ebfc49f8a",
    "time": "2021-02-05T04:00:49.185Z",
    "type": "completion"
   },
   {
    "code": "p_majority = prob_at_most(200,0.45,100)\np_majority",
    "id": "283ec0f04c364c28ad2831e5f41354c5",
    "idx": 35,
    "time": "2021-02-05T04:03:31.661Z",
    "type": "execution"
   },
   {
    "id": "283ec0f04c364c28ad2831e5f41354c5",
    "time": "2021-02-05T04:03:32.242Z",
    "type": "completion"
   },
   {
    "code": "grader.check(\"q2b\")",
    "id": "b26775af9e9e4e06a7bdb39c002d22c3",
    "idx": 36,
    "time": "2021-02-05T04:03:32.978Z",
    "type": "execution"
   },
   {
    "id": "b26775af9e9e4e06a7bdb39c002d22c3",
    "time": "2021-02-05T04:03:33.302Z",
    "type": "completion"
   },
   {
    "code": "p_majority = prob_at_most(200,0.55,99)\np_majority",
    "id": "283ec0f04c364c28ad2831e5f41354c5",
    "idx": 35,
    "time": "2021-02-05T04:04:11.307Z",
    "type": "execution"
   },
   {
    "id": "283ec0f04c364c28ad2831e5f41354c5",
    "time": "2021-02-05T04:04:11.625Z",
    "type": "completion"
   },
   {
    "code": "grader.check(\"q2b\")",
    "id": "b26775af9e9e4e06a7bdb39c002d22c3",
    "idx": 36,
    "time": "2021-02-05T04:04:22.433Z",
    "type": "execution"
   },
   {
    "id": "b26775af9e9e4e06a7bdb39c002d22c3",
    "time": "2021-02-05T04:04:22.683Z",
    "type": "completion"
   },
   {
    "code": "p2_majority=prob_at_most(300,0.55,149)\np3_majority=prob_at_most(400,0.55,199)\nprob_2c = 1-((1-p_majority)**3)*(1-p2_majority)*(1-p3_majority)\nprob_2c",
    "id": "b7c92de9b45140d797b86e30489a09e8",
    "idx": 38,
    "time": "2021-02-05T04:04:36.042Z",
    "type": "execution"
   },
   {
    "id": "b7c92de9b45140d797b86e30489a09e8",
    "time": "2021-02-05T04:04:36.312Z",
    "type": "completion"
   },
   {
    "code": "grader.check(\"q2c\")",
    "id": "c459f53d075d4b719777608395417358",
    "idx": 39,
    "time": "2021-02-05T04:04:36.833Z",
    "type": "execution"
   },
   {
    "id": "c459f53d075d4b719777608395417358",
    "time": "2021-02-05T04:04:37.338Z",
    "type": "completion"
   },
   {
    "code": "ans_3a = 'b'",
    "id": "153db7496f10419f8a37ec5f6fa852f0",
    "idx": 43,
    "time": "2021-02-05T04:04:56.369Z",
    "type": "execution"
   },
   {
    "code": "grader.check(\"q3a\")",
    "id": "f508222990f24a478b58fe913e464695",
    "idx": 44,
    "time": "2021-02-05T04:04:56.974Z",
    "type": "execution"
   },
   {
    "id": "153db7496f10419f8a37ec5f6fa852f0",
    "time": "2021-02-05T04:04:57.073Z",
    "type": "completion"
   },
   {
    "id": "f508222990f24a478b58fe913e464695",
    "time": "2021-02-05T04:04:57.367Z",
    "type": "completion"
   },
   {
    "code": "ans_3b = 'd'",
    "id": "c7ab2d8182b54118ae4bb4c924a4e114",
    "idx": 46,
    "time": "2021-02-05T04:05:04.010Z",
    "type": "execution"
   },
   {
    "id": "c7ab2d8182b54118ae4bb4c924a4e114",
    "time": "2021-02-05T04:05:04.371Z",
    "type": "completion"
   },
   {
    "code": "grader.check(\"q3b\")",
    "id": "71b190096f0249d983bd5f33e5e53aa5",
    "idx": 47,
    "time": "2021-02-05T04:05:05.013Z",
    "type": "execution"
   },
   {
    "id": "71b190096f0249d983bd5f33e5e53aa5",
    "time": "2021-02-05T04:05:05.426Z",
    "type": "completion"
   },
   {
    "code": "def prob_sample_counts(t, c, o):\n    \"\"\"\n    Input:\n    t - number of votes for Trump\n    c - number of votes for Clinton\n    o - number of votes for Other\n    Return: The probability of getting a such sample\n    \"\"\"\n    if t<0 or c<0 or o<0:\n        return 0\n    elif t+c+o!=20:\n        return 0\n    else:\n        situations=special.factorial(20) / (special.factorial(t)*special.factorial(c)*special.factorial(o))\n        return (0.4818**t)*(0.4746**c)*(0.0436**o)*situations",
    "id": "aef6fe7bdcf144e29ccaafaa3b4ee1d7",
    "idx": 49,
    "time": "2021-02-05T04:05:15.257Z",
    "type": "execution"
   },
   {
    "id": "aef6fe7bdcf144e29ccaafaa3b4ee1d7",
    "time": "2021-02-05T04:05:15.496Z",
    "type": "completion"
   },
   {
    "code": "grader.check(\"q3c\")",
    "id": "95d30538d2694e20987b3b3e4e71f92e",
    "idx": 50,
    "time": "2021-02-05T04:05:16.258Z",
    "type": "execution"
   },
   {
    "id": "95d30538d2694e20987b3b3e4e71f92e",
    "time": "2021-02-05T04:05:16.546Z",
    "type": "completion"
   },
   {
    "code": "prob_3d=0\nfor t1 in range(0,21):\n    for c1 in range(21-t1):\n        prob_3d += prob_sample_counts(t1, c1, 20-t1-c1)\nprob_3d",
    "id": "7de4d81d1e474d288cf6fd4331cbe6b2",
    "idx": 52,
    "time": "2021-02-05T04:05:24.049Z",
    "type": "execution"
   },
   {
    "id": "7de4d81d1e474d288cf6fd4331cbe6b2",
    "time": "2021-02-05T04:05:24.296Z",
    "type": "completion"
   },
   {
    "code": "grader.check(\"q3d\")",
    "id": "5c41c403571d46f6bdd5363f429bdb03",
    "idx": 53,
    "time": "2021-02-05T04:05:24.762Z",
    "type": "execution"
   },
   {
    "id": "5c41c403571d46f6bdd5363f429bdb03",
    "time": "2021-02-05T04:05:25.051Z",
    "type": "completion"
   },
   {
    "code": "prob_3e = prob_sample_counts(11,8,1)\nprob_3e",
    "id": "6cfd0bed0f054e9ca03ab2971850407c",
    "idx": 55,
    "time": "2021-02-05T04:05:43.860Z",
    "type": "execution"
   },
   {
    "id": "6cfd0bed0f054e9ca03ab2971850407c",
    "time": "2021-02-05T04:05:44.216Z",
    "type": "completion"
   },
   {
    "code": "grader.check(\"q3e\")",
    "id": "485f90e60db745af875a5e89829cf45f",
    "idx": 56,
    "time": "2021-02-05T04:06:15.401Z",
    "type": "execution"
   },
   {
    "id": "485f90e60db745af875a5e89829cf45f",
    "time": "2021-02-05T04:06:15.734Z",
    "type": "completion"
   },
   {
    "code": "prob_3f=0\nfor t2 in range(0,21):\n    for c2 in range(21-t2):\n        if t2>=7 and c2>=7 and 20-t2-c2>=1:\n            prob_3f += prob_sample_counts(t2, c2, 20-t2-c2)\nprob_3f",
    "id": "fdbd2d1c94f746a98fe6cb8e091c9059",
    "idx": 58,
    "time": "2021-02-05T04:06:16.361Z",
    "type": "execution"
   },
   {
    "id": "fdbd2d1c94f746a98fe6cb8e091c9059",
    "time": "2021-02-05T04:06:16.603Z",
    "type": "completion"
   },
   {
    "code": "grader.check(\"q3f\")",
    "id": "40bf6e18e9d94ed88765e0aa4e82bab3",
    "idx": 59,
    "time": "2021-02-05T04:06:17.028Z",
    "type": "execution"
   },
   {
    "id": "40bf6e18e9d94ed88765e0aa4e82bab3",
    "time": "2021-02-05T04:06:17.368Z",
    "type": "completion"
   },
   {
    "code": "def draw_state_sample(N, state):\n    if state== 'florida':\n        return np.random.multinomial(N,[0.4902,0.4782,1-0.4902-0.4782],1)[0]\n    if state=='michigan':\n        return np.random.multinomial(N,[0.475,0.4727,1-0.475-0.4727],1)[0]\n    if state=='pennsylvania':\n        return np.random.multinomial(N,[0.4818,0.4746,1-0.4818-0.4746],1)[0]\n    if state=='wisconsin':\n        return np.random.multinomial(N,[0.4722,0.4645,1-0.4722-0.4645],1)[0]",
    "id": "48d70853441f47e199f30955224f0164",
    "idx": 73,
    "time": "2021-02-05T04:07:05.998Z",
    "type": "execution"
   },
   {
    "id": "48d70853441f47e199f30955224f0164",
    "time": "2021-02-05T04:07:06.321Z",
    "type": "completion"
   },
   {
    "code": "grader.check(\"q6a\")",
    "id": "90456fc58d334c398c95b1c1f2a5c896",
    "idx": 74,
    "time": "2021-02-05T04:07:07.092Z",
    "type": "execution"
   },
   {
    "id": "90456fc58d334c398c95b1c1f2a5c896",
    "time": "2021-02-05T04:07:07.752Z",
    "type": "completion"
   },
   {
    "code": "k1=np.arange(16,37)\nprob_1c = sum(special.comb(100,k1)*(0.26**k1)*(0.74**(100-k1)))/sum(all_probs)\nprob_1c",
    "id": "c9b8727d8ae146448660fbbad4b12e88",
    "idx": 26,
    "time": "2021-02-05T04:08:08.334Z",
    "type": "execution"
   },
   {
    "id": "c9b8727d8ae146448660fbbad4b12e88",
    "time": "2021-02-05T04:08:08.593Z",
    "type": "completion"
   },
   {
    "code": "prob_1c = sum(all_probs[16:37])/sum(all_probs)\nprob_1c ",
    "id": "1a6c422d2c3e410eb5f1005090667958",
    "idx": 27,
    "time": "2021-02-05T04:08:19.576Z",
    "type": "execution"
   },
   {
    "id": "1a6c422d2c3e410eb5f1005090667958",
    "time": "2021-02-05T04:08:20.085Z",
    "type": "completion"
   },
   {
    "code": "prob_1c = sum(all_probs[16:37])/sum(all_probs)\nprob_1c ",
    "id": "1a6c422d2c3e410eb5f1005090667958",
    "idx": 26,
    "time": "2021-02-05T04:08:35.741Z",
    "type": "execution"
   },
   {
    "id": "1a6c422d2c3e410eb5f1005090667958",
    "time": "2021-02-05T04:08:36.021Z",
    "type": "completion"
   },
   {
    "code": "grader.check(\"q1c\")",
    "id": "ad2ae05c644f44e89ebe475ebfc49f8a",
    "idx": 27,
    "time": "2021-02-05T04:08:36.950Z",
    "type": "execution"
   },
   {
    "id": "ad2ae05c644f44e89ebe475ebfc49f8a",
    "time": "2021-02-05T04:08:37.252Z",
    "type": "completion"
   },
   {
    "code": "ans_3b = 'c'",
    "id": "c7ab2d8182b54118ae4bb4c924a4e114",
    "idx": 45,
    "time": "2021-02-05T05:21:56.902Z",
    "type": "execution"
   },
   {
    "id": "c7ab2d8182b54118ae4bb4c924a4e114",
    "time": "2021-02-05T05:21:57.193Z",
    "type": "completion"
   },
   {
    "code": "grader.check(\"q3b\")",
    "id": "71b190096f0249d983bd5f33e5e53aa5",
    "idx": 46,
    "time": "2021-02-05T05:21:57.913Z",
    "type": "execution"
   },
   {
    "id": "71b190096f0249d983bd5f33e5e53aa5",
    "time": "2021-02-05T05:21:58.287Z",
    "type": "completion"
   },
   {
    "code": "# Initialize Otter\nimport otter\ngrader = otter.Notebook(\"hw2.ipynb\")",
    "id": "b7900c85b5e745fa82e66b9594288389",
    "idx": 0,
    "time": "2021-02-05T05:22:03.716Z",
    "type": "execution"
   },
   {
    "id": "b7900c85b5e745fa82e66b9594288389",
    "time": "2021-02-05T05:22:05.083Z",
    "type": "completion"
   },
   {
    "code": "grader.check(\"q3b\")",
    "id": "71b190096f0249d983bd5f33e5e53aa5",
    "idx": 46,
    "time": "2021-02-05T05:22:11.111Z",
    "type": "execution"
   },
   {
    "id": "71b190096f0249d983bd5f33e5e53aa5",
    "time": "2021-02-05T05:22:11.429Z",
    "type": "completion"
   },
   {
    "code": "plt.hist(simulations,density=True)\nplt.title(\"Distribution of Trump's proportion advantage\")\nplt.xlabel('proportion advantage')\nplt.ylabel('times')",
    "id": "78a09cbe24ac4d128ddf4798751f2425",
    "idx": 81,
    "time": "2021-02-05T05:23:30.549Z",
    "type": "execution"
   },
   {
    "id": "78a09cbe24ac4d128ddf4798751f2425",
    "time": "2021-02-05T05:23:30.918Z",
    "type": "completion"
   },
   {
    "code": "import numpy as np\nimport matplotlib\nimport matplotlib.pyplot as plt\nimport seaborn as sns\n\nplt.style.use('fivethirtyeight')\n\n# Default plot configurations\n%matplotlib inline\nplt.rcParams['figure.figsize'] = (16,8)\nplt.rcParams['figure.dpi'] = 150\nsns.set()\n\nfrom IPython.display import display, Latex, Markdown",
    "id": "98ed1ae7d56e427cb6c13cc774c717a5",
    "idx": 7,
    "time": "2021-02-05T05:23:50.389Z",
    "type": "execution"
   },
   {
    "id": "98ed1ae7d56e427cb6c13cc774c717a5",
    "time": "2021-02-05T05:23:51.386Z",
    "type": "completion"
   },
   {
    "code": "plt.hist(simulations,density=True)\nplt.title(\"Distribution of Trump's proportion advantage\")\nplt.xlabel('proportion advantage')\nplt.ylabel('times')",
    "id": "78a09cbe24ac4d128ddf4798751f2425",
    "idx": 81,
    "time": "2021-02-05T05:23:59.701Z",
    "type": "execution"
   },
   {
    "id": "78a09cbe24ac4d128ddf4798751f2425",
    "time": "2021-02-05T05:24:00.066Z",
    "type": "completion"
   },
   {
    "code": "# Initialize Otter\nimport otter\ngrader = otter.Notebook(\"hw2.ipynb\")",
    "id": "b7900c85b5e745fa82e66b9594288389",
    "idx": 0,
    "time": "2021-02-05T06:12:51.743Z",
    "type": "execution"
   },
   {
    "id": "b7900c85b5e745fa82e66b9594288389",
    "time": "2021-02-05T06:12:52.020Z",
    "type": "completion"
   },
   {
    "code": "import numpy as np\nimport matplotlib\nimport matplotlib.pyplot as plt\nimport seaborn as sns\n\nplt.style.use('fivethirtyeight')\n\n# Default plot configurations\n%matplotlib inline\nplt.rcParams['figure.figsize'] = (16,8)\nplt.rcParams['figure.dpi'] = 150\nsns.set()\n\nfrom IPython.display import display, Latex, Markdown",
    "id": "98ed1ae7d56e427cb6c13cc774c717a5",
    "idx": 7,
    "time": "2021-02-05T06:12:57.148Z",
    "type": "execution"
   },
   {
    "id": "98ed1ae7d56e427cb6c13cc774c717a5",
    "time": "2021-02-05T06:12:57.508Z",
    "type": "completion"
   },
   {
    "code": "from scipy import special",
    "id": "e896d8f5eab2467cbdf31c700624b59e",
    "idx": 10,
    "time": "2021-02-05T06:12:59.543Z",
    "type": "execution"
   },
   {
    "id": "e896d8f5eab2467cbdf31c700624b59e",
    "time": "2021-02-05T06:12:59.858Z",
    "type": "completion"
   },
   {
    "code": "special.factorial(5), special.factorial(range(1, 6))",
    "id": "7d4aa78bf8c0414882e4702bc7788f7f",
    "idx": 12,
    "time": "2021-02-05T06:13:01.064Z",
    "type": "execution"
   },
   {
    "id": "7d4aa78bf8c0414882e4702bc7788f7f",
    "time": "2021-02-05T06:13:01.399Z",
    "type": "completion"
   },
   {
    "code": "special.comb(5, 3), special.factorial(5) / (special.factorial(3) * special.factorial(2))",
    "id": "1c6620462fc34cfb87adf17d8474a7cb",
    "idx": 14,
    "time": "2021-02-05T06:13:03.662Z",
    "type": "execution"
   },
   {
    "id": "1c6620462fc34cfb87adf17d8474a7cb",
    "time": "2021-02-05T06:13:04.179Z",
    "type": "completion"
   },
   {
    "code": "special.comb(5, range(6))",
    "id": "63253f648c7248f2a4d003af52ed3b05",
    "idx": 15,
    "time": "2021-02-05T06:13:05.796Z",
    "type": "execution"
   },
   {
    "id": "63253f648c7248f2a4d003af52ed3b05",
    "time": "2021-02-05T06:13:06.276Z",
    "type": "completion"
   },
   {
    "code": "special.comb(100, 50), special.comb(100, 50, exact=True)",
    "id": "1319357c53804f489e69a7d57fd213cb",
    "idx": 16,
    "time": "2021-02-05T06:13:07.878Z",
    "type": "execution"
   },
   {
    "id": "1319357c53804f489e69a7d57fd213cb",
    "time": "2021-02-05T06:13:08.140Z",
    "type": "completion"
   },
   {
    "code": "prob_1a = special.comb(100,20)*(0.26**20)*(0.74**80)\nprob_1a",
    "id": "0a5626d9b8ea423885a7fd547f05695f",
    "idx": 20,
    "time": "2021-02-05T06:13:11.837Z",
    "type": "execution"
   },
   {
    "id": "0a5626d9b8ea423885a7fd547f05695f",
    "time": "2021-02-05T06:13:12.068Z",
    "type": "completion"
   },
   {
    "code": "grader.check(\"q1a\")",
    "id": "b7f0cfcc3a8d49bc9f690ee92b140fb4",
    "idx": 21,
    "time": "2021-02-05T06:13:12.809Z",
    "type": "execution"
   },
   {
    "id": "b7f0cfcc3a8d49bc9f690ee92b140fb4",
    "time": "2021-02-05T06:13:13.070Z",
    "type": "completion"
   },
   {
    "code": "k = np.arange(101)\nall_probs = special.comb(100,k)*(0.26**k)*(0.74**(100-k))\nnp.round(all_probs, 4), sum(all_probs)",
    "id": "8444463343534606853d8302c7707866",
    "idx": 23,
    "time": "2021-02-05T06:13:15.350Z",
    "type": "execution"
   },
   {
    "id": "8444463343534606853d8302c7707866",
    "time": "2021-02-05T06:13:15.668Z",
    "type": "completion"
   },
   {
    "code": "grader.check(\"q1b\")",
    "id": "a202da84b7d2482fb562907740276ecf",
    "idx": 24,
    "time": "2021-02-05T06:13:16.513Z",
    "type": "execution"
   },
   {
    "id": "a202da84b7d2482fb562907740276ecf",
    "time": "2021-02-05T06:13:16.817Z",
    "type": "completion"
   },
   {
    "code": "prob_1c = sum(all_probs[16:37])/sum(all_probs)\nprob_1c ",
    "id": "1a6c422d2c3e410eb5f1005090667958",
    "idx": 26,
    "time": "2021-02-05T06:13:18.590Z",
    "type": "execution"
   },
   {
    "id": "1a6c422d2c3e410eb5f1005090667958",
    "time": "2021-02-05T06:13:18.944Z",
    "type": "completion"
   },
   {
    "code": "grader.check(\"q1c\")",
    "id": "ad2ae05c644f44e89ebe475ebfc49f8a",
    "idx": 27,
    "time": "2021-02-05T06:13:19.921Z",
    "type": "execution"
   },
   {
    "id": "ad2ae05c644f44e89ebe475ebfc49f8a",
    "time": "2021-02-05T06:13:20.240Z",
    "type": "completion"
   },
   {
    "code": "def prob_at_most(n, p, s):\n    \"\"\" \n    returns the probability of S <= s\n    Input n: sample size; p : proportion; s: number of successes at most\"\"\"\n    if p>1 or s>n:\n        return 0\n    else:\n        k=np.arange(1,s+1)\n        return sum(special.comb(n,k)*(p**k)*((1-p)**(n-k)))",
    "id": "bde088880cb349df84c25a3c9554bfc9",
    "idx": 31,
    "time": "2021-02-05T06:13:24.114Z",
    "type": "execution"
   },
   {
    "id": "bde088880cb349df84c25a3c9554bfc9",
    "time": "2021-02-05T06:13:24.439Z",
    "type": "completion"
   },
   {
    "code": "grader.check(\"q2a\")",
    "id": "53839f36fdde403daf9f515a5b404567",
    "idx": 32,
    "time": "2021-02-05T06:13:25.497Z",
    "type": "execution"
   },
   {
    "id": "53839f36fdde403daf9f515a5b404567",
    "time": "2021-02-05T06:13:25.835Z",
    "type": "completion"
   },
   {
    "code": "p_majority = prob_at_most(200,0.55,99)\np_majority",
    "id": "283ec0f04c364c28ad2831e5f41354c5",
    "idx": 34,
    "time": "2021-02-05T06:13:27.293Z",
    "type": "execution"
   },
   {
    "id": "283ec0f04c364c28ad2831e5f41354c5",
    "time": "2021-02-05T06:13:27.648Z",
    "type": "completion"
   },
   {
    "code": "grader.check(\"q2b\")",
    "id": "b26775af9e9e4e06a7bdb39c002d22c3",
    "idx": 35,
    "time": "2021-02-05T06:13:28.406Z",
    "type": "execution"
   },
   {
    "id": "b26775af9e9e4e06a7bdb39c002d22c3",
    "time": "2021-02-05T06:13:28.741Z",
    "type": "completion"
   },
   {
    "code": "p2_majority=prob_at_most(300,0.55,149)\np3_majority=prob_at_most(400,0.55,199)\nprob_2c = 1-((1-p_majority)**3)*(1-p2_majority)*(1-p3_majority)\nprob_2c",
    "id": "b7c92de9b45140d797b86e30489a09e8",
    "idx": 37,
    "time": "2021-02-05T06:13:35.073Z",
    "type": "execution"
   },
   {
    "id": "b7c92de9b45140d797b86e30489a09e8",
    "time": "2021-02-05T06:13:35.401Z",
    "type": "completion"
   },
   {
    "code": "grader.check(\"q2c\")",
    "id": "c459f53d075d4b719777608395417358",
    "idx": 38,
    "time": "2021-02-05T06:13:35.547Z",
    "type": "execution"
   },
   {
    "id": "c459f53d075d4b719777608395417358",
    "time": "2021-02-05T06:13:35.842Z",
    "type": "completion"
   },
   {
    "code": "ans_3a = 'b'",
    "id": "153db7496f10419f8a37ec5f6fa852f0",
    "idx": 42,
    "time": "2021-02-05T06:13:38.037Z",
    "type": "execution"
   },
   {
    "id": "153db7496f10419f8a37ec5f6fa852f0",
    "time": "2021-02-05T06:13:38.361Z",
    "type": "completion"
   },
   {
    "code": "grader.check(\"q3a\")",
    "id": "f508222990f24a478b58fe913e464695",
    "idx": 43,
    "time": "2021-02-05T06:13:38.875Z",
    "type": "execution"
   },
   {
    "id": "f508222990f24a478b58fe913e464695",
    "time": "2021-02-05T06:13:39.171Z",
    "type": "completion"
   },
   {
    "code": "ans_3b = 'c'",
    "id": "c7ab2d8182b54118ae4bb4c924a4e114",
    "idx": 45,
    "time": "2021-02-05T06:13:40.317Z",
    "type": "execution"
   },
   {
    "id": "c7ab2d8182b54118ae4bb4c924a4e114",
    "time": "2021-02-05T06:13:40.607Z",
    "type": "completion"
   },
   {
    "code": "grader.check(\"q3b\")",
    "id": "71b190096f0249d983bd5f33e5e53aa5",
    "idx": 46,
    "time": "2021-02-05T06:13:41.600Z",
    "type": "execution"
   },
   {
    "id": "71b190096f0249d983bd5f33e5e53aa5",
    "time": "2021-02-05T06:13:41.898Z",
    "type": "completion"
   },
   {
    "code": "def prob_sample_counts(t, c, o):\n    \"\"\"\n    Input:\n    t - number of votes for Trump\n    c - number of votes for Clinton\n    o - number of votes for Other\n    Return: The probability of getting a such sample\n    \"\"\"\n    if t<0 or c<0 or o<0:\n        return 0\n    elif t+c+o!=20:\n        return 0\n    else:\n        situations=special.factorial(20) / (special.factorial(t)*special.factorial(c)*special.factorial(o))\n        return (0.4818**t)*(0.4746**c)*(0.0436**o)*situations",
    "id": "aef6fe7bdcf144e29ccaafaa3b4ee1d7",
    "idx": 48,
    "time": "2021-02-05T06:13:43.378Z",
    "type": "execution"
   },
   {
    "id": "aef6fe7bdcf144e29ccaafaa3b4ee1d7",
    "time": "2021-02-05T06:13:43.689Z",
    "type": "completion"
   },
   {
    "code": "grader.check(\"q3c\")",
    "id": "95d30538d2694e20987b3b3e4e71f92e",
    "idx": 49,
    "time": "2021-02-05T06:13:44.109Z",
    "type": "execution"
   },
   {
    "id": "95d30538d2694e20987b3b3e4e71f92e",
    "time": "2021-02-05T06:13:44.409Z",
    "type": "completion"
   },
   {
    "code": "prob_3d=0\nfor t1 in range(0,21):\n    for c1 in range(21-t1):\n        prob_3d += prob_sample_counts(t1, c1, 20-t1-c1)\nprob_3d",
    "id": "7de4d81d1e474d288cf6fd4331cbe6b2",
    "idx": 51,
    "time": "2021-02-05T06:13:45.814Z",
    "type": "execution"
   },
   {
    "id": "7de4d81d1e474d288cf6fd4331cbe6b2",
    "time": "2021-02-05T06:13:46.099Z",
    "type": "completion"
   },
   {
    "code": "grader.check(\"q3d\")",
    "id": "5c41c403571d46f6bdd5363f429bdb03",
    "idx": 52,
    "time": "2021-02-05T06:13:46.832Z",
    "type": "execution"
   },
   {
    "id": "5c41c403571d46f6bdd5363f429bdb03",
    "time": "2021-02-05T06:13:47.137Z",
    "type": "completion"
   },
   {
    "code": "prob_3e = prob_sample_counts(11,8,1)\nprob_3e",
    "id": "6cfd0bed0f054e9ca03ab2971850407c",
    "idx": 54,
    "time": "2021-02-05T06:13:48.602Z",
    "type": "execution"
   },
   {
    "id": "6cfd0bed0f054e9ca03ab2971850407c",
    "time": "2021-02-05T06:13:48.850Z",
    "type": "completion"
   },
   {
    "code": "grader.check(\"q3e\")",
    "id": "485f90e60db745af875a5e89829cf45f",
    "idx": 55,
    "time": "2021-02-05T06:13:49.404Z",
    "type": "execution"
   },
   {
    "id": "485f90e60db745af875a5e89829cf45f",
    "time": "2021-02-05T06:13:49.734Z",
    "type": "completion"
   },
   {
    "code": "prob_3f=0\nfor t2 in range(0,21):\n    for c2 in range(21-t2):\n        if t2>=7 and c2>=7 and 20-t2-c2>=1:\n            prob_3f += prob_sample_counts(t2, c2, 20-t2-c2)\nprob_3f",
    "id": "fdbd2d1c94f746a98fe6cb8e091c9059",
    "idx": 57,
    "time": "2021-02-05T06:13:50.950Z",
    "type": "execution"
   },
   {
    "id": "fdbd2d1c94f746a98fe6cb8e091c9059",
    "time": "2021-02-05T06:13:51.303Z",
    "type": "completion"
   },
   {
    "code": "grader.check(\"q3f\")",
    "id": "40bf6e18e9d94ed88765e0aa4e82bab3",
    "idx": 58,
    "time": "2021-02-05T06:13:51.776Z",
    "type": "execution"
   },
   {
    "id": "40bf6e18e9d94ed88765e0aa4e82bab3",
    "time": "2021-02-05T06:13:52.117Z",
    "type": "completion"
   },
   {
    "code": "def draw_state_sample(N, state):\n    if state== 'florida':\n        return np.random.multinomial(N,[0.4902,0.4782,1-0.4902-0.4782],1)[0]\n    if state=='michigan':\n        return np.random.multinomial(N,[0.475,0.4727,1-0.475-0.4727],1)[0]\n    if state=='pennsylvania':\n        return np.random.multinomial(N,[0.4818,0.4746,1-0.4818-0.4746],1)[0]\n    if state=='wisconsin':\n        return np.random.multinomial(N,[0.4722,0.4645,1-0.4722-0.4645],1)[0]",
    "id": "48d70853441f47e199f30955224f0164",
    "idx": 72,
    "time": "2021-02-05T06:14:14.566Z",
    "type": "execution"
   },
   {
    "id": "48d70853441f47e199f30955224f0164",
    "time": "2021-02-05T06:14:14.965Z",
    "type": "completion"
   },
   {
    "code": "grader.check(\"q6a\")",
    "id": "90456fc58d334c398c95b1c1f2a5c896",
    "idx": 73,
    "time": "2021-02-05T06:14:15.841Z",
    "type": "execution"
   },
   {
    "id": "90456fc58d334c398c95b1c1f2a5c896",
    "time": "2021-02-05T06:14:16.151Z",
    "type": "completion"
   },
   {
    "code": "def trump_advantage(voter_sample):\n    return (voter_sample[0]-voter_sample[1])/sum(voter_sample)",
    "id": "cd919dd1f6c2461e92e8dc61f6acdcd3",
    "idx": 75,
    "time": "2021-02-05T06:14:26.970Z",
    "type": "execution"
   },
   {
    "id": "cd919dd1f6c2461e92e8dc61f6acdcd3",
    "time": "2021-02-05T06:14:27.272Z",
    "type": "completion"
   },
   {
    "code": "grader.check(\"q6b\")",
    "id": "52a671cab75947b4828d21b12a7016b0",
    "idx": 76,
    "time": "2021-02-05T06:14:27.852Z",
    "type": "execution"
   },
   {
    "id": "52a671cab75947b4828d21b12a7016b0",
    "time": "2021-02-05T06:14:28.191Z",
    "type": "completion"
   },
   {
    "code": "simulations = []\nfor i in range (100000):\n    simulations.append(trump_advantage(draw_state_sample(1500,'pennsylvania')))",
    "id": "b6f91f176b844da493414b8721ceb4b0",
    "idx": 78,
    "time": "2021-02-05T06:14:29.839Z",
    "type": "execution"
   },
   {
    "code": "grader.check(\"q6c\")",
    "id": "2763a379b8a84e8facc727050ec3871e",
    "idx": 79,
    "time": "2021-02-05T06:14:30.984Z",
    "type": "execution"
   },
   {
    "id": "b6f91f176b844da493414b8721ceb4b0",
    "time": "2021-02-05T06:14:34.103Z",
    "type": "completion"
   },
   {
    "id": "2763a379b8a84e8facc727050ec3871e",
    "time": "2021-02-05T06:14:34.291Z",
    "type": "completion"
   },
   {
    "code": "plt.hist(simulations,density=True)\nplt.title(\"Distribution of Trump's proportion advantage\")\nplt.xlabel('proportion advantage')\nplt.ylabel('times')",
    "id": "78a09cbe24ac4d128ddf4798751f2425",
    "idx": 81,
    "time": "2021-02-05T06:14:36.495Z",
    "type": "execution"
   },
   {
    "id": "78a09cbe24ac4d128ddf4798751f2425",
    "time": "2021-02-05T06:14:38.281Z",
    "type": "completion"
   },
   {
    "code": "def trump_wins(N):\n    if trump_advantage(draw_state_sample(N, 'florida'))>0:\n        if trump_advantage(draw_state_sample(N, 'michigan'))>0 or trump_advantage(draw_state_sample(N, 'pennsylvania'))>0 or trump_advantage(draw_state_sample(N, 'wisconsin'))>0:\n            return 1\n    elif trump_advantage(draw_state_sample(N, 'michigan'))>0 and trump_advantage(draw_state_sample(N, 'pennsylvania'))>0 and trump_advantage(draw_state_sample(N, 'wisconsin'))>0:\n        return 1\n    else:\n        return 0",
    "id": "220f1a6ab3044a7e817bf858df8cb984",
    "idx": 83,
    "time": "2021-02-05T06:15:53.713Z",
    "type": "execution"
   },
   {
    "id": "220f1a6ab3044a7e817bf858df8cb984",
    "time": "2021-02-05T06:15:54.044Z",
    "type": "completion"
   },
   {
    "code": "grader.check(\"q6e\")",
    "id": "4cc86b699b4b45e1b04fbedfd38c61a1",
    "idx": 84,
    "time": "2021-02-05T06:15:55.533Z",
    "type": "execution"
   },
   {
    "id": "4cc86b699b4b45e1b04fbedfd38c61a1",
    "time": "2021-02-05T06:15:55.824Z",
    "type": "completion"
   },
   {
    "code": "proportion_trump = np.count_nonzero([trump_wins(1500) for i in range(100000)]) / 100000\nproportion_trump",
    "id": "2bc2b4eb1b6f42908f1a1d854fd459fc",
    "idx": 86,
    "time": "2021-02-05T06:16:06.341Z",
    "type": "execution"
   },
   {
    "id": "2bc2b4eb1b6f42908f1a1d854fd459fc",
    "time": "2021-02-05T06:16:15.788Z",
    "type": "completion"
   },
   {
    "code": "grader.check(\"q6f\")",
    "id": "86560ec45e8d47999d883afb8b40c82b",
    "idx": 87,
    "time": "2021-02-05T06:16:48.827Z",
    "type": "execution"
   },
   {
    "id": "86560ec45e8d47999d883afb8b40c82b",
    "time": "2021-02-05T06:16:49.338Z",
    "type": "completion"
   },
   {
    "code": "def draw_biased_state_sample(N, state):\n    if state== 'florida':\n        return np.random.multinomial(N,[0.4902-0.005,0.4782+0.005,1-0.4902-0.4782],1)[0]\n    if state=='michigan':\n        return np.random.multinomial(N,[0.475-0.005,0.4727+0.005,1-0.475-0.4727],1)[0]\n    if state=='pennsylvania':\n        return np.random.multinomial(N,[0.4818-0.005,0.4746+0.005,1-0.4818-0.4746],1)[0]\n    if state=='wisconsin':\n        return np.random.multinomial(N,[0.4722-0.005,0.4645+0.005,1-0.4722-0.4645],1)[0]\n    \nbiased_simulations = []\nfor i in range (100000):\n    biased_simulations.append(trump_advantage(draw_biased_state_sample(1500,'pennsylvania')))",
    "id": "62cb3e6cc0f6421e956378ecb2a1da8f",
    "idx": 91,
    "time": "2021-02-05T06:17:04.054Z",
    "type": "execution"
   },
   {
    "code": "grader.check(\"q7a\")",
    "id": "9728041106674409aab4ed9880706385",
    "idx": 92,
    "time": "2021-02-05T06:17:05.535Z",
    "type": "execution"
   },
   {
    "id": "62cb3e6cc0f6421e956378ecb2a1da8f",
    "time": "2021-02-05T06:17:07.684Z",
    "type": "completion"
   },
   {
    "id": "9728041106674409aab4ed9880706385",
    "time": "2021-02-05T06:17:07.993Z",
    "type": "completion"
   },
   {
    "code": "plt.hist(biased_simulationsdensity=True)\nplt.title(\"Biased Distribution of Trump's proportion advantage\")\nplt.xlabel('proportion advantage')\nplt.ylabel('times')",
    "id": "74f7bc9ee3ee4e2b900b80f6fe263b11",
    "idx": 94,
    "time": "2021-02-05T06:17:51.224Z",
    "type": "execution"
   },
   {
    "id": "74f7bc9ee3ee4e2b900b80f6fe263b11",
    "time": "2021-02-05T06:17:51.514Z",
    "type": "completion"
   },
   {
    "code": "plt.hist(biased_simulations,density=True)\nplt.title(\"Biased Distribution of Trump's proportion advantage\")\nplt.xlabel('proportion advantage')\nplt.ylabel('times')",
    "id": "74f7bc9ee3ee4e2b900b80f6fe263b11",
    "idx": 94,
    "time": "2021-02-05T06:18:25.645Z",
    "type": "execution"
   },
   {
    "id": "74f7bc9ee3ee4e2b900b80f6fe263b11",
    "time": "2021-02-05T06:18:27.055Z",
    "type": "completion"
   },
   {
    "code": "def trump_wins_biased(N): \n    if trump_advantage(draw_biased_state_sample(N, 'florida'))>0:\n        if trump_advantage(draw_biased_state_sample(N, 'michigan'))>0 or trump_advantage(draw_biased_state_sample(N, 'pennsylvania'))>0 or trump_advantage(draw_biased_state_sample(N, 'wisconsin'))>0:\n            return 1\n    elif trump_advantage(draw_biased_state_sample(N, 'michigan'))>0 and trump_advantage(draw_biased_state_sample(N, 'pennsylvania'))>0 and trump_advantage(draw_biased_state_sample(N, 'wisconsin'))>0:\n        return 1\n    else:\n        return 0\n    \nproportion_trump_biased = np.count_nonzero([trump_wins_biased(1500) for i in range(100000)]) / 100000\nproportion_trump_biased",
    "id": "96cd53a629e842b98b8404a85e4a3397",
    "idx": 98,
    "time": "2021-02-05T06:20:29.291Z",
    "type": "execution"
   },
   {
    "id": "96cd53a629e842b98b8404a85e4a3397",
    "time": "2021-02-05T06:20:39.433Z",
    "type": "completion"
   },
   {
    "code": "grader.check(\"q7d\")",
    "id": "c0cf1aadae0a4bc18072d57ae7592050",
    "idx": 99,
    "time": "2021-02-05T06:20:48.054Z",
    "type": "execution"
   },
   {
    "id": "c0cf1aadae0a4bc18072d57ae7592050",
    "time": "2021-02-05T06:20:48.397Z",
    "type": "completion"
   },
   {
    "code": "high_sample_size_unbiased_proportion_trump = np.count_nonzero([trump_wins(5000) for i in range(100000)]) / 100000\nhigh_sample_size_biased_proportion_trump = np.count_nonzero([trump_wins_biased(5000) for i in range(100000)]) / 100000\nprint(high_sample_size_unbiased_proportion_trump, high_sample_size_biased_proportion_trump)",
    "id": "0c632f5e027d4c46b9df5f437feca6b3",
    "idx": 102,
    "time": "2021-02-05T06:21:24.762Z",
    "type": "execution"
   },
   {
    "id": "0c632f5e027d4c46b9df5f437feca6b3",
    "time": "2021-02-05T06:21:45.929Z",
    "type": "completion"
   },
   {
    "code": "grader.check(\"q8a\")",
    "id": "32eccdfb5adf4c4e87bf1a02cd9568ab",
    "idx": 103,
    "time": "2021-02-05T06:22:05.954Z",
    "type": "execution"
   },
   {
    "id": "32eccdfb5adf4c4e87bf1a02cd9568ab",
    "time": "2021-02-05T06:22:06.296Z",
    "type": "completion"
   },
   {
    "code": "# Feel free to use this cell for any scratch work (creating visualizations, examining data, etc.)\nnp.count_nonzero([trump_wins(50000) for i in range(100000)]) / 100000",
    "id": "8f1b26704a2e41fb80044ec724b32c58",
    "idx": 105,
    "time": "2021-02-05T06:26:25.326Z",
    "type": "execution"
   },
   {
    "id": "8f1b26704a2e41fb80044ec724b32c58",
    "time": "2021-02-05T06:26:33.569Z",
    "type": "completion"
   },
   {
    "code": "np.count_nonzero([trump_wins_biased(50000) for i in range(100000)]) / 100000",
    "id": "b07ac1b69795421f8c6bad49ad02ea47",
    "idx": 106,
    "time": "2021-02-05T06:27:42.488Z",
    "type": "execution"
   },
   {
    "id": "b07ac1b69795421f8c6bad49ad02ea47",
    "time": "2021-02-05T06:27:53.643Z",
    "type": "completion"
   },
   {
    "code": "grader.check_all()",
    "id": "2ebb9db898f9429b80acf3a7c09da2b6",
    "idx": 113,
    "time": "2021-02-05T06:29:40.037Z",
    "type": "execution"
   },
   {
    "id": "2ebb9db898f9429b80acf3a7c09da2b6",
    "time": "2021-02-05T06:29:41.176Z",
    "type": "completion"
   },
   {
    "code": "# Initialize Otter\nimport otter\ngrader = otter.Notebook(\"hw2.ipynb\")",
    "id": "b7900c85b5e745fa82e66b9594288389",
    "idx": 0,
    "time": "2021-02-05T06:30:17.350Z",
    "type": "execution"
   },
   {
    "code": "import numpy as np\nimport matplotlib\nimport matplotlib.pyplot as plt\nimport seaborn as sns\n\nplt.style.use('fivethirtyeight')\n\n# Default plot configurations\n%matplotlib inline\nplt.rcParams['figure.figsize'] = (16,8)\nplt.rcParams['figure.dpi'] = 150\nsns.set()\n\nfrom IPython.display import display, Latex, Markdown",
    "id": "98ed1ae7d56e427cb6c13cc774c717a5",
    "idx": 7,
    "time": "2021-02-05T06:30:17.357Z",
    "type": "execution"
   },
   {
    "code": "from scipy import special",
    "id": "e896d8f5eab2467cbdf31c700624b59e",
    "idx": 10,
    "time": "2021-02-05T06:30:17.362Z",
    "type": "execution"
   },
   {
    "code": "special.factorial(5), special.factorial(range(1, 6))",
    "id": "7d4aa78bf8c0414882e4702bc7788f7f",
    "idx": 12,
    "time": "2021-02-05T06:30:17.368Z",
    "type": "execution"
   },
   {
    "code": "special.comb(5, 3), special.factorial(5) / (special.factorial(3) * special.factorial(2))",
    "id": "1c6620462fc34cfb87adf17d8474a7cb",
    "idx": 14,
    "time": "2021-02-05T06:30:17.372Z",
    "type": "execution"
   },
   {
    "code": "special.comb(5, range(6))",
    "id": "63253f648c7248f2a4d003af52ed3b05",
    "idx": 15,
    "time": "2021-02-05T06:30:17.375Z",
    "type": "execution"
   },
   {
    "code": "special.comb(100, 50), special.comb(100, 50, exact=True)",
    "id": "1319357c53804f489e69a7d57fd213cb",
    "idx": 16,
    "time": "2021-02-05T06:30:17.379Z",
    "type": "execution"
   },
   {
    "code": "prob_1a = special.comb(100,20)*(0.26**20)*(0.74**80)\nprob_1a",
    "id": "0a5626d9b8ea423885a7fd547f05695f",
    "idx": 20,
    "time": "2021-02-05T06:30:17.384Z",
    "type": "execution"
   },
   {
    "code": "grader.check(\"q1a\")",
    "id": "b7f0cfcc3a8d49bc9f690ee92b140fb4",
    "idx": 21,
    "time": "2021-02-05T06:30:17.388Z",
    "type": "execution"
   },
   {
    "code": "k = np.arange(101)\nall_probs = special.comb(100,k)*(0.26**k)*(0.74**(100-k))\nnp.round(all_probs, 4), sum(all_probs)",
    "id": "8444463343534606853d8302c7707866",
    "idx": 23,
    "time": "2021-02-05T06:30:17.392Z",
    "type": "execution"
   },
   {
    "code": "grader.check(\"q1b\")",
    "id": "a202da84b7d2482fb562907740276ecf",
    "idx": 24,
    "time": "2021-02-05T06:30:17.396Z",
    "type": "execution"
   },
   {
    "code": "prob_1c = sum(all_probs[16:37])/sum(all_probs)\nprob_1c ",
    "id": "1a6c422d2c3e410eb5f1005090667958",
    "idx": 26,
    "time": "2021-02-05T06:30:17.399Z",
    "type": "execution"
   },
   {
    "code": "grader.check(\"q1c\")",
    "id": "ad2ae05c644f44e89ebe475ebfc49f8a",
    "idx": 27,
    "time": "2021-02-05T06:30:17.403Z",
    "type": "execution"
   },
   {
    "code": "def prob_at_most(n, p, s):\n    \"\"\" \n    returns the probability of S <= s\n    Input n: sample size; p : proportion; s: number of successes at most\"\"\"\n    if p>1 or s>n:\n        return 0\n    else:\n        k=np.arange(1,s+1)\n        return sum(special.comb(n,k)*(p**k)*((1-p)**(n-k)))",
    "id": "bde088880cb349df84c25a3c9554bfc9",
    "idx": 31,
    "time": "2021-02-05T06:30:17.408Z",
    "type": "execution"
   },
   {
    "code": "grader.check(\"q2a\")",
    "id": "53839f36fdde403daf9f515a5b404567",
    "idx": 32,
    "time": "2021-02-05T06:30:17.411Z",
    "type": "execution"
   },
   {
    "code": "p_majority = prob_at_most(200,0.55,99)\np_majority",
    "id": "283ec0f04c364c28ad2831e5f41354c5",
    "idx": 34,
    "time": "2021-02-05T06:30:17.416Z",
    "type": "execution"
   },
   {
    "code": "grader.check(\"q2b\")",
    "id": "b26775af9e9e4e06a7bdb39c002d22c3",
    "idx": 35,
    "time": "2021-02-05T06:30:17.419Z",
    "type": "execution"
   },
   {
    "code": "p2_majority=prob_at_most(300,0.55,149)\np3_majority=prob_at_most(400,0.55,199)\nprob_2c = 1-((1-p_majority)**3)*(1-p2_majority)*(1-p3_majority)\nprob_2c",
    "id": "b7c92de9b45140d797b86e30489a09e8",
    "idx": 37,
    "time": "2021-02-05T06:30:17.424Z",
    "type": "execution"
   },
   {
    "code": "grader.check(\"q2c\")",
    "id": "c459f53d075d4b719777608395417358",
    "idx": 38,
    "time": "2021-02-05T06:30:17.427Z",
    "type": "execution"
   },
   {
    "code": "ans_3a = 'b'",
    "id": "153db7496f10419f8a37ec5f6fa852f0",
    "idx": 42,
    "time": "2021-02-05T06:30:17.432Z",
    "type": "execution"
   },
   {
    "code": "grader.check(\"q3a\")",
    "id": "f508222990f24a478b58fe913e464695",
    "idx": 43,
    "time": "2021-02-05T06:30:17.436Z",
    "type": "execution"
   },
   {
    "code": "ans_3b = 'c'",
    "id": "c7ab2d8182b54118ae4bb4c924a4e114",
    "idx": 45,
    "time": "2021-02-05T06:30:17.440Z",
    "type": "execution"
   },
   {
    "code": "grader.check(\"q3b\")",
    "id": "71b190096f0249d983bd5f33e5e53aa5",
    "idx": 46,
    "time": "2021-02-05T06:30:17.443Z",
    "type": "execution"
   },
   {
    "code": "def prob_sample_counts(t, c, o):\n    \"\"\"\n    Input:\n    t - number of votes for Trump\n    c - number of votes for Clinton\n    o - number of votes for Other\n    Return: The probability of getting a such sample\n    \"\"\"\n    if t<0 or c<0 or o<0:\n        return 0\n    elif t+c+o!=20:\n        return 0\n    else:\n        situations=special.factorial(20) / (special.factorial(t)*special.factorial(c)*special.factorial(o))\n        return (0.4818**t)*(0.4746**c)*(0.0436**o)*situations",
    "id": "aef6fe7bdcf144e29ccaafaa3b4ee1d7",
    "idx": 48,
    "time": "2021-02-05T06:30:17.447Z",
    "type": "execution"
   },
   {
    "code": "grader.check(\"q3c\")",
    "id": "95d30538d2694e20987b3b3e4e71f92e",
    "idx": 49,
    "time": "2021-02-05T06:30:17.450Z",
    "type": "execution"
   },
   {
    "code": "prob_3d=0\nfor t1 in range(0,21):\n    for c1 in range(21-t1):\n        prob_3d += prob_sample_counts(t1, c1, 20-t1-c1)\nprob_3d",
    "id": "7de4d81d1e474d288cf6fd4331cbe6b2",
    "idx": 51,
    "time": "2021-02-05T06:30:17.454Z",
    "type": "execution"
   },
   {
    "code": "grader.check(\"q3d\")",
    "id": "5c41c403571d46f6bdd5363f429bdb03",
    "idx": 52,
    "time": "2021-02-05T06:30:17.457Z",
    "type": "execution"
   },
   {
    "code": "prob_3e = prob_sample_counts(11,8,1)\nprob_3e",
    "id": "6cfd0bed0f054e9ca03ab2971850407c",
    "idx": 54,
    "time": "2021-02-05T06:30:17.462Z",
    "type": "execution"
   },
   {
    "code": "grader.check(\"q3e\")",
    "id": "485f90e60db745af875a5e89829cf45f",
    "idx": 55,
    "time": "2021-02-05T06:30:17.465Z",
    "type": "execution"
   },
   {
    "code": "prob_3f=0\nfor t2 in range(0,21):\n    for c2 in range(21-t2):\n        if t2>=7 and c2>=7 and 20-t2-c2>=1:\n            prob_3f += prob_sample_counts(t2, c2, 20-t2-c2)\nprob_3f",
    "id": "fdbd2d1c94f746a98fe6cb8e091c9059",
    "idx": 57,
    "time": "2021-02-05T06:30:17.469Z",
    "type": "execution"
   },
   {
    "code": "grader.check(\"q3f\")",
    "id": "40bf6e18e9d94ed88765e0aa4e82bab3",
    "idx": 58,
    "time": "2021-02-05T06:30:17.475Z",
    "type": "execution"
   },
   {
    "code": "def draw_state_sample(N, state):\n    if state== 'florida':\n        return np.random.multinomial(N,[0.4902,0.4782,1-0.4902-0.4782],1)[0]\n    if state=='michigan':\n        return np.random.multinomial(N,[0.475,0.4727,1-0.475-0.4727],1)[0]\n    if state=='pennsylvania':\n        return np.random.multinomial(N,[0.4818,0.4746,1-0.4818-0.4746],1)[0]\n    if state=='wisconsin':\n        return np.random.multinomial(N,[0.4722,0.4645,1-0.4722-0.4645],1)[0]",
    "id": "48d70853441f47e199f30955224f0164",
    "idx": 72,
    "time": "2021-02-05T06:30:17.486Z",
    "type": "execution"
   },
   {
    "code": "grader.check(\"q6a\")",
    "id": "90456fc58d334c398c95b1c1f2a5c896",
    "idx": 73,
    "time": "2021-02-05T06:30:17.490Z",
    "type": "execution"
   },
   {
    "code": "def trump_advantage(voter_sample):\n    return (voter_sample[0]-voter_sample[1])/sum(voter_sample)",
    "id": "cd919dd1f6c2461e92e8dc61f6acdcd3",
    "idx": 75,
    "time": "2021-02-05T06:30:17.494Z",
    "type": "execution"
   },
   {
    "code": "grader.check(\"q6b\")",
    "id": "52a671cab75947b4828d21b12a7016b0",
    "idx": 76,
    "time": "2021-02-05T06:30:17.498Z",
    "type": "execution"
   },
   {
    "code": "simulations = []\nfor i in range (100000):\n    simulations.append(trump_advantage(draw_state_sample(1500,'pennsylvania')))",
    "id": "b6f91f176b844da493414b8721ceb4b0",
    "idx": 78,
    "time": "2021-02-05T06:30:17.502Z",
    "type": "execution"
   },
   {
    "code": "grader.check(\"q6c\")",
    "id": "2763a379b8a84e8facc727050ec3871e",
    "idx": 79,
    "time": "2021-02-05T06:30:17.506Z",
    "type": "execution"
   },
   {
    "code": "plt.hist(simulations,density=True)\nplt.title(\"Distribution of Trump's proportion advantage\")\nplt.xlabel('proportion advantage')\nplt.ylabel('times')",
    "id": "78a09cbe24ac4d128ddf4798751f2425",
    "idx": 81,
    "time": "2021-02-05T06:30:17.510Z",
    "type": "execution"
   },
   {
    "code": "def trump_wins(N):\n    if trump_advantage(draw_state_sample(N, 'florida'))>0:\n        if trump_advantage(draw_state_sample(N, 'michigan'))>0 or trump_advantage(draw_state_sample(N, 'pennsylvania'))>0 or trump_advantage(draw_state_sample(N, 'wisconsin'))>0:\n            return 1\n    elif trump_advantage(draw_state_sample(N, 'michigan'))>0 and trump_advantage(draw_state_sample(N, 'pennsylvania'))>0 and trump_advantage(draw_state_sample(N, 'wisconsin'))>0:\n        return 1\n    else:\n        return 0",
    "id": "220f1a6ab3044a7e817bf858df8cb984",
    "idx": 83,
    "time": "2021-02-05T06:30:17.514Z",
    "type": "execution"
   },
   {
    "code": "grader.check(\"q6e\")",
    "id": "4cc86b699b4b45e1b04fbedfd38c61a1",
    "idx": 84,
    "time": "2021-02-05T06:30:17.517Z",
    "type": "execution"
   },
   {
    "code": "proportion_trump = np.count_nonzero([trump_wins(1500) for i in range(100000)]) / 100000\nproportion_trump",
    "id": "2bc2b4eb1b6f42908f1a1d854fd459fc",
    "idx": 86,
    "time": "2021-02-05T06:30:17.521Z",
    "type": "execution"
   },
   {
    "code": "grader.check(\"q6f\")",
    "id": "86560ec45e8d47999d883afb8b40c82b",
    "idx": 87,
    "time": "2021-02-05T06:30:17.525Z",
    "type": "execution"
   },
   {
    "code": "def draw_biased_state_sample(N, state):\n    if state== 'florida':\n        return np.random.multinomial(N,[0.4902-0.005,0.4782+0.005,1-0.4902-0.4782],1)[0]\n    if state=='michigan':\n        return np.random.multinomial(N,[0.475-0.005,0.4727+0.005,1-0.475-0.4727],1)[0]\n    if state=='pennsylvania':\n        return np.random.multinomial(N,[0.4818-0.005,0.4746+0.005,1-0.4818-0.4746],1)[0]\n    if state=='wisconsin':\n        return np.random.multinomial(N,[0.4722-0.005,0.4645+0.005,1-0.4722-0.4645],1)[0]\n    \nbiased_simulations = []\nfor i in range (100000):\n    biased_simulations.append(trump_advantage(draw_biased_state_sample(1500,'pennsylvania')))",
    "id": "62cb3e6cc0f6421e956378ecb2a1da8f",
    "idx": 91,
    "time": "2021-02-05T06:30:17.531Z",
    "type": "execution"
   },
   {
    "code": "grader.check(\"q7a\")",
    "id": "9728041106674409aab4ed9880706385",
    "idx": 92,
    "time": "2021-02-05T06:30:17.535Z",
    "type": "execution"
   },
   {
    "code": "plt.hist(biased_simulations,density=True)\nplt.title(\"Biased Distribution of Trump's proportion advantage\")\nplt.xlabel('proportion advantage')\nplt.ylabel('times')",
    "id": "74f7bc9ee3ee4e2b900b80f6fe263b11",
    "idx": 94,
    "time": "2021-02-05T06:30:17.538Z",
    "type": "execution"
   },
   {
    "code": "def trump_wins_biased(N): \n    if trump_advantage(draw_biased_state_sample(N, 'florida'))>0:\n        if trump_advantage(draw_biased_state_sample(N, 'michigan'))>0 or trump_advantage(draw_biased_state_sample(N, 'pennsylvania'))>0 or trump_advantage(draw_biased_state_sample(N, 'wisconsin'))>0:\n            return 1\n    elif trump_advantage(draw_biased_state_sample(N, 'michigan'))>0 and trump_advantage(draw_biased_state_sample(N, 'pennsylvania'))>0 and trump_advantage(draw_biased_state_sample(N, 'wisconsin'))>0:\n        return 1\n    else:\n        return 0\n    \nproportion_trump_biased = np.count_nonzero([trump_wins_biased(1500) for i in range(100000)]) / 100000\nproportion_trump_biased",
    "id": "96cd53a629e842b98b8404a85e4a3397",
    "idx": 98,
    "time": "2021-02-05T06:30:17.543Z",
    "type": "execution"
   },
   {
    "code": "grader.check(\"q7d\")",
    "id": "c0cf1aadae0a4bc18072d57ae7592050",
    "idx": 99,
    "time": "2021-02-05T06:30:17.547Z",
    "type": "execution"
   },
   {
    "code": "high_sample_size_unbiased_proportion_trump = np.count_nonzero([trump_wins(5000) for i in range(100000)]) / 100000\nhigh_sample_size_biased_proportion_trump = np.count_nonzero([trump_wins_biased(5000) for i in range(100000)]) / 100000\nprint(high_sample_size_unbiased_proportion_trump, high_sample_size_biased_proportion_trump)",
    "id": "0c632f5e027d4c46b9df5f437feca6b3",
    "idx": 102,
    "time": "2021-02-05T06:30:17.552Z",
    "type": "execution"
   },
   {
    "code": "grader.check(\"q8a\")",
    "id": "32eccdfb5adf4c4e87bf1a02cd9568ab",
    "idx": 103,
    "time": "2021-02-05T06:30:17.555Z",
    "type": "execution"
   },
   {
    "code": "# Feel free to use this cell for any scratch work (creating visualizations, examining data, etc.)\nnp.count_nonzero([trump_wins(50000) for i in range(100000)]) / 100000",
    "id": "8f1b26704a2e41fb80044ec724b32c58",
    "idx": 105,
    "time": "2021-02-05T06:30:17.559Z",
    "type": "execution"
   },
   {
    "code": "np.count_nonzero([trump_wins_biased(50000) for i in range(100000)]) / 100000",
    "id": "b07ac1b69795421f8c6bad49ad02ea47",
    "idx": 106,
    "time": "2021-02-05T06:30:17.562Z",
    "type": "execution"
   },
   {
    "code": "grader.check_all()",
    "id": "2ebb9db898f9429b80acf3a7c09da2b6",
    "idx": 113,
    "time": "2021-02-05T06:30:17.568Z",
    "type": "execution"
   },
   {
    "code": "# Save your notebook first, then run this cell to export your submission.\ngrader.export()",
    "id": "668eea837c284afc81258648074493d3",
    "idx": 115,
    "time": "2021-02-05T06:30:17.572Z",
    "type": "execution"
   },
   {
    "id": "b7900c85b5e745fa82e66b9594288389",
    "time": "2021-02-05T06:30:18.715Z",
    "type": "completion"
   },
   {
    "id": "98ed1ae7d56e427cb6c13cc774c717a5",
    "time": "2021-02-05T06:30:19.444Z",
    "type": "completion"
   },
   {
    "id": "e896d8f5eab2467cbdf31c700624b59e",
    "time": "2021-02-05T06:30:19.447Z",
    "type": "completion"
   },
   {
    "id": "7d4aa78bf8c0414882e4702bc7788f7f",
    "time": "2021-02-05T06:30:19.534Z",
    "type": "completion"
   },
   {
    "id": "1c6620462fc34cfb87adf17d8474a7cb",
    "time": "2021-02-05T06:30:19.557Z",
    "type": "completion"
   },
   {
    "id": "63253f648c7248f2a4d003af52ed3b05",
    "time": "2021-02-05T06:30:19.568Z",
    "type": "completion"
   },
   {
    "id": "1319357c53804f489e69a7d57fd213cb",
    "time": "2021-02-05T06:30:19.572Z",
    "type": "completion"
   },
   {
    "id": "0a5626d9b8ea423885a7fd547f05695f",
    "time": "2021-02-05T06:30:19.576Z",
    "type": "completion"
   },
   {
    "id": "b7f0cfcc3a8d49bc9f690ee92b140fb4",
    "time": "2021-02-05T06:30:19.632Z",
    "type": "completion"
   },
   {
    "id": "8444463343534606853d8302c7707866",
    "time": "2021-02-05T06:30:19.707Z",
    "type": "completion"
   },
   {
    "id": "a202da84b7d2482fb562907740276ecf",
    "time": "2021-02-05T06:30:19.710Z",
    "type": "completion"
   },
   {
    "id": "1a6c422d2c3e410eb5f1005090667958",
    "time": "2021-02-05T06:30:19.714Z",
    "type": "completion"
   },
   {
    "id": "ad2ae05c644f44e89ebe475ebfc49f8a",
    "time": "2021-02-05T06:30:19.719Z",
    "type": "completion"
   },
   {
    "id": "bde088880cb349df84c25a3c9554bfc9",
    "time": "2021-02-05T06:30:19.764Z",
    "type": "completion"
   },
   {
    "id": "53839f36fdde403daf9f515a5b404567",
    "time": "2021-02-05T06:30:19.775Z",
    "type": "completion"
   },
   {
    "id": "283ec0f04c364c28ad2831e5f41354c5",
    "time": "2021-02-05T06:30:19.779Z",
    "type": "completion"
   },
   {
    "id": "b26775af9e9e4e06a7bdb39c002d22c3",
    "time": "2021-02-05T06:30:19.829Z",
    "type": "completion"
   },
   {
    "id": "b7c92de9b45140d797b86e30489a09e8",
    "time": "2021-02-05T06:30:19.835Z",
    "type": "completion"
   },
   {
    "id": "c459f53d075d4b719777608395417358",
    "time": "2021-02-05T06:30:19.839Z",
    "type": "completion"
   },
   {
    "id": "153db7496f10419f8a37ec5f6fa852f0",
    "time": "2021-02-05T06:30:19.890Z",
    "type": "completion"
   },
   {
    "id": "f508222990f24a478b58fe913e464695",
    "time": "2021-02-05T06:30:19.893Z",
    "type": "completion"
   },
   {
    "id": "c7ab2d8182b54118ae4bb4c924a4e114",
    "time": "2021-02-05T06:30:19.941Z",
    "type": "completion"
   },
   {
    "id": "71b190096f0249d983bd5f33e5e53aa5",
    "time": "2021-02-05T06:30:20.006Z",
    "type": "completion"
   },
   {
    "id": "aef6fe7bdcf144e29ccaafaa3b4ee1d7",
    "time": "2021-02-05T06:30:20.044Z",
    "type": "completion"
   },
   {
    "id": "95d30538d2694e20987b3b3e4e71f92e",
    "time": "2021-02-05T06:30:20.052Z",
    "type": "completion"
   },
   {
    "id": "7de4d81d1e474d288cf6fd4331cbe6b2",
    "time": "2021-02-05T06:30:20.056Z",
    "type": "completion"
   },
   {
    "id": "5c41c403571d46f6bdd5363f429bdb03",
    "time": "2021-02-05T06:30:20.060Z",
    "type": "completion"
   },
   {
    "id": "6cfd0bed0f054e9ca03ab2971850407c",
    "time": "2021-02-05T06:30:20.065Z",
    "type": "completion"
   },
   {
    "id": "485f90e60db745af875a5e89829cf45f",
    "time": "2021-02-05T06:30:20.109Z",
    "type": "completion"
   },
   {
    "id": "fdbd2d1c94f746a98fe6cb8e091c9059",
    "time": "2021-02-05T06:30:20.120Z",
    "type": "completion"
   },
   {
    "id": "40bf6e18e9d94ed88765e0aa4e82bab3",
    "time": "2021-02-05T06:30:20.167Z",
    "type": "completion"
   },
   {
    "id": "48d70853441f47e199f30955224f0164",
    "time": "2021-02-05T06:30:20.176Z",
    "type": "completion"
   },
   {
    "id": "90456fc58d334c398c95b1c1f2a5c896",
    "time": "2021-02-05T06:30:20.180Z",
    "type": "completion"
   },
   {
    "id": "cd919dd1f6c2461e92e8dc61f6acdcd3",
    "time": "2021-02-05T06:30:20.182Z",
    "type": "completion"
   },
   {
    "id": "52a671cab75947b4828d21b12a7016b0",
    "time": "2021-02-05T06:30:20.228Z",
    "type": "completion"
   },
   {
    "id": "b6f91f176b844da493414b8721ceb4b0",
    "time": "2021-02-05T06:30:23.738Z",
    "type": "completion"
   },
   {
    "id": "2763a379b8a84e8facc727050ec3871e",
    "time": "2021-02-05T06:30:24.111Z",
    "type": "completion"
   },
   {
    "id": "78a09cbe24ac4d128ddf4798751f2425",
    "time": "2021-02-05T06:30:25.225Z",
    "type": "completion"
   },
   {
    "id": "220f1a6ab3044a7e817bf858df8cb984",
    "time": "2021-02-05T06:30:25.228Z",
    "type": "completion"
   },
   {
    "id": "4cc86b699b4b45e1b04fbedfd38c61a1",
    "time": "2021-02-05T06:30:25.235Z",
    "type": "completion"
   },
   {
    "id": "2bc2b4eb1b6f42908f1a1d854fd459fc",
    "time": "2021-02-05T06:30:34.500Z",
    "type": "completion"
   },
   {
    "id": "86560ec45e8d47999d883afb8b40c82b",
    "time": "2021-02-05T06:30:34.509Z",
    "type": "completion"
   },
   {
    "id": "62cb3e6cc0f6421e956378ecb2a1da8f",
    "time": "2021-02-05T06:30:37.768Z",
    "type": "completion"
   },
   {
    "id": "9728041106674409aab4ed9880706385",
    "time": "2021-02-05T06:30:38.181Z",
    "type": "completion"
   },
   {
    "id": "74f7bc9ee3ee4e2b900b80f6fe263b11",
    "time": "2021-02-05T06:30:39.232Z",
    "type": "completion"
   },
   {
    "id": "96cd53a629e842b98b8404a85e4a3397",
    "time": "2021-02-05T06:30:48.406Z",
    "type": "completion"
   },
   {
    "id": "c0cf1aadae0a4bc18072d57ae7592050",
    "time": "2021-02-05T06:30:48.419Z",
    "type": "completion"
   },
   {
    "id": "0c632f5e027d4c46b9df5f437feca6b3",
    "time": "2021-02-05T06:31:06.481Z",
    "type": "completion"
   },
   {
    "id": "32eccdfb5adf4c4e87bf1a02cd9568ab",
    "time": "2021-02-05T06:31:06.486Z",
    "type": "completion"
   },
   {
    "id": "8f1b26704a2e41fb80044ec724b32c58",
    "time": "2021-02-05T06:31:13.966Z",
    "type": "completion"
   },
   {
    "id": "b07ac1b69795421f8c6bad49ad02ea47",
    "time": "2021-02-05T06:31:24.597Z",
    "type": "completion"
   },
   {
    "id": "2ebb9db898f9429b80acf3a7c09da2b6",
    "time": "2021-02-05T06:31:25.419Z",
    "type": "completion"
   }
  ],
  "kernelspec": {
   "display_name": "Python 3",
   "language": "python",
   "name": "python3"
  },
  "language_info": {
   "codemirror_mode": {
    "name": "ipython",
    "version": 3
   },
   "file_extension": ".py",
   "mimetype": "text/x-python",
   "name": "python",
   "nbconvert_exporter": "python",
   "pygments_lexer": "ipython3",
   "version": "3.8.6"
  }
 },
 "nbformat": 4,
 "nbformat_minor": 4
}
